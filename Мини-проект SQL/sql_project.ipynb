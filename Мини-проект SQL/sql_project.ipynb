{
 "cells": [
  {
   "cell_type": "markdown",
   "metadata": {},
   "source": [
    "# Анализ базы данных сервиса для чтения книг по подписке"
   ]
  },
  {
   "cell_type": "markdown",
   "metadata": {},
   "source": [
    "**Цели исследования:** Проанализировать базу данных для дальнейшего формирования ценностного предложения продукта."
   ]
  },
  {
   "cell_type": "markdown",
   "metadata": {},
   "source": [
    "**План:**\n",
    "1. Загрузка БД\n",
    "2. Просмотр общего содержания таблиц\n",
    "3. Исследование данных\n",
    "    * Количество книг с 2000 года\n",
    "    * Обзоры и средняя оценка книг\n",
    "    * Крупные издательства\n",
    "    * Авторы с высоким рейтингом\n",
    "    * Количество ревьюеров-экспертов\n",
    "4. Общий вывод"
   ]
  },
  {
   "cell_type": "markdown",
   "metadata": {},
   "source": [
    "### Таблицы"
   ]
  },
  {
   "cell_type": "code",
   "execution_count": 1,
   "metadata": {},
   "outputs": [],
   "source": [
    "# импортируем библиотеки\n",
    "import pandas as pd\n",
    "from sqlalchemy import text, create_engine\n",
    "# устанавливаем параметры\n",
    "db_config = {'user': 'praktikum_student', # имя пользователя\n",
    "'pwd': 'Sdf4$2;d-d30pp', # пароль\n",
    "'host': 'rc1b-wcoijxj3yxfsf3fs.mdb.yandexcloud.net',\n",
    "'port': 6432, # порт подключения\n",
    "'db': 'data-analyst-final-project-db'} # название базы данных\n",
    "connection_string = 'postgresql://{user}:{pwd}@{host}:{port}/{db}'.format(**db_config)\n",
    "# сохраняем коннектор\n",
    "engine = create_engine(connection_string, connect_args={'sslmode':'require'})\n",
    "con=engine.connect()"
   ]
  },
  {
   "cell_type": "code",
   "execution_count": 2,
   "metadata": {},
   "outputs": [],
   "source": [
    "# чтобы выполнить SQL-запрос, используем Pandas\n",
    "def sql(query):\n",
    "    return pd.io.sql.read_sql(sql=text(query), con = con)"
   ]
  },
  {
   "cell_type": "code",
   "execution_count": 3,
   "metadata": {},
   "outputs": [
    {
     "data": {
      "text/html": [
       "<div>\n",
       "<style scoped>\n",
       "    .dataframe tbody tr th:only-of-type {\n",
       "        vertical-align: middle;\n",
       "    }\n",
       "\n",
       "    .dataframe tbody tr th {\n",
       "        vertical-align: top;\n",
       "    }\n",
       "\n",
       "    .dataframe thead th {\n",
       "        text-align: right;\n",
       "    }\n",
       "</style>\n",
       "<table border=\"1\" class=\"dataframe\">\n",
       "  <thead>\n",
       "    <tr style=\"text-align: right;\">\n",
       "      <th></th>\n",
       "      <th>count</th>\n",
       "    </tr>\n",
       "  </thead>\n",
       "  <tbody>\n",
       "    <tr>\n",
       "      <th>0</th>\n",
       "      <td>1000</td>\n",
       "    </tr>\n",
       "  </tbody>\n",
       "</table>\n",
       "</div>"
      ],
      "text/plain": [
       "   count\n",
       "0   1000"
      ]
     },
     "execution_count": 3,
     "metadata": {},
     "output_type": "execute_result"
    }
   ],
   "source": [
    "#books\n",
    "sql('''SELECT count(book_id) FROM books''')"
   ]
  },
  {
   "cell_type": "code",
   "execution_count": 4,
   "metadata": {},
   "outputs": [
    {
     "data": {
      "text/html": [
       "<div>\n",
       "<style scoped>\n",
       "    .dataframe tbody tr th:only-of-type {\n",
       "        vertical-align: middle;\n",
       "    }\n",
       "\n",
       "    .dataframe tbody tr th {\n",
       "        vertical-align: top;\n",
       "    }\n",
       "\n",
       "    .dataframe thead th {\n",
       "        text-align: right;\n",
       "    }\n",
       "</style>\n",
       "<table border=\"1\" class=\"dataframe\">\n",
       "  <thead>\n",
       "    <tr style=\"text-align: right;\">\n",
       "      <th></th>\n",
       "      <th>book_id</th>\n",
       "      <th>author_id</th>\n",
       "      <th>title</th>\n",
       "      <th>num_pages</th>\n",
       "      <th>publication_date</th>\n",
       "      <th>publisher_id</th>\n",
       "    </tr>\n",
       "  </thead>\n",
       "  <tbody>\n",
       "    <tr>\n",
       "      <th>0</th>\n",
       "      <td>1</td>\n",
       "      <td>546</td>\n",
       "      <td>'Salem's Lot</td>\n",
       "      <td>594</td>\n",
       "      <td>2005-11-01</td>\n",
       "      <td>93</td>\n",
       "    </tr>\n",
       "    <tr>\n",
       "      <th>1</th>\n",
       "      <td>2</td>\n",
       "      <td>465</td>\n",
       "      <td>1 000 Places to See Before You Die</td>\n",
       "      <td>992</td>\n",
       "      <td>2003-05-22</td>\n",
       "      <td>336</td>\n",
       "    </tr>\n",
       "    <tr>\n",
       "      <th>2</th>\n",
       "      <td>3</td>\n",
       "      <td>407</td>\n",
       "      <td>13 Little Blue Envelopes (Little Blue Envelope...</td>\n",
       "      <td>322</td>\n",
       "      <td>2010-12-21</td>\n",
       "      <td>135</td>\n",
       "    </tr>\n",
       "    <tr>\n",
       "      <th>3</th>\n",
       "      <td>4</td>\n",
       "      <td>82</td>\n",
       "      <td>1491: New Revelations of the Americas Before C...</td>\n",
       "      <td>541</td>\n",
       "      <td>2006-10-10</td>\n",
       "      <td>309</td>\n",
       "    </tr>\n",
       "    <tr>\n",
       "      <th>4</th>\n",
       "      <td>5</td>\n",
       "      <td>125</td>\n",
       "      <td>1776</td>\n",
       "      <td>386</td>\n",
       "      <td>2006-07-04</td>\n",
       "      <td>268</td>\n",
       "    </tr>\n",
       "  </tbody>\n",
       "</table>\n",
       "</div>"
      ],
      "text/plain": [
       "   book_id  author_id                                              title  \\\n",
       "0        1        546                                       'Salem's Lot   \n",
       "1        2        465                 1 000 Places to See Before You Die   \n",
       "2        3        407  13 Little Blue Envelopes (Little Blue Envelope...   \n",
       "3        4         82  1491: New Revelations of the Americas Before C...   \n",
       "4        5        125                                               1776   \n",
       "\n",
       "   num_pages publication_date  publisher_id  \n",
       "0        594       2005-11-01            93  \n",
       "1        992       2003-05-22           336  \n",
       "2        322       2010-12-21           135  \n",
       "3        541       2006-10-10           309  \n",
       "4        386       2006-07-04           268  "
      ]
     },
     "execution_count": 4,
     "metadata": {},
     "output_type": "execute_result"
    }
   ],
   "source": [
    "#books\n",
    "sql('''SELECT * FROM books LIMIT 5''')"
   ]
  },
  {
   "cell_type": "code",
   "execution_count": 5,
   "metadata": {},
   "outputs": [
    {
     "data": {
      "text/html": [
       "<div>\n",
       "<style scoped>\n",
       "    .dataframe tbody tr th:only-of-type {\n",
       "        vertical-align: middle;\n",
       "    }\n",
       "\n",
       "    .dataframe tbody tr th {\n",
       "        vertical-align: top;\n",
       "    }\n",
       "\n",
       "    .dataframe thead th {\n",
       "        text-align: right;\n",
       "    }\n",
       "</style>\n",
       "<table border=\"1\" class=\"dataframe\">\n",
       "  <thead>\n",
       "    <tr style=\"text-align: right;\">\n",
       "      <th></th>\n",
       "      <th>count</th>\n",
       "    </tr>\n",
       "  </thead>\n",
       "  <tbody>\n",
       "    <tr>\n",
       "      <th>0</th>\n",
       "      <td>636</td>\n",
       "    </tr>\n",
       "  </tbody>\n",
       "</table>\n",
       "</div>"
      ],
      "text/plain": [
       "   count\n",
       "0    636"
      ]
     },
     "execution_count": 5,
     "metadata": {},
     "output_type": "execute_result"
    }
   ],
   "source": [
    "#authors\n",
    "sql('''SELECT count(author_id) FROM authors''')"
   ]
  },
  {
   "cell_type": "code",
   "execution_count": 6,
   "metadata": {},
   "outputs": [
    {
     "data": {
      "text/html": [
       "<div>\n",
       "<style scoped>\n",
       "    .dataframe tbody tr th:only-of-type {\n",
       "        vertical-align: middle;\n",
       "    }\n",
       "\n",
       "    .dataframe tbody tr th {\n",
       "        vertical-align: top;\n",
       "    }\n",
       "\n",
       "    .dataframe thead th {\n",
       "        text-align: right;\n",
       "    }\n",
       "</style>\n",
       "<table border=\"1\" class=\"dataframe\">\n",
       "  <thead>\n",
       "    <tr style=\"text-align: right;\">\n",
       "      <th></th>\n",
       "      <th>author_id</th>\n",
       "      <th>author</th>\n",
       "    </tr>\n",
       "  </thead>\n",
       "  <tbody>\n",
       "    <tr>\n",
       "      <th>0</th>\n",
       "      <td>1</td>\n",
       "      <td>A.S. Byatt</td>\n",
       "    </tr>\n",
       "    <tr>\n",
       "      <th>1</th>\n",
       "      <td>2</td>\n",
       "      <td>Aesop/Laura Harris/Laura Gibbs</td>\n",
       "    </tr>\n",
       "    <tr>\n",
       "      <th>2</th>\n",
       "      <td>3</td>\n",
       "      <td>Agatha Christie</td>\n",
       "    </tr>\n",
       "    <tr>\n",
       "      <th>3</th>\n",
       "      <td>4</td>\n",
       "      <td>Alan Brennert</td>\n",
       "    </tr>\n",
       "    <tr>\n",
       "      <th>4</th>\n",
       "      <td>5</td>\n",
       "      <td>Alan Moore/David   Lloyd</td>\n",
       "    </tr>\n",
       "  </tbody>\n",
       "</table>\n",
       "</div>"
      ],
      "text/plain": [
       "   author_id                          author\n",
       "0          1                      A.S. Byatt\n",
       "1          2  Aesop/Laura Harris/Laura Gibbs\n",
       "2          3                 Agatha Christie\n",
       "3          4                   Alan Brennert\n",
       "4          5        Alan Moore/David   Lloyd"
      ]
     },
     "execution_count": 6,
     "metadata": {},
     "output_type": "execute_result"
    }
   ],
   "source": [
    "#authors\n",
    "sql('''SELECT * FROM authors LIMIT 5''')"
   ]
  },
  {
   "cell_type": "code",
   "execution_count": 7,
   "metadata": {},
   "outputs": [
    {
     "data": {
      "text/html": [
       "<div>\n",
       "<style scoped>\n",
       "    .dataframe tbody tr th:only-of-type {\n",
       "        vertical-align: middle;\n",
       "    }\n",
       "\n",
       "    .dataframe tbody tr th {\n",
       "        vertical-align: top;\n",
       "    }\n",
       "\n",
       "    .dataframe thead th {\n",
       "        text-align: right;\n",
       "    }\n",
       "</style>\n",
       "<table border=\"1\" class=\"dataframe\">\n",
       "  <thead>\n",
       "    <tr style=\"text-align: right;\">\n",
       "      <th></th>\n",
       "      <th>count</th>\n",
       "    </tr>\n",
       "  </thead>\n",
       "  <tbody>\n",
       "    <tr>\n",
       "      <th>0</th>\n",
       "      <td>6456</td>\n",
       "    </tr>\n",
       "  </tbody>\n",
       "</table>\n",
       "</div>"
      ],
      "text/plain": [
       "   count\n",
       "0   6456"
      ]
     },
     "execution_count": 7,
     "metadata": {},
     "output_type": "execute_result"
    }
   ],
   "source": [
    "#ratings\n",
    "sql('''SELECT count(rating_id) FROM ratings''')"
   ]
  },
  {
   "cell_type": "code",
   "execution_count": 8,
   "metadata": {
    "scrolled": true
   },
   "outputs": [
    {
     "data": {
      "text/html": [
       "<div>\n",
       "<style scoped>\n",
       "    .dataframe tbody tr th:only-of-type {\n",
       "        vertical-align: middle;\n",
       "    }\n",
       "\n",
       "    .dataframe tbody tr th {\n",
       "        vertical-align: top;\n",
       "    }\n",
       "\n",
       "    .dataframe thead th {\n",
       "        text-align: right;\n",
       "    }\n",
       "</style>\n",
       "<table border=\"1\" class=\"dataframe\">\n",
       "  <thead>\n",
       "    <tr style=\"text-align: right;\">\n",
       "      <th></th>\n",
       "      <th>rating_id</th>\n",
       "      <th>book_id</th>\n",
       "      <th>username</th>\n",
       "      <th>rating</th>\n",
       "    </tr>\n",
       "  </thead>\n",
       "  <tbody>\n",
       "    <tr>\n",
       "      <th>0</th>\n",
       "      <td>1</td>\n",
       "      <td>1</td>\n",
       "      <td>ryanfranco</td>\n",
       "      <td>4</td>\n",
       "    </tr>\n",
       "    <tr>\n",
       "      <th>1</th>\n",
       "      <td>2</td>\n",
       "      <td>1</td>\n",
       "      <td>grantpatricia</td>\n",
       "      <td>2</td>\n",
       "    </tr>\n",
       "    <tr>\n",
       "      <th>2</th>\n",
       "      <td>3</td>\n",
       "      <td>1</td>\n",
       "      <td>brandtandrea</td>\n",
       "      <td>5</td>\n",
       "    </tr>\n",
       "    <tr>\n",
       "      <th>3</th>\n",
       "      <td>4</td>\n",
       "      <td>2</td>\n",
       "      <td>lorichen</td>\n",
       "      <td>3</td>\n",
       "    </tr>\n",
       "    <tr>\n",
       "      <th>4</th>\n",
       "      <td>5</td>\n",
       "      <td>2</td>\n",
       "      <td>mariokeller</td>\n",
       "      <td>2</td>\n",
       "    </tr>\n",
       "  </tbody>\n",
       "</table>\n",
       "</div>"
      ],
      "text/plain": [
       "   rating_id  book_id       username  rating\n",
       "0          1        1     ryanfranco       4\n",
       "1          2        1  grantpatricia       2\n",
       "2          3        1   brandtandrea       5\n",
       "3          4        2       lorichen       3\n",
       "4          5        2    mariokeller       2"
      ]
     },
     "execution_count": 8,
     "metadata": {},
     "output_type": "execute_result"
    }
   ],
   "source": [
    "#ratings\n",
    "sql('''SELECT * FROM ratings LIMIT 5''')"
   ]
  },
  {
   "cell_type": "code",
   "execution_count": 9,
   "metadata": {},
   "outputs": [
    {
     "data": {
      "text/html": [
       "<div>\n",
       "<style scoped>\n",
       "    .dataframe tbody tr th:only-of-type {\n",
       "        vertical-align: middle;\n",
       "    }\n",
       "\n",
       "    .dataframe tbody tr th {\n",
       "        vertical-align: top;\n",
       "    }\n",
       "\n",
       "    .dataframe thead th {\n",
       "        text-align: right;\n",
       "    }\n",
       "</style>\n",
       "<table border=\"1\" class=\"dataframe\">\n",
       "  <thead>\n",
       "    <tr style=\"text-align: right;\">\n",
       "      <th></th>\n",
       "      <th>count</th>\n",
       "    </tr>\n",
       "  </thead>\n",
       "  <tbody>\n",
       "    <tr>\n",
       "      <th>0</th>\n",
       "      <td>2793</td>\n",
       "    </tr>\n",
       "  </tbody>\n",
       "</table>\n",
       "</div>"
      ],
      "text/plain": [
       "   count\n",
       "0   2793"
      ]
     },
     "execution_count": 9,
     "metadata": {},
     "output_type": "execute_result"
    }
   ],
   "source": [
    "#reviews\n",
    "sql('''SELECT count(review_id) FROM reviews''')"
   ]
  },
  {
   "cell_type": "code",
   "execution_count": 10,
   "metadata": {},
   "outputs": [
    {
     "data": {
      "text/html": [
       "<div>\n",
       "<style scoped>\n",
       "    .dataframe tbody tr th:only-of-type {\n",
       "        vertical-align: middle;\n",
       "    }\n",
       "\n",
       "    .dataframe tbody tr th {\n",
       "        vertical-align: top;\n",
       "    }\n",
       "\n",
       "    .dataframe thead th {\n",
       "        text-align: right;\n",
       "    }\n",
       "</style>\n",
       "<table border=\"1\" class=\"dataframe\">\n",
       "  <thead>\n",
       "    <tr style=\"text-align: right;\">\n",
       "      <th></th>\n",
       "      <th>review_id</th>\n",
       "      <th>book_id</th>\n",
       "      <th>username</th>\n",
       "      <th>text</th>\n",
       "    </tr>\n",
       "  </thead>\n",
       "  <tbody>\n",
       "    <tr>\n",
       "      <th>0</th>\n",
       "      <td>1</td>\n",
       "      <td>1</td>\n",
       "      <td>brandtandrea</td>\n",
       "      <td>Mention society tell send professor analysis. ...</td>\n",
       "    </tr>\n",
       "    <tr>\n",
       "      <th>1</th>\n",
       "      <td>2</td>\n",
       "      <td>1</td>\n",
       "      <td>ryanfranco</td>\n",
       "      <td>Foot glass pretty audience hit themselves. Amo...</td>\n",
       "    </tr>\n",
       "    <tr>\n",
       "      <th>2</th>\n",
       "      <td>3</td>\n",
       "      <td>2</td>\n",
       "      <td>lorichen</td>\n",
       "      <td>Listen treat keep worry. Miss husband tax but ...</td>\n",
       "    </tr>\n",
       "    <tr>\n",
       "      <th>3</th>\n",
       "      <td>4</td>\n",
       "      <td>3</td>\n",
       "      <td>johnsonamanda</td>\n",
       "      <td>Finally month interesting blue could nature cu...</td>\n",
       "    </tr>\n",
       "    <tr>\n",
       "      <th>4</th>\n",
       "      <td>5</td>\n",
       "      <td>3</td>\n",
       "      <td>scotttamara</td>\n",
       "      <td>Nation purpose heavy give wait song will. List...</td>\n",
       "    </tr>\n",
       "  </tbody>\n",
       "</table>\n",
       "</div>"
      ],
      "text/plain": [
       "   review_id  book_id       username  \\\n",
       "0          1        1   brandtandrea   \n",
       "1          2        1     ryanfranco   \n",
       "2          3        2       lorichen   \n",
       "3          4        3  johnsonamanda   \n",
       "4          5        3    scotttamara   \n",
       "\n",
       "                                                text  \n",
       "0  Mention society tell send professor analysis. ...  \n",
       "1  Foot glass pretty audience hit themselves. Amo...  \n",
       "2  Listen treat keep worry. Miss husband tax but ...  \n",
       "3  Finally month interesting blue could nature cu...  \n",
       "4  Nation purpose heavy give wait song will. List...  "
      ]
     },
     "execution_count": 10,
     "metadata": {},
     "output_type": "execute_result"
    }
   ],
   "source": [
    "#reviews\n",
    "sql('''SELECT * FROM reviews LIMIT 5''')"
   ]
  },
  {
   "cell_type": "code",
   "execution_count": 11,
   "metadata": {},
   "outputs": [
    {
     "data": {
      "text/html": [
       "<div>\n",
       "<style scoped>\n",
       "    .dataframe tbody tr th:only-of-type {\n",
       "        vertical-align: middle;\n",
       "    }\n",
       "\n",
       "    .dataframe tbody tr th {\n",
       "        vertical-align: top;\n",
       "    }\n",
       "\n",
       "    .dataframe thead th {\n",
       "        text-align: right;\n",
       "    }\n",
       "</style>\n",
       "<table border=\"1\" class=\"dataframe\">\n",
       "  <thead>\n",
       "    <tr style=\"text-align: right;\">\n",
       "      <th></th>\n",
       "      <th>count</th>\n",
       "    </tr>\n",
       "  </thead>\n",
       "  <tbody>\n",
       "    <tr>\n",
       "      <th>0</th>\n",
       "      <td>340</td>\n",
       "    </tr>\n",
       "  </tbody>\n",
       "</table>\n",
       "</div>"
      ],
      "text/plain": [
       "   count\n",
       "0    340"
      ]
     },
     "execution_count": 11,
     "metadata": {},
     "output_type": "execute_result"
    }
   ],
   "source": [
    "#publishers\n",
    "sql('''SELECT count(publisher_id) FROM publishers''')"
   ]
  },
  {
   "cell_type": "code",
   "execution_count": 12,
   "metadata": {},
   "outputs": [
    {
     "data": {
      "text/html": [
       "<div>\n",
       "<style scoped>\n",
       "    .dataframe tbody tr th:only-of-type {\n",
       "        vertical-align: middle;\n",
       "    }\n",
       "\n",
       "    .dataframe tbody tr th {\n",
       "        vertical-align: top;\n",
       "    }\n",
       "\n",
       "    .dataframe thead th {\n",
       "        text-align: right;\n",
       "    }\n",
       "</style>\n",
       "<table border=\"1\" class=\"dataframe\">\n",
       "  <thead>\n",
       "    <tr style=\"text-align: right;\">\n",
       "      <th></th>\n",
       "      <th>publisher_id</th>\n",
       "      <th>publisher</th>\n",
       "    </tr>\n",
       "  </thead>\n",
       "  <tbody>\n",
       "    <tr>\n",
       "      <th>0</th>\n",
       "      <td>1</td>\n",
       "      <td>Ace</td>\n",
       "    </tr>\n",
       "    <tr>\n",
       "      <th>1</th>\n",
       "      <td>2</td>\n",
       "      <td>Ace Book</td>\n",
       "    </tr>\n",
       "    <tr>\n",
       "      <th>2</th>\n",
       "      <td>3</td>\n",
       "      <td>Ace Books</td>\n",
       "    </tr>\n",
       "    <tr>\n",
       "      <th>3</th>\n",
       "      <td>4</td>\n",
       "      <td>Ace Hardcover</td>\n",
       "    </tr>\n",
       "    <tr>\n",
       "      <th>4</th>\n",
       "      <td>5</td>\n",
       "      <td>Addison Wesley Publishing Company</td>\n",
       "    </tr>\n",
       "  </tbody>\n",
       "</table>\n",
       "</div>"
      ],
      "text/plain": [
       "   publisher_id                          publisher\n",
       "0             1                                Ace\n",
       "1             2                           Ace Book\n",
       "2             3                          Ace Books\n",
       "3             4                      Ace Hardcover\n",
       "4             5  Addison Wesley Publishing Company"
      ]
     },
     "execution_count": 12,
     "metadata": {},
     "output_type": "execute_result"
    }
   ],
   "source": [
    "#publishers\n",
    "sql('''SELECT * FROM publishers LIMIT 5''')"
   ]
  },
  {
   "cell_type": "markdown",
   "metadata": {},
   "source": [
    "### Исследование (+выводы)"
   ]
  },
  {
   "cell_type": "markdown",
   "metadata": {},
   "source": [
    "1. Посчитайте, сколько книг вышло после 1 января 2000 года;"
   ]
  },
  {
   "cell_type": "code",
   "execution_count": 13,
   "metadata": {},
   "outputs": [
    {
     "data": {
      "text/html": [
       "<div>\n",
       "<style scoped>\n",
       "    .dataframe tbody tr th:only-of-type {\n",
       "        vertical-align: middle;\n",
       "    }\n",
       "\n",
       "    .dataframe tbody tr th {\n",
       "        vertical-align: top;\n",
       "    }\n",
       "\n",
       "    .dataframe thead th {\n",
       "        text-align: right;\n",
       "    }\n",
       "</style>\n",
       "<table border=\"1\" class=\"dataframe\">\n",
       "  <thead>\n",
       "    <tr style=\"text-align: right;\">\n",
       "      <th></th>\n",
       "      <th>book_count</th>\n",
       "    </tr>\n",
       "  </thead>\n",
       "  <tbody>\n",
       "    <tr>\n",
       "      <th>0</th>\n",
       "      <td>819</td>\n",
       "    </tr>\n",
       "  </tbody>\n",
       "</table>\n",
       "</div>"
      ],
      "text/plain": [
       "   book_count\n",
       "0         819"
      ]
     },
     "execution_count": 13,
     "metadata": {},
     "output_type": "execute_result"
    }
   ],
   "source": [
    "sql('''\n",
    "SELECT COUNT(book_id) AS book_count\n",
    "FROM books \n",
    "WHERE publication_date > '2000-01-01'\n",
    "''')"
   ]
  },
  {
   "cell_type": "markdown",
   "metadata": {},
   "source": [
    "**Выводы 1:** Из 1000 книг в базе данных 819 вышли после 1 января 2000 года."
   ]
  },
  {
   "cell_type": "markdown",
   "metadata": {},
   "source": [
    "2. Для каждой книги посчитайте количество обзоров и среднюю оценку;"
   ]
  },
  {
   "cell_type": "code",
   "execution_count": 14,
   "metadata": {},
   "outputs": [
    {
     "data": {
      "text/html": [
       "<div>\n",
       "<style scoped>\n",
       "    .dataframe tbody tr th:only-of-type {\n",
       "        vertical-align: middle;\n",
       "    }\n",
       "\n",
       "    .dataframe tbody tr th {\n",
       "        vertical-align: top;\n",
       "    }\n",
       "\n",
       "    .dataframe thead th {\n",
       "        text-align: right;\n",
       "    }\n",
       "</style>\n",
       "<table border=\"1\" class=\"dataframe\">\n",
       "  <thead>\n",
       "    <tr style=\"text-align: right;\">\n",
       "      <th></th>\n",
       "      <th>title</th>\n",
       "      <th>book_id</th>\n",
       "      <th>review_count</th>\n",
       "      <th>rating</th>\n",
       "    </tr>\n",
       "  </thead>\n",
       "  <tbody>\n",
       "    <tr>\n",
       "      <th>0</th>\n",
       "      <td>Twilight (Twilight  #1)</td>\n",
       "      <td>948</td>\n",
       "      <td>7</td>\n",
       "      <td>3.7</td>\n",
       "    </tr>\n",
       "    <tr>\n",
       "      <th>1</th>\n",
       "      <td>Water for Elephants</td>\n",
       "      <td>963</td>\n",
       "      <td>6</td>\n",
       "      <td>4.0</td>\n",
       "    </tr>\n",
       "    <tr>\n",
       "      <th>2</th>\n",
       "      <td>The Glass Castle</td>\n",
       "      <td>734</td>\n",
       "      <td>6</td>\n",
       "      <td>4.2</td>\n",
       "    </tr>\n",
       "    <tr>\n",
       "      <th>3</th>\n",
       "      <td>Harry Potter and the Prisoner of Azkaban (Harr...</td>\n",
       "      <td>302</td>\n",
       "      <td>6</td>\n",
       "      <td>4.4</td>\n",
       "    </tr>\n",
       "    <tr>\n",
       "      <th>4</th>\n",
       "      <td>The Curious Incident of the Dog in the Night-Time</td>\n",
       "      <td>695</td>\n",
       "      <td>6</td>\n",
       "      <td>4.1</td>\n",
       "    </tr>\n",
       "    <tr>\n",
       "      <th>...</th>\n",
       "      <td>...</td>\n",
       "      <td>...</td>\n",
       "      <td>...</td>\n",
       "      <td>...</td>\n",
       "    </tr>\n",
       "    <tr>\n",
       "      <th>995</th>\n",
       "      <td>Anne Rice's The Vampire Lestat: A Graphic Novel</td>\n",
       "      <td>83</td>\n",
       "      <td>0</td>\n",
       "      <td>3.7</td>\n",
       "    </tr>\n",
       "    <tr>\n",
       "      <th>996</th>\n",
       "      <td>The Natural Way to Draw</td>\n",
       "      <td>808</td>\n",
       "      <td>0</td>\n",
       "      <td>3.0</td>\n",
       "    </tr>\n",
       "    <tr>\n",
       "      <th>997</th>\n",
       "      <td>The Cat in the Hat and Other Dr. Seuss Favorites</td>\n",
       "      <td>672</td>\n",
       "      <td>0</td>\n",
       "      <td>5.0</td>\n",
       "    </tr>\n",
       "    <tr>\n",
       "      <th>998</th>\n",
       "      <td>Essential Tales and Poems</td>\n",
       "      <td>221</td>\n",
       "      <td>0</td>\n",
       "      <td>4.0</td>\n",
       "    </tr>\n",
       "    <tr>\n",
       "      <th>999</th>\n",
       "      <td>Disney's Beauty and the Beast (A Little Golden...</td>\n",
       "      <td>191</td>\n",
       "      <td>0</td>\n",
       "      <td>4.0</td>\n",
       "    </tr>\n",
       "  </tbody>\n",
       "</table>\n",
       "<p>1000 rows × 4 columns</p>\n",
       "</div>"
      ],
      "text/plain": [
       "                                                 title  book_id  review_count  \\\n",
       "0                              Twilight (Twilight  #1)      948             7   \n",
       "1                                  Water for Elephants      963             6   \n",
       "2                                     The Glass Castle      734             6   \n",
       "3    Harry Potter and the Prisoner of Azkaban (Harr...      302             6   \n",
       "4    The Curious Incident of the Dog in the Night-Time      695             6   \n",
       "..                                                 ...      ...           ...   \n",
       "995    Anne Rice's The Vampire Lestat: A Graphic Novel       83             0   \n",
       "996                            The Natural Way to Draw      808             0   \n",
       "997   The Cat in the Hat and Other Dr. Seuss Favorites      672             0   \n",
       "998                          Essential Tales and Poems      221             0   \n",
       "999  Disney's Beauty and the Beast (A Little Golden...      191             0   \n",
       "\n",
       "     rating  \n",
       "0       3.7  \n",
       "1       4.0  \n",
       "2       4.2  \n",
       "3       4.4  \n",
       "4       4.1  \n",
       "..      ...  \n",
       "995     3.7  \n",
       "996     3.0  \n",
       "997     5.0  \n",
       "998     4.0  \n",
       "999     4.0  \n",
       "\n",
       "[1000 rows x 4 columns]"
      ]
     },
     "execution_count": 14,
     "metadata": {},
     "output_type": "execute_result"
    }
   ],
   "source": [
    "sql('''\n",
    "SELECT b.title,\n",
    "b.book_id,\n",
    "COUNT(DISTINCT(rev.review_id)) AS review_count,\n",
    "ROUND(AVG(rat.rating), 1) AS rating\n",
    "FROM books b LEFT JOIN ratings rat ON b.book_id=rat.book_id \n",
    "LEFT JOIN reviews rev ON rev.book_id=rat.book_id\n",
    "GROUP BY b.book_id, b.title\n",
    "ORDER BY review_count DESC\n",
    "''')"
   ]
  },
  {
   "cell_type": "markdown",
   "metadata": {},
   "source": [
    "**Выводы 2:** В базе данных есть хотя бы 1 оценка по каждой книге, обзоры есть на 99% книг (994).\\\n",
    "Три самых популярных с точки зрения кол-ва отзывов - Twilight, Water for Elephants, The Glass Castle."
   ]
  },
  {
   "cell_type": "markdown",
   "metadata": {},
   "source": [
    "3. Определите издательство, которое выпустило наибольшее число книг толще 50 страниц — так вы исключите из анализа брошюры;"
   ]
  },
  {
   "cell_type": "code",
   "execution_count": 15,
   "metadata": {},
   "outputs": [
    {
     "data": {
      "text/html": [
       "<div>\n",
       "<style scoped>\n",
       "    .dataframe tbody tr th:only-of-type {\n",
       "        vertical-align: middle;\n",
       "    }\n",
       "\n",
       "    .dataframe tbody tr th {\n",
       "        vertical-align: top;\n",
       "    }\n",
       "\n",
       "    .dataframe thead th {\n",
       "        text-align: right;\n",
       "    }\n",
       "</style>\n",
       "<table border=\"1\" class=\"dataframe\">\n",
       "  <thead>\n",
       "    <tr style=\"text-align: right;\">\n",
       "      <th></th>\n",
       "      <th>publisher</th>\n",
       "      <th>book_count</th>\n",
       "    </tr>\n",
       "  </thead>\n",
       "  <tbody>\n",
       "    <tr>\n",
       "      <th>0</th>\n",
       "      <td>Penguin Books</td>\n",
       "      <td>42</td>\n",
       "    </tr>\n",
       "    <tr>\n",
       "      <th>1</th>\n",
       "      <td>Vintage</td>\n",
       "      <td>31</td>\n",
       "    </tr>\n",
       "    <tr>\n",
       "      <th>2</th>\n",
       "      <td>Grand Central Publishing</td>\n",
       "      <td>25</td>\n",
       "    </tr>\n",
       "    <tr>\n",
       "      <th>3</th>\n",
       "      <td>Penguin Classics</td>\n",
       "      <td>24</td>\n",
       "    </tr>\n",
       "    <tr>\n",
       "      <th>4</th>\n",
       "      <td>Ballantine Books</td>\n",
       "      <td>19</td>\n",
       "    </tr>\n",
       "    <tr>\n",
       "      <th>...</th>\n",
       "      <td>...</td>\n",
       "      <td>...</td>\n",
       "    </tr>\n",
       "    <tr>\n",
       "      <th>329</th>\n",
       "      <td>Turtleback</td>\n",
       "      <td>1</td>\n",
       "    </tr>\n",
       "    <tr>\n",
       "      <th>330</th>\n",
       "      <td>Atheneum Books for Young Readers: Richard Jack...</td>\n",
       "      <td>1</td>\n",
       "    </tr>\n",
       "    <tr>\n",
       "      <th>331</th>\n",
       "      <td>Penguin Signet</td>\n",
       "      <td>1</td>\n",
       "    </tr>\n",
       "    <tr>\n",
       "      <th>332</th>\n",
       "      <td>Victor Gollancz</td>\n",
       "      <td>1</td>\n",
       "    </tr>\n",
       "    <tr>\n",
       "      <th>333</th>\n",
       "      <td>Harvard Business Review Press</td>\n",
       "      <td>1</td>\n",
       "    </tr>\n",
       "  </tbody>\n",
       "</table>\n",
       "<p>334 rows × 2 columns</p>\n",
       "</div>"
      ],
      "text/plain": [
       "                                             publisher  book_count\n",
       "0                                        Penguin Books          42\n",
       "1                                              Vintage          31\n",
       "2                             Grand Central Publishing          25\n",
       "3                                     Penguin Classics          24\n",
       "4                                     Ballantine Books          19\n",
       "..                                                 ...         ...\n",
       "329                                         Turtleback           1\n",
       "330  Atheneum Books for Young Readers: Richard Jack...           1\n",
       "331                                     Penguin Signet           1\n",
       "332                                    Victor Gollancz           1\n",
       "333                      Harvard Business Review Press           1\n",
       "\n",
       "[334 rows x 2 columns]"
      ]
     },
     "execution_count": 15,
     "metadata": {},
     "output_type": "execute_result"
    }
   ],
   "source": [
    "sql('''\n",
    "SELECT p.publisher,\n",
    "COUNT(b.book_id) as book_count\n",
    "FROM publishers p JOIN books b ON p.publisher_id=b.publisher_id\n",
    "WHERE b.num_pages>50\n",
    "GROUP BY p.publisher\n",
    "ORDER BY book_count DESC\n",
    "''')"
   ]
  },
  {
   "cell_type": "markdown",
   "metadata": {},
   "source": [
    "**Выводы 3:** В базе данных содержится информация о 334 издательствах. Количество изданных книг (более 50 страниц) от 1 до 42 штук.\\\n",
    "Самое производительное издательство - Penguin Books (42 книги)."
   ]
  },
  {
   "cell_type": "markdown",
   "metadata": {},
   "source": [
    "4. Определите автора с самой высокой средней оценкой книг — учитывайте только книги с 50 и более оценками;"
   ]
  },
  {
   "cell_type": "code",
   "execution_count": 16,
   "metadata": {},
   "outputs": [
    {
     "data": {
      "text/html": [
       "<div>\n",
       "<style scoped>\n",
       "    .dataframe tbody tr th:only-of-type {\n",
       "        vertical-align: middle;\n",
       "    }\n",
       "\n",
       "    .dataframe tbody tr th {\n",
       "        vertical-align: top;\n",
       "    }\n",
       "\n",
       "    .dataframe thead th {\n",
       "        text-align: right;\n",
       "    }\n",
       "</style>\n",
       "<table border=\"1\" class=\"dataframe\">\n",
       "  <thead>\n",
       "    <tr style=\"text-align: right;\">\n",
       "      <th></th>\n",
       "      <th>author</th>\n",
       "      <th>rating</th>\n",
       "    </tr>\n",
       "  </thead>\n",
       "  <tbody>\n",
       "    <tr>\n",
       "      <th>0</th>\n",
       "      <td>J.K. Rowling/Mary GrandPré</td>\n",
       "      <td>4.28</td>\n",
       "    </tr>\n",
       "    <tr>\n",
       "      <th>1</th>\n",
       "      <td>Markus Zusak/Cao Xuân Việt Khương</td>\n",
       "      <td>4.26</td>\n",
       "    </tr>\n",
       "    <tr>\n",
       "      <th>2</th>\n",
       "      <td>J.R.R. Tolkien</td>\n",
       "      <td>4.26</td>\n",
       "    </tr>\n",
       "    <tr>\n",
       "      <th>3</th>\n",
       "      <td>Louisa May Alcott</td>\n",
       "      <td>4.19</td>\n",
       "    </tr>\n",
       "    <tr>\n",
       "      <th>4</th>\n",
       "      <td>Rick Riordan</td>\n",
       "      <td>4.08</td>\n",
       "    </tr>\n",
       "    <tr>\n",
       "      <th>5</th>\n",
       "      <td>William Golding</td>\n",
       "      <td>3.90</td>\n",
       "    </tr>\n",
       "    <tr>\n",
       "      <th>6</th>\n",
       "      <td>J.D. Salinger</td>\n",
       "      <td>3.83</td>\n",
       "    </tr>\n",
       "    <tr>\n",
       "      <th>7</th>\n",
       "      <td>William Shakespeare/Paul Werstine/Barbara A. M...</td>\n",
       "      <td>3.79</td>\n",
       "    </tr>\n",
       "    <tr>\n",
       "      <th>8</th>\n",
       "      <td>Paulo Coelho/Alan R. Clarke/Özdemir İnce</td>\n",
       "      <td>3.79</td>\n",
       "    </tr>\n",
       "    <tr>\n",
       "      <th>9</th>\n",
       "      <td>Lois Lowry</td>\n",
       "      <td>3.75</td>\n",
       "    </tr>\n",
       "    <tr>\n",
       "      <th>10</th>\n",
       "      <td>Dan Brown</td>\n",
       "      <td>3.75</td>\n",
       "    </tr>\n",
       "    <tr>\n",
       "      <th>11</th>\n",
       "      <td>George Orwell/Boris Grabnar/Peter Škerl</td>\n",
       "      <td>3.73</td>\n",
       "    </tr>\n",
       "    <tr>\n",
       "      <th>12</th>\n",
       "      <td>Stephenie Meyer</td>\n",
       "      <td>3.66</td>\n",
       "    </tr>\n",
       "    <tr>\n",
       "      <th>13</th>\n",
       "      <td>John Steinbeck</td>\n",
       "      <td>3.62</td>\n",
       "    </tr>\n",
       "  </tbody>\n",
       "</table>\n",
       "</div>"
      ],
      "text/plain": [
       "                                               author  rating\n",
       "0                          J.K. Rowling/Mary GrandPré    4.28\n",
       "1                   Markus Zusak/Cao Xuân Việt Khương    4.26\n",
       "2                                      J.R.R. Tolkien    4.26\n",
       "3                                   Louisa May Alcott    4.19\n",
       "4                                        Rick Riordan    4.08\n",
       "5                                     William Golding    3.90\n",
       "6                                       J.D. Salinger    3.83\n",
       "7   William Shakespeare/Paul Werstine/Barbara A. M...    3.79\n",
       "8            Paulo Coelho/Alan R. Clarke/Özdemir İnce    3.79\n",
       "9                                          Lois Lowry    3.75\n",
       "10                                          Dan Brown    3.75\n",
       "11            George Orwell/Boris Grabnar/Peter Škerl    3.73\n",
       "12                                    Stephenie Meyer    3.66\n",
       "13                                     John Steinbeck    3.62"
      ]
     },
     "execution_count": 16,
     "metadata": {},
     "output_type": "execute_result"
    }
   ],
   "source": [
    "sql('''\n",
    "SELECT author,\n",
    "ROUND(AVG(avg_rating),2) as rating\n",
    "FROM (SELECT a.author,\n",
    "b.book_id,\n",
    "AVG(r.rating) as avg_rating,\n",
    "COUNT(r.rating_id) AS quantity\n",
    "FROM authors a \n",
    "JOIN books b ON a.author_id=b.author_id\n",
    "JOIN ratings r ON r.book_id=b.book_id\n",
    "GROUP BY a.author, b.book_id) b\n",
    "WHERE b.quantity >= 50\n",
    "GROUP BY author\n",
    "ORDER BY rating DESC\n",
    "''')"
   ]
  },
  {
   "cell_type": "markdown",
   "metadata": {},
   "source": [
    "**Выводы 4:** В БД 13 авторов, издавших более 50 книг (включительно).\\\n",
    "Средний рейтинг по книгам варьируется от 3,6 до 4,2.\\\n",
    "Самая высокая оценка у автора J.K. Rowling/Mary GrandPré. Низкая - John Steinbeck."
   ]
  },
  {
   "cell_type": "markdown",
   "metadata": {},
   "source": [
    "5. Посчитайте среднее количество обзоров от пользователей, которые поставили больше 48 оценок."
   ]
  },
  {
   "cell_type": "code",
   "execution_count": 17,
   "metadata": {},
   "outputs": [
    {
     "data": {
      "text/html": [
       "<div>\n",
       "<style scoped>\n",
       "    .dataframe tbody tr th:only-of-type {\n",
       "        vertical-align: middle;\n",
       "    }\n",
       "\n",
       "    .dataframe tbody tr th {\n",
       "        vertical-align: top;\n",
       "    }\n",
       "\n",
       "    .dataframe thead th {\n",
       "        text-align: right;\n",
       "    }\n",
       "</style>\n",
       "<table border=\"1\" class=\"dataframe\">\n",
       "  <thead>\n",
       "    <tr style=\"text-align: right;\">\n",
       "      <th></th>\n",
       "      <th>average_review_count</th>\n",
       "    </tr>\n",
       "  </thead>\n",
       "  <tbody>\n",
       "    <tr>\n",
       "      <th>0</th>\n",
       "      <td>24.0</td>\n",
       "    </tr>\n",
       "  </tbody>\n",
       "</table>\n",
       "</div>"
      ],
      "text/plain": [
       "   average_review_count\n",
       "0                  24.0"
      ]
     },
     "execution_count": 17,
     "metadata": {},
     "output_type": "execute_result"
    }
   ],
   "source": [
    "sql('''\n",
    "SELECT AVG(review_count) AS average_review_count\n",
    "FROM(SELECT c.username,\n",
    "COUNT(rev.review_id) as review_count\n",
    "FROM (SELECT rat.username,\n",
    "COUNT(rat.rating_id) AS rating_quantity\n",
    "FROM ratings rat\n",
    "GROUP BY rat.username) c JOIN reviews rev ON c.username=rev.username\n",
    "WHERE rating_quantity > 48\n",
    "GROUP BY c.username) d\n",
    "''')"
   ]
  },
  {
   "cell_type": "markdown",
   "metadata": {},
   "source": [
    "**Выводы 5:** Среднее количество обзоров от пользователей-экспертов (поставивших больше 48 оценок книгам) составляет 24 штуки."
   ]
  },
  {
   "cell_type": "markdown",
   "metadata": {},
   "source": [
    "### Общий вывод"
   ]
  },
  {
   "cell_type": "markdown",
   "metadata": {},
   "source": [
    "БД содержит 5 таблиц: books,authors, ratings, reviews, publishers.\n",
    "- Таблица books содержит информацию о 1000 книг, 819 из которых были выпущены после 1 января 2000 года.\n",
    "- Для большинства книг (99%) есть хотя бы 1 текстовый обзор (в таблице reviews, суммарно отзывов в таблице 2793), для всех книг есть хотя бы 1 оценка(таблица ratings, суммарно поставлено 6456 оценок). Три самых популярных книги с точки зрения кол-ва отзывов - Twilight, Water for Elephants, The Glass Castle\n",
    "- Таблица publishers включает информацию о 334 издательствах. Количество изданных книг (более 50 страниц) от 1 до 42 штук. Самое производительное издательство - Penguin Books (42 книги).\n",
    "- В таблице authors 13 крупных авторов, издавших более 50 книг (включительно). Средний рейтинг по книгам варьируется от 3,6 до 4,2. Самая высокая оценка у автора J.K. Rowling/Mary GrandPré. Низкая - John Steinbeck.\n",
    "- Пользователи-эксперты (поставившие больше 48 оценок книгам) в среднем написали по 24 обзора книгам."
   ]
  }
 ],
 "metadata": {
  "ExecuteTimeLog": [
   {
    "duration": 9908,
    "start_time": "2024-12-10T04:38:34.097Z"
   },
   {
    "duration": 2,
    "start_time": "2024-12-10T04:47:39.244Z"
   },
   {
    "duration": 4,
    "start_time": "2024-12-10T04:47:56.283Z"
   },
   {
    "duration": 131,
    "start_time": "2024-12-10T04:48:06.132Z"
   },
   {
    "duration": 53,
    "start_time": "2024-12-10T04:48:22.980Z"
   },
   {
    "duration": 54,
    "start_time": "2024-12-10T04:48:37.388Z"
   },
   {
    "duration": 53,
    "start_time": "2024-12-10T04:48:45.564Z"
   },
   {
    "duration": 239,
    "start_time": "2024-12-10T04:54:54.259Z"
   },
   {
    "duration": 128,
    "start_time": "2024-12-10T04:54:54.500Z"
   },
   {
    "duration": 53,
    "start_time": "2024-12-10T04:54:54.629Z"
   },
   {
    "duration": 53,
    "start_time": "2024-12-10T04:54:54.683Z"
   },
   {
    "duration": 52,
    "start_time": "2024-12-10T04:54:56.552Z"
   },
   {
    "duration": 96,
    "start_time": "2024-12-10T04:56:01.864Z"
   },
   {
    "duration": 90,
    "start_time": "2024-12-10T04:56:41.666Z"
   },
   {
    "duration": 52,
    "start_time": "2024-12-10T04:58:22.169Z"
   },
   {
    "duration": 110,
    "start_time": "2024-12-10T05:00:20.219Z"
   },
   {
    "duration": 134,
    "start_time": "2024-12-10T05:00:43.106Z"
   },
   {
    "duration": 62,
    "start_time": "2024-12-10T05:01:00.203Z"
   },
   {
    "duration": 152,
    "start_time": "2024-12-10T05:01:49.212Z"
   },
   {
    "duration": 160,
    "start_time": "2024-12-10T05:02:00.380Z"
   },
   {
    "duration": 151,
    "start_time": "2024-12-10T05:02:25.732Z"
   },
   {
    "duration": 4,
    "start_time": "2024-12-10T05:04:37.638Z"
   },
   {
    "duration": 190,
    "start_time": "2024-12-10T05:04:58.613Z"
   },
   {
    "duration": 86,
    "start_time": "2024-12-10T05:05:40.557Z"
   },
   {
    "duration": 3,
    "start_time": "2024-12-10T05:05:55.510Z"
   },
   {
    "duration": 39,
    "start_time": "2024-12-10T05:07:32.653Z"
   },
   {
    "duration": 32,
    "start_time": "2024-12-10T05:07:37.437Z"
   },
   {
    "duration": 31,
    "start_time": "2024-12-10T05:07:45.758Z"
   },
   {
    "duration": 30,
    "start_time": "2024-12-10T05:08:00.470Z"
   },
   {
    "duration": 31,
    "start_time": "2024-12-10T05:08:10.926Z"
   },
   {
    "duration": 31,
    "start_time": "2024-12-10T05:08:27.654Z"
   },
   {
    "duration": 31,
    "start_time": "2024-12-10T05:08:44.798Z"
   },
   {
    "duration": 30,
    "start_time": "2024-12-10T05:08:55.447Z"
   },
   {
    "duration": 54,
    "start_time": "2024-12-10T05:09:20.863Z"
   },
   {
    "duration": 39,
    "start_time": "2024-12-10T05:10:17.200Z"
   },
   {
    "duration": 29,
    "start_time": "2024-12-10T05:10:27.056Z"
   },
   {
    "duration": 29,
    "start_time": "2024-12-10T05:10:54.111Z"
   },
   {
    "duration": 51,
    "start_time": "2024-12-10T05:17:25.419Z"
   },
   {
    "duration": 55,
    "start_time": "2024-12-10T05:42:32.530Z"
   },
   {
    "duration": 53,
    "start_time": "2024-12-10T05:43:33.024Z"
   },
   {
    "duration": 53,
    "start_time": "2024-12-10T05:43:49.609Z"
   },
   {
    "duration": 51,
    "start_time": "2024-12-10T05:44:09.033Z"
   },
   {
    "duration": 62,
    "start_time": "2024-12-10T05:44:22.656Z"
   },
   {
    "duration": 64,
    "start_time": "2024-12-10T05:44:40.385Z"
   },
   {
    "duration": 59,
    "start_time": "2024-12-10T05:44:48.785Z"
   },
   {
    "duration": 54,
    "start_time": "2024-12-10T05:45:21.872Z"
   },
   {
    "duration": 57,
    "start_time": "2024-12-10T05:46:09.929Z"
   },
   {
    "duration": 52,
    "start_time": "2024-12-10T05:46:15.954Z"
   },
   {
    "duration": 52,
    "start_time": "2024-12-10T05:46:19.122Z"
   },
   {
    "duration": 52,
    "start_time": "2024-12-10T05:46:29.780Z"
   },
   {
    "duration": 43,
    "start_time": "2024-12-10T05:48:47.410Z"
   },
   {
    "duration": 43,
    "start_time": "2024-12-10T05:49:24.443Z"
   },
   {
    "duration": 43,
    "start_time": "2024-12-10T05:49:51.619Z"
   },
   {
    "duration": 52,
    "start_time": "2024-12-10T05:51:05.100Z"
   },
   {
    "duration": 41,
    "start_time": "2024-12-10T05:51:12.668Z"
   },
   {
    "duration": 31,
    "start_time": "2024-12-10T05:51:16.540Z"
   },
   {
    "duration": 34,
    "start_time": "2024-12-10T05:51:41.971Z"
   },
   {
    "duration": 51,
    "start_time": "2024-12-10T05:53:24.349Z"
   },
   {
    "duration": 62,
    "start_time": "2024-12-10T05:53:33.062Z"
   },
   {
    "duration": 43,
    "start_time": "2024-12-10T05:55:16.118Z"
   },
   {
    "duration": 34,
    "start_time": "2024-12-10T05:55:22.870Z"
   },
   {
    "duration": 50,
    "start_time": "2024-12-10T05:55:41.502Z"
   },
   {
    "duration": 43,
    "start_time": "2024-12-10T05:55:53.223Z"
   },
   {
    "duration": 52,
    "start_time": "2024-12-10T05:56:06.543Z"
   },
   {
    "duration": 41,
    "start_time": "2024-12-10T05:56:12.247Z"
   },
   {
    "duration": 53,
    "start_time": "2024-12-10T06:20:42.833Z"
   },
   {
    "duration": 60,
    "start_time": "2024-12-10T06:21:02.602Z"
   },
   {
    "duration": 49,
    "start_time": "2024-12-10T06:21:33.578Z"
   },
   {
    "duration": 166,
    "start_time": "2024-12-10T06:41:26.253Z"
   },
   {
    "duration": 62,
    "start_time": "2024-12-10T06:41:33.862Z"
   },
   {
    "duration": 34,
    "start_time": "2024-12-10T06:43:45.655Z"
   },
   {
    "duration": 34,
    "start_time": "2024-12-10T06:43:54.446Z"
   },
   {
    "duration": 52,
    "start_time": "2024-12-10T06:47:49.335Z"
   },
   {
    "duration": 63,
    "start_time": "2024-12-10T06:47:56.617Z"
   },
   {
    "duration": 43,
    "start_time": "2024-12-10T06:48:09.529Z"
   },
   {
    "duration": 52,
    "start_time": "2024-12-10T06:48:56.416Z"
   },
   {
    "duration": 41,
    "start_time": "2024-12-10T06:49:08.769Z"
   },
   {
    "duration": 30,
    "start_time": "2024-12-10T06:49:16.785Z"
   },
   {
    "duration": 33,
    "start_time": "2024-12-10T06:49:32.257Z"
   },
   {
    "duration": 32,
    "start_time": "2024-12-10T06:49:46.929Z"
   },
   {
    "duration": 33,
    "start_time": "2024-12-10T06:49:54.001Z"
   },
   {
    "duration": 33,
    "start_time": "2024-12-10T06:51:55.874Z"
   },
   {
    "duration": 31,
    "start_time": "2024-12-10T06:53:18.587Z"
   },
   {
    "duration": 31,
    "start_time": "2024-12-10T06:53:29.667Z"
   },
   {
    "duration": 51,
    "start_time": "2024-12-10T06:54:46.204Z"
   },
   {
    "duration": 64,
    "start_time": "2024-12-10T06:55:00.364Z"
   },
   {
    "duration": 44,
    "start_time": "2024-12-10T06:55:15.004Z"
   },
   {
    "duration": 34,
    "start_time": "2024-12-10T07:13:40.391Z"
   },
   {
    "duration": 60,
    "start_time": "2024-12-10T07:14:53.871Z"
   },
   {
    "duration": 33,
    "start_time": "2024-12-10T07:16:11.095Z"
   },
   {
    "duration": 54,
    "start_time": "2024-12-10T07:16:47.015Z"
   },
   {
    "duration": 42,
    "start_time": "2024-12-10T07:16:52.264Z"
   },
   {
    "duration": 59,
    "start_time": "2024-12-10T07:17:32.282Z"
   },
   {
    "duration": 33,
    "start_time": "2024-12-10T07:18:24.768Z"
   },
   {
    "duration": 33,
    "start_time": "2024-12-10T07:18:43.305Z"
   },
   {
    "duration": 52,
    "start_time": "2024-12-10T07:19:04.993Z"
   },
   {
    "duration": 42,
    "start_time": "2024-12-10T07:19:10.201Z"
   },
   {
    "duration": 32,
    "start_time": "2024-12-10T07:19:26.713Z"
   },
   {
    "duration": 53,
    "start_time": "2024-12-10T07:20:41.730Z"
   },
   {
    "duration": 52,
    "start_time": "2024-12-10T07:20:51.682Z"
   },
   {
    "duration": 54,
    "start_time": "2024-12-10T07:25:10.492Z"
   },
   {
    "duration": 52,
    "start_time": "2024-12-10T07:26:01.261Z"
   },
   {
    "duration": 63,
    "start_time": "2024-12-10T07:26:11.573Z"
   },
   {
    "duration": 80,
    "start_time": "2024-12-10T07:26:22.126Z"
   },
   {
    "duration": 84,
    "start_time": "2024-12-10T07:27:32.445Z"
   },
   {
    "duration": 68,
    "start_time": "2024-12-10T07:27:40.902Z"
   },
   {
    "duration": 31,
    "start_time": "2024-12-10T07:28:22.734Z"
   },
   {
    "duration": 38,
    "start_time": "2024-12-10T07:28:39.966Z"
   },
   {
    "duration": 35,
    "start_time": "2024-12-10T07:29:47.414Z"
   },
   {
    "duration": 49,
    "start_time": "2024-12-10T07:30:39.359Z"
   },
   {
    "duration": 51,
    "start_time": "2024-12-10T07:30:59.519Z"
   },
   {
    "duration": 65,
    "start_time": "2024-12-10T07:31:08.264Z"
   },
   {
    "duration": 73,
    "start_time": "2024-12-10T07:31:17.575Z"
   },
   {
    "duration": 36,
    "start_time": "2024-12-10T07:31:56.584Z"
   },
   {
    "duration": 35,
    "start_time": "2024-12-10T07:32:22.232Z"
   },
   {
    "duration": 37,
    "start_time": "2024-12-10T07:32:57.048Z"
   },
   {
    "duration": 52,
    "start_time": "2024-12-10T07:34:55.970Z"
   },
   {
    "duration": 63,
    "start_time": "2024-12-10T07:35:07.313Z"
   },
   {
    "duration": 62,
    "start_time": "2024-12-10T07:35:47.098Z"
   },
   {
    "duration": 50,
    "start_time": "2024-12-10T07:36:06.530Z"
   },
   {
    "duration": 52,
    "start_time": "2024-12-10T07:36:24.738Z"
   },
   {
    "duration": 47,
    "start_time": "2024-12-10T07:36:34.306Z"
   },
   {
    "duration": 39,
    "start_time": "2024-12-10T07:36:54.426Z"
   },
   {
    "duration": 39,
    "start_time": "2024-12-10T07:36:59.418Z"
   },
   {
    "duration": 35,
    "start_time": "2024-12-10T07:37:09.842Z"
   },
   {
    "duration": 28,
    "start_time": "2024-12-10T08:58:37.349Z"
   },
   {
    "duration": 31,
    "start_time": "2024-12-10T08:58:55.959Z"
   },
   {
    "duration": 29,
    "start_time": "2024-12-10T08:59:11.512Z"
   },
   {
    "duration": 29,
    "start_time": "2024-12-10T08:59:22.600Z"
   },
   {
    "duration": 30,
    "start_time": "2024-12-10T08:59:51.512Z"
   },
   {
    "duration": 29,
    "start_time": "2024-12-10T09:00:32.698Z"
   },
   {
    "duration": 2,
    "start_time": "2024-12-10T09:02:11.641Z"
   },
   {
    "duration": 30,
    "start_time": "2024-12-10T09:02:30.001Z"
   },
   {
    "duration": 29,
    "start_time": "2024-12-10T09:02:57.330Z"
   },
   {
    "duration": 52,
    "start_time": "2024-12-10T09:06:34.284Z"
   },
   {
    "duration": 52,
    "start_time": "2024-12-10T09:06:57.772Z"
   },
   {
    "duration": 68,
    "start_time": "2024-12-10T09:07:44.197Z"
   },
   {
    "duration": 115,
    "start_time": "2024-12-10T09:07:50.885Z"
   },
   {
    "duration": 94,
    "start_time": "2024-12-10T09:08:01.740Z"
   },
   {
    "duration": 111,
    "start_time": "2024-12-10T09:08:14.276Z"
   },
   {
    "duration": 69,
    "start_time": "2024-12-10T09:08:29.444Z"
   },
   {
    "duration": 69,
    "start_time": "2024-12-10T09:09:39.845Z"
   },
   {
    "duration": 69,
    "start_time": "2024-12-10T09:09:49.877Z"
   },
   {
    "duration": 65,
    "start_time": "2024-12-10T09:10:27.838Z"
   },
   {
    "duration": 70,
    "start_time": "2024-12-10T09:12:04.070Z"
   },
   {
    "duration": 68,
    "start_time": "2024-12-10T09:12:36.702Z"
   },
   {
    "duration": 31,
    "start_time": "2024-12-10T10:02:04.431Z"
   },
   {
    "duration": 33,
    "start_time": "2024-12-10T10:02:15.575Z"
   },
   {
    "duration": 36,
    "start_time": "2024-12-10T10:05:20.665Z"
   },
   {
    "duration": 37,
    "start_time": "2024-12-10T10:07:22.401Z"
   },
   {
    "duration": 35,
    "start_time": "2024-12-10T10:07:29.033Z"
   },
   {
    "duration": 52,
    "start_time": "2024-12-10T10:08:03.034Z"
   },
   {
    "duration": 47,
    "start_time": "2024-12-10T10:09:36.026Z"
   },
   {
    "duration": 52,
    "start_time": "2024-12-10T10:09:47.338Z"
   },
   {
    "duration": 47,
    "start_time": "2024-12-10T10:09:52.699Z"
   },
   {
    "duration": 11709,
    "start_time": "2024-12-10T12:36:38.271Z"
   },
   {
    "duration": 3,
    "start_time": "2024-12-10T12:36:49.982Z"
   },
   {
    "duration": 77,
    "start_time": "2024-12-10T12:36:49.987Z"
   },
   {
    "duration": 33,
    "start_time": "2024-12-10T12:36:50.065Z"
   },
   {
    "duration": 37,
    "start_time": "2024-12-10T12:36:50.100Z"
   },
   {
    "duration": 31,
    "start_time": "2024-12-10T12:36:50.139Z"
   },
   {
    "duration": 29,
    "start_time": "2024-12-10T12:36:50.172Z"
   },
   {
    "duration": 30,
    "start_time": "2024-12-10T12:36:50.203Z"
   },
   {
    "duration": 29,
    "start_time": "2024-12-10T12:36:50.235Z"
   },
   {
    "duration": 36,
    "start_time": "2024-12-10T12:36:50.266Z"
   },
   {
    "duration": 32,
    "start_time": "2024-12-10T12:36:50.304Z"
   },
   {
    "duration": 31,
    "start_time": "2024-12-10T12:36:50.339Z"
   },
   {
    "duration": 29,
    "start_time": "2024-12-10T12:36:50.371Z"
   },
   {
    "duration": 71,
    "start_time": "2024-12-10T12:36:50.403Z"
   },
   {
    "duration": 34,
    "start_time": "2024-12-10T12:36:50.475Z"
   },
   {
    "duration": 38,
    "start_time": "2024-12-10T12:36:50.511Z"
   },
   {
    "duration": 32,
    "start_time": "2024-12-10T12:36:50.550Z"
   },
   {
    "duration": 9830,
    "start_time": "2024-12-10T16:29:30.093Z"
   },
   {
    "duration": 3,
    "start_time": "2024-12-10T16:29:39.925Z"
   },
   {
    "duration": 69,
    "start_time": "2024-12-10T16:29:39.930Z"
   },
   {
    "duration": 34,
    "start_time": "2024-12-10T16:29:40.001Z"
   },
   {
    "duration": 29,
    "start_time": "2024-12-10T16:29:40.037Z"
   },
   {
    "duration": 29,
    "start_time": "2024-12-10T16:29:40.068Z"
   },
   {
    "duration": 29,
    "start_time": "2024-12-10T16:29:40.099Z"
   },
   {
    "duration": 29,
    "start_time": "2024-12-10T16:29:40.130Z"
   },
   {
    "duration": 29,
    "start_time": "2024-12-10T16:29:40.161Z"
   },
   {
    "duration": 29,
    "start_time": "2024-12-10T16:29:40.192Z"
   },
   {
    "duration": 27,
    "start_time": "2024-12-10T16:29:40.223Z"
   },
   {
    "duration": 28,
    "start_time": "2024-12-10T16:29:40.252Z"
   },
   {
    "duration": 29,
    "start_time": "2024-12-10T16:29:40.282Z"
   },
   {
    "duration": 68,
    "start_time": "2024-12-10T16:29:43.734Z"
   },
   {
    "duration": 120,
    "start_time": "2024-12-10T16:30:34.644Z"
   },
   {
    "duration": 77,
    "start_time": "2024-12-10T16:31:12.868Z"
   },
   {
    "duration": 66,
    "start_time": "2024-12-10T16:31:39.800Z"
   },
   {
    "duration": 66,
    "start_time": "2024-12-10T16:31:52.280Z"
   },
   {
    "duration": 67,
    "start_time": "2024-12-10T16:32:00.471Z"
   },
   {
    "duration": 67,
    "start_time": "2024-12-10T16:32:22.744Z"
   },
   {
    "duration": 40,
    "start_time": "2024-12-10T16:33:41.238Z"
   },
   {
    "duration": 39,
    "start_time": "2024-12-10T16:33:50.669Z"
   },
   {
    "duration": 39,
    "start_time": "2024-12-10T16:34:56.747Z"
   },
   {
    "duration": 38,
    "start_time": "2024-12-10T16:35:12.047Z"
   },
   {
    "duration": 38,
    "start_time": "2024-12-10T16:35:17.384Z"
   },
   {
    "duration": 66,
    "start_time": "2024-12-10T16:35:39.743Z"
   },
   {
    "duration": 51,
    "start_time": "2024-12-10T16:38:34.669Z"
   },
   {
    "duration": 75,
    "start_time": "2024-12-10T16:40:35.430Z"
   },
   {
    "duration": 65,
    "start_time": "2024-12-10T16:40:52.295Z"
   },
   {
    "duration": 51,
    "start_time": "2024-12-10T16:41:17.629Z"
   },
   {
    "duration": 60,
    "start_time": "2024-12-10T16:41:32.983Z"
   },
   {
    "duration": 76,
    "start_time": "2024-12-10T16:41:38.722Z"
   },
   {
    "duration": 51,
    "start_time": "2024-12-10T16:42:51.942Z"
   },
   {
    "duration": 47,
    "start_time": "2024-12-10T16:42:57.665Z"
   },
   {
    "duration": 65,
    "start_time": "2024-12-10T16:43:10.339Z"
   },
   {
    "duration": 74,
    "start_time": "2024-12-10T16:44:13.734Z"
   },
   {
    "duration": 43,
    "start_time": "2024-12-10T16:44:38.564Z"
   },
   {
    "duration": 70,
    "start_time": "2024-12-10T16:45:51.928Z"
   },
   {
    "duration": 72,
    "start_time": "2024-12-10T16:46:46.444Z"
   },
   {
    "duration": 71,
    "start_time": "2024-12-10T16:46:58.852Z"
   },
   {
    "duration": 48,
    "start_time": "2024-12-10T16:52:16.662Z"
   },
   {
    "duration": 51,
    "start_time": "2024-12-10T16:52:34.871Z"
   },
   {
    "duration": 59,
    "start_time": "2024-12-10T16:52:45.524Z"
   },
   {
    "duration": 71,
    "start_time": "2024-12-10T16:52:54.357Z"
   },
   {
    "duration": 77,
    "start_time": "2024-12-10T16:53:06.398Z"
   },
   {
    "duration": 72,
    "start_time": "2024-12-10T16:53:11.258Z"
   },
   {
    "duration": 74,
    "start_time": "2024-12-10T16:53:15.800Z"
   },
   {
    "duration": 12806,
    "start_time": "2024-12-10T17:01:05.317Z"
   },
   {
    "duration": 3,
    "start_time": "2024-12-10T17:01:18.125Z"
   },
   {
    "duration": 50,
    "start_time": "2024-12-10T17:01:18.129Z"
   },
   {
    "duration": 30,
    "start_time": "2024-12-10T17:01:18.181Z"
   },
   {
    "duration": 27,
    "start_time": "2024-12-10T17:01:18.213Z"
   },
   {
    "duration": 29,
    "start_time": "2024-12-10T17:01:18.242Z"
   },
   {
    "duration": 28,
    "start_time": "2024-12-10T17:01:18.273Z"
   },
   {
    "duration": 29,
    "start_time": "2024-12-10T17:01:18.302Z"
   },
   {
    "duration": 30,
    "start_time": "2024-12-10T17:01:18.332Z"
   },
   {
    "duration": 29,
    "start_time": "2024-12-10T17:01:18.364Z"
   },
   {
    "duration": 27,
    "start_time": "2024-12-10T17:01:18.394Z"
   },
   {
    "duration": 28,
    "start_time": "2024-12-10T17:01:18.423Z"
   },
   {
    "duration": 27,
    "start_time": "2024-12-10T17:01:18.453Z"
   },
   {
    "duration": 71,
    "start_time": "2024-12-10T17:01:18.481Z"
   },
   {
    "duration": 33,
    "start_time": "2024-12-10T17:01:18.553Z"
   },
   {
    "duration": 34,
    "start_time": "2024-12-10T17:01:18.587Z"
   },
   {
    "duration": 30,
    "start_time": "2024-12-10T17:01:18.623Z"
   }
  ],
  "kernelspec": {
   "display_name": "Python 3 (ipykernel)",
   "language": "python",
   "name": "python3"
  },
  "language_info": {
   "codemirror_mode": {
    "name": "ipython",
    "version": 3
   },
   "file_extension": ".py",
   "mimetype": "text/x-python",
   "name": "python",
   "nbconvert_exporter": "python",
   "pygments_lexer": "ipython3",
   "version": "3.9.5"
  },
  "toc": {
   "base_numbering": 1,
   "nav_menu": {},
   "number_sections": true,
   "sideBar": true,
   "skip_h1_title": true,
   "title_cell": "Table of Contents",
   "title_sidebar": "Contents",
   "toc_cell": false,
   "toc_position": {},
   "toc_section_display": true,
   "toc_window_display": true
  }
 },
 "nbformat": 4,
 "nbformat_minor": 2
}
