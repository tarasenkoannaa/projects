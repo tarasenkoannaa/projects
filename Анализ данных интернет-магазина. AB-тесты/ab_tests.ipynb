{
 "cells": [
  {
   "cell_type": "markdown",
   "metadata": {},
   "source": [
    "# Анализ данных интернет-магазина. A/B-тесты"
   ]
  },
  {
   "cell_type": "markdown",
   "metadata": {},
   "source": [
    "План работы:\n",
    "1. Изучить [общую информацию о датафреймах в части 1](#a) и [части 2](#b): пропуски, типы данных, некорректные названия столбцов.\n",
    "2. Найти и обработать пропуски в данных, если необходимо.\n",
    "3. Поменять типы данных, где необходимо.\n",
    "4. Проверить наличие явных и неявных дубликатов, обработать значения.\n",
    "\n",
    "5. Приоритизировать гипотезы из датафрейма, применив фреймворки [ICE](#c) и [RICE](#d).\n",
    "6. Выявить [изменения и причины изменений](#e) в оценке приоритетности гипотез двумя разными фреймворками.\n",
    "\n",
    "7. С помощью графиков, данных о кумулятивных [выручке](#f), [среднем чеке](#g), [среднем количестве заказов](#h), оценить стабильность метрик.\n",
    "8. Выявить аномальные значения [количества](#i) и [стоимости заказов](#j).\n",
    "9. Определить границу значений [количества](#i) и [стоимости заказов](#j) для аномальных пользователей.\n",
    "\n",
    "10. На основе \"сырых\" данных рассчитать статистическую значимость различий между группами [по среднему количеству заказов на посетителя](#k), [среднему чеку заказа](#l).\n",
    "11. Очистить данные от аномальных значений для дальнейшего сравнения.\n",
    "12. На основе \"очищенных\" данных заново рассчитать значимость различий [по среднему количеству заказов на посетителя](#m), [среднему чеку заказа](#n).\n",
    "13. Сравнить значения статистической значимости \"сырых\" и \"очищенных\" данных.\n",
    "\n",
    "14. Перепроверить работспособность кода и сформулировать [общий вывод о дальнейшем ходе a/b-теста](#o).   "
   ]
  },
  {
   "cell_type": "markdown",
   "metadata": {},
   "source": [
    "### Подготовка данных\n",
    "\n",
    "<a id='first'></a>"
   ]
  },
  {
   "cell_type": "code",
   "execution_count": 1,
   "metadata": {},
   "outputs": [],
   "source": [
    "#импорт библиотек \n",
    "\n",
    "import pandas as pd\n",
    "import numpy as np\n",
    "from datetime import datetime, timedelta\n",
    "from matplotlib import pyplot as plt\n",
    "import seaborn as sns\n",
    "import scipy.stats as stats"
   ]
  },
  {
   "cell_type": "code",
   "execution_count": 2,
   "metadata": {},
   "outputs": [],
   "source": [
    "hypothesis, orders, visitors = (pd.read_csv('/datasets/hypothesis.csv'),\n",
    "              pd.read_csv('/datasets/orders.csv'),\n",
    "              pd.read_csv('/datasets/visitors.csv'))"
   ]
  },
  {
   "cell_type": "code",
   "execution_count": 3,
   "metadata": {},
   "outputs": [],
   "source": [
    "#функция для предобработки данных\n",
    "\n",
    "def first_processing(df):\n",
    "    info = df.info(),\n",
    "    head = df.head(),\n",
    "    duplicates=df.duplicated().sum(),\n",
    "    df.columns = [x.lower() for x in df.columns]\n",
    "    return info, print('Дубликатов -',duplicates), head"
   ]
  },
  {
   "cell_type": "markdown",
   "metadata": {},
   "source": [
    "## Часть 1. Приоритизация гипотез"
   ]
  },
  {
   "cell_type": "code",
   "execution_count": 4,
   "metadata": {},
   "outputs": [],
   "source": [
    "pd.options.display.max_colwidth = 400\n",
    "\n",
    "#для отображения текста гипотез полностью"
   ]
  },
  {
   "cell_type": "markdown",
   "metadata": {},
   "source": [
    "#### Предобработка hypothesis\n",
    "\n",
    "<a id='a'></a>"
   ]
  },
  {
   "cell_type": "code",
   "execution_count": 5,
   "metadata": {},
   "outputs": [
    {
     "name": "stdout",
     "output_type": "stream",
     "text": [
      "<class 'pandas.core.frame.DataFrame'>\n",
      "RangeIndex: 9 entries, 0 to 8\n",
      "Data columns (total 5 columns):\n",
      " #   Column      Non-Null Count  Dtype \n",
      "---  ------      --------------  ----- \n",
      " 0   Hypothesis  9 non-null      object\n",
      " 1   Reach       9 non-null      int64 \n",
      " 2   Impact      9 non-null      int64 \n",
      " 3   Confidence  9 non-null      int64 \n",
      " 4   Efforts     9 non-null      int64 \n",
      "dtypes: int64(4), object(1)\n",
      "memory usage: 488.0+ bytes\n",
      "Дубликатов - (0,)\n"
     ]
    },
    {
     "data": {
      "text/plain": [
       "((None,),\n",
       " None,\n",
       " (                                                                                                     Hypothesis  \\\n",
       "  0            Добавить два новых канала привлечения трафика, что позволит привлекать на 30% больше пользователей   \n",
       "  1                                     Запустить собственную службу доставки, что сократит срок доставки заказов   \n",
       "  2  Добавить блоки рекомендаций товаров на сайт интернет магазина, чтобы повысить конверсию и средний чек заказа   \n",
       "  3           Изменить структура категорий, что увеличит конверсию, т.к. пользователи быстрее найдут нужный товар   \n",
       "  4                              Изменить цвет фона главной страницы, чтобы увеличить вовлеченность пользователей   \n",
       "  \n",
       "     Reach  Impact  Confidence  Efforts  \n",
       "  0      3      10           8        6  \n",
       "  1      2       5           4       10  \n",
       "  2      8       3           7        3  \n",
       "  3      8       3           3        8  \n",
       "  4      3       1           1        1  ,))"
      ]
     },
     "execution_count": 5,
     "metadata": {},
     "output_type": "execute_result"
    }
   ],
   "source": [
    "first_processing(hypothesis)"
   ]
  },
  {
   "cell_type": "code",
   "execution_count": 6,
   "metadata": {},
   "outputs": [
    {
     "name": "stdout",
     "output_type": "stream",
     "text": [
      "<class 'pandas.core.frame.DataFrame'>\n",
      "RangeIndex: 9 entries, 0 to 8\n",
      "Data columns (total 5 columns):\n",
      " #   Column      Non-Null Count  Dtype \n",
      "---  ------      --------------  ----- \n",
      " 0   hypothesis  9 non-null      object\n",
      " 1   reach       9 non-null      int64 \n",
      " 2   impact      9 non-null      int64 \n",
      " 3   confidence  9 non-null      int64 \n",
      " 4   efforts     9 non-null      int64 \n",
      "dtypes: int64(4), object(1)\n",
      "memory usage: 488.0+ bytes\n"
     ]
    }
   ],
   "source": [
    "hypothesis.info()"
   ]
  },
  {
   "cell_type": "code",
   "execution_count": 7,
   "metadata": {},
   "outputs": [
    {
     "data": {
      "text/html": [
       "<div>\n",
       "<style scoped>\n",
       "    .dataframe tbody tr th:only-of-type {\n",
       "        vertical-align: middle;\n",
       "    }\n",
       "\n",
       "    .dataframe tbody tr th {\n",
       "        vertical-align: top;\n",
       "    }\n",
       "\n",
       "    .dataframe thead th {\n",
       "        text-align: right;\n",
       "    }\n",
       "</style>\n",
       "<table border=\"1\" class=\"dataframe\">\n",
       "  <thead>\n",
       "    <tr style=\"text-align: right;\">\n",
       "      <th></th>\n",
       "      <th>hypothesis</th>\n",
       "      <th>reach</th>\n",
       "      <th>impact</th>\n",
       "      <th>confidence</th>\n",
       "      <th>efforts</th>\n",
       "    </tr>\n",
       "  </thead>\n",
       "  <tbody>\n",
       "    <tr>\n",
       "      <th>0</th>\n",
       "      <td>Добавить два новых канала привлечения трафика, что позволит привлекать на 30% больше пользователей</td>\n",
       "      <td>3</td>\n",
       "      <td>10</td>\n",
       "      <td>8</td>\n",
       "      <td>6</td>\n",
       "    </tr>\n",
       "    <tr>\n",
       "      <th>1</th>\n",
       "      <td>Запустить собственную службу доставки, что сократит срок доставки заказов</td>\n",
       "      <td>2</td>\n",
       "      <td>5</td>\n",
       "      <td>4</td>\n",
       "      <td>10</td>\n",
       "    </tr>\n",
       "    <tr>\n",
       "      <th>2</th>\n",
       "      <td>Добавить блоки рекомендаций товаров на сайт интернет магазина, чтобы повысить конверсию и средний чек заказа</td>\n",
       "      <td>8</td>\n",
       "      <td>3</td>\n",
       "      <td>7</td>\n",
       "      <td>3</td>\n",
       "    </tr>\n",
       "    <tr>\n",
       "      <th>3</th>\n",
       "      <td>Изменить структура категорий, что увеличит конверсию, т.к. пользователи быстрее найдут нужный товар</td>\n",
       "      <td>8</td>\n",
       "      <td>3</td>\n",
       "      <td>3</td>\n",
       "      <td>8</td>\n",
       "    </tr>\n",
       "    <tr>\n",
       "      <th>4</th>\n",
       "      <td>Изменить цвет фона главной страницы, чтобы увеличить вовлеченность пользователей</td>\n",
       "      <td>3</td>\n",
       "      <td>1</td>\n",
       "      <td>1</td>\n",
       "      <td>1</td>\n",
       "    </tr>\n",
       "    <tr>\n",
       "      <th>5</th>\n",
       "      <td>Добавить страницу отзывов клиентов о магазине, что позволит увеличить количество заказов</td>\n",
       "      <td>3</td>\n",
       "      <td>2</td>\n",
       "      <td>2</td>\n",
       "      <td>3</td>\n",
       "    </tr>\n",
       "    <tr>\n",
       "      <th>6</th>\n",
       "      <td>Показать на главной странице баннеры с актуальными акциями и распродажами, чтобы увеличить конверсию</td>\n",
       "      <td>5</td>\n",
       "      <td>3</td>\n",
       "      <td>8</td>\n",
       "      <td>3</td>\n",
       "    </tr>\n",
       "    <tr>\n",
       "      <th>7</th>\n",
       "      <td>Добавить форму подписки на все основные страницы, чтобы собрать базу клиентов для email-рассылок</td>\n",
       "      <td>10</td>\n",
       "      <td>7</td>\n",
       "      <td>8</td>\n",
       "      <td>5</td>\n",
       "    </tr>\n",
       "    <tr>\n",
       "      <th>8</th>\n",
       "      <td>Запустить акцию, дающую скидку на товар в день рождения</td>\n",
       "      <td>1</td>\n",
       "      <td>9</td>\n",
       "      <td>9</td>\n",
       "      <td>5</td>\n",
       "    </tr>\n",
       "  </tbody>\n",
       "</table>\n",
       "</div>"
      ],
      "text/plain": [
       "                                                                                                     hypothesis  \\\n",
       "0            Добавить два новых канала привлечения трафика, что позволит привлекать на 30% больше пользователей   \n",
       "1                                     Запустить собственную службу доставки, что сократит срок доставки заказов   \n",
       "2  Добавить блоки рекомендаций товаров на сайт интернет магазина, чтобы повысить конверсию и средний чек заказа   \n",
       "3           Изменить структура категорий, что увеличит конверсию, т.к. пользователи быстрее найдут нужный товар   \n",
       "4                              Изменить цвет фона главной страницы, чтобы увеличить вовлеченность пользователей   \n",
       "5                      Добавить страницу отзывов клиентов о магазине, что позволит увеличить количество заказов   \n",
       "6          Показать на главной странице баннеры с актуальными акциями и распродажами, чтобы увеличить конверсию   \n",
       "7              Добавить форму подписки на все основные страницы, чтобы собрать базу клиентов для email-рассылок   \n",
       "8                                                       Запустить акцию, дающую скидку на товар в день рождения   \n",
       "\n",
       "   reach  impact  confidence  efforts  \n",
       "0      3      10           8        6  \n",
       "1      2       5           4       10  \n",
       "2      8       3           7        3  \n",
       "3      8       3           3        8  \n",
       "4      3       1           1        1  \n",
       "5      3       2           2        3  \n",
       "6      5       3           8        3  \n",
       "7     10       7           8        5  \n",
       "8      1       9           9        5  "
      ]
     },
     "execution_count": 7,
     "metadata": {},
     "output_type": "execute_result"
    }
   ],
   "source": [
    "hypothesis"
   ]
  },
  {
   "cell_type": "markdown",
   "metadata": {},
   "source": [
    "**Выводы по hypothesis:**\\\n",
    "Всего в датафрейме 9 записей по количеству гипотез.\\\n",
    "Пропуски отсутствуют.\\\n",
    "Типы данных в столбцах корректны.\\\n",
    "Дубликаты и аномальные значения отсутствуют."
   ]
  },
  {
   "cell_type": "markdown",
   "metadata": {},
   "source": [
    "#### Приоритизация гипотез ICE\n",
    "\n",
    "<a id='c'></a>"
   ]
  },
  {
   "cell_type": "code",
   "execution_count": 8,
   "metadata": {},
   "outputs": [],
   "source": [
    "hypothesis['ice']=(hypothesis['impact']*hypothesis['confidence'])/hypothesis['efforts']"
   ]
  },
  {
   "cell_type": "code",
   "execution_count": 9,
   "metadata": {},
   "outputs": [
    {
     "data": {
      "text/html": [
       "<div>\n",
       "<style scoped>\n",
       "    .dataframe tbody tr th:only-of-type {\n",
       "        vertical-align: middle;\n",
       "    }\n",
       "\n",
       "    .dataframe tbody tr th {\n",
       "        vertical-align: top;\n",
       "    }\n",
       "\n",
       "    .dataframe thead th {\n",
       "        text-align: right;\n",
       "    }\n",
       "</style>\n",
       "<table border=\"1\" class=\"dataframe\">\n",
       "  <thead>\n",
       "    <tr style=\"text-align: right;\">\n",
       "      <th></th>\n",
       "      <th>hypothesis</th>\n",
       "      <th>ice</th>\n",
       "    </tr>\n",
       "  </thead>\n",
       "  <tbody>\n",
       "    <tr>\n",
       "      <th>8</th>\n",
       "      <td>Запустить акцию, дающую скидку на товар в день рождения</td>\n",
       "      <td>16.200000</td>\n",
       "    </tr>\n",
       "    <tr>\n",
       "      <th>0</th>\n",
       "      <td>Добавить два новых канала привлечения трафика, что позволит привлекать на 30% больше пользователей</td>\n",
       "      <td>13.333333</td>\n",
       "    </tr>\n",
       "    <tr>\n",
       "      <th>7</th>\n",
       "      <td>Добавить форму подписки на все основные страницы, чтобы собрать базу клиентов для email-рассылок</td>\n",
       "      <td>11.200000</td>\n",
       "    </tr>\n",
       "    <tr>\n",
       "      <th>6</th>\n",
       "      <td>Показать на главной странице баннеры с актуальными акциями и распродажами, чтобы увеличить конверсию</td>\n",
       "      <td>8.000000</td>\n",
       "    </tr>\n",
       "    <tr>\n",
       "      <th>2</th>\n",
       "      <td>Добавить блоки рекомендаций товаров на сайт интернет магазина, чтобы повысить конверсию и средний чек заказа</td>\n",
       "      <td>7.000000</td>\n",
       "    </tr>\n",
       "    <tr>\n",
       "      <th>1</th>\n",
       "      <td>Запустить собственную службу доставки, что сократит срок доставки заказов</td>\n",
       "      <td>2.000000</td>\n",
       "    </tr>\n",
       "    <tr>\n",
       "      <th>5</th>\n",
       "      <td>Добавить страницу отзывов клиентов о магазине, что позволит увеличить количество заказов</td>\n",
       "      <td>1.333333</td>\n",
       "    </tr>\n",
       "    <tr>\n",
       "      <th>3</th>\n",
       "      <td>Изменить структура категорий, что увеличит конверсию, т.к. пользователи быстрее найдут нужный товар</td>\n",
       "      <td>1.125000</td>\n",
       "    </tr>\n",
       "    <tr>\n",
       "      <th>4</th>\n",
       "      <td>Изменить цвет фона главной страницы, чтобы увеличить вовлеченность пользователей</td>\n",
       "      <td>1.000000</td>\n",
       "    </tr>\n",
       "  </tbody>\n",
       "</table>\n",
       "</div>"
      ],
      "text/plain": [
       "                                                                                                     hypothesis  \\\n",
       "8                                                       Запустить акцию, дающую скидку на товар в день рождения   \n",
       "0            Добавить два новых канала привлечения трафика, что позволит привлекать на 30% больше пользователей   \n",
       "7              Добавить форму подписки на все основные страницы, чтобы собрать базу клиентов для email-рассылок   \n",
       "6          Показать на главной странице баннеры с актуальными акциями и распродажами, чтобы увеличить конверсию   \n",
       "2  Добавить блоки рекомендаций товаров на сайт интернет магазина, чтобы повысить конверсию и средний чек заказа   \n",
       "1                                     Запустить собственную службу доставки, что сократит срок доставки заказов   \n",
       "5                      Добавить страницу отзывов клиентов о магазине, что позволит увеличить количество заказов   \n",
       "3           Изменить структура категорий, что увеличит конверсию, т.к. пользователи быстрее найдут нужный товар   \n",
       "4                              Изменить цвет фона главной страницы, чтобы увеличить вовлеченность пользователей   \n",
       "\n",
       "         ice  \n",
       "8  16.200000  \n",
       "0  13.333333  \n",
       "7  11.200000  \n",
       "6   8.000000  \n",
       "2   7.000000  \n",
       "1   2.000000  \n",
       "5   1.333333  \n",
       "3   1.125000  \n",
       "4   1.000000  "
      ]
     },
     "execution_count": 9,
     "metadata": {},
     "output_type": "execute_result"
    }
   ],
   "source": [
    "a=hypothesis[['hypothesis','ice']].sort_values(by='ice', ascending=False)\n",
    "a"
   ]
  },
  {
   "cell_type": "code",
   "execution_count": 10,
   "metadata": {},
   "outputs": [
    {
     "data": {
      "text/plain": [
       "<BarContainer object of 9 artists>"
      ]
     },
     "execution_count": 10,
     "metadata": {},
     "output_type": "execute_result"
    },
    {
     "data": {
      "image/png": "[encoded data removed]",
      "text/plain": [
       "<Figure size 432x288 with 1 Axes>"
      ]
     },
     "metadata": {
      "needs_background": "light"
     },
     "output_type": "display_data"
    }
   ],
   "source": [
    "plt.barh(a['hypothesis'],a['ice'])"
   ]
  },
  {
   "cell_type": "markdown",
   "metadata": {},
   "source": [
    "**Выводы по приоритизации методом ICE:**\\\n",
    "Согласно результатам оценки параметров ICE, наиболее перспективные гипотезы 9, 1 и 8.\\\n",
    "Наименее перспективные - 6, 4 и 5."
   ]
  },
  {
   "cell_type": "markdown",
   "metadata": {},
   "source": [
    "#### Приоритизация гипотез RICE\n",
    "\n",
    "<a id='d'></a>"
   ]
  },
  {
   "cell_type": "code",
   "execution_count": 11,
   "metadata": {},
   "outputs": [],
   "source": [
    "hypothesis['rice']=(hypothesis['reach']*hypothesis['impact']*hypothesis['confidence'])/hypothesis['efforts']"
   ]
  },
  {
   "cell_type": "code",
   "execution_count": 12,
   "metadata": {},
   "outputs": [
    {
     "data": {
      "text/html": [
       "<div>\n",
       "<style scoped>\n",
       "    .dataframe tbody tr th:only-of-type {\n",
       "        vertical-align: middle;\n",
       "    }\n",
       "\n",
       "    .dataframe tbody tr th {\n",
       "        vertical-align: top;\n",
       "    }\n",
       "\n",
       "    .dataframe thead th {\n",
       "        text-align: right;\n",
       "    }\n",
       "</style>\n",
       "<table border=\"1\" class=\"dataframe\">\n",
       "  <thead>\n",
       "    <tr style=\"text-align: right;\">\n",
       "      <th></th>\n",
       "      <th>hypothesis</th>\n",
       "      <th>rice</th>\n",
       "    </tr>\n",
       "  </thead>\n",
       "  <tbody>\n",
       "    <tr>\n",
       "      <th>7</th>\n",
       "      <td>Добавить форму подписки на все основные страницы, чтобы собрать базу клиентов для email-рассылок</td>\n",
       "      <td>112.0</td>\n",
       "    </tr>\n",
       "    <tr>\n",
       "      <th>2</th>\n",
       "      <td>Добавить блоки рекомендаций товаров на сайт интернет магазина, чтобы повысить конверсию и средний чек заказа</td>\n",
       "      <td>56.0</td>\n",
       "    </tr>\n",
       "    <tr>\n",
       "      <th>0</th>\n",
       "      <td>Добавить два новых канала привлечения трафика, что позволит привлекать на 30% больше пользователей</td>\n",
       "      <td>40.0</td>\n",
       "    </tr>\n",
       "    <tr>\n",
       "      <th>6</th>\n",
       "      <td>Показать на главной странице баннеры с актуальными акциями и распродажами, чтобы увеличить конверсию</td>\n",
       "      <td>40.0</td>\n",
       "    </tr>\n",
       "    <tr>\n",
       "      <th>8</th>\n",
       "      <td>Запустить акцию, дающую скидку на товар в день рождения</td>\n",
       "      <td>16.2</td>\n",
       "    </tr>\n",
       "    <tr>\n",
       "      <th>3</th>\n",
       "      <td>Изменить структура категорий, что увеличит конверсию, т.к. пользователи быстрее найдут нужный товар</td>\n",
       "      <td>9.0</td>\n",
       "    </tr>\n",
       "    <tr>\n",
       "      <th>1</th>\n",
       "      <td>Запустить собственную службу доставки, что сократит срок доставки заказов</td>\n",
       "      <td>4.0</td>\n",
       "    </tr>\n",
       "    <tr>\n",
       "      <th>5</th>\n",
       "      <td>Добавить страницу отзывов клиентов о магазине, что позволит увеличить количество заказов</td>\n",
       "      <td>4.0</td>\n",
       "    </tr>\n",
       "    <tr>\n",
       "      <th>4</th>\n",
       "      <td>Изменить цвет фона главной страницы, чтобы увеличить вовлеченность пользователей</td>\n",
       "      <td>3.0</td>\n",
       "    </tr>\n",
       "  </tbody>\n",
       "</table>\n",
       "</div>"
      ],
      "text/plain": [
       "                                                                                                     hypothesis  \\\n",
       "7              Добавить форму подписки на все основные страницы, чтобы собрать базу клиентов для email-рассылок   \n",
       "2  Добавить блоки рекомендаций товаров на сайт интернет магазина, чтобы повысить конверсию и средний чек заказа   \n",
       "0            Добавить два новых канала привлечения трафика, что позволит привлекать на 30% больше пользователей   \n",
       "6          Показать на главной странице баннеры с актуальными акциями и распродажами, чтобы увеличить конверсию   \n",
       "8                                                       Запустить акцию, дающую скидку на товар в день рождения   \n",
       "3           Изменить структура категорий, что увеличит конверсию, т.к. пользователи быстрее найдут нужный товар   \n",
       "1                                     Запустить собственную службу доставки, что сократит срок доставки заказов   \n",
       "5                      Добавить страницу отзывов клиентов о магазине, что позволит увеличить количество заказов   \n",
       "4                              Изменить цвет фона главной страницы, чтобы увеличить вовлеченность пользователей   \n",
       "\n",
       "    rice  \n",
       "7  112.0  \n",
       "2   56.0  \n",
       "0   40.0  \n",
       "6   40.0  \n",
       "8   16.2  \n",
       "3    9.0  \n",
       "1    4.0  \n",
       "5    4.0  \n",
       "4    3.0  "
      ]
     },
     "execution_count": 12,
     "metadata": {},
     "output_type": "execute_result"
    }
   ],
   "source": [
    "b=hypothesis[['hypothesis','rice']].sort_values(by='rice', ascending=False)\n",
    "b"
   ]
  },
  {
   "cell_type": "code",
   "execution_count": 13,
   "metadata": {},
   "outputs": [
    {
     "data": {
      "text/plain": [
       "<BarContainer object of 9 artists>"
      ]
     },
     "execution_count": 13,
     "metadata": {},
     "output_type": "execute_result"
    },
    {
     "data": {
      "image/png": "[encoded data removed]",
      "text/plain": [
       "<Figure size 432x288 with 1 Axes>"
      ]
     },
     "metadata": {
      "needs_background": "light"
     },
     "output_type": "display_data"
    }
   ],
   "source": [
    "plt.barh(b['hypothesis'],b['rice'])"
   ]
  },
  {
   "cell_type": "markdown",
   "metadata": {},
   "source": [
    "**Выводы по приоритизации методом RICE:**\\\n",
    "Согласно результатам оценки параметров RICE, наиболее перспективные гипотезы 8, 3, 1 и 7.\\\n",
    "Наименее перспективные - 2, 6 и 5."
   ]
  },
  {
   "cell_type": "markdown",
   "metadata": {},
   "source": [
    "### Общий вывод по гипотезам\n",
    "\n",
    "<a id='e'></a>"
   ]
  },
  {
   "cell_type": "markdown",
   "metadata": {},
   "source": [
    "По оценкам фреймворка приоритизации *ICE* наиболее важные для проверки гипотезы *9, 1 и 8* (с небольшим отрывом в оценках друг от друга), однако, если принимать во внимание охват нового функционала и оценивать важность гипотез фреймворком *RICE*, то наиболее перспективными становятся *8, 3, 1 и 7*(оценка гипотезы 8 сильно выше остальных).\\\n",
    "И в ICE, и в RICE особенно выделяется гипотеза 8 - 'Добавить форму подписки на все основные страницы, чтобы собрать базу клиентов для email-рассылок' также стоит обратить внимание на гипотезу 1 - 'Добавить два новых канала привлечения трафика, что позволит привлекать на 30% больше пользователей'.\\\n",
    "\\\n",
    "Судя по оценкам в обеих фреймфорках, наименее перспективными (с небольшим отличием в оценках) можно считать гипотезы 6 и 5.\\\n",
    "Гипотеза 4 не слишком перспективна с точки зрения ICE, но за счет популярности такого функционала у пользователей заслуживает возможного проведения тестов. А гипотеза 2, хотя не обладает большим охватом, но выигрывает по другим параметрам."
   ]
  },
  {
   "cell_type": "markdown",
   "metadata": {},
   "source": [
    "## Часть 2. Анализ A/B-теста"
   ]
  },
  {
   "cell_type": "markdown",
   "metadata": {},
   "source": [
    "### Предобработка результатов a/b-теста\n",
    "\n",
    "<a id='b'></a>"
   ]
  },
  {
   "cell_type": "markdown",
   "metadata": {},
   "source": [
    "#### Предобработка orders"
   ]
  },
  {
   "cell_type": "code",
   "execution_count": 14,
   "metadata": {},
   "outputs": [
    {
     "name": "stdout",
     "output_type": "stream",
     "text": [
      "<class 'pandas.core.frame.DataFrame'>\n",
      "RangeIndex: 1197 entries, 0 to 1196\n",
      "Data columns (total 5 columns):\n",
      " #   Column         Non-Null Count  Dtype \n",
      "---  ------         --------------  ----- \n",
      " 0   transactionId  1197 non-null   int64 \n",
      " 1   visitorId      1197 non-null   int64 \n",
      " 2   date           1197 non-null   object\n",
      " 3   revenue        1197 non-null   int64 \n",
      " 4   group          1197 non-null   object\n",
      "dtypes: int64(3), object(2)\n",
      "memory usage: 46.9+ KB\n",
      "Дубликатов - (0,)\n"
     ]
    },
    {
     "data": {
      "text/plain": [
       "((None,),\n",
       " None,\n",
       " (   transactionId   visitorId        date  revenue group\n",
       "  0     3667963787  3312258926  2019-08-15     1650     B\n",
       "  1     2804400009  3642806036  2019-08-15      730     B\n",
       "  2     2961555356  4069496402  2019-08-15      400     A\n",
       "  3     3797467345  1196621759  2019-08-15     9759     B\n",
       "  4     2282983706  2322279887  2019-08-15     2308     B,))"
      ]
     },
     "execution_count": 14,
     "metadata": {},
     "output_type": "execute_result"
    }
   ],
   "source": [
    "first_processing(orders)"
   ]
  },
  {
   "cell_type": "code",
   "execution_count": 15,
   "metadata": {},
   "outputs": [
    {
     "name": "stdout",
     "output_type": "stream",
     "text": [
      "<class 'pandas.core.frame.DataFrame'>\n",
      "RangeIndex: 1197 entries, 0 to 1196\n",
      "Data columns (total 5 columns):\n",
      " #   Column         Non-Null Count  Dtype         \n",
      "---  ------         --------------  -----         \n",
      " 0   transactionid  1197 non-null   int64         \n",
      " 1   visitorid      1197 non-null   int64         \n",
      " 2   date           1197 non-null   datetime64[ns]\n",
      " 3   revenue        1197 non-null   int64         \n",
      " 4   group          1197 non-null   object        \n",
      "dtypes: datetime64[ns](1), int64(3), object(1)\n",
      "memory usage: 46.9+ KB\n"
     ]
    }
   ],
   "source": [
    "orders['date'] = orders['date'].map(lambda x: datetime.strptime(x, '%Y-%m-%d'))\n",
    "\n",
    "orders.info()"
   ]
  },
  {
   "cell_type": "code",
   "execution_count": 16,
   "metadata": {},
   "outputs": [
    {
     "data": {
      "text/plain": [
       "B    640\n",
       "A    557\n",
       "Name: group, dtype: int64"
      ]
     },
     "execution_count": 16,
     "metadata": {},
     "output_type": "execute_result"
    }
   ],
   "source": [
    "orders['group'].value_counts()"
   ]
  },
  {
   "cell_type": "code",
   "execution_count": 17,
   "metadata": {},
   "outputs": [
    {
     "name": "stdout",
     "output_type": "stream",
     "text": [
      "1294500\n"
     ]
    },
    {
     "data": {
      "text/plain": [
       "50"
      ]
     },
     "execution_count": 17,
     "metadata": {},
     "output_type": "execute_result"
    }
   ],
   "source": [
    "print(orders['revenue'].max())\n",
    "orders['revenue'].min()"
   ]
  },
  {
   "cell_type": "code",
   "execution_count": 18,
   "metadata": {},
   "outputs": [
    {
     "name": "stdout",
     "output_type": "stream",
     "text": [
      "2019-08-31 00:00:00\n"
     ]
    },
    {
     "data": {
      "text/plain": [
       "Timestamp('2019-08-01 00:00:00')"
      ]
     },
     "execution_count": 18,
     "metadata": {},
     "output_type": "execute_result"
    }
   ],
   "source": [
    "print(orders['date'].max())\n",
    "orders['date'].min()"
   ]
  },
  {
   "cell_type": "code",
   "execution_count": 19,
   "metadata": {},
   "outputs": [],
   "source": [
    "groupA = orders[orders['group']=='A']['visitorid'].unique()\n",
    "groupB = orders[orders['group']=='B']['visitorid'].unique()"
   ]
  },
  {
   "cell_type": "code",
   "execution_count": 20,
   "metadata": {},
   "outputs": [],
   "source": [
    "def returnMatches(a, b):\n",
    "    matches = []\n",
    "    for i in a:\n",
    "        if i in b:\n",
    "            matches.append(i)\n",
    "    return matches\n",
    "\n",
    "#функция для поиска пользователей попавших в обе группы"
   ]
  },
  {
   "cell_type": "code",
   "execution_count": 21,
   "metadata": {},
   "outputs": [
    {
     "data": {
      "text/plain": [
       "58"
      ]
     },
     "execution_count": 21,
     "metadata": {},
     "output_type": "execute_result"
    }
   ],
   "source": [
    "matches = returnMatches(groupA, groupB)\n",
    "len(matches)"
   ]
  },
  {
   "cell_type": "code",
   "execution_count": 22,
   "metadata": {},
   "outputs": [
    {
     "name": "stdout",
     "output_type": "stream",
     "text": [
      "<class 'pandas.core.frame.DataFrame'>\n",
      "Int64Index: 1016 entries, 0 to 1196\n",
      "Data columns (total 5 columns):\n",
      " #   Column         Non-Null Count  Dtype         \n",
      "---  ------         --------------  -----         \n",
      " 0   transactionid  1016 non-null   int64         \n",
      " 1   visitorid      1016 non-null   int64         \n",
      " 2   date           1016 non-null   datetime64[ns]\n",
      " 3   revenue        1016 non-null   int64         \n",
      " 4   group          1016 non-null   object        \n",
      "dtypes: datetime64[ns](1), int64(3), object(1)\n",
      "memory usage: 47.6+ KB\n"
     ]
    }
   ],
   "source": [
    "orders = orders[ ~ orders['visitorid']. isin (matches)]\n",
    "orders.info()"
   ]
  },
  {
   "cell_type": "markdown",
   "metadata": {},
   "source": [
    "**Выводы по orders:**\\\n",
    "Всего в датафрейме 1197 записей по количеству заказов с 1 по 31 августа 2019 года.\\\n",
    "Содержит уникальный номер заказа, номер пользователя, дату оформления заказа, выручка и группа a/b теста.\\\n",
    "Пропуски отсутствуют.\\\n",
    "Тип данных в столбце date изменен на datetime.\\\n",
    "Дубликаты отсутствуют.\\\n",
    "\\\n",
    "58 пользователей попало в обе группы a/b теста, так как их количество составляет около 5% от общего количества данных, было решено убрать строки с повторяющимся visitor id."
   ]
  },
  {
   "cell_type": "markdown",
   "metadata": {},
   "source": [
    "#### Предобработка visitors"
   ]
  },
  {
   "cell_type": "code",
   "execution_count": 23,
   "metadata": {},
   "outputs": [
    {
     "name": "stdout",
     "output_type": "stream",
     "text": [
      "<class 'pandas.core.frame.DataFrame'>\n",
      "RangeIndex: 62 entries, 0 to 61\n",
      "Data columns (total 3 columns):\n",
      " #   Column    Non-Null Count  Dtype \n",
      "---  ------    --------------  ----- \n",
      " 0   date      62 non-null     object\n",
      " 1   group     62 non-null     object\n",
      " 2   visitors  62 non-null     int64 \n",
      "dtypes: int64(1), object(2)\n",
      "memory usage: 1.6+ KB\n",
      "Дубликатов - (0,)\n"
     ]
    },
    {
     "data": {
      "text/plain": [
       "((None,),\n",
       " None,\n",
       " (         date group  visitors\n",
       "  0  2019-08-01     A       719\n",
       "  1  2019-08-02     A       619\n",
       "  2  2019-08-03     A       507\n",
       "  3  2019-08-04     A       717\n",
       "  4  2019-08-05     A       756,))"
      ]
     },
     "execution_count": 23,
     "metadata": {},
     "output_type": "execute_result"
    }
   ],
   "source": [
    "first_processing(visitors)"
   ]
  },
  {
   "cell_type": "code",
   "execution_count": 24,
   "metadata": {},
   "outputs": [
    {
     "name": "stdout",
     "output_type": "stream",
     "text": [
      "<class 'pandas.core.frame.DataFrame'>\n",
      "RangeIndex: 62 entries, 0 to 61\n",
      "Data columns (total 3 columns):\n",
      " #   Column    Non-Null Count  Dtype         \n",
      "---  ------    --------------  -----         \n",
      " 0   date      62 non-null     datetime64[ns]\n",
      " 1   group     62 non-null     object        \n",
      " 2   visitors  62 non-null     int64         \n",
      "dtypes: datetime64[ns](1), int64(1), object(1)\n",
      "memory usage: 1.6+ KB\n"
     ]
    }
   ],
   "source": [
    "visitors['date'] = visitors['date'].map(lambda x: datetime.strptime(x, '%Y-%m-%d'))\n",
    "\n",
    "visitors.info()"
   ]
  },
  {
   "cell_type": "code",
   "execution_count": 25,
   "metadata": {},
   "outputs": [
    {
     "data": {
      "text/plain": [
       "B    31\n",
       "A    31\n",
       "Name: group, dtype: int64"
      ]
     },
     "execution_count": 25,
     "metadata": {},
     "output_type": "execute_result"
    }
   ],
   "source": [
    "visitors['group'].value_counts()"
   ]
  },
  {
   "cell_type": "code",
   "execution_count": 26,
   "metadata": {},
   "outputs": [
    {
     "name": "stdout",
     "output_type": "stream",
     "text": [
      "770\n"
     ]
    },
    {
     "data": {
      "text/plain": [
       "361"
      ]
     },
     "execution_count": 26,
     "metadata": {},
     "output_type": "execute_result"
    }
   ],
   "source": [
    "print(visitors['visitors'].max())\n",
    "visitors['visitors'].min()"
   ]
  },
  {
   "cell_type": "code",
   "execution_count": 27,
   "metadata": {},
   "outputs": [
    {
     "name": "stdout",
     "output_type": "stream",
     "text": [
      "2019-08-31 00:00:00\n"
     ]
    },
    {
     "data": {
      "text/plain": [
       "Timestamp('2019-08-01 00:00:00')"
      ]
     },
     "execution_count": 27,
     "metadata": {},
     "output_type": "execute_result"
    }
   ],
   "source": [
    "print(visitors['date'].max())\n",
    "visitors['date'].min()"
   ]
  },
  {
   "cell_type": "markdown",
   "metadata": {},
   "source": [
    "**Выводы по visitors:**\\\n",
    "Всего в датафрейме 62 записи - данные о количестве посетителей сайта по группам с 1 по 31 августа 2019 года.\\\n",
    "Содержит даты, группу a/b теста (50/50) и количество посетителей.\\\n",
    "Пропуски отсутствуют.\\\n",
    "Тип данных в столбце date изменен на datetime.\\\n",
    "Дубликаты отсутствуют."
   ]
  },
  {
   "cell_type": "markdown",
   "metadata": {},
   "source": [
    "### Анализ стабильности кумулятивных метрик"
   ]
  },
  {
   "cell_type": "markdown",
   "metadata": {},
   "source": [
    "#### Кумулятивная выручка по группам\n",
    "\n",
    "<a id='f'></a>"
   ]
  },
  {
   "cell_type": "code",
   "execution_count": 28,
   "metadata": {},
   "outputs": [],
   "source": [
    "dates_groups = orders[['date','group']].drop_duplicates()\n",
    "orders_aggregated = dates_groups.apply(lambda x: orders[np.logical_and(orders['date'] <= x['date'], orders['group'] == x['group'])].agg({'date' : 'max', 'group' : 'max', 'transactionid' : 'nunique', 'visitorid' : 'nunique', 'revenue' : 'sum'}), axis=1).sort_values(by=['date','group'])\n",
    "visitors_aggregated = dates_groups.apply(lambda x: visitors[np.logical_and(visitors['date'] <= x['date'], visitors['group'] == x['group'])].agg({'date' : 'max', 'group' : 'max', 'visitors' : 'sum'}), axis=1).sort_values(by=['date','group'])"
   ]
  },
  {
   "cell_type": "code",
   "execution_count": 29,
   "metadata": {},
   "outputs": [
    {
     "data": {
      "text/html": [
       "<div>\n",
       "<style scoped>\n",
       "    .dataframe tbody tr th:only-of-type {\n",
       "        vertical-align: middle;\n",
       "    }\n",
       "\n",
       "    .dataframe tbody tr th {\n",
       "        vertical-align: top;\n",
       "    }\n",
       "\n",
       "    .dataframe thead th {\n",
       "        text-align: right;\n",
       "    }\n",
       "</style>\n",
       "<table border=\"1\" class=\"dataframe\">\n",
       "  <thead>\n",
       "    <tr style=\"text-align: right;\">\n",
       "      <th></th>\n",
       "      <th>date</th>\n",
       "      <th>group</th>\n",
       "      <th>orders</th>\n",
       "      <th>buyers</th>\n",
       "      <th>revenue</th>\n",
       "      <th>visitors</th>\n",
       "    </tr>\n",
       "  </thead>\n",
       "  <tbody>\n",
       "    <tr>\n",
       "      <th>0</th>\n",
       "      <td>2019-08-01</td>\n",
       "      <td>A</td>\n",
       "      <td>23</td>\n",
       "      <td>19</td>\n",
       "      <td>142779</td>\n",
       "      <td>719</td>\n",
       "    </tr>\n",
       "    <tr>\n",
       "      <th>1</th>\n",
       "      <td>2019-08-01</td>\n",
       "      <td>B</td>\n",
       "      <td>17</td>\n",
       "      <td>17</td>\n",
       "      <td>59758</td>\n",
       "      <td>713</td>\n",
       "    </tr>\n",
       "    <tr>\n",
       "      <th>2</th>\n",
       "      <td>2019-08-02</td>\n",
       "      <td>A</td>\n",
       "      <td>42</td>\n",
       "      <td>36</td>\n",
       "      <td>234381</td>\n",
       "      <td>1338</td>\n",
       "    </tr>\n",
       "    <tr>\n",
       "      <th>3</th>\n",
       "      <td>2019-08-02</td>\n",
       "      <td>B</td>\n",
       "      <td>40</td>\n",
       "      <td>39</td>\n",
       "      <td>221801</td>\n",
       "      <td>1294</td>\n",
       "    </tr>\n",
       "    <tr>\n",
       "      <th>4</th>\n",
       "      <td>2019-08-03</td>\n",
       "      <td>A</td>\n",
       "      <td>66</td>\n",
       "      <td>60</td>\n",
       "      <td>346854</td>\n",
       "      <td>1845</td>\n",
       "    </tr>\n",
       "  </tbody>\n",
       "</table>\n",
       "</div>"
      ],
      "text/plain": [
       "        date group  orders  buyers  revenue  visitors\n",
       "0 2019-08-01     A      23      19   142779       719\n",
       "1 2019-08-01     B      17      17    59758       713\n",
       "2 2019-08-02     A      42      36   234381      1338\n",
       "3 2019-08-02     B      40      39   221801      1294\n",
       "4 2019-08-03     A      66      60   346854      1845"
      ]
     },
     "execution_count": 29,
     "metadata": {},
     "output_type": "execute_result"
    }
   ],
   "source": [
    "cumulative_data = orders_aggregated.merge(visitors_aggregated, left_on=['date', 'group'], right_on=['date', 'group'])\n",
    "cumulative_data.columns = ['date', 'group', 'orders', 'buyers', 'revenue', 'visitors']\n",
    "\n",
    "cumulative_data.head(5)"
   ]
  },
  {
   "cell_type": "code",
   "execution_count": 30,
   "metadata": {},
   "outputs": [
    {
     "data": {
      "image/png": "[encoded data removed]",
      "text/plain": [
       "<Figure size 864x360 with 1 Axes>"
      ]
     },
     "metadata": {
      "needs_background": "light"
     },
     "output_type": "display_data"
    }
   ],
   "source": [
    "cumulative_revenueA = cumulative_data[cumulative_data['group']=='A'][['date','revenue', 'orders']]\n",
    "\n",
    "cumulative_revenueB = cumulative_data[cumulative_data['group']=='B'][['date','revenue', 'orders']]\n",
    "\n",
    "plt.figure(figsize=(12,5))\n",
    "plt.plot(cumulative_revenueA['date'], cumulative_revenueA['revenue'], label='A')\n",
    "\n",
    "plt.plot(cumulative_revenueB['date'], cumulative_revenueB['revenue'], label='B')\n",
    "\n",
    "plt.legend() \n",
    "plt.xlabel('Дата')\n",
    "plt.ylabel('Выручка')\n",
    "plt.title('График кумулятивной выручки по группам')\n",
    "plt.show()"
   ]
  },
  {
   "cell_type": "markdown",
   "metadata": {},
   "source": [
    "**Выводы:**\\\n",
    "    Выручка практически равномерно растет на протяжении всего проведения теста.\\\n",
    "    \\\n",
    "    Общая тенденция - показатели группы A стабильно ниже показателей группы B.\\\n",
    "    \\\n",
    "    В самом начале теста показатели обеих групп растут практически одинаково, однако, приблизительно с 5-го августа рост показателей группы B более активный, особенно значимая разница наблюдается 18-19 августа - выброс значений. Вероятно в этот день пользователем из группы B был совершен аномально-дорогой заказ или пользователями сделано аномально много заказов."
   ]
  },
  {
   "cell_type": "markdown",
   "metadata": {},
   "source": [
    "#### Кумулятивный средний чек по группам\n",
    "\n",
    "<a id='g'></a>"
   ]
  },
  {
   "cell_type": "code",
   "execution_count": 31,
   "metadata": {},
   "outputs": [
    {
     "data": {
      "image/png": "[encoded data removed]",
      "text/plain": [
       "<Figure size 864x360 with 1 Axes>"
      ]
     },
     "metadata": {
      "needs_background": "light"
     },
     "output_type": "display_data"
    }
   ],
   "source": [
    "plt.figure(figsize=(12,5))\n",
    "plt.plot(cumulative_revenueA['date'], cumulative_revenueA['revenue']/cumulative_revenueA['orders'], label='A')\n",
    "plt.plot(cumulative_revenueB['date'], cumulative_revenueB['revenue']/cumulative_revenueB['orders'], label='B')\n",
    "plt.legend()\n",
    "plt.xlabel('Дата')\n",
    "plt.ylabel('Средний чек')\n",
    "plt.title('График кумулятивного среднего чека по группам')\n",
    "plt.show()"
   ]
  },
  {
   "cell_type": "markdown",
   "metadata": {},
   "source": [
    "**Выводы:**\\\n",
    "Показатели среднего чека не равномерны: то растут, то падают.\n",
    "\n",
    "По данным графика кумулятивного среднего чека по группам, тенденция к сближению показателей двух групп наблюдается в середине месяца, однако, резкий выброс меняет ситуацию.\n",
    "Средний чек пользователей группы A с этого этапа начинает очень плавно и практически равномерно расти, а средний чек группы B резко вырастает (такой всплеск наблюдаем и на графике выручки), затем постепенно падает. Падение вероятно связано с предшествующим ему аномально-дорогим заказом."
   ]
  },
  {
   "cell_type": "code",
   "execution_count": 32,
   "metadata": {},
   "outputs": [
    {
     "data": {
      "image/png": "[encoded data removed]",
      "text/plain": [
       "<Figure size 864x360 with 1 Axes>"
      ]
     },
     "metadata": {
      "needs_background": "light"
     },
     "output_type": "display_data"
    }
   ],
   "source": [
    "merged_cumulative_revenue = cumulative_revenueA.merge(cumulative_revenueB, left_on='date', right_on='date', how='left', suffixes=['A', 'B'])\n",
    "\n",
    "plt.figure(figsize=(12,5))\n",
    "plt.plot(merged_cumulative_revenue['date'], (merged_cumulative_revenue['revenueB']/merged_cumulative_revenue['ordersB'])/(merged_cumulative_revenue['revenueA']/merged_cumulative_revenue['ordersA'])-1)\n",
    "\n",
    "plt.axhline(y=0, color='black', linestyle='--') \n",
    "\n",
    "plt.xlabel('Дата')\n",
    "plt.ylabel('Отн. изм-е среднего чека')\n",
    "plt.title('График относительного изменения кумулятивного среднего чека группы B к группе A')\n",
    "plt.show()"
   ]
  },
  {
   "cell_type": "markdown",
   "metadata": {},
   "source": [
    "**Выводы:**\\\n",
    "График относительного изменения кумулятивного среднего чека группы B к группе A также показывает резкие скачки и падения данных, что вероятно указывает на большое количество или большое значение аномальных данных."
   ]
  },
  {
   "cell_type": "markdown",
   "metadata": {},
   "source": [
    "#### Кумулятивное среднее количества заказов на пользователя по группам\n",
    "\n",
    "<a id='h'></a>"
   ]
  },
  {
   "cell_type": "code",
   "execution_count": 33,
   "metadata": {},
   "outputs": [
    {
     "data": {
      "image/png": "[encoded data removed]",
      "text/plain": [
       "<Figure size 864x360 with 1 Axes>"
      ]
     },
     "metadata": {
      "needs_background": "light"
     },
     "output_type": "display_data"
    }
   ],
   "source": [
    "cumulative_data['conversion'] = cumulative_data['orders']/cumulative_data['visitors']\n",
    "\n",
    "cumulative_dataA = cumulative_data[cumulative_data['group']=='A']\n",
    "\n",
    "cumulative_dataB = cumulative_data[cumulative_data['group']=='B']\n",
    "\n",
    "plt.figure(figsize=(12,5))\n",
    "plt.plot(cumulative_dataA['date'], cumulative_dataA['conversion'], label='A')\n",
    "plt.plot(cumulative_dataB['date'], cumulative_dataB['conversion'], label='B')\n",
    "plt.legend()\n",
    "plt.xlabel('Дата')\n",
    "plt.ylabel('Ср. кол-во заказов на посетителя')\n",
    "plt.title('График кумулятивного среднего количества заказов на посетителя по группам')\n",
    "plt.show()"
   ]
  },
  {
   "cell_type": "markdown",
   "metadata": {},
   "source": [
    "**Выводы:**\\\n",
    "Показатели конверсии также не равномерны.\\\n",
    "Начиная с 10-го августа, количество заказов группы B стабильно выше заказов группы A.\\\n",
    "Вероятно такой резкий скачок связан с аномально большим количеством заказов 9-10 августа (на графиках выручки и среднего чека резких изменений в эти даты не наблюдается)."
   ]
  },
  {
   "cell_type": "code",
   "execution_count": 34,
   "metadata": {},
   "outputs": [
    {
     "data": {
      "image/png": "[encoded data removed]",
      "text/plain": [
       "<Figure size 864x360 with 1 Axes>"
      ]
     },
     "metadata": {
      "needs_background": "light"
     },
     "output_type": "display_data"
    }
   ],
   "source": [
    "merged_cumulative_conversions = cumulative_dataA[['date','conversion']].merge(cumulative_dataB[['date','conversion']], left_on='date', right_on='date', how='left', suffixes=['A', 'B'])\n",
    "plt.figure(figsize=(12,5))\n",
    "plt.plot(merged_cumulative_conversions['date'], merged_cumulative_conversions['conversionB']/merged_cumulative_conversions['conversionA']-1, label=\"Относительный прирост кумулятивного среднего количества заказов на посетителя группы B относительно группы A\")\n",
    "\n",
    "plt.axhline(y=0, color='black', linestyle='--')\n",
    "plt.axhline(y=-0.1, color='grey', linestyle='--')\n",
    "plt.xlabel('Дата')\n",
    "plt.ylabel('Отн. изм-е среднего кол-ва заказов на посетителя')\n",
    "plt.title('График относительного изменения кумулятивного среднего количества заказов на посетителя группы B к группе A')\n",
    "plt.show()"
   ]
  },
  {
   "cell_type": "markdown",
   "metadata": {},
   "source": [
    "**Выводы:**\\\n",
    "График относительного изменения кумулятивной конверсии группы B к группе A также показывает резкие скачки и падения данных, что вероятно указывает на большое количество или большое значение аномальных данных.\\\n",
    "При этом практически с начала проведения теста, изменение кумулятивного количества заказов на посетителя B к A  растет."
   ]
  },
  {
   "cell_type": "markdown",
   "metadata": {},
   "source": [
    "### Анализ выбросов и всплесков"
   ]
  },
  {
   "cell_type": "markdown",
   "metadata": {},
   "source": [
    "#### Количество заказов по пользователям\n",
    "\n",
    "<a id='i'></a>"
   ]
  },
  {
   "cell_type": "code",
   "execution_count": 35,
   "metadata": {},
   "outputs": [
    {
     "data": {
      "text/html": [
       "<div>\n",
       "<style scoped>\n",
       "    .dataframe tbody tr th:only-of-type {\n",
       "        vertical-align: middle;\n",
       "    }\n",
       "\n",
       "    .dataframe tbody tr th {\n",
       "        vertical-align: top;\n",
       "    }\n",
       "\n",
       "    .dataframe thead th {\n",
       "        text-align: right;\n",
       "    }\n",
       "</style>\n",
       "<table border=\"1\" class=\"dataframe\">\n",
       "  <thead>\n",
       "    <tr style=\"text-align: right;\">\n",
       "      <th></th>\n",
       "      <th>user_id</th>\n",
       "      <th>orders</th>\n",
       "    </tr>\n",
       "  </thead>\n",
       "  <tbody>\n",
       "    <tr>\n",
       "      <th>908</th>\n",
       "      <td>3967698036</td>\n",
       "      <td>3</td>\n",
       "    </tr>\n",
       "    <tr>\n",
       "      <th>55</th>\n",
       "      <td>249864742</td>\n",
       "      <td>3</td>\n",
       "    </tr>\n",
       "    <tr>\n",
       "      <th>478</th>\n",
       "      <td>2108163459</td>\n",
       "      <td>3</td>\n",
       "    </tr>\n",
       "    <tr>\n",
       "      <th>687</th>\n",
       "      <td>2988190573</td>\n",
       "      <td>3</td>\n",
       "    </tr>\n",
       "    <tr>\n",
       "      <th>890</th>\n",
       "      <td>3908431265</td>\n",
       "      <td>3</td>\n",
       "    </tr>\n",
       "    <tr>\n",
       "      <th>138</th>\n",
       "      <td>611059232</td>\n",
       "      <td>3</td>\n",
       "    </tr>\n",
       "    <tr>\n",
       "      <th>632</th>\n",
       "      <td>2742574263</td>\n",
       "      <td>3</td>\n",
       "    </tr>\n",
       "    <tr>\n",
       "      <th>157</th>\n",
       "      <td>678354126</td>\n",
       "      <td>2</td>\n",
       "    </tr>\n",
       "    <tr>\n",
       "      <th>323</th>\n",
       "      <td>1404560065</td>\n",
       "      <td>2</td>\n",
       "    </tr>\n",
       "    <tr>\n",
       "      <th>452</th>\n",
       "      <td>1985475298</td>\n",
       "      <td>2</td>\n",
       "    </tr>\n",
       "  </tbody>\n",
       "</table>\n",
       "</div>"
      ],
      "text/plain": [
       "        user_id  orders\n",
       "908  3967698036       3\n",
       "55    249864742       3\n",
       "478  2108163459       3\n",
       "687  2988190573       3\n",
       "890  3908431265       3\n",
       "138   611059232       3\n",
       "632  2742574263       3\n",
       "157   678354126       2\n",
       "323  1404560065       2\n",
       "452  1985475298       2"
      ]
     },
     "execution_count": 35,
     "metadata": {},
     "output_type": "execute_result"
    }
   ],
   "source": [
    "orders_per_user = (\n",
    "    orders.groupby('visitorid', as_index=False)\n",
    "    .agg({'transactionid': 'nunique'})\n",
    ")\n",
    "\n",
    "orders_per_user.columns = ['user_id', 'orders']\n",
    "\n",
    "orders_per_user.sort_values(by='orders', ascending=False).head(10)"
   ]
  },
  {
   "cell_type": "code",
   "execution_count": 36,
   "metadata": {},
   "outputs": [
    {
     "data": {
      "text/plain": [
       "1    937\n",
       "2     29\n",
       "3      7\n",
       "Name: orders, dtype: int64"
      ]
     },
     "execution_count": 36,
     "metadata": {},
     "output_type": "execute_result"
    }
   ],
   "source": [
    "orders_per_user['orders'].value_counts()"
   ]
  },
  {
   "cell_type": "code",
   "execution_count": 37,
   "metadata": {},
   "outputs": [
    {
     "data": {
      "image/png": "[encoded data removed]",
      "text/plain": [
       "<Figure size 360x576 with 1 Axes>"
      ]
     },
     "metadata": {
      "needs_background": "light"
     },
     "output_type": "display_data"
    }
   ],
   "source": [
    "x_values = pd.Series(range(0,len(orders_per_user)))\n",
    "\n",
    "plt.figure(figsize=(5,8))\n",
    "plt.scatter(x_values, orders_per_user['orders']) \n",
    "plt.ylabel('Кол-во заказов по пользователям')\n",
    "plt.title('Точечный график кол-ва заказов по поьзователям')\n",
    "plt.show()"
   ]
  },
  {
   "cell_type": "code",
   "execution_count": 38,
   "metadata": {},
   "outputs": [
    {
     "data": {
      "text/plain": [
       "array([1., 2.])"
      ]
     },
     "execution_count": 38,
     "metadata": {},
     "output_type": "execute_result"
    }
   ],
   "source": [
    "np.percentile(orders_per_user['orders'], [95, 99])"
   ]
  },
  {
   "cell_type": "markdown",
   "metadata": {},
   "source": [
    "**Выводы:**\\\n",
    "Основная масса пользователей *(99%)* делает 1-2 заказа, однако, как и предполагалось ранее, существуют и такие пользователи, которые совершили 3 заказа.\\\n",
    "\\\n",
    "Границей аномальных значений будем считать 1 заказ, всего 5% пользователей сделали больше заказов."
   ]
  },
  {
   "cell_type": "markdown",
   "metadata": {},
   "source": [
    "#### Стоимость заказов по пользователям\n",
    "\n",
    "<a id='j'></a>"
   ]
  },
  {
   "cell_type": "code",
   "execution_count": 39,
   "metadata": {},
   "outputs": [
    {
     "data": {
      "text/html": [
       "<div>\n",
       "<style scoped>\n",
       "    .dataframe tbody tr th:only-of-type {\n",
       "        vertical-align: middle;\n",
       "    }\n",
       "\n",
       "    .dataframe tbody tr th {\n",
       "        vertical-align: top;\n",
       "    }\n",
       "\n",
       "    .dataframe thead th {\n",
       "        text-align: right;\n",
       "    }\n",
       "</style>\n",
       "<table border=\"1\" class=\"dataframe\">\n",
       "  <thead>\n",
       "    <tr style=\"text-align: right;\">\n",
       "      <th></th>\n",
       "      <th>user_id</th>\n",
       "      <th>cost</th>\n",
       "    </tr>\n",
       "  </thead>\n",
       "  <tbody>\n",
       "    <tr>\n",
       "      <th>440</th>\n",
       "      <td>1920142716</td>\n",
       "      <td>1294500</td>\n",
       "    </tr>\n",
       "    <tr>\n",
       "      <th>477</th>\n",
       "      <td>2108080724</td>\n",
       "      <td>202740</td>\n",
       "    </tr>\n",
       "    <tr>\n",
       "      <th>300</th>\n",
       "      <td>1307669133</td>\n",
       "      <td>92550</td>\n",
       "    </tr>\n",
       "    <tr>\n",
       "      <th>202</th>\n",
       "      <td>888512513</td>\n",
       "      <td>86620</td>\n",
       "    </tr>\n",
       "    <tr>\n",
       "      <th>176</th>\n",
       "      <td>759473111</td>\n",
       "      <td>72000</td>\n",
       "    </tr>\n",
       "    <tr>\n",
       "      <th>938</th>\n",
       "      <td>4133034833</td>\n",
       "      <td>67990</td>\n",
       "    </tr>\n",
       "    <tr>\n",
       "      <th>687</th>\n",
       "      <td>2988190573</td>\n",
       "      <td>67190</td>\n",
       "    </tr>\n",
       "    <tr>\n",
       "      <th>267</th>\n",
       "      <td>1164614297</td>\n",
       "      <td>66350</td>\n",
       "    </tr>\n",
       "    <tr>\n",
       "      <th>25</th>\n",
       "      <td>148427295</td>\n",
       "      <td>65710</td>\n",
       "    </tr>\n",
       "    <tr>\n",
       "      <th>200</th>\n",
       "      <td>887908475</td>\n",
       "      <td>60450</td>\n",
       "    </tr>\n",
       "  </tbody>\n",
       "</table>\n",
       "</div>"
      ],
      "text/plain": [
       "        user_id     cost\n",
       "440  1920142716  1294500\n",
       "477  2108080724   202740\n",
       "300  1307669133    92550\n",
       "202   888512513    86620\n",
       "176   759473111    72000\n",
       "938  4133034833    67990\n",
       "687  2988190573    67190\n",
       "267  1164614297    66350\n",
       "25    148427295    65710\n",
       "200   887908475    60450"
      ]
     },
     "execution_count": 39,
     "metadata": {},
     "output_type": "execute_result"
    }
   ],
   "source": [
    "cost_per_user = (\n",
    "    orders.groupby('visitorid', as_index=False)\n",
    "    .agg({'revenue': 'sum'})\n",
    ")\n",
    "\n",
    "cost_per_user.columns = ['user_id', 'cost']\n",
    "\n",
    "cost_per_user.sort_values(by='cost', ascending=False).head(10)"
   ]
  },
  {
   "cell_type": "code",
   "execution_count": 40,
   "metadata": {},
   "outputs": [
    {
     "data": {
      "image/png": "[encoded data removed]",
      "text/plain": [
       "<Figure size 360x576 with 1 Axes>"
      ]
     },
     "metadata": {
      "needs_background": "light"
     },
     "output_type": "display_data"
    }
   ],
   "source": [
    "x_values = pd.Series(range(0,len(cost_per_user)))\n",
    "\n",
    "plt.figure(figsize=(5,8))\n",
    "plt.scatter(x_values, cost_per_user['cost']) \n",
    "plt.ylabel('Стоимость заказов по пользователям')\n",
    "plt.title('Точечный график стоимости заказов по поьзователям')\n",
    "plt.show()"
   ]
  },
  {
   "cell_type": "code",
   "execution_count": 41,
   "metadata": {},
   "outputs": [
    {
     "data": {
      "text/plain": [
       "array([28910., 59082.])"
      ]
     },
     "execution_count": 41,
     "metadata": {},
     "output_type": "execute_result"
    }
   ],
   "source": [
    "np.percentile(cost_per_user['cost'], [95, 99])"
   ]
  },
  {
   "cell_type": "markdown",
   "metadata": {},
   "source": [
    "**Выводы:**\\\n",
    "В стоимости довольно много выбросов, один особенно значительный - аномально-дорогой заказ.\\ \n",
    "Большинство пользователей *(95%)* не тратит больше 29 тысяч денежных единиц на заказ, однако, как и предполагалось ранее, пользователями совершались значительно более дорогие заказы.\\\n",
    "\\\n",
    "Границей аномальных значений по стоимости будем считать 29 000, поскольку 95% пользователей не тратили больше этой суммы на заказы."
   ]
  },
  {
   "cell_type": "markdown",
   "metadata": {},
   "source": [
    "### Статистическая значимость различий между группами. \"Сырые\" данные"
   ]
  },
  {
   "cell_type": "markdown",
   "metadata": {},
   "source": [
    "#### Среднее количество заказов на посетителя\n",
    "\n",
    "<a id='k'></a>"
   ]
  },
  {
   "cell_type": "code",
   "execution_count": 42,
   "metadata": {},
   "outputs": [],
   "source": [
    "visitorsA_day = visitors[visitors['group'] == 'A'][['date', 'visitors']]\n",
    "visitorsA_day.columns = ['date', 'visitors_per_dateA']\n",
    "\n",
    "#количество посетителей группы A ежедневно"
   ]
  },
  {
   "cell_type": "code",
   "execution_count": 43,
   "metadata": {},
   "outputs": [],
   "source": [
    "visitorsA_cummulative = visitorsA_day.apply(\n",
    "    lambda x: visitorsA_day[visitorsA_day['date'] <= x['date']].agg(\n",
    "        {'date': 'max', 'visitors_per_dateA': 'sum'}\n",
    "    ),\n",
    "    axis=1,\n",
    ")\n",
    "visitorsA_cummulative.columns = ['date', 'visitorsA_cummulative']\n",
    "\n",
    "#кумулятивное количество посетителей группы A"
   ]
  },
  {
   "cell_type": "code",
   "execution_count": 44,
   "metadata": {},
   "outputs": [],
   "source": [
    "visitorsB_day = visitors[visitors['group'] == 'B'][['date', 'visitors']]\n",
    "visitorsB_day.columns = ['date', 'visitors_per_dateB']\n",
    "\n",
    "#количество посетителей группы B ежедневно"
   ]
  },
  {
   "cell_type": "code",
   "execution_count": 45,
   "metadata": {},
   "outputs": [],
   "source": [
    "visitorsB_cummulative = visitorsB_day.apply(\n",
    "    lambda x: visitorsB_day[visitorsB_day['date'] <= x['date']].agg(\n",
    "        {'date': 'max', 'visitors_per_dateB': 'sum'}\n",
    "    ),\n",
    "    axis=1,\n",
    ")\n",
    "visitorsB_cummulative.columns = ['date', 'visitorsB_cummulative']\n",
    "\n",
    "#кумулятивное количество посетителей группы A"
   ]
  },
  {
   "cell_type": "code",
   "execution_count": 46,
   "metadata": {},
   "outputs": [],
   "source": [
    "ordersA_day = (\n",
    "    orders[orders['group'] == 'A'][['date', 'transactionid', 'visitorid', 'revenue']]\n",
    "    .groupby('date', as_index=False)\n",
    "    .agg({'transactionid': pd.Series.nunique, 'revenue': 'sum'})\n",
    ")\n",
    "ordersA_day.columns = ['date', 'orders_per_dateA', 'revenue_per_dateA']\n",
    "\n",
    "ordersA_cummulative = ordersA_day.apply(\n",
    "    lambda x: ordersA_day[ordersA_day['date'] <= x['date']].agg(\n",
    "        {'date': 'max', 'orders_per_dateA': 'sum', 'revenue_per_dateA': 'sum'}\n",
    "    ),\n",
    "    axis=1,\n",
    ").sort_values(by=['date'])\n",
    "ordersA_cummulative.columns = [\n",
    "    'date',\n",
    "    'ordersA_cummulative',\n",
    "    'revenueA_cummulative',\n",
    "]\n",
    "\n",
    "#кумулятивное количество заказов и выручки группы A"
   ]
  },
  {
   "cell_type": "code",
   "execution_count": 47,
   "metadata": {},
   "outputs": [],
   "source": [
    "ordersB_day = (\n",
    "    orders[orders['group'] == 'B'][['date', 'transactionid', 'visitorid', 'revenue']]\n",
    "    .groupby('date', as_index=False)\n",
    "    .agg({'transactionid': pd.Series.nunique, 'revenue': 'sum'})\n",
    ")\n",
    "ordersB_day.columns = ['date', 'orders_per_dateB', 'revenue_per_dateB']\n",
    "\n",
    "ordersB_cummulative = ordersB_day.apply(\n",
    "    lambda x: ordersB_day[ordersB_day['date'] <= x['date']].agg(\n",
    "        {'date': 'max', 'orders_per_dateB': 'sum', 'revenue_per_dateB': 'sum'}\n",
    "    ),\n",
    "    axis=1,\n",
    ").sort_values(by=['date'])\n",
    "ordersB_cummulative.columns = [\n",
    "    'date',\n",
    "    'ordersB_cummulative',\n",
    "    'revenueB_cummulative',\n",
    "]\n",
    "\n",
    "#кумулятивное количество заказов и выручки группы B"
   ]
  },
  {
   "cell_type": "code",
   "execution_count": 48,
   "metadata": {},
   "outputs": [
    {
     "data": {
      "text/html": [
       "<div>\n",
       "<style scoped>\n",
       "    .dataframe tbody tr th:only-of-type {\n",
       "        vertical-align: middle;\n",
       "    }\n",
       "\n",
       "    .dataframe tbody tr th {\n",
       "        vertical-align: top;\n",
       "    }\n",
       "\n",
       "    .dataframe thead th {\n",
       "        text-align: right;\n",
       "    }\n",
       "</style>\n",
       "<table border=\"1\" class=\"dataframe\">\n",
       "  <thead>\n",
       "    <tr style=\"text-align: right;\">\n",
       "      <th></th>\n",
       "      <th>date</th>\n",
       "      <th>orders_per_dateA</th>\n",
       "      <th>revenue_per_dateA</th>\n",
       "      <th>orders_per_dateB</th>\n",
       "      <th>revenue_per_dateB</th>\n",
       "      <th>ordersA_cummulative</th>\n",
       "      <th>revenueA_cummulative</th>\n",
       "      <th>ordersB_cummulative</th>\n",
       "      <th>revenueB_cummulative</th>\n",
       "      <th>visitors_per_dateA</th>\n",
       "      <th>visitors_per_dateB</th>\n",
       "      <th>visitorsA_cummulative</th>\n",
       "      <th>visitorsB_cummulative</th>\n",
       "    </tr>\n",
       "  </thead>\n",
       "  <tbody>\n",
       "    <tr>\n",
       "      <th>0</th>\n",
       "      <td>2019-08-01</td>\n",
       "      <td>23</td>\n",
       "      <td>142779</td>\n",
       "      <td>17</td>\n",
       "      <td>59758</td>\n",
       "      <td>23</td>\n",
       "      <td>142779</td>\n",
       "      <td>17</td>\n",
       "      <td>59758</td>\n",
       "      <td>719</td>\n",
       "      <td>713</td>\n",
       "      <td>719</td>\n",
       "      <td>713</td>\n",
       "    </tr>\n",
       "    <tr>\n",
       "      <th>1</th>\n",
       "      <td>2019-08-02</td>\n",
       "      <td>19</td>\n",
       "      <td>91602</td>\n",
       "      <td>23</td>\n",
       "      <td>162043</td>\n",
       "      <td>42</td>\n",
       "      <td>234381</td>\n",
       "      <td>40</td>\n",
       "      <td>221801</td>\n",
       "      <td>619</td>\n",
       "      <td>581</td>\n",
       "      <td>1338</td>\n",
       "      <td>1294</td>\n",
       "    </tr>\n",
       "    <tr>\n",
       "      <th>2</th>\n",
       "      <td>2019-08-03</td>\n",
       "      <td>24</td>\n",
       "      <td>112473</td>\n",
       "      <td>14</td>\n",
       "      <td>67049</td>\n",
       "      <td>66</td>\n",
       "      <td>346854</td>\n",
       "      <td>54</td>\n",
       "      <td>288850</td>\n",
       "      <td>507</td>\n",
       "      <td>509</td>\n",
       "      <td>1845</td>\n",
       "      <td>1803</td>\n",
       "    </tr>\n",
       "    <tr>\n",
       "      <th>3</th>\n",
       "      <td>2019-08-04</td>\n",
       "      <td>11</td>\n",
       "      <td>41176</td>\n",
       "      <td>14</td>\n",
       "      <td>96890</td>\n",
       "      <td>77</td>\n",
       "      <td>388030</td>\n",
       "      <td>68</td>\n",
       "      <td>385740</td>\n",
       "      <td>717</td>\n",
       "      <td>770</td>\n",
       "      <td>2562</td>\n",
       "      <td>2573</td>\n",
       "    </tr>\n",
       "    <tr>\n",
       "      <th>4</th>\n",
       "      <td>2019-08-05</td>\n",
       "      <td>22</td>\n",
       "      <td>86383</td>\n",
       "      <td>21</td>\n",
       "      <td>89908</td>\n",
       "      <td>99</td>\n",
       "      <td>474413</td>\n",
       "      <td>89</td>\n",
       "      <td>475648</td>\n",
       "      <td>756</td>\n",
       "      <td>707</td>\n",
       "      <td>3318</td>\n",
       "      <td>3280</td>\n",
       "    </tr>\n",
       "  </tbody>\n",
       "</table>\n",
       "</div>"
      ],
      "text/plain": [
       "        date  orders_per_dateA  revenue_per_dateA  orders_per_dateB  \\\n",
       "0 2019-08-01                23             142779                17   \n",
       "1 2019-08-02                19              91602                23   \n",
       "2 2019-08-03                24             112473                14   \n",
       "3 2019-08-04                11              41176                14   \n",
       "4 2019-08-05                22              86383                21   \n",
       "\n",
       "   revenue_per_dateB  ordersA_cummulative  revenueA_cummulative  \\\n",
       "0              59758                   23                142779   \n",
       "1             162043                   42                234381   \n",
       "2              67049                   66                346854   \n",
       "3              96890                   77                388030   \n",
       "4              89908                   99                474413   \n",
       "\n",
       "   ordersB_cummulative  revenueB_cummulative  visitors_per_dateA  \\\n",
       "0                   17                 59758                 719   \n",
       "1                   40                221801                 619   \n",
       "2                   54                288850                 507   \n",
       "3                   68                385740                 717   \n",
       "4                   89                475648                 756   \n",
       "\n",
       "   visitors_per_dateB  visitorsA_cummulative  visitorsB_cummulative  \n",
       "0                 713                    719                    713  \n",
       "1                 581                   1338                   1294  \n",
       "2                 509                   1845                   1803  \n",
       "3                 770                   2562                   2573  \n",
       "4                 707                   3318                   3280  "
      ]
     },
     "execution_count": 48,
     "metadata": {},
     "output_type": "execute_result"
    }
   ],
   "source": [
    "data_merged = (\n",
    "    ordersA_day.merge(\n",
    "        ordersB_day, left_on='date', right_on='date', how='left'\n",
    "    )\n",
    "    .merge(ordersA_cummulative, left_on='date', right_on='date', how='left')\n",
    "    .merge(ordersB_cummulative, left_on='date', right_on='date', how='left')\n",
    "    .merge(visitorsA_day, left_on='date', right_on='date', how='left')\n",
    "    .merge(visitorsB_day, left_on='date', right_on='date', how='left')\n",
    "    .merge(visitorsA_cummulative, left_on='date', right_on='date', how='left')\n",
    "    .merge(visitorsB_cummulative, left_on='date', right_on='date', how='left')\n",
    ")\n",
    "\n",
    "data_merged.head(5)\n",
    "\n",
    "#таблица, в которой объединены данные по 2-м группам: дата, количество заказов (в день и кумулятивное), \n",
    "#выручка (в день и кумулятивная),количество посетителей (в день и кумулятивное)"
   ]
  },
  {
   "cell_type": "code",
   "execution_count": 49,
   "metadata": {},
   "outputs": [],
   "source": [
    "orders_per_userA = (\n",
    "    orders[orders['group'] == 'A']\n",
    "    .groupby('visitorid', as_index=False)\n",
    "    .agg({'transactionid': pd.Series.nunique})\n",
    ")\n",
    "orders_per_userA.columns = ['user_id', 'orders']\n",
    "\n",
    "orders_per_userB = (\n",
    "    orders[orders['group'] == 'B']\n",
    "    .groupby('visitorid', as_index=False)\n",
    "    .agg({'transactionid': pd.Series.nunique})\n",
    ")\n",
    "orders_per_userB.columns = ['user_id', 'orders'] \n",
    "\n",
    "#количество заказов на каждого пользователя для групп A и B"
   ]
  },
  {
   "cell_type": "code",
   "execution_count": 50,
   "metadata": {},
   "outputs": [
    {
     "data": {
      "text/plain": [
       "0        1\n",
       "1        1\n",
       "2        1\n",
       "3        1\n",
       "4        1\n",
       "        ..\n",
       "18286    0\n",
       "18287    0\n",
       "18288    0\n",
       "18289    0\n",
       "18290    0\n",
       "Name: orders, Length: 18736, dtype: int64"
      ]
     },
     "execution_count": 50,
     "metadata": {},
     "output_type": "execute_result"
    }
   ],
   "source": [
    "sampleA = pd.concat([orders_per_userA['orders'],pd.Series(0, index=np.arange(data_merged['visitors_per_dateA'].sum() - len(orders_per_userA['orders'])), name='orders')],axis=0)\n",
    "\n",
    "sampleB = pd.concat([orders_per_userB['orders'],pd.Series(0, index=np.arange(data_merged['visitors_per_dateB'].sum() - len(orders_per_userB['orders'])), name='orders')],axis=0)\n",
    "\n",
    "#поиск пользователей совершивших хотя бы 1 заказ в обеих группах"
   ]
  },
  {
   "cell_type": "markdown",
   "metadata": {},
   "source": [
    "H0: статистически значимых различий в среднем количестве заказов на посетителя между группами А и В по «сырым» данным нет.\\\n",
    "H1: статистически значимые различия в среднем количестве заказов на посетителя между группами А и В по «сырым» данным есть."
   ]
  },
  {
   "cell_type": "code",
   "execution_count": 52,
   "metadata": {},
   "outputs": [
    {
     "name": "stdout",
     "output_type": "stream",
     "text": [
      "p-value = 0.011\n",
      "разница между сегментами = 0.160\n"
     ]
    }
   ],
   "source": [
    "p_value1 = \"{0:.3f}\".format(stats.mannwhitneyu(sampleA, sampleB)[1])\n",
    "difference1 = \"{0:.3f}\".format(sampleB.mean() / sampleA.mean() - 1)\n",
    "\n",
    "print('p-value =',p_value1)\n",
    "print('разница между сегментами =',difference1)"
   ]
  },
  {
   "cell_type": "markdown",
   "metadata": {},
   "source": [
    "**Выводы:**"
   ]
  },
  {
   "cell_type": "code",
   "execution_count": 53,
   "metadata": {},
   "outputs": [
    {
     "data": {
      "text/html": [
       "<div>\n",
       "<style scoped>\n",
       "    .dataframe tbody tr th:only-of-type {\n",
       "        vertical-align: middle;\n",
       "    }\n",
       "\n",
       "    .dataframe tbody tr th {\n",
       "        vertical-align: top;\n",
       "    }\n",
       "\n",
       "    .dataframe thead th {\n",
       "        text-align: right;\n",
       "    }\n",
       "</style>\n",
       "<table border=\"1\" class=\"dataframe\">\n",
       "  <thead>\n",
       "    <tr style=\"text-align: right;\">\n",
       "      <th></th>\n",
       "      <th>Параметр</th>\n",
       "      <th>p-value</th>\n",
       "      <th>Разница между сегментами</th>\n",
       "    </tr>\n",
       "  </thead>\n",
       "  <tbody>\n",
       "    <tr>\n",
       "      <th>0</th>\n",
       "      <td>Средний чек заказа</td>\n",
       "      <td>0.011</td>\n",
       "      <td>0.160</td>\n",
       "    </tr>\n",
       "  </tbody>\n",
       "</table>\n",
       "</div>"
      ],
      "text/plain": [
       "             Параметр p-value Разница между сегментами\n",
       "0  Средний чек заказа   0.011                    0.160"
      ]
     },
     "execution_count": 53,
     "metadata": {},
     "output_type": "execute_result"
    }
   ],
   "source": [
    "pd.DataFrame(data=[['Средний чек заказа', p_value1, difference1]],\n",
    "            columns=['Параметр','p-value','Разница между сегментами'])"
   ]
  },
  {
   "cell_type": "markdown",
   "metadata": {},
   "source": [
    "*Количество заказов\\посетитель*: p-value, рассчитанное по \"сырым\" данным, меньше уровня значимости 5%, значит, в данном случае, отвергаем нулевую гипотезу об отсуствии отличий в среднем количестве заказов на одного посетителя у групп A и B. Показатели группы B больше на 16% и такое отличие является статистически значимым."
   ]
  },
  {
   "cell_type": "markdown",
   "metadata": {},
   "source": [
    "#### Средний чек заказа\n",
    "\n",
    "<a id='l'></a>"
   ]
  },
  {
   "cell_type": "markdown",
   "metadata": {},
   "source": [
    "H0: статистически значимых различий в среднем чеке заказа между группами А и В по «сырым» данным нет.\\\n",
    "H1: статистически значимые различия в среднем чеке заказа между группами А и В по «сырым» данным есть."
   ]
  },
  {
   "cell_type": "code",
   "execution_count": 54,
   "metadata": {},
   "outputs": [
    {
     "name": "stdout",
     "output_type": "stream",
     "text": [
      "p-value = 0.829\n",
      "разница между сегментами = 0.287\n"
     ]
    }
   ],
   "source": [
    "p_value2 = '{0:.3f}'.format(stats.mannwhitneyu(orders[orders['group']=='A']['revenue'], orders[orders['group']=='B']['revenue'])[1])\n",
    "difference2 = '{0:.3f}'.format(orders[orders['group']=='B']['revenue'].mean()/orders[orders['group']=='A']['revenue'].mean()-1)\n",
    "\n",
    "print('p-value =', p_value2)\n",
    "print('разница между сегментами =', difference2)"
   ]
  },
  {
   "cell_type": "markdown",
   "metadata": {},
   "source": [
    "**Выводы:**"
   ]
  },
  {
   "cell_type": "code",
   "execution_count": 55,
   "metadata": {},
   "outputs": [
    {
     "data": {
      "text/html": [
       "<div>\n",
       "<style scoped>\n",
       "    .dataframe tbody tr th:only-of-type {\n",
       "        vertical-align: middle;\n",
       "    }\n",
       "\n",
       "    .dataframe tbody tr th {\n",
       "        vertical-align: top;\n",
       "    }\n",
       "\n",
       "    .dataframe thead th {\n",
       "        text-align: right;\n",
       "    }\n",
       "</style>\n",
       "<table border=\"1\" class=\"dataframe\">\n",
       "  <thead>\n",
       "    <tr style=\"text-align: right;\">\n",
       "      <th></th>\n",
       "      <th>Параметр</th>\n",
       "      <th>p-value</th>\n",
       "      <th>Разница между сегментами</th>\n",
       "    </tr>\n",
       "  </thead>\n",
       "  <tbody>\n",
       "    <tr>\n",
       "      <th>0</th>\n",
       "      <td>Среднее кол-во заказов на посетителя</td>\n",
       "      <td>0.829</td>\n",
       "      <td>0.287</td>\n",
       "    </tr>\n",
       "  </tbody>\n",
       "</table>\n",
       "</div>"
      ],
      "text/plain": [
       "                               Параметр p-value Разница между сегментами\n",
       "0  Среднее кол-во заказов на посетителя   0.829                    0.287"
      ]
     },
     "execution_count": 55,
     "metadata": {},
     "output_type": "execute_result"
    }
   ],
   "source": [
    "pd.DataFrame(data=[['Среднее кол-во заказов на посетителя', p_value2, difference2]],\n",
    "            columns=['Параметр','p-value','Разница между сегментами'])"
   ]
  },
  {
   "cell_type": "markdown",
   "metadata": {},
   "source": [
    "*Средний чек заказа*: p-value, рассчитанное по \"сырым\" данным, ощутимо выше уровня значимости 5%, значит, в данном случае, принимаем нулевую гипотезу об отсутсвии отличий в среднем чеке заказа у пользователей из групп A и B. Показатели группы B выше на 29%, отличие не является статистически значимым."
   ]
  },
  {
   "cell_type": "markdown",
   "metadata": {},
   "source": [
    "### Статистическая значимость различий между группами. \"Очищенные\" данные"
   ]
  },
  {
   "cell_type": "markdown",
   "metadata": {},
   "source": [
    "#### Среднее количество заказов на посетителя\n",
    "\n",
    "<a id='m'></a>"
   ]
  },
  {
   "cell_type": "code",
   "execution_count": 56,
   "metadata": {},
   "outputs": [
    {
     "data": {
      "text/plain": [
       "86"
      ]
     },
     "execution_count": 56,
     "metadata": {},
     "output_type": "execute_result"
    }
   ],
   "source": [
    "many_orders = pd.concat(\n",
    "    [\n",
    "        orders_per_userA[orders_per_userA['orders'] > np.percentile(orders_per_user['orders'], 95)]['user_id'],\n",
    "        orders_per_userB[orders_per_userB['orders'] > np.percentile(orders_per_user['orders'], 95)]['user_id'],\n",
    "    ],\n",
    "    axis=0,\n",
    ") #пользователи с аномальным количество заказов\n",
    "\n",
    "expensive_orders = orders[orders['revenue'] > np.percentile(orders['revenue'], 95)]['visitorid']\n",
    "abnormal_users = (\n",
    "    pd.concat([many_orders, expensive_orders], axis=0)\n",
    "    .drop_duplicates()\n",
    "    .sort_values()\n",
    ") #пользователи с аномально дорогими заказами\n",
    "\n",
    "abnormal_users.shape[0] #количество аномальных пользователей"
   ]
  },
  {
   "cell_type": "code",
   "execution_count": 57,
   "metadata": {},
   "outputs": [
    {
     "data": {
      "text/plain": [
       "0        1\n",
       "1        1\n",
       "2        1\n",
       "3        1\n",
       "4        1\n",
       "        ..\n",
       "18286    0\n",
       "18287    0\n",
       "18288    0\n",
       "18289    0\n",
       "18290    0\n",
       "Name: orders, Length: 18697, dtype: int64"
      ]
     },
     "execution_count": 57,
     "metadata": {},
     "output_type": "execute_result"
    }
   ],
   "source": [
    "sampleA_filtered = pd.concat(\n",
    "    [\n",
    "        orders_per_userA[\n",
    "            np.logical_not(orders_per_userA['user_id'].isin(abnormal_users))\n",
    "        ]['orders'],\n",
    "        pd.Series(\n",
    "            0,\n",
    "            index=np.arange(\n",
    "                data_merged['visitors_per_dateA'].sum() - len(orders_per_userA['orders'])\n",
    "            ),\n",
    "            name='orders',\n",
    "        ),\n",
    "    ],\n",
    "    axis=0,\n",
    ") "
   ]
  },
  {
   "cell_type": "code",
   "execution_count": 57,
   "metadata": {},
   "outputs": [],
   "source": [
    "sampleB_filtered = pd.concat(\n",
    "    [\n",
    "        orders_per_userB[\n",
    "            np.logical_not(orders_per_userB['user_id'].isin(abnormal_users))\n",
    "        ]['orders'],\n",
    "        pd.Series(\n",
    "            0,\n",
    "            index=np.arange(\n",
    "                data_merged['visitors_per_dateB'].sum() - len(orders_per_userB['orders'])\n",
    "            ),\n",
    "            name='orders',\n",
    "        ),\n",
    "    ],\n",
    "    axis=0,\n",
    ") "
   ]
  },
  {
   "cell_type": "markdown",
   "metadata": {},
   "source": [
    "H0: статистически значимых различий в среднем количестве заказов на посетителя между группами А и В по «очищенным» данным нет.\\\n",
    "H1: статистически значимые различия в среднем количестве заказов на посетителя между группами А и В по «очищенным» данным есть."
   ]
  },
  {
   "cell_type": "code",
   "execution_count": 58,
   "metadata": {},
   "outputs": [
    {
     "name": "stdout",
     "output_type": "stream",
     "text": [
      "p-value = 0.016\n",
      "разница между сегментами = 0.174\n"
     ]
    }
   ],
   "source": [
    "p_value3='{0:.3f}'.format(stats.mannwhitneyu(sampleA_filtered, sampleB_filtered)[1])\n",
    "difference3='{0:.3f}'.format(sampleB_filtered.mean()/sampleA_filtered.mean()-1)\n",
    "\n",
    "print('p-value =', p_value3)\n",
    "print('разница между сегментами =', difference3)"
   ]
  },
  {
   "cell_type": "markdown",
   "metadata": {},
   "source": [
    "**Вывод:**"
   ]
  },
  {
   "cell_type": "code",
   "execution_count": 59,
   "metadata": {},
   "outputs": [
    {
     "data": {
      "text/html": [
       "<div>\n",
       "<style scoped>\n",
       "    .dataframe tbody tr th:only-of-type {\n",
       "        vertical-align: middle;\n",
       "    }\n",
       "\n",
       "    .dataframe tbody tr th {\n",
       "        vertical-align: top;\n",
       "    }\n",
       "\n",
       "    .dataframe thead th {\n",
       "        text-align: right;\n",
       "    }\n",
       "</style>\n",
       "<table border=\"1\" class=\"dataframe\">\n",
       "  <thead>\n",
       "    <tr style=\"text-align: right;\">\n",
       "      <th></th>\n",
       "      <th>Параметр</th>\n",
       "      <th>p-value</th>\n",
       "      <th>Разница между сегментами</th>\n",
       "    </tr>\n",
       "  </thead>\n",
       "  <tbody>\n",
       "    <tr>\n",
       "      <th>0</th>\n",
       "      <td>Среднее кол-во заказов на посетителя</td>\n",
       "      <td>0.016</td>\n",
       "      <td>0.174</td>\n",
       "    </tr>\n",
       "  </tbody>\n",
       "</table>\n",
       "</div>"
      ],
      "text/plain": [
       "                               Параметр p-value Разница между сегментами\n",
       "0  Среднее кол-во заказов на посетителя   0.016                    0.174"
      ]
     },
     "execution_count": 59,
     "metadata": {},
     "output_type": "execute_result"
    }
   ],
   "source": [
    "pd.DataFrame(data=[['Среднее кол-во заказов на посетителя', p_value3, difference3]],\n",
    "            columns=['Параметр','p-value','Разница между сегментами'])"
   ]
  },
  {
   "cell_type": "markdown",
   "metadata": {},
   "source": [
    "*Количество заказов\\посетитель*: p-value, рассчитанное по \"очищенным\" данным, (также как и в ситуации с [\"сырыми\" данными](#k)) меньше уровня значимости 5%, - значит, мы отвергаем нулевую гипотезу об отсутствии отличий в среднем количестве заказов на посетителя. Показатели отфильтрованной группы B больше на 17% и являются статистически значимыми."
   ]
  },
  {
   "cell_type": "markdown",
   "metadata": {},
   "source": [
    "#### Средний чек заказа\n",
    "\n",
    "<a id='n'></a>"
   ]
  },
  {
   "cell_type": "markdown",
   "metadata": {},
   "source": [
    "H0: статистически значимых различий в среднем чеке заказа между группами А и В по «очищенным» данным нет.\\\n",
    "H1: статистически значимые различия в среднем чеке заказа между группами А и В по «очищенным» данным есть."
   ]
  },
  {
   "cell_type": "code",
   "execution_count": 60,
   "metadata": {},
   "outputs": [
    {
     "name": "stdout",
     "output_type": "stream",
     "text": [
      "p-value = 0.727\n",
      "разница между сегментами = -0.034\n"
     ]
    }
   ],
   "source": [
    "p_value4= '{0:.3f}'.format(\n",
    "        stats.mannwhitneyu(\n",
    "            orders[\n",
    "                np.logical_and(\n",
    "                    orders['group'] == 'A',\n",
    "                    np.logical_not(orders['visitorid'].isin(abnormal_users)),\n",
    "                )\n",
    "            ]['revenue'],\n",
    "            orders[\n",
    "                np.logical_and(\n",
    "                    orders['group'] == 'B',\n",
    "                    np.logical_not(orders['visitorid'].isin(abnormal_users)),\n",
    "                )\n",
    "            ]['revenue'],\n",
    "        )[1]\n",
    "    )\n",
    "difference4=\"{0:.3f}\".format(\n",
    "        orders[\n",
    "            np.logical_and(\n",
    "                orders['group'] == 'B',\n",
    "                np.logical_not(orders['visitorid'].isin(abnormal_users)),\n",
    "            )\n",
    "        ]['revenue'].mean()\n",
    "        / orders[\n",
    "            np.logical_and(\n",
    "                orders['group'] == 'A',\n",
    "                np.logical_not(orders['visitorid'].isin(abnormal_users)),\n",
    "            )\n",
    "        ]['revenue'].mean()\n",
    "        - 1\n",
    "    )\n",
    "\n",
    "print('p-value =',\n",
    "    p_value4\n",
    ")\n",
    "\n",
    "print('разница между сегментами =',\n",
    "    difference4\n",
    ")"
   ]
  },
  {
   "cell_type": "markdown",
   "metadata": {},
   "source": [
    "**Вывод:**"
   ]
  },
  {
   "cell_type": "code",
   "execution_count": 61,
   "metadata": {},
   "outputs": [
    {
     "data": {
      "text/html": [
       "<div>\n",
       "<style scoped>\n",
       "    .dataframe tbody tr th:only-of-type {\n",
       "        vertical-align: middle;\n",
       "    }\n",
       "\n",
       "    .dataframe tbody tr th {\n",
       "        vertical-align: top;\n",
       "    }\n",
       "\n",
       "    .dataframe thead th {\n",
       "        text-align: right;\n",
       "    }\n",
       "</style>\n",
       "<table border=\"1\" class=\"dataframe\">\n",
       "  <thead>\n",
       "    <tr style=\"text-align: right;\">\n",
       "      <th></th>\n",
       "      <th>Параметр</th>\n",
       "      <th>p-value</th>\n",
       "      <th>Разница между сегментами</th>\n",
       "    </tr>\n",
       "  </thead>\n",
       "  <tbody>\n",
       "    <tr>\n",
       "      <th>0</th>\n",
       "      <td>Средний чек заказа</td>\n",
       "      <td>0.727</td>\n",
       "      <td>-0.034</td>\n",
       "    </tr>\n",
       "  </tbody>\n",
       "</table>\n",
       "</div>"
      ],
      "text/plain": [
       "             Параметр p-value Разница между сегментами\n",
       "0  Средний чек заказа   0.727                   -0.034"
      ]
     },
     "execution_count": 61,
     "metadata": {},
     "output_type": "execute_result"
    }
   ],
   "source": [
    "pd.DataFrame(data=[['Средний чек заказа',p_value4, difference4]],\n",
    "            columns=['Параметр','p-value','Разница между сегментами'])"
   ]
  },
  {
   "cell_type": "markdown",
   "metadata": {},
   "source": [
    "*Средний чек заказа*: p-value, рассчитанное по \"сырым\" данным, [по-прежнему](#l) ощутимо выше уровня значимости 5%, значит, в данном случае, нулевую гипотезу об отсутсвии отличий в среднем чеке заказа у пользователей из групп A и B принимаем. Почистив данные, мы видим, что группа B проигрывает на 3%, разница не является статистически значимой."
   ]
  },
  {
   "cell_type": "markdown",
   "metadata": {},
   "source": [
    "#### Вывод по A/B-тесту"
   ]
  },
  {
   "cell_type": "markdown",
   "metadata": {},
   "source": [
    "Исходя из полученных в настоящий момент данных, на данном этапе результаты A/B-теста:\n",
    "- Есть статистически значимое различие по среднему количеству заказов на посетителя между группами как по сырым данным, так и по обработанным.\n",
    "- По среднему чеку статистически значимое различие между группами отсутствует.\n",
    "- По неравномерному графику относительного изменения среднего чека (группы B к A) выводы сделать невозможно, но по графику относительного изменения количества заказов (группы B к A) группа B показывает более высокие показатели.\\\n",
    "\\\n",
    "Тест рекомендуется завершить."
   ]
  },
  {
   "cell_type": "markdown",
   "metadata": {},
   "source": [
    "### Общий вывод\n",
    "\n",
    "<a id='o'></a>"
   ]
  },
  {
   "cell_type": "markdown",
   "metadata": {},
   "source": [
    "В ходе исследования были рассмотрены **данные крупного интернет-магазина с 1 по 31 августа 2024 года**: список гипотез для увеличения выручки, результаты проведённого ранее A/B-теста.\n",
    "\n"
   ]
  },
  {
   "cell_type": "markdown",
   "metadata": {},
   "source": [
    "Из 9-ти данных гипотез, по оценкам фреймворков приоритизации  ICE и RICE **наиболее важными** для тестирования можно считать *гипотезу 8 - 'Добавить форму подписки на все основные страницы, чтобы собрать базу клиентов для email-рассылок'* и, чуть менее важную, *гипотезу 1 - 'Добавить два новых канала привлечения трафика, что позволит привлекать на 30% больше пользователей'*.\\\n",
    "\\\n",
    "**Наименее приоритетными** показали себя *гипотеза 5 - 'Изменить цвет фона главной страницы, чтобы увеличить вовлечённость пользователей'* и *гипотеза 6 - 'Добавить страницу отзывов клиентов о магазине, что позволит увеличить количество заказов'*.\\\n",
    "\\\n",
    "Приоритетность гипотез хорошо видна на графиках [ICE](#c) и [RICE](#d)."
   ]
  },
  {
   "cell_type": "markdown",
   "metadata": {},
   "source": [
    "Из первичного анализа датафрейма с информацией о заказах, важно отметить, что 58 пользователей попало в обе группы A/B теста. Поскольку их количество составляет около 5% от общего количества данных, было решено убрать из анализа данные о повторяющихся пользователях. В итоге в таблице осталиь 1016 записей."
   ]
  },
  {
   "cell_type": "markdown",
   "metadata": {},
   "source": [
    "Анализ стабильности кумулятивных метрик показал:\n",
    "1. **Кумулятивная выручка** практически равномерно растет на протяжении всего проведения теста. Показатели группы группы B, на данный момент, выше показателей группы A. Резкий всплеск у группы B - 18-19 августа - скорее всего пользователем был совершен аномально-дорогой заказ или большое количество заказов.\n",
    "2. **Кумулятивный средний чек** то растет, то падает, очень неравномерен. Особенно резкий всплеск также 18-19 августа. Выводы касательно лидерства той или иной группы делать пока не стоит, слишком неравномерные данные. Вероятно большое количество аномальных неоднородных значений.\n",
    "3. **Кумулятивное среднее количество заказов на посетителя** также неравномерно. В начале лидирует группа A, но к 10-му числу читуация меняется и показатели группы B - хотя не равномерны - но стабильно выше показателей группы A."
   ]
  },
  {
   "cell_type": "markdown",
   "metadata": {},
   "source": [
    "Анализ **выбросов значений в количестве заказов по пользователям и стоимости заказов по пользователям** показал:\\\n",
    "99% пользователей делают до 2-ух заказов. Границей аномальных значений выберем 1 заказ - всего 5% пользователей совершали больше одного заказа.\\\n",
    "99% пользователей совершают заказы до 58 000. Границей аномальных значений выберем 29 000 - всего 5% пользователей совершали более дорогие заказы."
   ]
  },
  {
   "cell_type": "markdown",
   "metadata": {},
   "source": [
    "Согласно результатам **рассчёта статистически-значимых различий**:\n",
    "1. На данном этапе при работе с сырыми данными, и с данными очищенными от выбросов отвергается нулевая гипотеза об отсуствии отличий между группами A и B *в среднем количестве заказов* на 1-го посетителя.\n",
    "\n",
    "2. При работе с сырыми данными, и с данными очищенными от выбросов *принимаем нулевую гипотезу об отсутствии отличий средних чеков заказа* у двух групп A и B."
   ]
  },
  {
   "cell_type": "markdown",
   "metadata": {},
   "source": [
    "Отсюда, можем сделать вывод по результатам A/B-теста:\n",
    "- Есть статистически значимое различие по среднему количеству заказов на посетителя между группами как по сырым данным, так и по обработанным.\n",
    "- По среднему чеку статистически значимое различие между группами отсутствует.\n",
    "- По неравномерному [графику относительного изменения среднего чека (группы B к A)](#g) выводы сделать невозможно, но по [графику относительного изменения количества заказов (группы B к A)](#h) **группа B показывает более высокие показатели**.\\\n",
    "\\\n",
    "Тест можно считать успешным, его **рекомендуется завершить.**"
   ]
  }
 ],
 "metadata": {
  "ExecuteTimeLog": [
   {
    "duration": 70,
    "start_time": "2024-09-09T08:55:07.351Z"
   },
   {
    "duration": 1293,
    "start_time": "2024-09-09T08:55:24.552Z"
   },
   {
    "duration": 2097,
    "start_time": "2024-09-09T08:55:47.049Z"
   },
   {
    "duration": 4,
    "start_time": "2024-09-09T08:56:00.560Z"
   },
   {
    "duration": 243,
    "start_time": "2024-09-09T08:57:18.688Z"
   },
   {
    "duration": 3,
    "start_time": "2024-09-09T08:57:21.926Z"
   },
   {
    "duration": 20,
    "start_time": "2024-09-09T08:58:08.910Z"
   },
   {
    "duration": 11,
    "start_time": "2024-09-09T08:59:42.745Z"
   },
   {
    "duration": 19,
    "start_time": "2024-09-09T09:00:58.377Z"
   },
   {
    "duration": 5,
    "start_time": "2024-09-09T09:01:22.140Z"
   },
   {
    "duration": 5,
    "start_time": "2024-09-09T09:01:26.227Z"
   },
   {
    "duration": 5,
    "start_time": "2024-09-09T09:01:30.486Z"
   },
   {
    "duration": 9,
    "start_time": "2024-09-09T09:01:37.201Z"
   },
   {
    "duration": 18,
    "start_time": "2024-09-09T09:04:29.184Z"
   },
   {
    "duration": 82,
    "start_time": "2024-09-09T09:05:46.871Z"
   },
   {
    "duration": 14,
    "start_time": "2024-09-09T09:05:51.205Z"
   },
   {
    "duration": 5,
    "start_time": "2024-09-09T09:06:16.730Z"
   },
   {
    "duration": 6,
    "start_time": "2024-09-09T09:07:04.093Z"
   },
   {
    "duration": 13,
    "start_time": "2024-09-09T09:07:30.539Z"
   },
   {
    "duration": 5,
    "start_time": "2024-09-09T09:07:31.937Z"
   },
   {
    "duration": 4,
    "start_time": "2024-09-09T09:07:34.352Z"
   },
   {
    "duration": 5,
    "start_time": "2024-09-09T09:07:56.903Z"
   },
   {
    "duration": 15,
    "start_time": "2024-09-09T09:09:16.853Z"
   },
   {
    "duration": 12,
    "start_time": "2024-09-09T09:10:57.334Z"
   },
   {
    "duration": 6,
    "start_time": "2024-09-09T09:11:00.264Z"
   },
   {
    "duration": 863,
    "start_time": "2024-09-09T09:11:03.683Z"
   },
   {
    "duration": 5,
    "start_time": "2024-09-09T09:11:30.483Z"
   },
   {
    "duration": 5,
    "start_time": "2024-09-09T09:11:36.301Z"
   },
   {
    "duration": 6,
    "start_time": "2024-09-09T09:14:44.049Z"
   },
   {
    "duration": 777,
    "start_time": "2024-09-09T09:15:02.765Z"
   },
   {
    "duration": 5,
    "start_time": "2024-09-09T09:15:14.469Z"
   },
   {
    "duration": 12,
    "start_time": "2024-09-09T09:15:21.014Z"
   },
   {
    "duration": 8,
    "start_time": "2024-09-09T09:15:54.697Z"
   },
   {
    "duration": 10,
    "start_time": "2024-09-09T09:16:14.172Z"
   },
   {
    "duration": 9,
    "start_time": "2024-09-09T09:17:20.033Z"
   },
   {
    "duration": 12,
    "start_time": "2024-09-09T09:18:19.442Z"
   },
   {
    "duration": 4,
    "start_time": "2024-09-09T09:18:23.086Z"
   },
   {
    "duration": 12,
    "start_time": "2024-09-09T09:18:26.069Z"
   },
   {
    "duration": 1513,
    "start_time": "2024-09-10T08:37:31.785Z"
   },
   {
    "duration": 242,
    "start_time": "2024-09-10T08:37:33.300Z"
   },
   {
    "duration": 4,
    "start_time": "2024-09-10T08:37:33.544Z"
   },
   {
    "duration": 39,
    "start_time": "2024-09-10T08:37:33.549Z"
   },
   {
    "duration": 29,
    "start_time": "2024-09-10T08:37:33.590Z"
   },
   {
    "duration": 25,
    "start_time": "2024-09-10T08:37:33.620Z"
   },
   {
    "duration": 18,
    "start_time": "2024-09-10T08:37:33.647Z"
   },
   {
    "duration": 14,
    "start_time": "2024-09-10T08:37:33.667Z"
   },
   {
    "duration": 30,
    "start_time": "2024-09-10T08:37:33.683Z"
   },
   {
    "duration": 18,
    "start_time": "2024-09-10T08:37:33.715Z"
   },
   {
    "duration": 31,
    "start_time": "2024-09-10T08:37:33.735Z"
   },
   {
    "duration": 18,
    "start_time": "2024-09-10T08:37:33.768Z"
   },
   {
    "duration": 26,
    "start_time": "2024-09-10T08:37:33.788Z"
   },
   {
    "duration": 5,
    "start_time": "2024-09-10T08:37:33.817Z"
   },
   {
    "duration": 7,
    "start_time": "2024-09-10T08:37:33.823Z"
   },
   {
    "duration": 17,
    "start_time": "2024-09-10T08:37:33.831Z"
   },
   {
    "duration": 26,
    "start_time": "2024-09-10T08:37:33.849Z"
   },
   {
    "duration": 5,
    "start_time": "2024-09-10T08:37:33.877Z"
   },
   {
    "duration": 37,
    "start_time": "2024-09-10T08:37:33.884Z"
   },
   {
    "duration": 23,
    "start_time": "2024-09-10T08:37:33.923Z"
   },
   {
    "duration": 4,
    "start_time": "2024-09-10T08:43:49.360Z"
   },
   {
    "duration": 95,
    "start_time": "2024-09-10T08:43:49.366Z"
   },
   {
    "duration": 3,
    "start_time": "2024-09-10T08:43:49.462Z"
   },
   {
    "duration": 161,
    "start_time": "2024-09-10T08:43:49.468Z"
   },
   {
    "duration": 14,
    "start_time": "2024-09-10T08:43:49.631Z"
   },
   {
    "duration": 13,
    "start_time": "2024-09-10T08:43:49.647Z"
   },
   {
    "duration": 5,
    "start_time": "2024-09-10T08:43:49.662Z"
   },
   {
    "duration": 12,
    "start_time": "2024-09-10T08:43:49.669Z"
   },
   {
    "duration": 15,
    "start_time": "2024-09-10T08:43:49.699Z"
   },
   {
    "duration": 31,
    "start_time": "2024-09-10T08:43:49.717Z"
   },
   {
    "duration": 32,
    "start_time": "2024-09-10T08:43:49.750Z"
   },
   {
    "duration": 24,
    "start_time": "2024-09-10T08:43:49.784Z"
   },
   {
    "duration": 5,
    "start_time": "2024-09-10T08:43:49.817Z"
   },
   {
    "duration": 11,
    "start_time": "2024-09-10T08:43:49.824Z"
   },
   {
    "duration": 6,
    "start_time": "2024-09-10T08:43:49.837Z"
   },
   {
    "duration": 24,
    "start_time": "2024-09-10T08:43:49.845Z"
   },
   {
    "duration": 12,
    "start_time": "2024-09-10T08:43:49.871Z"
   },
   {
    "duration": 19,
    "start_time": "2024-09-10T08:43:49.899Z"
   },
   {
    "duration": 8,
    "start_time": "2024-09-10T08:43:49.920Z"
   },
   {
    "duration": 6,
    "start_time": "2024-09-10T08:43:49.929Z"
   },
   {
    "duration": 8,
    "start_time": "2024-09-10T08:46:23.469Z"
   },
   {
    "duration": 11,
    "start_time": "2024-09-10T08:46:57.870Z"
   },
   {
    "duration": 66,
    "start_time": "2024-09-10T10:10:03.331Z"
   },
   {
    "duration": 44,
    "start_time": "2024-09-10T10:14:27.664Z"
   },
   {
    "duration": 1417,
    "start_time": "2024-09-10T10:14:31.779Z"
   },
   {
    "duration": 241,
    "start_time": "2024-09-10T10:14:33.198Z"
   },
   {
    "duration": 4,
    "start_time": "2024-09-10T10:14:33.440Z"
   },
   {
    "duration": 72,
    "start_time": "2024-09-10T10:14:33.445Z"
   },
   {
    "duration": 32,
    "start_time": "2024-09-10T10:14:33.518Z"
   },
   {
    "duration": 21,
    "start_time": "2024-09-10T10:14:33.552Z"
   },
   {
    "duration": 5,
    "start_time": "2024-09-10T10:14:33.574Z"
   },
   {
    "duration": 17,
    "start_time": "2024-09-10T10:14:33.581Z"
   },
   {
    "duration": 13,
    "start_time": "2024-09-10T10:14:33.600Z"
   },
   {
    "duration": 23,
    "start_time": "2024-09-10T10:14:33.615Z"
   },
   {
    "duration": 28,
    "start_time": "2024-09-10T10:14:33.639Z"
   },
   {
    "duration": 13,
    "start_time": "2024-09-10T10:14:33.669Z"
   },
   {
    "duration": 5,
    "start_time": "2024-09-10T10:14:33.683Z"
   },
   {
    "duration": 20,
    "start_time": "2024-09-10T10:14:33.690Z"
   },
   {
    "duration": 18,
    "start_time": "2024-09-10T10:14:33.712Z"
   },
   {
    "duration": 24,
    "start_time": "2024-09-10T10:14:33.732Z"
   },
   {
    "duration": 25,
    "start_time": "2024-09-10T10:14:33.762Z"
   },
   {
    "duration": 28,
    "start_time": "2024-09-10T10:14:33.789Z"
   },
   {
    "duration": 5,
    "start_time": "2024-09-10T10:14:33.818Z"
   },
   {
    "duration": 11,
    "start_time": "2024-09-10T10:14:33.825Z"
   },
   {
    "duration": 6,
    "start_time": "2024-09-10T10:14:38.564Z"
   },
   {
    "duration": 178,
    "start_time": "2024-09-10T10:15:41.961Z"
   },
   {
    "duration": 122,
    "start_time": "2024-09-10T10:16:18.325Z"
   },
   {
    "duration": 17,
    "start_time": "2024-09-10T10:16:37.245Z"
   },
   {
    "duration": 270,
    "start_time": "2024-09-10T10:17:01.465Z"
   },
   {
    "duration": 209,
    "start_time": "2024-09-10T10:17:20.719Z"
   },
   {
    "duration": 235,
    "start_time": "2024-09-10T10:17:40.342Z"
   },
   {
    "duration": 201,
    "start_time": "2024-09-10T10:17:54.727Z"
   },
   {
    "duration": 173,
    "start_time": "2024-09-10T10:18:44.857Z"
   },
   {
    "duration": 66,
    "start_time": "2024-09-10T10:18:55.144Z"
   },
   {
    "duration": 159,
    "start_time": "2024-09-10T10:19:00.790Z"
   },
   {
    "duration": 265,
    "start_time": "2024-09-10T10:19:07.895Z"
   },
   {
    "duration": 177,
    "start_time": "2024-09-10T10:19:58.632Z"
   },
   {
    "duration": 351,
    "start_time": "2024-09-10T10:20:31.935Z"
   },
   {
    "duration": 221,
    "start_time": "2024-09-10T10:21:03.960Z"
   },
   {
    "duration": 204,
    "start_time": "2024-09-10T10:21:36.817Z"
   },
   {
    "duration": 223,
    "start_time": "2024-09-10T10:21:55.938Z"
   },
   {
    "duration": 174,
    "start_time": "2024-09-10T10:22:47.769Z"
   },
   {
    "duration": 3,
    "start_time": "2024-09-10T10:24:26.496Z"
   },
   {
    "duration": 86,
    "start_time": "2024-09-10T10:24:26.501Z"
   },
   {
    "duration": 3,
    "start_time": "2024-09-10T10:24:26.588Z"
   },
   {
    "duration": 16,
    "start_time": "2024-09-10T10:24:26.593Z"
   },
   {
    "duration": 10,
    "start_time": "2024-09-10T10:24:26.610Z"
   },
   {
    "duration": 8,
    "start_time": "2024-09-10T10:24:26.622Z"
   },
   {
    "duration": 4,
    "start_time": "2024-09-10T10:24:26.631Z"
   },
   {
    "duration": 21,
    "start_time": "2024-09-10T10:24:26.637Z"
   },
   {
    "duration": 5,
    "start_time": "2024-09-10T10:24:26.664Z"
   },
   {
    "duration": 20,
    "start_time": "2024-09-10T10:24:26.671Z"
   },
   {
    "duration": 14,
    "start_time": "2024-09-10T10:24:26.692Z"
   },
   {
    "duration": 9,
    "start_time": "2024-09-10T10:24:26.708Z"
   },
   {
    "duration": 7,
    "start_time": "2024-09-10T10:24:26.718Z"
   },
   {
    "duration": 9,
    "start_time": "2024-09-10T10:24:26.754Z"
   },
   {
    "duration": 12,
    "start_time": "2024-09-10T10:24:26.765Z"
   },
   {
    "duration": 13,
    "start_time": "2024-09-10T10:24:26.779Z"
   },
   {
    "duration": 9,
    "start_time": "2024-09-10T10:24:26.794Z"
   },
   {
    "duration": 23,
    "start_time": "2024-09-10T10:24:26.805Z"
   },
   {
    "duration": 25,
    "start_time": "2024-09-10T10:24:26.829Z"
   },
   {
    "duration": 10,
    "start_time": "2024-09-10T10:24:26.858Z"
   },
   {
    "duration": 5,
    "start_time": "2024-09-10T10:24:26.870Z"
   },
   {
    "duration": 305,
    "start_time": "2024-09-10T10:24:26.877Z"
   },
   {
    "duration": 8,
    "start_time": "2024-09-10T10:24:27.184Z"
   },
   {
    "duration": 288,
    "start_time": "2024-09-10T10:24:27.195Z"
   },
   {
    "duration": 280,
    "start_time": "2024-09-10T10:24:27.485Z"
   },
   {
    "duration": 383,
    "start_time": "2024-09-10T10:24:27.767Z"
   },
   {
    "duration": 278,
    "start_time": "2024-09-10T10:24:28.153Z"
   },
   {
    "duration": 3,
    "start_time": "2024-09-10T10:24:50.071Z"
   },
   {
    "duration": 91,
    "start_time": "2024-09-10T10:24:50.076Z"
   },
   {
    "duration": 3,
    "start_time": "2024-09-10T10:24:50.168Z"
   },
   {
    "duration": 14,
    "start_time": "2024-09-10T10:24:50.173Z"
   },
   {
    "duration": 9,
    "start_time": "2024-09-10T10:24:50.189Z"
   },
   {
    "duration": 8,
    "start_time": "2024-09-10T10:24:50.199Z"
   },
   {
    "duration": 5,
    "start_time": "2024-09-10T10:24:50.209Z"
   },
   {
    "duration": 19,
    "start_time": "2024-09-10T10:24:50.216Z"
   },
   {
    "duration": 26,
    "start_time": "2024-09-10T10:24:50.237Z"
   },
   {
    "duration": 13,
    "start_time": "2024-09-10T10:24:50.265Z"
   },
   {
    "duration": 21,
    "start_time": "2024-09-10T10:24:50.280Z"
   },
   {
    "duration": 24,
    "start_time": "2024-09-10T10:24:50.303Z"
   },
   {
    "duration": 21,
    "start_time": "2024-09-10T10:24:50.329Z"
   },
   {
    "duration": 21,
    "start_time": "2024-09-10T10:24:50.354Z"
   },
   {
    "duration": 8,
    "start_time": "2024-09-10T10:24:50.377Z"
   },
   {
    "duration": 23,
    "start_time": "2024-09-10T10:24:50.387Z"
   },
   {
    "duration": 29,
    "start_time": "2024-09-10T10:24:50.411Z"
   },
   {
    "duration": 24,
    "start_time": "2024-09-10T10:24:50.441Z"
   },
   {
    "duration": 7,
    "start_time": "2024-09-10T10:24:50.466Z"
   },
   {
    "duration": 5,
    "start_time": "2024-09-10T10:24:50.474Z"
   },
   {
    "duration": 6,
    "start_time": "2024-09-10T10:24:50.481Z"
   },
   {
    "duration": 314,
    "start_time": "2024-09-10T10:24:50.488Z"
   },
   {
    "duration": 9,
    "start_time": "2024-09-10T10:24:50.804Z"
   },
   {
    "duration": 207,
    "start_time": "2024-09-10T10:24:50.816Z"
   },
   {
    "duration": 191,
    "start_time": "2024-09-10T10:24:51.024Z"
   },
   {
    "duration": 269,
    "start_time": "2024-09-10T10:24:51.216Z"
   },
   {
    "duration": 226,
    "start_time": "2024-09-10T10:24:51.487Z"
   },
   {
    "duration": 218,
    "start_time": "2024-09-10T10:25:14.538Z"
   },
   {
    "duration": 224,
    "start_time": "2024-09-10T10:27:07.995Z"
   },
   {
    "duration": 198,
    "start_time": "2024-09-10T10:27:58.980Z"
   },
   {
    "duration": 361,
    "start_time": "2024-09-10T10:28:35.547Z"
   },
   {
    "duration": 315,
    "start_time": "2024-09-10T10:28:52.084Z"
   },
   {
    "duration": 311,
    "start_time": "2024-09-10T10:28:56.501Z"
   },
   {
    "duration": 3,
    "start_time": "2024-09-10T10:29:34.225Z"
   },
   {
    "duration": 100,
    "start_time": "2024-09-10T10:29:34.230Z"
   },
   {
    "duration": 3,
    "start_time": "2024-09-10T10:29:34.332Z"
   },
   {
    "duration": 19,
    "start_time": "2024-09-10T10:29:34.337Z"
   },
   {
    "duration": 11,
    "start_time": "2024-09-10T10:29:34.358Z"
   },
   {
    "duration": 7,
    "start_time": "2024-09-10T10:29:34.371Z"
   },
   {
    "duration": 13,
    "start_time": "2024-09-10T10:29:34.380Z"
   },
   {
    "duration": 20,
    "start_time": "2024-09-10T10:29:34.395Z"
   },
   {
    "duration": 18,
    "start_time": "2024-09-10T10:29:34.417Z"
   },
   {
    "duration": 12,
    "start_time": "2024-09-10T10:29:34.436Z"
   },
   {
    "duration": 22,
    "start_time": "2024-09-10T10:29:34.451Z"
   },
   {
    "duration": 12,
    "start_time": "2024-09-10T10:29:34.475Z"
   },
   {
    "duration": 21,
    "start_time": "2024-09-10T10:29:34.489Z"
   },
   {
    "duration": 6,
    "start_time": "2024-09-10T10:29:34.511Z"
   },
   {
    "duration": 6,
    "start_time": "2024-09-10T10:29:34.518Z"
   },
   {
    "duration": 30,
    "start_time": "2024-09-10T10:29:34.525Z"
   },
   {
    "duration": 13,
    "start_time": "2024-09-10T10:29:34.557Z"
   },
   {
    "duration": 20,
    "start_time": "2024-09-10T10:29:34.572Z"
   },
   {
    "duration": 19,
    "start_time": "2024-09-10T10:29:34.594Z"
   },
   {
    "duration": 15,
    "start_time": "2024-09-10T10:29:34.615Z"
   },
   {
    "duration": 7,
    "start_time": "2024-09-10T10:29:34.632Z"
   },
   {
    "duration": 268,
    "start_time": "2024-09-10T10:29:34.641Z"
   },
   {
    "duration": 10,
    "start_time": "2024-09-10T10:29:34.911Z"
   },
   {
    "duration": 194,
    "start_time": "2024-09-10T10:29:34.923Z"
   },
   {
    "duration": 299,
    "start_time": "2024-09-10T10:29:35.118Z"
   },
   {
    "duration": 298,
    "start_time": "2024-09-10T10:29:35.419Z"
   },
   {
    "duration": 215,
    "start_time": "2024-09-10T10:29:35.719Z"
   },
   {
    "duration": 362,
    "start_time": "2024-09-10T10:29:35.936Z"
   },
   {
    "duration": 240,
    "start_time": "2024-09-10T10:30:42.844Z"
   },
   {
    "duration": 224,
    "start_time": "2024-09-10T10:31:10.357Z"
   },
   {
    "duration": 205,
    "start_time": "2024-09-10T10:31:16.661Z"
   },
   {
    "duration": 2517,
    "start_time": "2024-09-10T10:31:49.077Z"
   },
   {
    "duration": 300,
    "start_time": "2024-09-10T10:32:04.678Z"
   },
   {
    "duration": 3,
    "start_time": "2024-09-10T10:32:13.723Z"
   },
   {
    "duration": 100,
    "start_time": "2024-09-10T10:32:13.728Z"
   },
   {
    "duration": 3,
    "start_time": "2024-09-10T10:32:13.830Z"
   },
   {
    "duration": 36,
    "start_time": "2024-09-10T10:32:13.836Z"
   },
   {
    "duration": 19,
    "start_time": "2024-09-10T10:32:13.875Z"
   },
   {
    "duration": 27,
    "start_time": "2024-09-10T10:32:13.897Z"
   },
   {
    "duration": 40,
    "start_time": "2024-09-10T10:32:13.926Z"
   },
   {
    "duration": 20,
    "start_time": "2024-09-10T10:32:13.968Z"
   },
   {
    "duration": 11,
    "start_time": "2024-09-10T10:32:13.991Z"
   },
   {
    "duration": 15,
    "start_time": "2024-09-10T10:32:14.005Z"
   },
   {
    "duration": 20,
    "start_time": "2024-09-10T10:32:14.022Z"
   },
   {
    "duration": 32,
    "start_time": "2024-09-10T10:32:16.909Z"
   },
   {
    "duration": 8,
    "start_time": "2024-09-10T10:32:29.038Z"
   },
   {
    "duration": 3,
    "start_time": "2024-09-10T10:32:48.748Z"
   },
   {
    "duration": 86,
    "start_time": "2024-09-10T10:32:48.754Z"
   },
   {
    "duration": 4,
    "start_time": "2024-09-10T10:32:48.842Z"
   },
   {
    "duration": 16,
    "start_time": "2024-09-10T10:32:48.847Z"
   },
   {
    "duration": 13,
    "start_time": "2024-09-10T10:32:48.866Z"
   },
   {
    "duration": 10,
    "start_time": "2024-09-10T10:32:48.881Z"
   },
   {
    "duration": 16,
    "start_time": "2024-09-10T10:32:48.893Z"
   },
   {
    "duration": 12,
    "start_time": "2024-09-10T10:32:48.911Z"
   },
   {
    "duration": 5,
    "start_time": "2024-09-10T10:32:48.924Z"
   },
   {
    "duration": 10,
    "start_time": "2024-09-10T10:32:48.951Z"
   },
   {
    "duration": 16,
    "start_time": "2024-09-10T10:32:48.964Z"
   },
   {
    "duration": 21,
    "start_time": "2024-09-10T10:32:48.982Z"
   },
   {
    "duration": 12,
    "start_time": "2024-09-10T10:32:49.005Z"
   },
   {
    "duration": 35,
    "start_time": "2024-09-10T10:32:49.019Z"
   },
   {
    "duration": 6,
    "start_time": "2024-09-10T10:32:49.056Z"
   },
   {
    "duration": 16,
    "start_time": "2024-09-10T10:32:49.063Z"
   },
   {
    "duration": 12,
    "start_time": "2024-09-10T10:32:51.629Z"
   },
   {
    "duration": 6,
    "start_time": "2024-09-10T10:32:54.797Z"
   },
   {
    "duration": 5,
    "start_time": "2024-09-10T10:32:55.613Z"
   },
   {
    "duration": 5,
    "start_time": "2024-09-10T10:32:56.576Z"
   },
   {
    "duration": 3,
    "start_time": "2024-09-10T10:33:13.204Z"
   },
   {
    "duration": 83,
    "start_time": "2024-09-10T10:33:13.208Z"
   },
   {
    "duration": 4,
    "start_time": "2024-09-10T10:33:13.293Z"
   },
   {
    "duration": 44,
    "start_time": "2024-09-10T10:33:13.298Z"
   },
   {
    "duration": 13,
    "start_time": "2024-09-10T10:33:13.344Z"
   },
   {
    "duration": 8,
    "start_time": "2024-09-10T10:33:13.359Z"
   },
   {
    "duration": 4,
    "start_time": "2024-09-10T10:33:13.368Z"
   },
   {
    "duration": 12,
    "start_time": "2024-09-10T10:33:13.373Z"
   },
   {
    "duration": 19,
    "start_time": "2024-09-10T10:33:13.386Z"
   },
   {
    "duration": 12,
    "start_time": "2024-09-10T10:33:13.406Z"
   },
   {
    "duration": 22,
    "start_time": "2024-09-10T10:33:13.421Z"
   },
   {
    "duration": 21,
    "start_time": "2024-09-10T10:33:13.452Z"
   },
   {
    "duration": 6,
    "start_time": "2024-09-10T10:33:13.475Z"
   },
   {
    "duration": 60,
    "start_time": "2024-09-10T10:33:13.482Z"
   },
   {
    "duration": 9,
    "start_time": "2024-09-10T10:33:13.544Z"
   },
   {
    "duration": 17,
    "start_time": "2024-09-10T10:33:13.554Z"
   },
   {
    "duration": 14,
    "start_time": "2024-09-10T10:33:13.573Z"
   },
   {
    "duration": 15,
    "start_time": "2024-09-10T10:33:13.589Z"
   },
   {
    "duration": 6,
    "start_time": "2024-09-10T10:33:13.607Z"
   },
   {
    "duration": 6,
    "start_time": "2024-09-10T10:33:13.615Z"
   },
   {
    "duration": 6,
    "start_time": "2024-09-10T10:33:13.651Z"
   },
   {
    "duration": 322,
    "start_time": "2024-09-10T10:33:13.659Z"
   },
   {
    "duration": 13,
    "start_time": "2024-09-10T10:33:13.987Z"
   },
   {
    "duration": 222,
    "start_time": "2024-09-10T10:33:14.003Z"
   },
   {
    "duration": 189,
    "start_time": "2024-09-10T10:33:14.227Z"
   },
   {
    "duration": 300,
    "start_time": "2024-09-10T10:33:14.417Z"
   },
   {
    "duration": 199,
    "start_time": "2024-09-10T10:33:20.998Z"
   },
   {
    "duration": 209,
    "start_time": "2024-09-10T10:33:30.288Z"
   },
   {
    "duration": 220,
    "start_time": "2024-09-10T10:33:33.672Z"
   },
   {
    "duration": 350,
    "start_time": "2024-09-10T10:33:41.359Z"
   },
   {
    "duration": 9,
    "start_time": "2024-09-10T10:35:57.833Z"
   },
   {
    "duration": 123,
    "start_time": "2024-09-10T10:36:42.306Z"
   },
   {
    "duration": 5,
    "start_time": "2024-09-10T10:37:09.706Z"
   },
   {
    "duration": 11,
    "start_time": "2024-09-10T10:38:18.210Z"
   },
   {
    "duration": 129,
    "start_time": "2024-09-10T10:38:50.490Z"
   },
   {
    "duration": 6,
    "start_time": "2024-09-10T10:39:11.907Z"
   },
   {
    "duration": 10,
    "start_time": "2024-09-10T10:39:31.533Z"
   },
   {
    "duration": 10,
    "start_time": "2024-09-10T10:39:39.397Z"
   },
   {
    "duration": 3,
    "start_time": "2024-09-10T10:40:04.474Z"
   },
   {
    "duration": 93,
    "start_time": "2024-09-10T10:40:04.479Z"
   },
   {
    "duration": 3,
    "start_time": "2024-09-10T10:40:04.574Z"
   },
   {
    "duration": 29,
    "start_time": "2024-09-10T10:40:04.579Z"
   },
   {
    "duration": 11,
    "start_time": "2024-09-10T10:40:04.610Z"
   },
   {
    "duration": 16,
    "start_time": "2024-09-10T10:40:04.622Z"
   },
   {
    "duration": 11,
    "start_time": "2024-09-10T10:40:04.639Z"
   },
   {
    "duration": 24,
    "start_time": "2024-09-10T10:40:04.651Z"
   },
   {
    "duration": 26,
    "start_time": "2024-09-10T10:40:04.677Z"
   },
   {
    "duration": 14,
    "start_time": "2024-09-10T10:40:04.705Z"
   },
   {
    "duration": 142,
    "start_time": "2024-09-10T10:40:04.722Z"
   },
   {
    "duration": 20,
    "start_time": "2024-09-10T10:40:04.866Z"
   },
   {
    "duration": 12,
    "start_time": "2024-09-10T10:40:04.887Z"
   },
   {
    "duration": 6,
    "start_time": "2024-09-10T10:40:04.901Z"
   },
   {
    "duration": 5,
    "start_time": "2024-09-10T10:40:04.908Z"
   },
   {
    "duration": 42,
    "start_time": "2024-09-10T10:40:04.915Z"
   },
   {
    "duration": 11,
    "start_time": "2024-09-10T10:40:04.959Z"
   },
   {
    "duration": 6,
    "start_time": "2024-09-10T10:40:04.971Z"
   },
   {
    "duration": 5,
    "start_time": "2024-09-10T10:40:04.979Z"
   },
   {
    "duration": 13,
    "start_time": "2024-09-10T10:40:04.986Z"
   },
   {
    "duration": 7,
    "start_time": "2024-09-10T10:40:05.001Z"
   },
   {
    "duration": 295,
    "start_time": "2024-09-10T10:40:05.009Z"
   },
   {
    "duration": 10,
    "start_time": "2024-09-10T10:40:05.306Z"
   },
   {
    "duration": 210,
    "start_time": "2024-09-10T10:40:05.317Z"
   },
   {
    "duration": 188,
    "start_time": "2024-09-10T10:40:05.528Z"
   },
   {
    "duration": 317,
    "start_time": "2024-09-10T10:40:05.717Z"
   },
   {
    "duration": 231,
    "start_time": "2024-09-10T10:40:06.036Z"
   },
   {
    "duration": 0,
    "start_time": "2024-09-10T10:40:06.270Z"
   },
   {
    "duration": 0,
    "start_time": "2024-09-10T10:40:06.271Z"
   },
   {
    "duration": 0,
    "start_time": "2024-09-10T10:40:06.272Z"
   },
   {
    "duration": 0,
    "start_time": "2024-09-10T10:40:06.273Z"
   },
   {
    "duration": 0,
    "start_time": "2024-09-10T10:40:06.274Z"
   },
   {
    "duration": 0,
    "start_time": "2024-09-10T10:40:06.275Z"
   },
   {
    "duration": 0,
    "start_time": "2024-09-10T10:40:06.275Z"
   },
   {
    "duration": 3,
    "start_time": "2024-09-10T10:40:22.642Z"
   },
   {
    "duration": 83,
    "start_time": "2024-09-10T10:40:22.647Z"
   },
   {
    "duration": 4,
    "start_time": "2024-09-10T10:40:22.733Z"
   },
   {
    "duration": 18,
    "start_time": "2024-09-10T10:40:22.738Z"
   },
   {
    "duration": 11,
    "start_time": "2024-09-10T10:40:22.759Z"
   },
   {
    "duration": 12,
    "start_time": "2024-09-10T10:40:22.772Z"
   },
   {
    "duration": 7,
    "start_time": "2024-09-10T10:40:22.786Z"
   },
   {
    "duration": 10,
    "start_time": "2024-09-10T10:40:22.795Z"
   },
   {
    "duration": 5,
    "start_time": "2024-09-10T10:40:22.807Z"
   },
   {
    "duration": 49,
    "start_time": "2024-09-10T10:40:22.814Z"
   },
   {
    "duration": 17,
    "start_time": "2024-09-10T10:40:22.866Z"
   },
   {
    "duration": 21,
    "start_time": "2024-09-10T10:40:22.885Z"
   },
   {
    "duration": 7,
    "start_time": "2024-09-10T10:40:22.908Z"
   },
   {
    "duration": 6,
    "start_time": "2024-09-10T10:40:22.953Z"
   },
   {
    "duration": 7,
    "start_time": "2024-09-10T10:40:22.961Z"
   },
   {
    "duration": 15,
    "start_time": "2024-09-10T10:40:22.970Z"
   },
   {
    "duration": 12,
    "start_time": "2024-09-10T10:40:22.987Z"
   },
   {
    "duration": 50,
    "start_time": "2024-09-10T10:40:23.001Z"
   },
   {
    "duration": 6,
    "start_time": "2024-09-10T10:40:23.053Z"
   },
   {
    "duration": 6,
    "start_time": "2024-09-10T10:40:23.060Z"
   },
   {
    "duration": 10,
    "start_time": "2024-09-10T10:40:23.067Z"
   },
   {
    "duration": 279,
    "start_time": "2024-09-10T10:40:23.078Z"
   },
   {
    "duration": 9,
    "start_time": "2024-09-10T10:40:23.359Z"
   },
   {
    "duration": 197,
    "start_time": "2024-09-10T10:40:23.369Z"
   },
   {
    "duration": 187,
    "start_time": "2024-09-10T10:40:23.568Z"
   },
   {
    "duration": 329,
    "start_time": "2024-09-10T10:40:23.756Z"
   },
   {
    "duration": 203,
    "start_time": "2024-09-10T10:40:24.087Z"
   },
   {
    "duration": 335,
    "start_time": "2024-09-10T10:40:24.292Z"
   },
   {
    "duration": 0,
    "start_time": "2024-09-10T10:40:24.628Z"
   },
   {
    "duration": 0,
    "start_time": "2024-09-10T10:40:24.630Z"
   },
   {
    "duration": 0,
    "start_time": "2024-09-10T10:40:24.631Z"
   },
   {
    "duration": 0,
    "start_time": "2024-09-10T10:40:24.632Z"
   },
   {
    "duration": 0,
    "start_time": "2024-09-10T10:40:24.633Z"
   },
   {
    "duration": 0,
    "start_time": "2024-09-10T10:40:24.634Z"
   },
   {
    "duration": 3,
    "start_time": "2024-09-10T10:40:32.744Z"
   },
   {
    "duration": 113,
    "start_time": "2024-09-10T10:40:32.749Z"
   },
   {
    "duration": 4,
    "start_time": "2024-09-10T10:40:32.864Z"
   },
   {
    "duration": 51,
    "start_time": "2024-09-10T10:40:32.870Z"
   },
   {
    "duration": 15,
    "start_time": "2024-09-10T10:40:32.923Z"
   },
   {
    "duration": 26,
    "start_time": "2024-09-10T10:40:32.940Z"
   },
   {
    "duration": 5,
    "start_time": "2024-09-10T10:40:32.968Z"
   },
   {
    "duration": 30,
    "start_time": "2024-09-10T10:40:32.975Z"
   },
   {
    "duration": 7,
    "start_time": "2024-09-10T10:40:33.007Z"
   },
   {
    "duration": 20,
    "start_time": "2024-09-10T10:40:33.015Z"
   },
   {
    "duration": 19,
    "start_time": "2024-09-10T10:40:33.039Z"
   },
   {
    "duration": 21,
    "start_time": "2024-09-10T10:40:33.060Z"
   },
   {
    "duration": 25,
    "start_time": "2024-09-10T10:40:33.082Z"
   },
   {
    "duration": 12,
    "start_time": "2024-09-10T10:40:33.110Z"
   },
   {
    "duration": 12,
    "start_time": "2024-09-10T10:40:33.125Z"
   },
   {
    "duration": 25,
    "start_time": "2024-09-10T10:40:33.139Z"
   },
   {
    "duration": 14,
    "start_time": "2024-09-10T10:40:33.165Z"
   },
   {
    "duration": 8,
    "start_time": "2024-09-10T10:40:33.181Z"
   },
   {
    "duration": 8,
    "start_time": "2024-09-10T10:40:33.190Z"
   },
   {
    "duration": 10,
    "start_time": "2024-09-10T10:40:33.200Z"
   },
   {
    "duration": 5,
    "start_time": "2024-09-10T10:40:33.211Z"
   },
   {
    "duration": 300,
    "start_time": "2024-09-10T10:40:33.218Z"
   },
   {
    "duration": 9,
    "start_time": "2024-09-10T10:40:33.519Z"
   },
   {
    "duration": 216,
    "start_time": "2024-09-10T10:40:33.530Z"
   },
   {
    "duration": 225,
    "start_time": "2024-09-10T10:40:33.751Z"
   },
   {
    "duration": 301,
    "start_time": "2024-09-10T10:40:33.980Z"
   },
   {
    "duration": 216,
    "start_time": "2024-09-10T10:40:34.283Z"
   },
   {
    "duration": 314,
    "start_time": "2024-09-10T10:40:34.501Z"
   },
   {
    "duration": 10,
    "start_time": "2024-09-10T10:40:34.819Z"
   },
   {
    "duration": 142,
    "start_time": "2024-09-10T10:40:34.830Z"
   },
   {
    "duration": 5,
    "start_time": "2024-09-10T10:40:34.973Z"
   },
   {
    "duration": 26,
    "start_time": "2024-09-10T10:40:34.980Z"
   },
   {
    "duration": 130,
    "start_time": "2024-09-10T10:40:35.007Z"
   },
   {
    "duration": 13,
    "start_time": "2024-09-10T10:40:35.139Z"
   },
   {
    "duration": 139,
    "start_time": "2024-09-10T10:43:54.828Z"
   },
   {
    "duration": 10,
    "start_time": "2024-09-10T10:44:21.509Z"
   },
   {
    "duration": 3,
    "start_time": "2024-09-10T11:41:21.010Z"
   },
   {
    "duration": 93,
    "start_time": "2024-09-10T11:41:21.015Z"
   },
   {
    "duration": 4,
    "start_time": "2024-09-10T11:41:21.110Z"
   },
   {
    "duration": 21,
    "start_time": "2024-09-10T11:41:21.116Z"
   },
   {
    "duration": 11,
    "start_time": "2024-09-10T11:41:21.139Z"
   },
   {
    "duration": 12,
    "start_time": "2024-09-10T11:41:21.152Z"
   },
   {
    "duration": 5,
    "start_time": "2024-09-10T11:41:21.166Z"
   },
   {
    "duration": 9,
    "start_time": "2024-09-10T11:41:21.173Z"
   },
   {
    "duration": 149,
    "start_time": "2024-09-10T11:41:21.184Z"
   },
   {
    "duration": 20,
    "start_time": "2024-09-10T11:41:21.335Z"
   },
   {
    "duration": 21,
    "start_time": "2024-09-10T11:41:21.357Z"
   },
   {
    "duration": 19,
    "start_time": "2024-09-10T11:41:21.379Z"
   },
   {
    "duration": 7,
    "start_time": "2024-09-10T11:41:21.400Z"
   },
   {
    "duration": 8,
    "start_time": "2024-09-10T11:41:21.409Z"
   },
   {
    "duration": 35,
    "start_time": "2024-09-10T11:41:21.419Z"
   },
   {
    "duration": 21,
    "start_time": "2024-09-10T11:41:21.456Z"
   },
   {
    "duration": 16,
    "start_time": "2024-09-10T11:41:21.478Z"
   },
   {
    "duration": 30,
    "start_time": "2024-09-10T11:41:21.496Z"
   },
   {
    "duration": 35,
    "start_time": "2024-09-10T11:41:21.528Z"
   },
   {
    "duration": 15,
    "start_time": "2024-09-10T11:41:21.565Z"
   },
   {
    "duration": 275,
    "start_time": "2024-09-10T11:41:28.077Z"
   },
   {
    "duration": 10,
    "start_time": "2024-09-10T11:41:48.661Z"
   },
   {
    "duration": 11,
    "start_time": "2024-09-10T11:42:06.335Z"
   },
   {
    "duration": 11,
    "start_time": "2024-09-10T11:42:50.683Z"
   },
   {
    "duration": 288,
    "start_time": "2024-09-10T11:44:00.583Z"
   },
   {
    "duration": 3,
    "start_time": "2024-09-10T11:44:06.977Z"
   },
   {
    "duration": 96,
    "start_time": "2024-09-10T11:44:06.982Z"
   },
   {
    "duration": 5,
    "start_time": "2024-09-10T11:44:07.080Z"
   },
   {
    "duration": 17,
    "start_time": "2024-09-10T11:44:07.087Z"
   },
   {
    "duration": 13,
    "start_time": "2024-09-10T11:44:07.106Z"
   },
   {
    "duration": 14,
    "start_time": "2024-09-10T11:44:07.121Z"
   },
   {
    "duration": 13,
    "start_time": "2024-09-10T11:44:07.136Z"
   },
   {
    "duration": 11,
    "start_time": "2024-09-10T11:44:07.151Z"
   },
   {
    "duration": 4,
    "start_time": "2024-09-10T11:44:07.164Z"
   },
   {
    "duration": 12,
    "start_time": "2024-09-10T11:44:07.169Z"
   },
   {
    "duration": 30,
    "start_time": "2024-09-10T11:44:07.183Z"
   },
   {
    "duration": 20,
    "start_time": "2024-09-10T11:44:07.214Z"
   },
   {
    "duration": 20,
    "start_time": "2024-09-10T11:44:07.236Z"
   },
   {
    "duration": 6,
    "start_time": "2024-09-10T11:44:07.257Z"
   },
   {
    "duration": 5,
    "start_time": "2024-09-10T11:44:07.265Z"
   },
   {
    "duration": 16,
    "start_time": "2024-09-10T11:44:07.272Z"
   },
   {
    "duration": 26,
    "start_time": "2024-09-10T11:44:07.289Z"
   },
   {
    "duration": 5,
    "start_time": "2024-09-10T11:44:07.317Z"
   },
   {
    "duration": 30,
    "start_time": "2024-09-10T11:44:07.323Z"
   },
   {
    "duration": 5,
    "start_time": "2024-09-10T11:44:07.355Z"
   },
   {
    "duration": 286,
    "start_time": "2024-09-10T11:44:07.362Z"
   },
   {
    "duration": 9,
    "start_time": "2024-09-10T11:44:07.651Z"
   },
   {
    "duration": 288,
    "start_time": "2024-09-10T11:44:09.638Z"
   },
   {
    "duration": 180,
    "start_time": "2024-09-10T11:44:17.223Z"
   },
   {
    "duration": 191,
    "start_time": "2024-09-10T11:45:30.577Z"
   },
   {
    "duration": 195,
    "start_time": "2024-09-10T11:45:42.168Z"
   },
   {
    "duration": 185,
    "start_time": "2024-09-10T11:46:07.401Z"
   },
   {
    "duration": 10,
    "start_time": "2024-09-10T11:46:54.152Z"
   },
   {
    "duration": 197,
    "start_time": "2024-09-10T11:47:33.281Z"
   },
   {
    "duration": 187,
    "start_time": "2024-09-10T11:47:58.729Z"
   },
   {
    "duration": 281,
    "start_time": "2024-09-10T11:50:30.787Z"
   },
   {
    "duration": 3,
    "start_time": "2024-09-10T11:50:39.349Z"
   },
   {
    "duration": 84,
    "start_time": "2024-09-10T11:50:39.353Z"
   },
   {
    "duration": 3,
    "start_time": "2024-09-10T11:50:39.439Z"
   },
   {
    "duration": 15,
    "start_time": "2024-09-10T11:50:39.444Z"
   },
   {
    "duration": 11,
    "start_time": "2024-09-10T11:50:39.461Z"
   },
   {
    "duration": 11,
    "start_time": "2024-09-10T11:50:39.474Z"
   },
   {
    "duration": 28,
    "start_time": "2024-09-10T11:50:39.487Z"
   },
   {
    "duration": 19,
    "start_time": "2024-09-10T11:50:39.517Z"
   },
   {
    "duration": 5,
    "start_time": "2024-09-10T11:50:39.538Z"
   },
   {
    "duration": 128,
    "start_time": "2024-09-10T11:50:39.545Z"
   },
   {
    "duration": 73,
    "start_time": "2024-09-10T11:50:39.675Z"
   },
   {
    "duration": 19,
    "start_time": "2024-09-10T11:50:39.750Z"
   },
   {
    "duration": 6,
    "start_time": "2024-09-10T11:50:39.770Z"
   },
   {
    "duration": 22,
    "start_time": "2024-09-10T11:50:39.778Z"
   },
   {
    "duration": 6,
    "start_time": "2024-09-10T11:50:39.802Z"
   },
   {
    "duration": 14,
    "start_time": "2024-09-10T11:50:39.810Z"
   },
   {
    "duration": 28,
    "start_time": "2024-09-10T11:50:39.827Z"
   },
   {
    "duration": 14,
    "start_time": "2024-09-10T11:50:39.857Z"
   },
   {
    "duration": 6,
    "start_time": "2024-09-10T11:50:39.873Z"
   },
   {
    "duration": 10,
    "start_time": "2024-09-10T11:50:39.880Z"
   },
   {
    "duration": 291,
    "start_time": "2024-09-10T11:50:39.892Z"
   },
   {
    "duration": 9,
    "start_time": "2024-09-10T11:50:40.185Z"
   },
   {
    "duration": 214,
    "start_time": "2024-09-10T11:50:40.195Z"
   },
   {
    "duration": 191,
    "start_time": "2024-09-10T11:50:40.411Z"
   },
   {
    "duration": 335,
    "start_time": "2024-09-10T11:50:43.658Z"
   },
   {
    "duration": 188,
    "start_time": "2024-09-10T11:52:26.724Z"
   },
   {
    "duration": 206,
    "start_time": "2024-09-10T11:52:37.027Z"
   },
   {
    "duration": 55,
    "start_time": "2024-09-10T14:02:25.179Z"
   },
   {
    "duration": 1388,
    "start_time": "2024-09-10T14:02:30.453Z"
   },
   {
    "duration": 265,
    "start_time": "2024-09-10T14:02:31.844Z"
   },
   {
    "duration": 3,
    "start_time": "2024-09-10T14:02:32.111Z"
   },
   {
    "duration": 26,
    "start_time": "2024-09-10T14:02:32.116Z"
   },
   {
    "duration": 11,
    "start_time": "2024-09-10T14:02:32.145Z"
   },
   {
    "duration": 11,
    "start_time": "2024-09-10T14:02:32.158Z"
   },
   {
    "duration": 12,
    "start_time": "2024-09-10T14:02:32.170Z"
   },
   {
    "duration": 31,
    "start_time": "2024-09-10T14:02:32.183Z"
   },
   {
    "duration": 32,
    "start_time": "2024-09-10T14:02:32.215Z"
   },
   {
    "duration": 14,
    "start_time": "2024-09-10T14:02:32.248Z"
   },
   {
    "duration": 28,
    "start_time": "2024-09-10T14:02:32.264Z"
   },
   {
    "duration": 24,
    "start_time": "2024-09-10T14:02:32.294Z"
   },
   {
    "duration": 29,
    "start_time": "2024-09-10T14:02:32.319Z"
   },
   {
    "duration": 11,
    "start_time": "2024-09-10T14:02:32.350Z"
   },
   {
    "duration": 9,
    "start_time": "2024-09-10T14:02:32.363Z"
   },
   {
    "duration": 17,
    "start_time": "2024-09-10T14:02:32.373Z"
   },
   {
    "duration": 19,
    "start_time": "2024-09-10T14:02:32.391Z"
   },
   {
    "duration": 26,
    "start_time": "2024-09-10T14:02:32.412Z"
   },
   {
    "duration": 7,
    "start_time": "2024-09-10T14:02:32.440Z"
   },
   {
    "duration": 16,
    "start_time": "2024-09-10T14:02:32.448Z"
   },
   {
    "duration": 292,
    "start_time": "2024-09-10T14:02:32.465Z"
   },
   {
    "duration": 9,
    "start_time": "2024-09-10T14:02:32.759Z"
   },
   {
    "duration": 305,
    "start_time": "2024-09-10T14:02:32.770Z"
   },
   {
    "duration": 201,
    "start_time": "2024-09-10T14:02:33.077Z"
   },
   {
    "duration": 371,
    "start_time": "2024-09-10T14:02:33.280Z"
   },
   {
    "duration": 293,
    "start_time": "2024-09-10T14:02:34.976Z"
   },
   {
    "duration": 205,
    "start_time": "2024-09-10T14:03:28.969Z"
   },
   {
    "duration": 11,
    "start_time": "2024-09-10T14:04:38.772Z"
   },
   {
    "duration": 3,
    "start_time": "2024-09-10T14:04:42.993Z"
   },
   {
    "duration": 130,
    "start_time": "2024-09-10T14:04:42.998Z"
   },
   {
    "duration": 3,
    "start_time": "2024-09-10T14:04:43.129Z"
   },
   {
    "duration": 63,
    "start_time": "2024-09-10T14:04:43.135Z"
   },
   {
    "duration": 33,
    "start_time": "2024-09-10T14:04:43.200Z"
   },
   {
    "duration": 23,
    "start_time": "2024-09-10T14:04:43.235Z"
   },
   {
    "duration": 59,
    "start_time": "2024-09-10T14:04:43.260Z"
   },
   {
    "duration": 29,
    "start_time": "2024-09-10T14:04:43.321Z"
   },
   {
    "duration": 20,
    "start_time": "2024-09-10T14:04:43.352Z"
   },
   {
    "duration": 18,
    "start_time": "2024-09-10T14:04:43.373Z"
   },
   {
    "duration": 38,
    "start_time": "2024-09-10T14:04:43.392Z"
   },
   {
    "duration": 35,
    "start_time": "2024-09-10T14:04:43.432Z"
   },
   {
    "duration": 23,
    "start_time": "2024-09-10T14:04:43.468Z"
   },
   {
    "duration": 15,
    "start_time": "2024-09-10T14:04:43.493Z"
   },
   {
    "duration": 13,
    "start_time": "2024-09-10T14:04:43.509Z"
   },
   {
    "duration": 29,
    "start_time": "2024-09-10T14:04:43.524Z"
   },
   {
    "duration": 21,
    "start_time": "2024-09-10T14:04:43.555Z"
   },
   {
    "duration": 20,
    "start_time": "2024-09-10T14:04:43.577Z"
   },
   {
    "duration": 26,
    "start_time": "2024-09-10T14:04:43.599Z"
   },
   {
    "duration": 26,
    "start_time": "2024-09-10T14:04:43.626Z"
   },
   {
    "duration": 270,
    "start_time": "2024-09-10T14:04:43.653Z"
   },
   {
    "duration": 9,
    "start_time": "2024-09-10T14:04:43.925Z"
   },
   {
    "duration": 220,
    "start_time": "2024-09-10T14:04:43.936Z"
   },
   {
    "duration": 273,
    "start_time": "2024-09-10T14:04:44.158Z"
   },
   {
    "duration": 283,
    "start_time": "2024-09-10T14:04:44.433Z"
   },
   {
    "duration": 220,
    "start_time": "2024-09-10T14:04:44.718Z"
   },
   {
    "duration": 11,
    "start_time": "2024-09-10T14:04:47.201Z"
   },
   {
    "duration": 310,
    "start_time": "2024-09-10T14:09:42.857Z"
   },
   {
    "duration": 9,
    "start_time": "2024-09-10T14:17:33.890Z"
   },
   {
    "duration": 13,
    "start_time": "2024-09-10T14:17:48.901Z"
   },
   {
    "duration": 125,
    "start_time": "2024-09-10T14:17:53.799Z"
   },
   {
    "duration": 5,
    "start_time": "2024-09-10T14:18:54.651Z"
   },
   {
    "duration": 13,
    "start_time": "2024-09-10T14:19:53.520Z"
   },
   {
    "duration": 129,
    "start_time": "2024-09-10T14:20:00.653Z"
   },
   {
    "duration": 5,
    "start_time": "2024-09-10T14:20:08.839Z"
   },
   {
    "duration": 128,
    "start_time": "2024-09-10T14:22:27.234Z"
   },
   {
    "duration": 144,
    "start_time": "2024-09-10T14:22:37.790Z"
   },
   {
    "duration": 123,
    "start_time": "2024-09-10T14:22:48.653Z"
   },
   {
    "duration": 117,
    "start_time": "2024-09-10T14:22:57.218Z"
   },
   {
    "duration": 5,
    "start_time": "2024-09-10T14:23:03.814Z"
   },
   {
    "duration": 128,
    "start_time": "2024-09-10T14:23:17.526Z"
   },
   {
    "duration": 5,
    "start_time": "2024-09-10T14:23:22.714Z"
   },
   {
    "duration": 133,
    "start_time": "2024-09-10T14:24:39.138Z"
   },
   {
    "duration": 5,
    "start_time": "2024-09-10T14:27:33.121Z"
   },
   {
    "duration": 11,
    "start_time": "2024-09-10T14:27:43.622Z"
   },
   {
    "duration": 4,
    "start_time": "2024-09-10T14:27:56.953Z"
   },
   {
    "duration": 53,
    "start_time": "2024-09-10T14:28:42.253Z"
   },
   {
    "duration": 46,
    "start_time": "2024-09-10T14:28:49.705Z"
   },
   {
    "duration": 5,
    "start_time": "2024-09-10T14:29:17.006Z"
   },
   {
    "duration": 46,
    "start_time": "2024-09-10T14:29:47.745Z"
   },
   {
    "duration": 63,
    "start_time": "2024-09-10T14:31:52.139Z"
   },
   {
    "duration": 59,
    "start_time": "2024-09-10T14:32:00.805Z"
   },
   {
    "duration": 71,
    "start_time": "2024-09-10T14:32:07.476Z"
   },
   {
    "duration": 64,
    "start_time": "2024-09-10T14:32:21.126Z"
   },
   {
    "duration": 64,
    "start_time": "2024-09-10T14:32:35.691Z"
   },
   {
    "duration": 60,
    "start_time": "2024-09-10T14:33:35.548Z"
   },
   {
    "duration": 26,
    "start_time": "2024-09-10T14:34:11.869Z"
   },
   {
    "duration": 145,
    "start_time": "2024-09-10T14:36:07.643Z"
   },
   {
    "duration": 7,
    "start_time": "2024-09-10T14:37:28.456Z"
   },
   {
    "duration": 8,
    "start_time": "2024-09-10T14:37:35.432Z"
   },
   {
    "duration": 10,
    "start_time": "2024-09-10T14:38:33.885Z"
   },
   {
    "duration": 9,
    "start_time": "2024-09-10T14:38:51.373Z"
   },
   {
    "duration": 4,
    "start_time": "2024-09-10T14:39:22.496Z"
   },
   {
    "duration": 26,
    "start_time": "2024-09-10T14:39:29.264Z"
   },
   {
    "duration": 15,
    "start_time": "2024-09-10T14:40:53.771Z"
   },
   {
    "duration": 733,
    "start_time": "2024-09-10T14:43:53.625Z"
   },
   {
    "duration": 10,
    "start_time": "2024-09-10T14:44:19.693Z"
   },
   {
    "duration": 6,
    "start_time": "2024-09-10T14:45:55.755Z"
   },
   {
    "duration": 10,
    "start_time": "2024-09-10T14:46:29.809Z"
   },
   {
    "duration": 16,
    "start_time": "2024-09-10T14:46:36.901Z"
   },
   {
    "duration": 43,
    "start_time": "2024-09-10T14:46:50.470Z"
   },
   {
    "duration": 746,
    "start_time": "2024-09-10T14:47:42.984Z"
   },
   {
    "duration": 14,
    "start_time": "2024-09-10T14:48:21.620Z"
   },
   {
    "duration": 4,
    "start_time": "2024-09-10T14:49:12.818Z"
   },
   {
    "duration": 113,
    "start_time": "2024-09-10T14:49:12.825Z"
   },
   {
    "duration": 3,
    "start_time": "2024-09-10T14:49:12.940Z"
   },
   {
    "duration": 20,
    "start_time": "2024-09-10T14:49:12.945Z"
   },
   {
    "duration": 11,
    "start_time": "2024-09-10T14:49:12.968Z"
   },
   {
    "duration": 17,
    "start_time": "2024-09-10T14:49:12.981Z"
   },
   {
    "duration": 11,
    "start_time": "2024-09-10T14:49:13.000Z"
   },
   {
    "duration": 11,
    "start_time": "2024-09-10T14:49:13.016Z"
   },
   {
    "duration": 24,
    "start_time": "2024-09-10T14:49:13.029Z"
   },
   {
    "duration": 32,
    "start_time": "2024-09-10T14:49:13.055Z"
   },
   {
    "duration": 25,
    "start_time": "2024-09-10T14:49:13.088Z"
   },
   {
    "duration": 59,
    "start_time": "2024-09-10T14:49:13.115Z"
   },
   {
    "duration": 46,
    "start_time": "2024-09-10T14:49:13.175Z"
   },
   {
    "duration": 6,
    "start_time": "2024-09-10T14:49:13.225Z"
   },
   {
    "duration": 6,
    "start_time": "2024-09-10T14:49:13.233Z"
   },
   {
    "duration": 20,
    "start_time": "2024-09-10T14:49:13.241Z"
   },
   {
    "duration": 11,
    "start_time": "2024-09-10T14:49:13.263Z"
   },
   {
    "duration": 10,
    "start_time": "2024-09-10T14:49:13.276Z"
   },
   {
    "duration": 18,
    "start_time": "2024-09-10T14:49:13.307Z"
   },
   {
    "duration": 74,
    "start_time": "2024-09-10T14:49:13.327Z"
   },
   {
    "duration": 317,
    "start_time": "2024-09-10T14:49:13.403Z"
   },
   {
    "duration": 11,
    "start_time": "2024-09-10T14:49:13.722Z"
   },
   {
    "duration": 226,
    "start_time": "2024-09-10T14:49:13.734Z"
   },
   {
    "duration": 223,
    "start_time": "2024-09-10T14:49:13.962Z"
   },
   {
    "duration": 444,
    "start_time": "2024-09-10T14:49:14.187Z"
   },
   {
    "duration": 237,
    "start_time": "2024-09-10T14:49:14.633Z"
   },
   {
    "duration": 397,
    "start_time": "2024-09-10T14:49:14.872Z"
   },
   {
    "duration": 10,
    "start_time": "2024-09-10T14:49:15.270Z"
   },
   {
    "duration": 190,
    "start_time": "2024-09-10T14:49:15.281Z"
   },
   {
    "duration": 7,
    "start_time": "2024-09-10T14:49:15.473Z"
   },
   {
    "duration": 54,
    "start_time": "2024-09-10T14:49:15.481Z"
   },
   {
    "duration": 162,
    "start_time": "2024-09-10T14:49:15.537Z"
   },
   {
    "duration": 9,
    "start_time": "2024-09-10T14:49:15.700Z"
   },
   {
    "duration": 21,
    "start_time": "2024-09-10T14:49:15.719Z"
   },
   {
    "duration": 53,
    "start_time": "2024-09-10T14:49:15.742Z"
   },
   {
    "duration": 5,
    "start_time": "2024-09-10T14:49:15.797Z"
   },
   {
    "duration": 58,
    "start_time": "2024-09-10T14:49:15.803Z"
   },
   {
    "duration": 73,
    "start_time": "2024-09-10T14:49:15.863Z"
   },
   {
    "duration": 78,
    "start_time": "2024-09-10T14:49:15.937Z"
   },
   {
    "duration": 26,
    "start_time": "2024-09-10T14:49:16.019Z"
   },
   {
    "duration": 174,
    "start_time": "2024-09-10T14:49:16.050Z"
   },
   {
    "duration": 6,
    "start_time": "2024-09-10T14:49:16.226Z"
   },
   {
    "duration": 30,
    "start_time": "2024-09-10T14:49:16.233Z"
   },
   {
    "duration": 11,
    "start_time": "2024-09-10T14:49:16.264Z"
   },
   {
    "duration": 43,
    "start_time": "2024-09-10T14:49:16.276Z"
   },
   {
    "duration": 8,
    "start_time": "2024-09-10T14:49:16.321Z"
   },
   {
    "duration": 8,
    "start_time": "2024-09-10T14:49:16.330Z"
   },
   {
    "duration": 28,
    "start_time": "2024-09-10T14:49:16.340Z"
   },
   {
    "duration": 38,
    "start_time": "2024-09-10T14:49:16.370Z"
   },
   {
    "duration": 13,
    "start_time": "2024-09-10T14:51:33.594Z"
   },
   {
    "duration": 128,
    "start_time": "2024-09-10T14:51:54.415Z"
   },
   {
    "duration": 6,
    "start_time": "2024-09-10T14:52:06.847Z"
   },
   {
    "duration": 9,
    "start_time": "2024-09-10T14:52:30.079Z"
   },
   {
    "duration": 10,
    "start_time": "2024-09-10T14:52:42.083Z"
   },
   {
    "duration": 138,
    "start_time": "2024-09-10T14:52:53.338Z"
   },
   {
    "duration": 6,
    "start_time": "2024-09-10T14:52:59.703Z"
   },
   {
    "duration": 5,
    "start_time": "2024-09-10T14:53:41.403Z"
   },
   {
    "duration": 46,
    "start_time": "2024-09-10T14:54:44.815Z"
   },
   {
    "duration": 5,
    "start_time": "2024-09-10T14:55:16.107Z"
   },
   {
    "duration": 44,
    "start_time": "2024-09-10T14:55:58.243Z"
   },
   {
    "duration": 65,
    "start_time": "2024-09-10T14:57:32.160Z"
   },
   {
    "duration": 58,
    "start_time": "2024-09-10T14:59:02.044Z"
   },
   {
    "duration": 24,
    "start_time": "2024-09-10T14:59:58.410Z"
   },
   {
    "duration": 137,
    "start_time": "2024-09-10T15:00:37.762Z"
   },
   {
    "duration": 748,
    "start_time": "2024-09-10T15:01:21.387Z"
   },
   {
    "duration": 27,
    "start_time": "2024-09-10T15:01:48.999Z"
   },
   {
    "duration": 25,
    "start_time": "2024-09-10T15:02:09.225Z"
   },
   {
    "duration": 719,
    "start_time": "2024-09-10T15:02:35.338Z"
   },
   {
    "duration": 6,
    "start_time": "2024-09-10T15:03:14.623Z"
   },
   {
    "duration": 27,
    "start_time": "2024-09-10T15:03:23.794Z"
   },
   {
    "duration": 11,
    "start_time": "2024-09-10T15:03:35.100Z"
   },
   {
    "duration": 10,
    "start_time": "2024-09-10T15:05:06.073Z"
   },
   {
    "duration": 9,
    "start_time": "2024-09-10T15:05:37.756Z"
   },
   {
    "duration": 5,
    "start_time": "2024-09-10T15:06:41.442Z"
   },
   {
    "duration": 969,
    "start_time": "2024-09-10T15:07:32.115Z"
   },
   {
    "duration": 6,
    "start_time": "2024-09-10T15:07:43.712Z"
   },
   {
    "duration": 25,
    "start_time": "2024-09-10T15:08:02.508Z"
   },
   {
    "duration": 16,
    "start_time": "2024-09-10T15:08:35.896Z"
   },
   {
    "duration": 1214,
    "start_time": "2024-09-10T15:08:51.028Z"
   },
   {
    "duration": 91,
    "start_time": "2024-09-10T15:08:52.244Z"
   },
   {
    "duration": 3,
    "start_time": "2024-09-10T15:08:52.337Z"
   },
   {
    "duration": 40,
    "start_time": "2024-09-10T15:08:52.342Z"
   },
   {
    "duration": 24,
    "start_time": "2024-09-10T15:08:52.384Z"
   },
   {
    "duration": 31,
    "start_time": "2024-09-10T15:08:52.410Z"
   },
   {
    "duration": 9,
    "start_time": "2024-09-10T15:08:52.442Z"
   },
   {
    "duration": 28,
    "start_time": "2024-09-10T15:08:52.453Z"
   },
   {
    "duration": 71,
    "start_time": "2024-09-10T15:08:52.482Z"
   },
   {
    "duration": 24,
    "start_time": "2024-09-10T15:08:52.556Z"
   },
   {
    "duration": 38,
    "start_time": "2024-09-10T15:08:52.581Z"
   },
   {
    "duration": 22,
    "start_time": "2024-09-10T15:08:52.620Z"
   },
   {
    "duration": 24,
    "start_time": "2024-09-10T15:08:52.643Z"
   },
   {
    "duration": 27,
    "start_time": "2024-09-10T15:08:52.668Z"
   },
   {
    "duration": 53,
    "start_time": "2024-09-10T15:08:52.696Z"
   },
   {
    "duration": 22,
    "start_time": "2024-09-10T15:08:52.750Z"
   },
   {
    "duration": 24,
    "start_time": "2024-09-10T15:08:52.773Z"
   },
   {
    "duration": 28,
    "start_time": "2024-09-10T15:08:52.798Z"
   },
   {
    "duration": 6,
    "start_time": "2024-09-10T15:08:52.827Z"
   },
   {
    "duration": 10,
    "start_time": "2024-09-10T15:08:52.835Z"
   },
   {
    "duration": 283,
    "start_time": "2024-09-10T15:08:52.847Z"
   },
   {
    "duration": 10,
    "start_time": "2024-09-10T15:08:53.131Z"
   },
   {
    "duration": 290,
    "start_time": "2024-09-10T15:08:53.142Z"
   },
   {
    "duration": 210,
    "start_time": "2024-09-10T15:08:53.434Z"
   },
   {
    "duration": 282,
    "start_time": "2024-09-10T15:08:53.646Z"
   },
   {
    "duration": 225,
    "start_time": "2024-09-10T15:08:53.929Z"
   },
   {
    "duration": 318,
    "start_time": "2024-09-10T15:08:54.155Z"
   },
   {
    "duration": 9,
    "start_time": "2024-09-10T15:08:54.477Z"
   },
   {
    "duration": 139,
    "start_time": "2024-09-10T15:08:54.487Z"
   },
   {
    "duration": 5,
    "start_time": "2024-09-10T15:08:54.627Z"
   },
   {
    "duration": 15,
    "start_time": "2024-09-10T15:08:54.634Z"
   },
   {
    "duration": 110,
    "start_time": "2024-09-10T15:08:54.650Z"
   },
   {
    "duration": 0,
    "start_time": "2024-09-10T15:08:54.762Z"
   },
   {
    "duration": 0,
    "start_time": "2024-09-10T15:08:54.763Z"
   },
   {
    "duration": 0,
    "start_time": "2024-09-10T15:08:54.764Z"
   },
   {
    "duration": 0,
    "start_time": "2024-09-10T15:08:54.765Z"
   },
   {
    "duration": 0,
    "start_time": "2024-09-10T15:08:54.766Z"
   },
   {
    "duration": 0,
    "start_time": "2024-09-10T15:08:54.767Z"
   },
   {
    "duration": 0,
    "start_time": "2024-09-10T15:08:54.768Z"
   },
   {
    "duration": 0,
    "start_time": "2024-09-10T15:08:54.769Z"
   },
   {
    "duration": 0,
    "start_time": "2024-09-10T15:08:54.770Z"
   },
   {
    "duration": 0,
    "start_time": "2024-09-10T15:08:54.771Z"
   },
   {
    "duration": 0,
    "start_time": "2024-09-10T15:08:54.772Z"
   },
   {
    "duration": 0,
    "start_time": "2024-09-10T15:08:54.773Z"
   },
   {
    "duration": 0,
    "start_time": "2024-09-10T15:08:54.774Z"
   },
   {
    "duration": 0,
    "start_time": "2024-09-10T15:08:54.775Z"
   },
   {
    "duration": 0,
    "start_time": "2024-09-10T15:08:54.776Z"
   },
   {
    "duration": 1,
    "start_time": "2024-09-10T15:08:54.777Z"
   },
   {
    "duration": 0,
    "start_time": "2024-09-10T15:08:54.805Z"
   },
   {
    "duration": 133,
    "start_time": "2024-09-10T15:09:23.931Z"
   },
   {
    "duration": 4,
    "start_time": "2024-09-10T15:09:30.902Z"
   },
   {
    "duration": 98,
    "start_time": "2024-09-10T15:09:30.908Z"
   },
   {
    "duration": 3,
    "start_time": "2024-09-10T15:09:31.008Z"
   },
   {
    "duration": 18,
    "start_time": "2024-09-10T15:09:31.012Z"
   },
   {
    "duration": 11,
    "start_time": "2024-09-10T15:09:31.032Z"
   },
   {
    "duration": 12,
    "start_time": "2024-09-10T15:09:31.044Z"
   },
   {
    "duration": 14,
    "start_time": "2024-09-10T15:09:31.057Z"
   },
   {
    "duration": 12,
    "start_time": "2024-09-10T15:09:31.072Z"
   },
   {
    "duration": 5,
    "start_time": "2024-09-10T15:09:31.106Z"
   },
   {
    "duration": 26,
    "start_time": "2024-09-10T15:09:31.113Z"
   },
   {
    "duration": 91,
    "start_time": "2024-09-10T15:09:31.141Z"
   },
   {
    "duration": 21,
    "start_time": "2024-09-10T15:09:31.233Z"
   },
   {
    "duration": 63,
    "start_time": "2024-09-10T15:09:31.255Z"
   },
   {
    "duration": 5,
    "start_time": "2024-09-10T15:09:31.321Z"
   },
   {
    "duration": 5,
    "start_time": "2024-09-10T15:09:31.328Z"
   },
   {
    "duration": 14,
    "start_time": "2024-09-10T15:09:31.335Z"
   },
   {
    "duration": 12,
    "start_time": "2024-09-10T15:09:31.351Z"
   },
   {
    "duration": 15,
    "start_time": "2024-09-10T15:09:31.364Z"
   },
   {
    "duration": 28,
    "start_time": "2024-09-10T15:09:31.380Z"
   },
   {
    "duration": 10,
    "start_time": "2024-09-10T15:09:31.409Z"
   },
   {
    "duration": 304,
    "start_time": "2024-09-10T15:09:31.421Z"
   },
   {
    "duration": 11,
    "start_time": "2024-09-10T15:09:31.727Z"
   },
   {
    "duration": 235,
    "start_time": "2024-09-10T15:09:31.739Z"
   },
   {
    "duration": 213,
    "start_time": "2024-09-10T15:09:31.976Z"
   },
   {
    "duration": 322,
    "start_time": "2024-09-10T15:09:32.191Z"
   },
   {
    "duration": 228,
    "start_time": "2024-09-10T15:09:32.514Z"
   },
   {
    "duration": 317,
    "start_time": "2024-09-10T15:09:32.744Z"
   },
   {
    "duration": 9,
    "start_time": "2024-09-10T15:09:33.063Z"
   },
   {
    "duration": 134,
    "start_time": "2024-09-10T15:09:33.074Z"
   },
   {
    "duration": 5,
    "start_time": "2024-09-10T15:09:33.209Z"
   },
   {
    "duration": 112,
    "start_time": "2024-09-10T15:09:33.215Z"
   },
   {
    "duration": 136,
    "start_time": "2024-09-10T15:09:33.328Z"
   },
   {
    "duration": 5,
    "start_time": "2024-09-10T15:09:33.466Z"
   },
   {
    "duration": 41,
    "start_time": "2024-09-10T15:09:33.473Z"
   },
   {
    "duration": 128,
    "start_time": "2024-09-10T15:09:33.516Z"
   },
   {
    "duration": 5,
    "start_time": "2024-09-10T15:09:33.646Z"
   },
   {
    "duration": 59,
    "start_time": "2024-09-10T15:09:33.652Z"
   },
   {
    "duration": 0,
    "start_time": "2024-09-10T15:09:33.713Z"
   },
   {
    "duration": 0,
    "start_time": "2024-09-10T15:09:33.715Z"
   },
   {
    "duration": 0,
    "start_time": "2024-09-10T15:09:33.716Z"
   },
   {
    "duration": 0,
    "start_time": "2024-09-10T15:09:33.717Z"
   },
   {
    "duration": 0,
    "start_time": "2024-09-10T15:09:33.718Z"
   },
   {
    "duration": 0,
    "start_time": "2024-09-10T15:09:33.719Z"
   },
   {
    "duration": 0,
    "start_time": "2024-09-10T15:09:33.721Z"
   },
   {
    "duration": 0,
    "start_time": "2024-09-10T15:09:33.721Z"
   },
   {
    "duration": 0,
    "start_time": "2024-09-10T15:09:33.722Z"
   },
   {
    "duration": 0,
    "start_time": "2024-09-10T15:09:33.723Z"
   },
   {
    "duration": 0,
    "start_time": "2024-09-10T15:09:33.725Z"
   },
   {
    "duration": 0,
    "start_time": "2024-09-10T15:09:33.726Z"
   },
   {
    "duration": 3,
    "start_time": "2024-09-10T15:09:50.122Z"
   },
   {
    "duration": 94,
    "start_time": "2024-09-10T15:09:50.127Z"
   },
   {
    "duration": 3,
    "start_time": "2024-09-10T15:09:50.223Z"
   },
   {
    "duration": 16,
    "start_time": "2024-09-10T15:09:50.228Z"
   },
   {
    "duration": 13,
    "start_time": "2024-09-10T15:09:50.245Z"
   },
   {
    "duration": 8,
    "start_time": "2024-09-10T15:09:50.259Z"
   },
   {
    "duration": 4,
    "start_time": "2024-09-10T15:09:50.269Z"
   },
   {
    "duration": 32,
    "start_time": "2024-09-10T15:09:50.274Z"
   },
   {
    "duration": 4,
    "start_time": "2024-09-10T15:09:50.309Z"
   },
   {
    "duration": 10,
    "start_time": "2024-09-10T15:09:50.315Z"
   },
   {
    "duration": 17,
    "start_time": "2024-09-10T15:09:50.326Z"
   },
   {
    "duration": 21,
    "start_time": "2024-09-10T15:09:50.345Z"
   },
   {
    "duration": 6,
    "start_time": "2024-09-10T15:09:50.367Z"
   },
   {
    "duration": 9,
    "start_time": "2024-09-10T15:09:50.374Z"
   },
   {
    "duration": 8,
    "start_time": "2024-09-10T15:09:50.385Z"
   },
   {
    "duration": 17,
    "start_time": "2024-09-10T15:09:50.394Z"
   },
   {
    "duration": 11,
    "start_time": "2024-09-10T15:09:50.412Z"
   },
   {
    "duration": 21,
    "start_time": "2024-09-10T15:09:50.425Z"
   },
   {
    "duration": 23,
    "start_time": "2024-09-10T15:09:50.447Z"
   },
   {
    "duration": 13,
    "start_time": "2024-09-10T15:09:50.471Z"
   },
   {
    "duration": 419,
    "start_time": "2024-09-10T15:09:50.486Z"
   },
   {
    "duration": 10,
    "start_time": "2024-09-10T15:09:50.907Z"
   },
   {
    "duration": 221,
    "start_time": "2024-09-10T15:09:50.919Z"
   },
   {
    "duration": 206,
    "start_time": "2024-09-10T15:09:51.143Z"
   },
   {
    "duration": 270,
    "start_time": "2024-09-10T15:09:51.351Z"
   },
   {
    "duration": 235,
    "start_time": "2024-09-10T15:09:51.622Z"
   },
   {
    "duration": 412,
    "start_time": "2024-09-10T15:09:51.859Z"
   },
   {
    "duration": 9,
    "start_time": "2024-09-10T15:09:52.272Z"
   },
   {
    "duration": 137,
    "start_time": "2024-09-10T15:09:52.283Z"
   },
   {
    "duration": 5,
    "start_time": "2024-09-10T15:09:52.422Z"
   },
   {
    "duration": 12,
    "start_time": "2024-09-10T15:09:52.429Z"
   },
   {
    "duration": 162,
    "start_time": "2024-09-10T15:09:52.443Z"
   },
   {
    "duration": 6,
    "start_time": "2024-09-10T15:09:52.607Z"
   },
   {
    "duration": 12,
    "start_time": "2024-09-10T15:09:52.615Z"
   },
   {
    "duration": 62,
    "start_time": "2024-09-10T15:09:52.628Z"
   },
   {
    "duration": 6,
    "start_time": "2024-09-10T15:09:52.692Z"
   },
   {
    "duration": 47,
    "start_time": "2024-09-10T15:09:52.705Z"
   },
   {
    "duration": 71,
    "start_time": "2024-09-10T15:09:52.754Z"
   },
   {
    "duration": 0,
    "start_time": "2024-09-10T15:09:52.827Z"
   },
   {
    "duration": 0,
    "start_time": "2024-09-10T15:09:52.829Z"
   },
   {
    "duration": 0,
    "start_time": "2024-09-10T15:09:52.831Z"
   },
   {
    "duration": 0,
    "start_time": "2024-09-10T15:09:52.832Z"
   },
   {
    "duration": 0,
    "start_time": "2024-09-10T15:09:52.833Z"
   },
   {
    "duration": 0,
    "start_time": "2024-09-10T15:09:52.835Z"
   },
   {
    "duration": 0,
    "start_time": "2024-09-10T15:09:52.836Z"
   },
   {
    "duration": 0,
    "start_time": "2024-09-10T15:09:52.838Z"
   },
   {
    "duration": 0,
    "start_time": "2024-09-10T15:09:52.839Z"
   },
   {
    "duration": 0,
    "start_time": "2024-09-10T15:09:52.840Z"
   },
   {
    "duration": 0,
    "start_time": "2024-09-10T15:09:52.842Z"
   },
   {
    "duration": 3,
    "start_time": "2024-09-10T15:10:09.156Z"
   },
   {
    "duration": 97,
    "start_time": "2024-09-10T15:10:09.162Z"
   },
   {
    "duration": 4,
    "start_time": "2024-09-10T15:10:09.261Z"
   },
   {
    "duration": 47,
    "start_time": "2024-09-10T15:10:09.266Z"
   },
   {
    "duration": 11,
    "start_time": "2024-09-10T15:10:09.315Z"
   },
   {
    "duration": 8,
    "start_time": "2024-09-10T15:10:09.327Z"
   },
   {
    "duration": 5,
    "start_time": "2024-09-10T15:10:09.337Z"
   },
   {
    "duration": 10,
    "start_time": "2024-09-10T15:10:09.344Z"
   },
   {
    "duration": 12,
    "start_time": "2024-09-10T15:10:09.355Z"
   },
   {
    "duration": 40,
    "start_time": "2024-09-10T15:10:09.369Z"
   },
   {
    "duration": 23,
    "start_time": "2024-09-10T15:10:09.411Z"
   },
   {
    "duration": 21,
    "start_time": "2024-09-10T15:10:09.436Z"
   },
   {
    "duration": 115,
    "start_time": "2024-09-10T15:10:09.458Z"
   },
   {
    "duration": 24,
    "start_time": "2024-09-10T15:10:09.576Z"
   },
   {
    "duration": 29,
    "start_time": "2024-09-10T15:10:09.602Z"
   },
   {
    "duration": 16,
    "start_time": "2024-09-10T15:10:09.633Z"
   },
   {
    "duration": 13,
    "start_time": "2024-09-10T15:10:09.651Z"
   },
   {
    "duration": 5,
    "start_time": "2024-09-10T15:10:09.666Z"
   },
   {
    "duration": 105,
    "start_time": "2024-09-10T15:10:09.673Z"
   },
   {
    "duration": 10,
    "start_time": "2024-09-10T15:10:09.779Z"
   },
   {
    "duration": 304,
    "start_time": "2024-09-10T15:10:09.791Z"
   },
   {
    "duration": 11,
    "start_time": "2024-09-10T15:10:10.097Z"
   },
   {
    "duration": 217,
    "start_time": "2024-09-10T15:10:10.109Z"
   },
   {
    "duration": 210,
    "start_time": "2024-09-10T15:10:10.327Z"
   },
   {
    "duration": 294,
    "start_time": "2024-09-10T15:10:10.539Z"
   },
   {
    "duration": 225,
    "start_time": "2024-09-10T15:10:10.835Z"
   },
   {
    "duration": 323,
    "start_time": "2024-09-10T15:10:11.061Z"
   },
   {
    "duration": 23,
    "start_time": "2024-09-10T15:10:11.386Z"
   },
   {
    "duration": 130,
    "start_time": "2024-09-10T15:10:11.411Z"
   },
   {
    "duration": 5,
    "start_time": "2024-09-10T15:10:11.543Z"
   },
   {
    "duration": 53,
    "start_time": "2024-09-10T15:10:11.549Z"
   },
   {
    "duration": 131,
    "start_time": "2024-09-10T15:10:11.603Z"
   },
   {
    "duration": 5,
    "start_time": "2024-09-10T15:10:11.736Z"
   },
   {
    "duration": 25,
    "start_time": "2024-09-10T15:10:11.742Z"
   },
   {
    "duration": 56,
    "start_time": "2024-09-10T15:10:11.769Z"
   },
   {
    "duration": 6,
    "start_time": "2024-09-10T15:10:11.826Z"
   },
   {
    "duration": 52,
    "start_time": "2024-09-10T15:10:11.834Z"
   },
   {
    "duration": 71,
    "start_time": "2024-09-10T15:10:11.888Z"
   },
   {
    "duration": 68,
    "start_time": "2024-09-10T15:10:11.962Z"
   },
   {
    "duration": 24,
    "start_time": "2024-09-10T15:10:12.032Z"
   },
   {
    "duration": 149,
    "start_time": "2024-09-10T15:10:12.060Z"
   },
   {
    "duration": 724,
    "start_time": "2024-09-10T15:10:12.211Z"
   },
   {
    "duration": 0,
    "start_time": "2024-09-10T15:10:12.937Z"
   },
   {
    "duration": 0,
    "start_time": "2024-09-10T15:10:12.938Z"
   },
   {
    "duration": 0,
    "start_time": "2024-09-10T15:10:12.939Z"
   },
   {
    "duration": 0,
    "start_time": "2024-09-10T15:10:12.941Z"
   },
   {
    "duration": 0,
    "start_time": "2024-09-10T15:10:12.942Z"
   },
   {
    "duration": 0,
    "start_time": "2024-09-10T15:10:12.944Z"
   },
   {
    "duration": 0,
    "start_time": "2024-09-10T15:10:12.945Z"
   },
   {
    "duration": 3,
    "start_time": "2024-09-10T15:10:49.169Z"
   },
   {
    "duration": 115,
    "start_time": "2024-09-10T15:10:49.174Z"
   },
   {
    "duration": 3,
    "start_time": "2024-09-10T15:10:49.291Z"
   },
   {
    "duration": 23,
    "start_time": "2024-09-10T15:10:49.295Z"
   },
   {
    "duration": 10,
    "start_time": "2024-09-10T15:10:49.321Z"
   },
   {
    "duration": 18,
    "start_time": "2024-09-10T15:10:49.333Z"
   },
   {
    "duration": 6,
    "start_time": "2024-09-10T15:10:49.352Z"
   },
   {
    "duration": 10,
    "start_time": "2024-09-10T15:10:49.359Z"
   },
   {
    "duration": 4,
    "start_time": "2024-09-10T15:10:49.370Z"
   },
   {
    "duration": 31,
    "start_time": "2024-09-10T15:10:49.376Z"
   },
   {
    "duration": 17,
    "start_time": "2024-09-10T15:10:49.409Z"
   },
   {
    "duration": 20,
    "start_time": "2024-09-10T15:10:49.428Z"
   },
   {
    "duration": 7,
    "start_time": "2024-09-10T15:10:49.450Z"
   },
   {
    "duration": 75,
    "start_time": "2024-09-10T15:10:49.460Z"
   },
   {
    "duration": 51,
    "start_time": "2024-09-10T15:10:49.537Z"
   },
   {
    "duration": 17,
    "start_time": "2024-09-10T15:10:49.590Z"
   },
   {
    "duration": 11,
    "start_time": "2024-09-10T15:10:49.608Z"
   },
   {
    "duration": 20,
    "start_time": "2024-09-10T15:10:49.620Z"
   },
   {
    "duration": 20,
    "start_time": "2024-09-10T15:10:49.642Z"
   },
   {
    "duration": 5,
    "start_time": "2024-09-10T15:10:49.664Z"
   },
   {
    "duration": 290,
    "start_time": "2024-09-10T15:10:49.670Z"
   },
   {
    "duration": 9,
    "start_time": "2024-09-10T15:10:49.962Z"
   },
   {
    "duration": 253,
    "start_time": "2024-09-10T15:10:49.973Z"
   },
   {
    "duration": 201,
    "start_time": "2024-09-10T15:10:50.228Z"
   },
   {
    "duration": 291,
    "start_time": "2024-09-10T15:10:50.431Z"
   },
   {
    "duration": 229,
    "start_time": "2024-09-10T15:10:50.724Z"
   },
   {
    "duration": 468,
    "start_time": "2024-09-10T15:10:50.954Z"
   },
   {
    "duration": 9,
    "start_time": "2024-09-10T15:10:51.423Z"
   },
   {
    "duration": 136,
    "start_time": "2024-09-10T15:10:51.434Z"
   },
   {
    "duration": 17,
    "start_time": "2024-09-10T15:10:51.572Z"
   },
   {
    "duration": 9,
    "start_time": "2024-09-10T15:10:51.591Z"
   },
   {
    "duration": 138,
    "start_time": "2024-09-10T15:10:51.604Z"
   },
   {
    "duration": 5,
    "start_time": "2024-09-10T15:10:51.744Z"
   },
   {
    "duration": 16,
    "start_time": "2024-09-10T15:10:51.750Z"
   },
   {
    "duration": 68,
    "start_time": "2024-09-10T15:10:51.767Z"
   },
   {
    "duration": 6,
    "start_time": "2024-09-10T15:10:51.837Z"
   },
   {
    "duration": 62,
    "start_time": "2024-09-10T15:10:51.845Z"
   },
   {
    "duration": 61,
    "start_time": "2024-09-10T15:10:51.909Z"
   },
   {
    "duration": 73,
    "start_time": "2024-09-10T15:10:51.971Z"
   },
   {
    "duration": 25,
    "start_time": "2024-09-10T15:10:52.046Z"
   },
   {
    "duration": 148,
    "start_time": "2024-09-10T15:10:52.075Z"
   },
   {
    "duration": 7,
    "start_time": "2024-09-10T15:10:52.224Z"
   },
   {
    "duration": 26,
    "start_time": "2024-09-10T15:10:52.232Z"
   },
   {
    "duration": 10,
    "start_time": "2024-09-10T15:10:52.260Z"
   },
   {
    "duration": 35,
    "start_time": "2024-09-10T15:10:52.271Z"
   },
   {
    "duration": 6,
    "start_time": "2024-09-10T15:10:52.307Z"
   },
   {
    "duration": 692,
    "start_time": "2024-09-10T15:10:52.314Z"
   },
   {
    "duration": 0,
    "start_time": "2024-09-10T15:10:53.007Z"
   },
   {
    "duration": 0,
    "start_time": "2024-09-10T15:10:53.008Z"
   },
   {
    "duration": 3,
    "start_time": "2024-09-10T15:11:06.517Z"
   },
   {
    "duration": 96,
    "start_time": "2024-09-10T15:11:06.522Z"
   },
   {
    "duration": 4,
    "start_time": "2024-09-10T15:11:06.619Z"
   },
   {
    "duration": 19,
    "start_time": "2024-09-10T15:11:06.624Z"
   },
   {
    "duration": 14,
    "start_time": "2024-09-10T15:11:06.645Z"
   },
   {
    "duration": 18,
    "start_time": "2024-09-10T15:11:06.660Z"
   },
   {
    "duration": 5,
    "start_time": "2024-09-10T15:11:06.680Z"
   },
   {
    "duration": 19,
    "start_time": "2024-09-10T15:11:06.687Z"
   },
   {
    "duration": 25,
    "start_time": "2024-09-10T15:11:06.708Z"
   },
   {
    "duration": 21,
    "start_time": "2024-09-10T15:11:06.735Z"
   },
   {
    "duration": 21,
    "start_time": "2024-09-10T15:11:06.758Z"
   },
   {
    "duration": 22,
    "start_time": "2024-09-10T15:11:06.781Z"
   },
   {
    "duration": 17,
    "start_time": "2024-09-10T15:11:06.805Z"
   },
   {
    "duration": 27,
    "start_time": "2024-09-10T15:11:06.826Z"
   },
   {
    "duration": 29,
    "start_time": "2024-09-10T15:11:06.855Z"
   },
   {
    "duration": 34,
    "start_time": "2024-09-10T15:11:06.886Z"
   },
   {
    "duration": 29,
    "start_time": "2024-09-10T15:11:06.922Z"
   },
   {
    "duration": 9,
    "start_time": "2024-09-10T15:11:06.953Z"
   },
   {
    "duration": 20,
    "start_time": "2024-09-10T15:11:06.964Z"
   },
   {
    "duration": 7,
    "start_time": "2024-09-10T15:11:06.986Z"
   },
   {
    "duration": 274,
    "start_time": "2024-09-10T15:11:06.995Z"
   },
   {
    "duration": 10,
    "start_time": "2024-09-10T15:11:07.270Z"
   },
   {
    "duration": 232,
    "start_time": "2024-09-10T15:11:07.281Z"
   },
   {
    "duration": 200,
    "start_time": "2024-09-10T15:11:07.514Z"
   },
   {
    "duration": 295,
    "start_time": "2024-09-10T15:11:07.715Z"
   },
   {
    "duration": 219,
    "start_time": "2024-09-10T15:11:08.012Z"
   },
   {
    "duration": 311,
    "start_time": "2024-09-10T15:11:08.233Z"
   },
   {
    "duration": 9,
    "start_time": "2024-09-10T15:11:08.546Z"
   },
   {
    "duration": 131,
    "start_time": "2024-09-10T15:11:08.556Z"
   },
   {
    "duration": 4,
    "start_time": "2024-09-10T15:11:08.689Z"
   },
   {
    "duration": 13,
    "start_time": "2024-09-10T15:11:08.704Z"
   },
   {
    "duration": 145,
    "start_time": "2024-09-10T15:11:08.718Z"
   },
   {
    "duration": 5,
    "start_time": "2024-09-10T15:11:08.865Z"
   },
   {
    "duration": 13,
    "start_time": "2024-09-10T15:11:08.872Z"
   },
   {
    "duration": 54,
    "start_time": "2024-09-10T15:11:08.887Z"
   },
   {
    "duration": 19,
    "start_time": "2024-09-10T15:11:08.943Z"
   },
   {
    "duration": 46,
    "start_time": "2024-09-10T15:11:08.964Z"
   },
   {
    "duration": 69,
    "start_time": "2024-09-10T15:11:09.011Z"
   },
   {
    "duration": 68,
    "start_time": "2024-09-10T15:11:09.081Z"
   },
   {
    "duration": 24,
    "start_time": "2024-09-10T15:11:09.151Z"
   },
   {
    "duration": 156,
    "start_time": "2024-09-10T15:11:09.179Z"
   },
   {
    "duration": 6,
    "start_time": "2024-09-10T15:11:09.337Z"
   },
   {
    "duration": 27,
    "start_time": "2024-09-10T15:11:09.344Z"
   },
   {
    "duration": 11,
    "start_time": "2024-09-10T15:11:09.373Z"
   },
   {
    "duration": 28,
    "start_time": "2024-09-10T15:11:09.385Z"
   },
   {
    "duration": 33,
    "start_time": "2024-09-10T15:11:09.415Z"
   },
   {
    "duration": 6,
    "start_time": "2024-09-10T15:11:09.450Z"
   },
   {
    "duration": 149,
    "start_time": "2024-09-10T15:11:09.457Z"
   },
   {
    "duration": 14,
    "start_time": "2024-09-10T15:11:09.608Z"
   },
   {
    "duration": 1411,
    "start_time": "2024-09-11T09:07:46.942Z"
   },
   {
    "duration": 237,
    "start_time": "2024-09-11T09:07:48.579Z"
   },
   {
    "duration": 4,
    "start_time": "2024-09-11T09:07:50.068Z"
   },
   {
    "duration": 3,
    "start_time": "2024-09-11T09:08:36.050Z"
   },
   {
    "duration": 414,
    "start_time": "2024-09-11T09:08:38.625Z"
   },
   {
    "duration": 3,
    "start_time": "2024-09-11T09:09:04.290Z"
   },
   {
    "duration": 26,
    "start_time": "2024-09-11T09:09:07.313Z"
   },
   {
    "duration": 12,
    "start_time": "2024-09-11T09:09:13.193Z"
   },
   {
    "duration": 8,
    "start_time": "2024-09-11T09:09:19.610Z"
   },
   {
    "duration": 5,
    "start_time": "2024-09-11T09:09:26.417Z"
   },
   {
    "duration": 10,
    "start_time": "2024-09-11T09:09:27.266Z"
   },
   {
    "duration": 4,
    "start_time": "2024-09-11T09:09:29.593Z"
   },
   {
    "duration": 10,
    "start_time": "2024-09-11T09:09:30.986Z"
   },
   {
    "duration": 22,
    "start_time": "2024-09-11T09:09:37.549Z"
   },
   {
    "duration": 20,
    "start_time": "2024-09-11T09:09:47.570Z"
   },
   {
    "duration": 6,
    "start_time": "2024-09-11T09:09:57.321Z"
   },
   {
    "duration": 5,
    "start_time": "2024-09-11T09:09:58.833Z"
   },
   {
    "duration": 5,
    "start_time": "2024-09-11T09:10:02.329Z"
   },
   {
    "duration": 14,
    "start_time": "2024-09-11T09:10:12.961Z"
   },
   {
    "duration": 12,
    "start_time": "2024-09-11T09:10:19.945Z"
   },
   {
    "duration": 5,
    "start_time": "2024-09-11T09:10:22.602Z"
   },
   {
    "duration": 5,
    "start_time": "2024-09-11T09:10:23.505Z"
   },
   {
    "duration": 6,
    "start_time": "2024-09-11T09:10:28.226Z"
   },
   {
    "duration": 303,
    "start_time": "2024-09-11T09:11:52.946Z"
   },
   {
    "duration": 11,
    "start_time": "2024-09-11T09:11:56.042Z"
   },
   {
    "duration": 312,
    "start_time": "2024-09-11T09:11:57.387Z"
   },
   {
    "duration": 225,
    "start_time": "2024-09-11T09:12:01.401Z"
   },
   {
    "duration": 304,
    "start_time": "2024-09-11T09:12:05.699Z"
   },
   {
    "duration": 211,
    "start_time": "2024-09-11T09:12:09.217Z"
   },
   {
    "duration": 304,
    "start_time": "2024-09-11T09:12:13.810Z"
   },
   {
    "duration": 10,
    "start_time": "2024-09-11T09:12:21.026Z"
   },
   {
    "duration": 156,
    "start_time": "2024-09-11T09:12:27.955Z"
   },
   {
    "duration": 5,
    "start_time": "2024-09-11T09:12:32.586Z"
   },
   {
    "duration": 10,
    "start_time": "2024-09-11T09:12:36.714Z"
   },
   {
    "duration": 152,
    "start_time": "2024-09-11T09:12:39.787Z"
   },
   {
    "duration": 7,
    "start_time": "2024-09-11T09:12:47.274Z"
   },
   {
    "duration": 203,
    "start_time": "2024-09-11T09:13:35.875Z"
   },
   {
    "duration": 7,
    "start_time": "2024-09-11T09:13:40.244Z"
   },
   {
    "duration": 6,
    "start_time": "2024-09-11T09:13:41.619Z"
   },
   {
    "duration": 72,
    "start_time": "2024-09-11T09:13:42.356Z"
   },
   {
    "duration": 5,
    "start_time": "2024-09-11T09:13:45.243Z"
   },
   {
    "duration": 63,
    "start_time": "2024-09-11T09:13:45.747Z"
   },
   {
    "duration": 62,
    "start_time": "2024-09-11T09:13:46.683Z"
   },
   {
    "duration": 62,
    "start_time": "2024-09-11T09:13:49.547Z"
   },
   {
    "duration": 26,
    "start_time": "2024-09-11T09:13:50.580Z"
   },
   {
    "duration": 148,
    "start_time": "2024-09-11T09:13:53.875Z"
   },
   {
    "duration": 6,
    "start_time": "2024-09-11T09:13:54.491Z"
   },
   {
    "duration": 26,
    "start_time": "2024-09-11T09:13:55.179Z"
   },
   {
    "duration": 12,
    "start_time": "2024-09-11T09:14:00.682Z"
   },
   {
    "duration": 11,
    "start_time": "2024-09-11T09:14:02.635Z"
   },
   {
    "duration": 5,
    "start_time": "2024-09-11T09:14:05.900Z"
   },
   {
    "duration": 6,
    "start_time": "2024-09-11T09:14:06.780Z"
   },
   {
    "duration": 26,
    "start_time": "2024-09-11T09:14:10.939Z"
   },
   {
    "duration": 17,
    "start_time": "2024-09-11T09:14:12.563Z"
   },
   {
    "duration": 4,
    "start_time": "2024-09-11T09:18:22.742Z"
   },
   {
    "duration": 5,
    "start_time": "2024-09-11T09:19:34.134Z"
   },
   {
    "duration": 10,
    "start_time": "2024-09-11T09:28:39.050Z"
   },
   {
    "duration": 49,
    "start_time": "2024-09-11T09:29:16.067Z"
   },
   {
    "duration": 69,
    "start_time": "2024-09-11T09:34:45.613Z"
   },
   {
    "duration": 4,
    "start_time": "2024-09-11T09:50:38.317Z"
   },
   {
    "duration": 81,
    "start_time": "2024-09-11T09:50:38.323Z"
   },
   {
    "duration": 4,
    "start_time": "2024-09-11T09:50:38.406Z"
   },
   {
    "duration": 58,
    "start_time": "2024-09-11T09:50:38.413Z"
   },
   {
    "duration": 14,
    "start_time": "2024-09-11T09:50:38.479Z"
   },
   {
    "duration": 27,
    "start_time": "2024-09-11T09:50:38.495Z"
   },
   {
    "duration": 6,
    "start_time": "2024-09-11T09:50:38.523Z"
   },
   {
    "duration": 12,
    "start_time": "2024-09-11T09:50:38.531Z"
   },
   {
    "duration": 19,
    "start_time": "2024-09-11T09:50:38.545Z"
   },
   {
    "duration": 43,
    "start_time": "2024-09-11T09:50:38.573Z"
   },
   {
    "duration": 67,
    "start_time": "2024-09-11T09:54:36.367Z"
   },
   {
    "duration": 2,
    "start_time": "2024-09-11T10:01:22.490Z"
   },
   {
    "duration": 3,
    "start_time": "2024-09-11T10:10:33.847Z"
   },
   {
    "duration": 1381,
    "start_time": "2024-09-11T10:15:25.162Z"
   },
   {
    "duration": 87,
    "start_time": "2024-09-11T10:15:26.545Z"
   },
   {
    "duration": 4,
    "start_time": "2024-09-11T10:15:26.634Z"
   },
   {
    "duration": 34,
    "start_time": "2024-09-11T10:15:26.640Z"
   },
   {
    "duration": 20,
    "start_time": "2024-09-11T10:15:26.685Z"
   },
   {
    "duration": 11,
    "start_time": "2024-09-11T10:15:26.707Z"
   },
   {
    "duration": 5,
    "start_time": "2024-09-11T10:15:26.719Z"
   },
   {
    "duration": 10,
    "start_time": "2024-09-11T10:15:26.726Z"
   },
   {
    "duration": 4,
    "start_time": "2024-09-11T10:15:26.737Z"
   },
   {
    "duration": 27,
    "start_time": "2024-09-11T10:15:26.743Z"
   },
   {
    "duration": 25,
    "start_time": "2024-09-11T10:15:26.772Z"
   },
   {
    "duration": 38,
    "start_time": "2024-09-11T10:15:26.801Z"
   },
   {
    "duration": 18,
    "start_time": "2024-09-11T10:15:26.840Z"
   },
   {
    "duration": 37,
    "start_time": "2024-09-11T10:15:26.861Z"
   },
   {
    "duration": 6,
    "start_time": "2024-09-11T10:15:26.901Z"
   },
   {
    "duration": 14,
    "start_time": "2024-09-11T10:15:26.909Z"
   },
   {
    "duration": 11,
    "start_time": "2024-09-11T10:15:26.925Z"
   },
   {
    "duration": 11,
    "start_time": "2024-09-11T10:15:26.937Z"
   },
   {
    "duration": 5,
    "start_time": "2024-09-11T10:15:26.950Z"
   },
   {
    "duration": 12,
    "start_time": "2024-09-11T10:15:26.971Z"
   },
   {
    "duration": 328,
    "start_time": "2024-09-11T10:15:26.987Z"
   },
   {
    "duration": 13,
    "start_time": "2024-09-11T10:15:27.317Z"
   },
   {
    "duration": 398,
    "start_time": "2024-09-11T10:15:27.332Z"
   },
   {
    "duration": 239,
    "start_time": "2024-09-11T10:15:27.733Z"
   },
   {
    "duration": 367,
    "start_time": "2024-09-11T10:15:27.973Z"
   },
   {
    "duration": 255,
    "start_time": "2024-09-11T10:15:28.342Z"
   },
   {
    "duration": 341,
    "start_time": "2024-09-11T10:15:28.599Z"
   },
   {
    "duration": 10,
    "start_time": "2024-09-11T10:15:28.945Z"
   },
   {
    "duration": 149,
    "start_time": "2024-09-11T10:15:28.967Z"
   },
   {
    "duration": 6,
    "start_time": "2024-09-11T10:15:29.117Z"
   },
   {
    "duration": 11,
    "start_time": "2024-09-11T10:15:29.125Z"
   },
   {
    "duration": 199,
    "start_time": "2024-09-11T10:15:29.138Z"
   },
   {
    "duration": 7,
    "start_time": "2024-09-11T10:15:29.339Z"
   },
   {
    "duration": 26,
    "start_time": "2024-09-11T10:15:29.348Z"
   },
   {
    "duration": 145,
    "start_time": "2024-09-11T10:15:29.376Z"
   },
   {
    "duration": 5,
    "start_time": "2024-09-11T10:15:29.523Z"
   },
   {
    "duration": 63,
    "start_time": "2024-09-11T10:15:29.530Z"
   },
   {
    "duration": 77,
    "start_time": "2024-09-11T10:15:29.594Z"
   },
   {
    "duration": 105,
    "start_time": "2024-09-11T10:15:29.682Z"
   },
   {
    "duration": 36,
    "start_time": "2024-09-11T10:15:29.790Z"
   },
   {
    "duration": 206,
    "start_time": "2024-09-11T10:15:29.836Z"
   },
   {
    "duration": 7,
    "start_time": "2024-09-11T10:15:30.044Z"
   },
   {
    "duration": 99,
    "start_time": "2024-09-11T10:15:30.053Z"
   },
   {
    "duration": 14,
    "start_time": "2024-09-11T10:15:30.155Z"
   },
   {
    "duration": 24,
    "start_time": "2024-09-11T10:15:30.171Z"
   },
   {
    "duration": 50,
    "start_time": "2024-09-11T10:15:30.200Z"
   },
   {
    "duration": 72,
    "start_time": "2024-09-11T10:15:30.251Z"
   },
   {
    "duration": 96,
    "start_time": "2024-09-11T10:15:30.325Z"
   },
   {
    "duration": 20,
    "start_time": "2024-09-11T10:15:30.423Z"
   },
   {
    "duration": 224,
    "start_time": "2024-09-11T11:27:34.496Z"
   },
   {
    "duration": 229,
    "start_time": "2024-09-11T11:27:58.271Z"
   },
   {
    "duration": 277,
    "start_time": "2024-09-11T11:28:09.175Z"
   },
   {
    "duration": 250,
    "start_time": "2024-09-11T11:28:43.743Z"
   },
   {
    "duration": 364,
    "start_time": "2024-09-11T11:29:32.248Z"
   },
   {
    "duration": 307,
    "start_time": "2024-09-11T11:30:26.816Z"
   },
   {
    "duration": 272,
    "start_time": "2024-09-11T11:31:09.744Z"
   },
   {
    "duration": 140,
    "start_time": "2024-09-11T11:32:35.097Z"
   },
   {
    "duration": 162,
    "start_time": "2024-09-11T11:32:58.546Z"
   },
   {
    "duration": 16,
    "start_time": "2024-09-11T12:22:54.974Z"
   },
   {
    "duration": 11,
    "start_time": "2024-09-11T12:23:02.918Z"
   },
   {
    "duration": 28,
    "start_time": "2024-09-11T12:23:10.309Z"
   },
   {
    "duration": 15,
    "start_time": "2024-09-11T12:23:30.750Z"
   },
   {
    "duration": 6,
    "start_time": "2024-09-11T12:24:12.631Z"
   },
   {
    "duration": 6,
    "start_time": "2024-09-11T12:24:27.550Z"
   },
   {
    "duration": 4,
    "start_time": "2024-09-11T12:37:00.587Z"
   },
   {
    "duration": 160,
    "start_time": "2024-09-11T12:37:00.593Z"
   },
   {
    "duration": 5,
    "start_time": "2024-09-11T12:37:00.755Z"
   },
   {
    "duration": 51,
    "start_time": "2024-09-11T12:37:00.763Z"
   },
   {
    "duration": 30,
    "start_time": "2024-09-11T12:37:00.816Z"
   },
   {
    "duration": 37,
    "start_time": "2024-09-11T12:37:00.848Z"
   },
   {
    "duration": 8,
    "start_time": "2024-09-11T12:37:00.886Z"
   },
   {
    "duration": 36,
    "start_time": "2024-09-11T12:37:00.895Z"
   },
   {
    "duration": 52,
    "start_time": "2024-09-11T12:37:00.933Z"
   },
   {
    "duration": 42,
    "start_time": "2024-09-11T12:37:00.987Z"
   },
   {
    "duration": 22,
    "start_time": "2024-09-11T12:37:01.030Z"
   },
   {
    "duration": 33,
    "start_time": "2024-09-11T12:37:01.053Z"
   },
   {
    "duration": 12,
    "start_time": "2024-09-11T12:37:01.087Z"
   },
   {
    "duration": 15,
    "start_time": "2024-09-11T12:37:01.101Z"
   },
   {
    "duration": 27,
    "start_time": "2024-09-11T12:37:01.118Z"
   },
   {
    "duration": 38,
    "start_time": "2024-09-11T12:37:01.147Z"
   },
   {
    "duration": 12,
    "start_time": "2024-09-11T12:37:01.187Z"
   },
   {
    "duration": 17,
    "start_time": "2024-09-11T12:37:01.201Z"
   },
   {
    "duration": 12,
    "start_time": "2024-09-11T12:37:01.219Z"
   },
   {
    "duration": 6,
    "start_time": "2024-09-11T12:37:01.232Z"
   },
   {
    "duration": 284,
    "start_time": "2024-09-11T12:37:01.239Z"
   },
   {
    "duration": 12,
    "start_time": "2024-09-11T12:37:01.525Z"
   },
   {
    "duration": 313,
    "start_time": "2024-09-11T12:37:01.538Z"
   },
   {
    "duration": 242,
    "start_time": "2024-09-11T12:37:01.854Z"
   },
   {
    "duration": 328,
    "start_time": "2024-09-11T12:37:02.098Z"
   },
   {
    "duration": 384,
    "start_time": "2024-09-11T12:37:02.428Z"
   },
   {
    "duration": 321,
    "start_time": "2024-09-11T12:37:02.813Z"
   },
   {
    "duration": 12,
    "start_time": "2024-09-11T12:37:03.135Z"
   },
   {
    "duration": 57,
    "start_time": "2024-09-11T12:37:03.148Z"
   },
   {
    "duration": 154,
    "start_time": "2024-09-11T12:37:03.207Z"
   },
   {
    "duration": 14,
    "start_time": "2024-09-11T12:37:03.364Z"
   },
   {
    "duration": 14,
    "start_time": "2024-09-11T12:37:03.380Z"
   },
   {
    "duration": 181,
    "start_time": "2024-09-11T12:37:03.396Z"
   },
   {
    "duration": 5,
    "start_time": "2024-09-11T12:37:03.579Z"
   },
   {
    "duration": 26,
    "start_time": "2024-09-11T12:37:44.188Z"
   },
   {
    "duration": 25,
    "start_time": "2024-09-11T12:37:48.108Z"
   },
   {
    "duration": 27,
    "start_time": "2024-09-11T12:38:54.685Z"
   },
   {
    "duration": 31,
    "start_time": "2024-09-11T12:39:00.949Z"
   },
   {
    "duration": 24,
    "start_time": "2024-09-11T12:39:08.701Z"
   },
   {
    "duration": 33,
    "start_time": "2024-09-11T12:39:50.701Z"
   },
   {
    "duration": 11,
    "start_time": "2024-09-11T12:40:09.020Z"
   },
   {
    "duration": 26,
    "start_time": "2024-09-11T12:40:46.215Z"
   },
   {
    "duration": 18,
    "start_time": "2024-09-11T12:41:25.359Z"
   },
   {
    "duration": 18,
    "start_time": "2024-09-11T12:41:50.360Z"
   },
   {
    "duration": 4,
    "start_time": "2024-09-11T12:42:11.279Z"
   },
   {
    "duration": 69,
    "start_time": "2024-09-11T12:43:35.544Z"
   },
   {
    "duration": 116,
    "start_time": "2024-09-11T12:43:46.704Z"
   },
   {
    "duration": 21,
    "start_time": "2024-09-11T12:44:09.800Z"
   },
   {
    "duration": 17,
    "start_time": "2024-09-11T12:44:24.572Z"
   },
   {
    "duration": 5,
    "start_time": "2024-09-11T12:44:25.895Z"
   },
   {
    "duration": 8,
    "start_time": "2024-09-11T12:44:56.791Z"
   },
   {
    "duration": 7,
    "start_time": "2024-09-11T12:45:10.009Z"
   },
   {
    "duration": 9,
    "start_time": "2024-09-11T12:45:18.472Z"
   },
   {
    "duration": 6,
    "start_time": "2024-09-11T12:45:19.656Z"
   },
   {
    "duration": 61,
    "start_time": "2024-09-11T12:51:14.460Z"
   },
   {
    "duration": 53,
    "start_time": "2024-09-11T12:51:20.859Z"
   },
   {
    "duration": 16,
    "start_time": "2024-09-11T12:51:54.844Z"
   },
   {
    "duration": 10,
    "start_time": "2024-09-11T12:52:19.125Z"
   },
   {
    "duration": 13,
    "start_time": "2024-09-11T12:52:53.878Z"
   },
   {
    "duration": 18,
    "start_time": "2024-09-11T12:53:39.260Z"
   },
   {
    "duration": 11,
    "start_time": "2024-09-11T12:54:46.516Z"
   },
   {
    "duration": 11,
    "start_time": "2024-09-11T12:55:16.638Z"
   },
   {
    "duration": 11,
    "start_time": "2024-09-11T12:55:20.005Z"
   },
   {
    "duration": 25,
    "start_time": "2024-09-11T12:56:29.688Z"
   },
   {
    "duration": 8,
    "start_time": "2024-09-11T12:56:49.007Z"
   },
   {
    "duration": 9,
    "start_time": "2024-09-11T12:58:22.704Z"
   },
   {
    "duration": 35,
    "start_time": "2024-09-11T13:00:29.153Z"
   },
   {
    "duration": 15,
    "start_time": "2024-09-11T13:01:06.417Z"
   },
   {
    "duration": 9,
    "start_time": "2024-09-11T13:01:20.720Z"
   },
   {
    "duration": 46,
    "start_time": "2024-09-11T14:54:57.255Z"
   },
   {
    "duration": 1280,
    "start_time": "2024-09-11T14:55:01.199Z"
   },
   {
    "duration": 228,
    "start_time": "2024-09-11T14:55:02.481Z"
   },
   {
    "duration": 4,
    "start_time": "2024-09-11T14:55:02.710Z"
   },
   {
    "duration": 19,
    "start_time": "2024-09-11T14:55:02.716Z"
   },
   {
    "duration": 15,
    "start_time": "2024-09-11T14:55:02.738Z"
   },
   {
    "duration": 30,
    "start_time": "2024-09-11T14:55:02.754Z"
   },
   {
    "duration": 4,
    "start_time": "2024-09-11T14:55:06.218Z"
   },
   {
    "duration": 3,
    "start_time": "2024-09-11T14:55:22.053Z"
   },
   {
    "duration": 87,
    "start_time": "2024-09-11T14:55:22.058Z"
   },
   {
    "duration": 3,
    "start_time": "2024-09-11T14:55:22.147Z"
   },
   {
    "duration": 15,
    "start_time": "2024-09-11T14:55:22.152Z"
   },
   {
    "duration": 67,
    "start_time": "2024-09-11T14:55:22.168Z"
   },
   {
    "duration": 8,
    "start_time": "2024-09-11T14:55:22.237Z"
   },
   {
    "duration": 5,
    "start_time": "2024-09-11T14:55:22.246Z"
   },
   {
    "duration": 10,
    "start_time": "2024-09-11T14:55:22.253Z"
   },
   {
    "duration": 5,
    "start_time": "2024-09-11T14:55:22.265Z"
   },
   {
    "duration": 13,
    "start_time": "2024-09-11T14:55:22.271Z"
   },
   {
    "duration": 1405,
    "start_time": "2024-09-12T04:33:08.827Z"
   },
   {
    "duration": 236,
    "start_time": "2024-09-12T04:33:10.233Z"
   },
   {
    "duration": 5,
    "start_time": "2024-09-12T04:33:10.470Z"
   },
   {
    "duration": 23,
    "start_time": "2024-09-12T04:33:10.477Z"
   },
   {
    "duration": 9,
    "start_time": "2024-09-12T04:33:10.502Z"
   },
   {
    "duration": 9,
    "start_time": "2024-09-12T04:33:10.513Z"
   },
   {
    "duration": 11,
    "start_time": "2024-09-12T04:33:10.523Z"
   },
   {
    "duration": 23,
    "start_time": "2024-09-12T04:33:10.535Z"
   },
   {
    "duration": 135,
    "start_time": "2024-09-12T04:33:10.559Z"
   },
   {
    "duration": 41,
    "start_time": "2024-09-12T04:33:10.697Z"
   },
   {
    "duration": 29,
    "start_time": "2024-09-12T04:33:10.740Z"
   },
   {
    "duration": 22,
    "start_time": "2024-09-12T04:33:10.771Z"
   },
   {
    "duration": 18,
    "start_time": "2024-09-12T04:33:10.795Z"
   },
   {
    "duration": 14,
    "start_time": "2024-09-12T04:33:10.815Z"
   },
   {
    "duration": 13,
    "start_time": "2024-09-12T04:33:10.831Z"
   },
   {
    "duration": 30,
    "start_time": "2024-09-12T04:33:10.846Z"
   },
   {
    "duration": 15,
    "start_time": "2024-09-12T04:33:10.877Z"
   },
   {
    "duration": 107,
    "start_time": "2024-09-12T04:33:10.894Z"
   },
   {
    "duration": 22,
    "start_time": "2024-09-12T04:33:11.003Z"
   },
   {
    "duration": 9,
    "start_time": "2024-09-12T04:33:11.027Z"
   },
   {
    "duration": 292,
    "start_time": "2024-09-12T04:33:11.037Z"
   },
   {
    "duration": 12,
    "start_time": "2024-09-12T04:33:11.331Z"
   },
   {
    "duration": 332,
    "start_time": "2024-09-12T04:33:11.345Z"
   },
   {
    "duration": 217,
    "start_time": "2024-09-12T04:33:11.678Z"
   },
   {
    "duration": 330,
    "start_time": "2024-09-12T04:33:11.896Z"
   },
   {
    "duration": 269,
    "start_time": "2024-09-12T04:33:12.228Z"
   },
   {
    "duration": 312,
    "start_time": "2024-09-12T04:33:12.498Z"
   },
   {
    "duration": 11,
    "start_time": "2024-09-12T04:33:12.813Z"
   },
   {
    "duration": 6,
    "start_time": "2024-09-12T04:33:12.825Z"
   },
   {
    "duration": 160,
    "start_time": "2024-09-12T04:33:12.832Z"
   },
   {
    "duration": 5,
    "start_time": "2024-09-12T04:33:12.993Z"
   },
   {
    "duration": 23,
    "start_time": "2024-09-12T04:33:13.000Z"
   },
   {
    "duration": 164,
    "start_time": "2024-09-12T04:33:13.024Z"
   },
   {
    "duration": 5,
    "start_time": "2024-09-12T04:33:13.189Z"
   },
   {
    "duration": 18,
    "start_time": "2024-09-12T04:33:13.195Z"
   },
   {
    "duration": 129,
    "start_time": "2024-09-12T04:33:13.215Z"
   },
   {
    "duration": 11,
    "start_time": "2024-09-12T04:33:13.345Z"
   },
   {
    "duration": 53,
    "start_time": "2024-09-12T04:33:13.357Z"
   },
   {
    "duration": 66,
    "start_time": "2024-09-12T04:33:13.412Z"
   },
   {
    "duration": 60,
    "start_time": "2024-09-12T04:33:13.479Z"
   },
   {
    "duration": 50,
    "start_time": "2024-09-12T04:33:13.541Z"
   },
   {
    "duration": 147,
    "start_time": "2024-09-12T04:33:13.592Z"
   },
   {
    "duration": 17,
    "start_time": "2024-09-12T04:33:13.740Z"
   },
   {
    "duration": 42,
    "start_time": "2024-09-12T04:33:13.766Z"
   },
   {
    "duration": 12,
    "start_time": "2024-09-12T04:33:13.810Z"
   },
   {
    "duration": 8,
    "start_time": "2024-09-12T04:33:13.824Z"
   },
   {
    "duration": 13,
    "start_time": "2024-09-12T04:33:13.833Z"
   },
   {
    "duration": 26,
    "start_time": "2024-09-12T04:33:13.847Z"
   },
   {
    "duration": 106,
    "start_time": "2024-09-12T04:33:13.875Z"
   },
   {
    "duration": 45,
    "start_time": "2024-09-12T04:33:13.983Z"
   },
   {
    "duration": 13,
    "start_time": "2024-09-12T04:33:14.030Z"
   },
   {
    "duration": 7,
    "start_time": "2024-09-12T04:33:14.045Z"
   },
   {
    "duration": 4,
    "start_time": "2024-09-12T04:34:25.425Z"
   },
   {
    "duration": 11,
    "start_time": "2024-09-12T04:34:54.049Z"
   },
   {
    "duration": 4,
    "start_time": "2024-09-12T04:35:12.466Z"
   },
   {
    "duration": 4,
    "start_time": "2024-09-12T04:35:33.469Z"
   },
   {
    "duration": 5,
    "start_time": "2024-09-12T04:36:10.281Z"
   },
   {
    "duration": 4,
    "start_time": "2024-09-12T04:36:15.931Z"
   },
   {
    "duration": 6,
    "start_time": "2024-09-12T04:36:34.482Z"
   },
   {
    "duration": 105,
    "start_time": "2024-09-12T04:36:35.417Z"
   },
   {
    "duration": 9,
    "start_time": "2024-09-12T04:36:41.874Z"
   },
   {
    "duration": 4,
    "start_time": "2024-09-12T04:36:56.234Z"
   },
   {
    "duration": 5,
    "start_time": "2024-09-12T04:38:52.843Z"
   },
   {
    "duration": 9,
    "start_time": "2024-09-12T04:40:20.116Z"
   },
   {
    "duration": 4,
    "start_time": "2024-09-12T04:41:05.092Z"
   },
   {
    "duration": 9,
    "start_time": "2024-09-12T04:41:13.587Z"
   },
   {
    "duration": 5,
    "start_time": "2024-09-12T04:42:08.109Z"
   },
   {
    "duration": 6,
    "start_time": "2024-09-12T04:42:10.572Z"
   },
   {
    "duration": 4,
    "start_time": "2024-09-12T04:42:11.507Z"
   },
   {
    "duration": 12,
    "start_time": "2024-09-12T04:42:16.388Z"
   },
   {
    "duration": 5,
    "start_time": "2024-09-12T04:42:25.693Z"
   },
   {
    "duration": 3,
    "start_time": "2024-09-12T04:45:26.734Z"
   },
   {
    "duration": 4,
    "start_time": "2024-09-12T04:45:48.494Z"
   },
   {
    "duration": 5,
    "start_time": "2024-09-12T04:46:05.422Z"
   },
   {
    "duration": 5,
    "start_time": "2024-09-12T04:46:22.406Z"
   },
   {
    "duration": 3,
    "start_time": "2024-09-12T04:46:22.981Z"
   },
   {
    "duration": 7,
    "start_time": "2024-09-12T04:46:23.421Z"
   },
   {
    "duration": 6,
    "start_time": "2024-09-12T04:47:32.959Z"
   },
   {
    "duration": 12,
    "start_time": "2024-09-12T04:47:49.086Z"
   },
   {
    "duration": 11,
    "start_time": "2024-09-12T04:47:55.303Z"
   },
   {
    "duration": 7,
    "start_time": "2024-09-12T04:48:14.550Z"
   },
   {
    "duration": 12,
    "start_time": "2024-09-12T04:49:50.904Z"
   },
   {
    "duration": 14,
    "start_time": "2024-09-12T04:53:31.699Z"
   },
   {
    "duration": 5,
    "start_time": "2024-09-12T04:53:38.432Z"
   },
   {
    "duration": 12,
    "start_time": "2024-09-12T04:53:51.489Z"
   },
   {
    "duration": 1165,
    "start_time": "2024-09-12T04:54:12.764Z"
   },
   {
    "duration": 81,
    "start_time": "2024-09-12T04:54:13.931Z"
   },
   {
    "duration": 4,
    "start_time": "2024-09-12T04:54:14.014Z"
   },
   {
    "duration": 31,
    "start_time": "2024-09-12T04:54:14.020Z"
   },
   {
    "duration": 41,
    "start_time": "2024-09-12T04:54:14.061Z"
   },
   {
    "duration": 14,
    "start_time": "2024-09-12T04:54:14.104Z"
   },
   {
    "duration": 12,
    "start_time": "2024-09-12T04:54:14.119Z"
   },
   {
    "duration": 37,
    "start_time": "2024-09-12T04:54:14.132Z"
   },
   {
    "duration": 4,
    "start_time": "2024-09-12T04:54:14.170Z"
   },
   {
    "duration": 10,
    "start_time": "2024-09-12T04:54:14.177Z"
   },
   {
    "duration": 31,
    "start_time": "2024-09-12T04:54:14.189Z"
   },
   {
    "duration": 46,
    "start_time": "2024-09-12T04:54:14.222Z"
   },
   {
    "duration": 5,
    "start_time": "2024-09-12T04:54:14.271Z"
   },
   {
    "duration": 15,
    "start_time": "2024-09-12T04:54:14.278Z"
   },
   {
    "duration": 13,
    "start_time": "2024-09-12T04:54:14.295Z"
   },
   {
    "duration": 7,
    "start_time": "2024-09-12T04:54:14.310Z"
   },
   {
    "duration": 5,
    "start_time": "2024-09-12T04:54:14.319Z"
   },
   {
    "duration": 13,
    "start_time": "2024-09-12T04:54:14.326Z"
   },
   {
    "duration": 20,
    "start_time": "2024-09-12T04:54:14.341Z"
   },
   {
    "duration": 20,
    "start_time": "2024-09-12T04:54:14.365Z"
   },
   {
    "duration": 14,
    "start_time": "2024-09-12T04:54:14.386Z"
   },
   {
    "duration": 5,
    "start_time": "2024-09-12T04:54:14.401Z"
   },
   {
    "duration": 6,
    "start_time": "2024-09-12T04:54:14.408Z"
   },
   {
    "duration": 10,
    "start_time": "2024-09-12T04:54:14.416Z"
   },
   {
    "duration": 293,
    "start_time": "2024-09-12T04:54:14.453Z"
   },
   {
    "duration": 21,
    "start_time": "2024-09-12T04:54:14.747Z"
   },
   {
    "duration": 303,
    "start_time": "2024-09-12T04:54:14.770Z"
   },
   {
    "duration": 226,
    "start_time": "2024-09-12T04:54:15.078Z"
   },
   {
    "duration": 307,
    "start_time": "2024-09-12T04:54:15.306Z"
   },
   {
    "duration": 253,
    "start_time": "2024-09-12T04:54:15.615Z"
   },
   {
    "duration": 314,
    "start_time": "2024-09-12T04:54:15.870Z"
   },
   {
    "duration": 11,
    "start_time": "2024-09-12T04:54:16.186Z"
   },
   {
    "duration": 5,
    "start_time": "2024-09-12T04:54:16.198Z"
   },
   {
    "duration": 179,
    "start_time": "2024-09-12T04:54:16.205Z"
   },
   {
    "duration": 5,
    "start_time": "2024-09-12T04:54:16.386Z"
   },
   {
    "duration": 12,
    "start_time": "2024-09-12T04:54:16.392Z"
   },
   {
    "duration": 175,
    "start_time": "2024-09-12T04:54:16.405Z"
   },
   {
    "duration": 5,
    "start_time": "2024-09-12T04:54:16.582Z"
   },
   {
    "duration": 15,
    "start_time": "2024-09-12T04:54:16.588Z"
   },
   {
    "duration": 127,
    "start_time": "2024-09-12T04:54:16.605Z"
   },
   {
    "duration": 54,
    "start_time": "2024-09-12T04:54:16.734Z"
   },
   {
    "duration": 47,
    "start_time": "2024-09-12T04:54:16.789Z"
   },
   {
    "duration": 62,
    "start_time": "2024-09-12T04:54:16.838Z"
   },
   {
    "duration": 68,
    "start_time": "2024-09-12T04:54:16.902Z"
   },
   {
    "duration": 35,
    "start_time": "2024-09-12T04:54:16.977Z"
   },
   {
    "duration": 194,
    "start_time": "2024-09-12T04:54:17.014Z"
   },
   {
    "duration": 33,
    "start_time": "2024-09-12T04:54:17.210Z"
   },
   {
    "duration": 44,
    "start_time": "2024-09-12T04:54:17.245Z"
   },
   {
    "duration": 12,
    "start_time": "2024-09-12T04:54:17.291Z"
   },
   {
    "duration": 11,
    "start_time": "2024-09-12T04:54:17.305Z"
   },
   {
    "duration": 9,
    "start_time": "2024-09-12T04:54:17.318Z"
   },
   {
    "duration": 10,
    "start_time": "2024-09-12T04:54:17.328Z"
   },
   {
    "duration": 9,
    "start_time": "2024-09-12T04:54:17.353Z"
   },
   {
    "duration": 31,
    "start_time": "2024-09-12T04:54:17.369Z"
   },
   {
    "duration": 13,
    "start_time": "2024-09-12T04:54:17.402Z"
   },
   {
    "duration": 10,
    "start_time": "2024-09-12T04:54:17.417Z"
   },
   {
    "duration": 7,
    "start_time": "2024-09-12T04:54:47.066Z"
   },
   {
    "duration": 104,
    "start_time": "2024-09-12T05:09:11.192Z"
   },
   {
    "duration": 253,
    "start_time": "2024-09-12T05:11:19.321Z"
   },
   {
    "duration": 5,
    "start_time": "2024-09-12T05:11:56.113Z"
   },
   {
    "duration": 261,
    "start_time": "2024-09-12T05:12:06.833Z"
   },
   {
    "duration": 5,
    "start_time": "2024-09-12T05:12:37.377Z"
   },
   {
    "duration": 1188,
    "start_time": "2024-09-12T05:12:45.906Z"
   },
   {
    "duration": 232,
    "start_time": "2024-09-12T05:12:52.739Z"
   },
   {
    "duration": 9,
    "start_time": "2024-09-12T05:13:11.418Z"
   },
   {
    "duration": 9,
    "start_time": "2024-09-12T05:13:13.385Z"
   },
   {
    "duration": 80,
    "start_time": "2024-09-12T05:20:14.086Z"
   },
   {
    "duration": 246,
    "start_time": "2024-09-12T05:20:20.926Z"
   },
   {
    "duration": 228,
    "start_time": "2024-09-12T05:26:13.842Z"
   },
   {
    "duration": 301,
    "start_time": "2024-09-12T05:27:08.681Z"
   },
   {
    "duration": 4,
    "start_time": "2024-09-12T05:51:04.067Z"
   },
   {
    "duration": 84,
    "start_time": "2024-09-12T05:51:04.074Z"
   },
   {
    "duration": 4,
    "start_time": "2024-09-12T05:51:04.160Z"
   },
   {
    "duration": 33,
    "start_time": "2024-09-12T05:51:04.168Z"
   },
   {
    "duration": 12,
    "start_time": "2024-09-12T05:51:04.203Z"
   },
   {
    "duration": 15,
    "start_time": "2024-09-12T05:51:04.217Z"
   },
   {
    "duration": 34,
    "start_time": "2024-09-12T05:51:04.234Z"
   },
   {
    "duration": 12,
    "start_time": "2024-09-12T05:51:04.269Z"
   },
   {
    "duration": 263,
    "start_time": "2024-09-12T05:51:04.283Z"
   },
   {
    "duration": 11,
    "start_time": "2024-09-12T05:51:04.554Z"
   },
   {
    "duration": 11,
    "start_time": "2024-09-12T05:51:04.566Z"
   },
   {
    "duration": 248,
    "start_time": "2024-09-12T05:51:04.578Z"
   },
   {
    "duration": 32,
    "start_time": "2024-09-12T05:51:04.828Z"
   },
   {
    "duration": 26,
    "start_time": "2024-09-12T05:51:04.862Z"
   },
   {
    "duration": 46,
    "start_time": "2024-09-12T05:51:04.890Z"
   },
   {
    "duration": 109,
    "start_time": "2024-09-12T05:51:04.937Z"
   },
   {
    "duration": 20,
    "start_time": "2024-09-12T05:51:05.048Z"
   },
   {
    "duration": 31,
    "start_time": "2024-09-12T05:51:05.070Z"
   },
   {
    "duration": 11,
    "start_time": "2024-09-12T05:51:05.103Z"
   },
   {
    "duration": 43,
    "start_time": "2024-09-12T05:51:05.115Z"
   },
   {
    "duration": 73,
    "start_time": "2024-09-12T05:51:05.159Z"
   },
   {
    "duration": 51,
    "start_time": "2024-09-12T05:51:05.234Z"
   },
   {
    "duration": 19,
    "start_time": "2024-09-12T05:51:05.287Z"
   },
   {
    "duration": 22,
    "start_time": "2024-09-12T05:51:05.308Z"
   },
   {
    "duration": 19,
    "start_time": "2024-09-12T05:51:05.332Z"
   },
   {
    "duration": 45,
    "start_time": "2024-09-12T05:51:05.354Z"
   },
   {
    "duration": 316,
    "start_time": "2024-09-12T05:51:05.401Z"
   },
   {
    "duration": 14,
    "start_time": "2024-09-12T05:51:05.721Z"
   },
   {
    "duration": 241,
    "start_time": "2024-09-12T05:51:05.737Z"
   },
   {
    "duration": 240,
    "start_time": "2024-09-12T05:51:05.980Z"
   },
   {
    "duration": 366,
    "start_time": "2024-09-12T05:51:06.222Z"
   },
   {
    "duration": 348,
    "start_time": "2024-09-12T05:51:06.590Z"
   },
   {
    "duration": 349,
    "start_time": "2024-09-12T05:51:06.939Z"
   },
   {
    "duration": 13,
    "start_time": "2024-09-12T05:51:07.291Z"
   },
   {
    "duration": 10,
    "start_time": "2024-09-12T05:51:07.306Z"
   },
   {
    "duration": 203,
    "start_time": "2024-09-12T05:51:07.317Z"
   },
   {
    "duration": 6,
    "start_time": "2024-09-12T05:51:07.524Z"
   },
   {
    "duration": 25,
    "start_time": "2024-09-12T05:51:07.531Z"
   },
   {
    "duration": 161,
    "start_time": "2024-09-12T05:51:07.563Z"
   },
   {
    "duration": 5,
    "start_time": "2024-09-12T05:51:07.726Z"
   },
   {
    "duration": 47,
    "start_time": "2024-09-12T05:51:07.732Z"
   },
   {
    "duration": 61,
    "start_time": "2024-09-12T05:51:07.780Z"
   },
   {
    "duration": 4,
    "start_time": "2024-09-12T05:51:07.843Z"
   },
   {
    "duration": 64,
    "start_time": "2024-09-12T05:51:07.849Z"
   },
   {
    "duration": 78,
    "start_time": "2024-09-12T05:51:07.915Z"
   },
   {
    "duration": 123,
    "start_time": "2024-09-12T05:51:07.995Z"
   },
   {
    "duration": 26,
    "start_time": "2024-09-12T05:51:08.119Z"
   },
   {
    "duration": 135,
    "start_time": "2024-09-12T05:51:08.147Z"
   },
   {
    "duration": 8,
    "start_time": "2024-09-12T05:51:08.284Z"
   },
   {
    "duration": 25,
    "start_time": "2024-09-12T05:51:08.294Z"
   },
   {
    "duration": 39,
    "start_time": "2024-09-12T05:51:08.321Z"
   },
   {
    "duration": 9,
    "start_time": "2024-09-12T05:51:08.363Z"
   },
   {
    "duration": 20,
    "start_time": "2024-09-12T05:51:08.374Z"
   },
   {
    "duration": 7,
    "start_time": "2024-09-12T05:51:08.396Z"
   },
   {
    "duration": 7,
    "start_time": "2024-09-12T05:51:08.404Z"
   },
   {
    "duration": 45,
    "start_time": "2024-09-12T05:51:08.412Z"
   },
   {
    "duration": 19,
    "start_time": "2024-09-12T05:51:08.461Z"
   },
   {
    "duration": 16,
    "start_time": "2024-09-12T05:51:08.482Z"
   },
   {
    "duration": 1395,
    "start_time": "2024-09-12T06:00:07.031Z"
   },
   {
    "duration": 77,
    "start_time": "2024-09-12T06:00:08.428Z"
   },
   {
    "duration": 3,
    "start_time": "2024-09-12T06:00:08.508Z"
   },
   {
    "duration": 25,
    "start_time": "2024-09-12T06:00:08.514Z"
   },
   {
    "duration": 10,
    "start_time": "2024-09-12T06:00:08.541Z"
   },
   {
    "duration": 11,
    "start_time": "2024-09-12T06:00:08.565Z"
   },
   {
    "duration": 12,
    "start_time": "2024-09-12T06:00:08.578Z"
   },
   {
    "duration": 9,
    "start_time": "2024-09-12T06:00:08.591Z"
   },
   {
    "duration": 273,
    "start_time": "2024-09-12T06:00:08.601Z"
   },
   {
    "duration": 5,
    "start_time": "2024-09-12T06:00:08.878Z"
   },
   {
    "duration": 20,
    "start_time": "2024-09-12T06:00:08.885Z"
   },
   {
    "duration": 289,
    "start_time": "2024-09-12T06:00:08.907Z"
   },
   {
    "duration": 17,
    "start_time": "2024-09-12T06:00:09.198Z"
   },
   {
    "duration": 71,
    "start_time": "2024-09-12T06:00:09.217Z"
   },
   {
    "duration": 17,
    "start_time": "2024-09-12T06:00:09.290Z"
   },
   {
    "duration": 14,
    "start_time": "2024-09-12T06:00:09.308Z"
   },
   {
    "duration": 39,
    "start_time": "2024-09-12T06:00:09.323Z"
   },
   {
    "duration": 27,
    "start_time": "2024-09-12T06:00:09.364Z"
   },
   {
    "duration": 4,
    "start_time": "2024-09-12T06:00:09.393Z"
   },
   {
    "duration": 8,
    "start_time": "2024-09-12T06:00:09.399Z"
   },
   {
    "duration": 21,
    "start_time": "2024-09-12T06:00:09.409Z"
   },
   {
    "duration": 34,
    "start_time": "2024-09-12T06:00:09.432Z"
   },
   {
    "duration": 16,
    "start_time": "2024-09-12T06:00:09.471Z"
   },
   {
    "duration": 10,
    "start_time": "2024-09-12T06:00:09.489Z"
   },
   {
    "duration": 13,
    "start_time": "2024-09-12T06:00:09.501Z"
   },
   {
    "duration": 18,
    "start_time": "2024-09-12T06:00:09.516Z"
   },
   {
    "duration": 301,
    "start_time": "2024-09-12T06:00:09.536Z"
   },
   {
    "duration": 28,
    "start_time": "2024-09-12T06:00:09.840Z"
   },
   {
    "duration": 319,
    "start_time": "2024-09-12T06:00:09.872Z"
   },
   {
    "duration": 255,
    "start_time": "2024-09-12T06:00:10.193Z"
   },
   {
    "duration": 335,
    "start_time": "2024-09-12T06:00:10.454Z"
   },
   {
    "duration": 243,
    "start_time": "2024-09-12T06:00:10.792Z"
   },
   {
    "duration": 341,
    "start_time": "2024-09-12T06:00:11.037Z"
   },
   {
    "duration": 13,
    "start_time": "2024-09-12T06:00:11.379Z"
   },
   {
    "duration": 9,
    "start_time": "2024-09-12T06:00:11.393Z"
   },
   {
    "duration": 289,
    "start_time": "2024-09-12T06:00:11.403Z"
   },
   {
    "duration": 6,
    "start_time": "2024-09-12T06:00:11.693Z"
   },
   {
    "duration": 12,
    "start_time": "2024-09-12T06:00:11.701Z"
   },
   {
    "duration": 177,
    "start_time": "2024-09-12T06:00:11.714Z"
   },
   {
    "duration": 5,
    "start_time": "2024-09-12T06:00:11.892Z"
   },
   {
    "duration": 21,
    "start_time": "2024-09-12T06:00:11.899Z"
   },
   {
    "duration": 63,
    "start_time": "2024-09-12T06:00:11.921Z"
   },
   {
    "duration": 94,
    "start_time": "2024-09-12T06:00:11.986Z"
   },
   {
    "duration": 55,
    "start_time": "2024-09-12T06:00:12.082Z"
   },
   {
    "duration": 60,
    "start_time": "2024-09-12T06:00:12.139Z"
   },
   {
    "duration": 76,
    "start_time": "2024-09-12T06:00:12.200Z"
   },
   {
    "duration": 48,
    "start_time": "2024-09-12T06:00:12.278Z"
   },
   {
    "duration": 169,
    "start_time": "2024-09-12T06:00:12.328Z"
   },
   {
    "duration": 6,
    "start_time": "2024-09-12T06:00:12.498Z"
   },
   {
    "duration": 30,
    "start_time": "2024-09-12T06:00:12.505Z"
   },
   {
    "duration": 23,
    "start_time": "2024-09-12T06:00:12.537Z"
   },
   {
    "duration": 11,
    "start_time": "2024-09-12T06:00:12.562Z"
   },
   {
    "duration": 15,
    "start_time": "2024-09-12T06:00:12.576Z"
   },
   {
    "duration": 7,
    "start_time": "2024-09-12T06:00:12.593Z"
   },
   {
    "duration": 26,
    "start_time": "2024-09-12T06:00:12.602Z"
   },
   {
    "duration": 54,
    "start_time": "2024-09-12T06:00:12.630Z"
   },
   {
    "duration": 19,
    "start_time": "2024-09-12T06:00:12.687Z"
   },
   {
    "duration": 9,
    "start_time": "2024-09-12T06:00:12.708Z"
   },
   {
    "duration": 1214,
    "start_time": "2024-09-12T06:31:29.068Z"
   },
   {
    "duration": 76,
    "start_time": "2024-09-12T06:31:30.285Z"
   },
   {
    "duration": 50,
    "start_time": "2024-09-12T06:31:30.363Z"
   },
   {
    "duration": 61,
    "start_time": "2024-09-12T06:31:30.415Z"
   },
   {
    "duration": 79,
    "start_time": "2024-09-12T06:31:30.478Z"
   },
   {
    "duration": 71,
    "start_time": "2024-09-12T06:31:30.559Z"
   },
   {
    "duration": 46,
    "start_time": "2024-09-12T06:31:30.632Z"
   },
   {
    "duration": 38,
    "start_time": "2024-09-12T06:31:30.679Z"
   },
   {
    "duration": 316,
    "start_time": "2024-09-12T06:31:30.719Z"
   },
   {
    "duration": 4,
    "start_time": "2024-09-12T06:31:31.037Z"
   },
   {
    "duration": 38,
    "start_time": "2024-09-12T06:31:31.043Z"
   },
   {
    "duration": 286,
    "start_time": "2024-09-12T06:31:31.083Z"
   },
   {
    "duration": 22,
    "start_time": "2024-09-12T06:31:31.372Z"
   },
   {
    "duration": 41,
    "start_time": "2024-09-12T06:31:31.397Z"
   },
   {
    "duration": 5,
    "start_time": "2024-09-12T06:31:31.440Z"
   },
   {
    "duration": 27,
    "start_time": "2024-09-12T06:31:31.447Z"
   },
   {
    "duration": 9,
    "start_time": "2024-09-12T06:31:31.476Z"
   },
   {
    "duration": 15,
    "start_time": "2024-09-12T06:31:31.486Z"
   },
   {
    "duration": 11,
    "start_time": "2024-09-12T06:31:31.503Z"
   },
   {
    "duration": 23,
    "start_time": "2024-09-12T06:31:31.516Z"
   },
   {
    "duration": 25,
    "start_time": "2024-09-12T06:31:31.541Z"
   },
   {
    "duration": 45,
    "start_time": "2024-09-12T06:31:31.567Z"
   },
   {
    "duration": 21,
    "start_time": "2024-09-12T06:31:31.613Z"
   },
   {
    "duration": 8,
    "start_time": "2024-09-12T06:31:31.636Z"
   },
   {
    "duration": 139,
    "start_time": "2024-09-12T06:31:31.645Z"
   },
   {
    "duration": 20,
    "start_time": "2024-09-12T06:31:31.787Z"
   },
   {
    "duration": 381,
    "start_time": "2024-09-12T06:31:31.808Z"
   },
   {
    "duration": 12,
    "start_time": "2024-09-12T06:31:32.191Z"
   },
   {
    "duration": 328,
    "start_time": "2024-09-12T06:31:32.205Z"
   },
   {
    "duration": 231,
    "start_time": "2024-09-12T06:31:32.536Z"
   },
   {
    "duration": 316,
    "start_time": "2024-09-12T06:31:32.769Z"
   },
   {
    "duration": 249,
    "start_time": "2024-09-12T06:31:33.087Z"
   },
   {
    "duration": 323,
    "start_time": "2024-09-12T06:31:33.338Z"
   },
   {
    "duration": 11,
    "start_time": "2024-09-12T06:31:33.662Z"
   },
   {
    "duration": 102,
    "start_time": "2024-09-12T06:31:33.675Z"
   },
   {
    "duration": 252,
    "start_time": "2024-09-12T06:31:33.779Z"
   },
   {
    "duration": 6,
    "start_time": "2024-09-12T06:31:34.039Z"
   },
   {
    "duration": 27,
    "start_time": "2024-09-12T06:31:34.046Z"
   },
   {
    "duration": 194,
    "start_time": "2024-09-12T06:31:34.075Z"
   },
   {
    "duration": 5,
    "start_time": "2024-09-12T06:31:34.271Z"
   },
   {
    "duration": 37,
    "start_time": "2024-09-12T06:31:34.280Z"
   },
   {
    "duration": 96,
    "start_time": "2024-09-12T06:31:34.319Z"
   },
   {
    "duration": 27,
    "start_time": "2024-09-12T06:31:34.417Z"
   },
   {
    "duration": 49,
    "start_time": "2024-09-12T06:31:34.446Z"
   },
   {
    "duration": 64,
    "start_time": "2024-09-12T06:31:34.497Z"
   },
   {
    "duration": 73,
    "start_time": "2024-09-12T06:31:34.563Z"
   },
   {
    "duration": 28,
    "start_time": "2024-09-12T06:31:34.638Z"
   },
   {
    "duration": 150,
    "start_time": "2024-09-12T06:31:34.668Z"
   },
   {
    "duration": 13,
    "start_time": "2024-09-12T06:31:34.820Z"
   },
   {
    "duration": 55,
    "start_time": "2024-09-12T06:31:34.835Z"
   },
   {
    "duration": 10,
    "start_time": "2024-09-12T06:31:34.892Z"
   },
   {
    "duration": 9,
    "start_time": "2024-09-12T06:31:34.903Z"
   },
   {
    "duration": 31,
    "start_time": "2024-09-12T06:31:34.914Z"
   },
   {
    "duration": 8,
    "start_time": "2024-09-12T06:31:34.946Z"
   },
   {
    "duration": 60,
    "start_time": "2024-09-12T06:31:34.955Z"
   },
   {
    "duration": 55,
    "start_time": "2024-09-12T06:31:35.017Z"
   },
   {
    "duration": 17,
    "start_time": "2024-09-12T06:31:35.074Z"
   },
   {
    "duration": 10,
    "start_time": "2024-09-12T06:31:35.093Z"
   },
   {
    "duration": 2155,
    "start_time": "2024-09-12T06:32:05.396Z"
   },
   {
    "duration": 93,
    "start_time": "2024-09-12T06:32:07.553Z"
   },
   {
    "duration": 4,
    "start_time": "2024-09-12T06:32:07.647Z"
   },
   {
    "duration": 125,
    "start_time": "2024-09-12T06:32:07.652Z"
   },
   {
    "duration": 48,
    "start_time": "2024-09-12T06:32:07.780Z"
   },
   {
    "duration": 9,
    "start_time": "2024-09-12T06:32:07.834Z"
   },
   {
    "duration": 93,
    "start_time": "2024-09-12T06:32:07.845Z"
   },
   {
    "duration": 10,
    "start_time": "2024-09-12T06:32:07.940Z"
   },
   {
    "duration": 590,
    "start_time": "2024-09-12T06:32:07.951Z"
   },
   {
    "duration": 4,
    "start_time": "2024-09-12T06:32:08.543Z"
   },
   {
    "duration": 81,
    "start_time": "2024-09-12T06:32:08.548Z"
   },
   {
    "duration": 471,
    "start_time": "2024-09-12T06:32:08.635Z"
   },
   {
    "duration": 39,
    "start_time": "2024-09-12T06:32:09.108Z"
   },
   {
    "duration": 32,
    "start_time": "2024-09-12T06:32:09.150Z"
   },
   {
    "duration": 26,
    "start_time": "2024-09-12T06:32:09.183Z"
   },
   {
    "duration": 25,
    "start_time": "2024-09-12T06:32:09.211Z"
   },
   {
    "duration": 35,
    "start_time": "2024-09-12T06:32:09.237Z"
   },
   {
    "duration": 32,
    "start_time": "2024-09-12T06:32:09.274Z"
   },
   {
    "duration": 33,
    "start_time": "2024-09-12T06:32:09.307Z"
   },
   {
    "duration": 12,
    "start_time": "2024-09-12T06:32:09.341Z"
   },
   {
    "duration": 29,
    "start_time": "2024-09-12T06:32:09.354Z"
   },
   {
    "duration": 22,
    "start_time": "2024-09-12T06:32:09.385Z"
   },
   {
    "duration": 33,
    "start_time": "2024-09-12T06:32:09.409Z"
   },
   {
    "duration": 11,
    "start_time": "2024-09-12T06:32:09.443Z"
   },
   {
    "duration": 11,
    "start_time": "2024-09-12T06:32:09.455Z"
   },
   {
    "duration": 22,
    "start_time": "2024-09-12T06:32:09.467Z"
   },
   {
    "duration": 292,
    "start_time": "2024-09-12T06:32:09.491Z"
   },
   {
    "duration": 12,
    "start_time": "2024-09-12T06:32:09.785Z"
   },
   {
    "duration": 318,
    "start_time": "2024-09-12T06:32:09.799Z"
   },
   {
    "duration": 243,
    "start_time": "2024-09-12T06:32:10.122Z"
   },
   {
    "duration": 318,
    "start_time": "2024-09-12T06:32:10.367Z"
   },
   {
    "duration": 243,
    "start_time": "2024-09-12T06:32:10.687Z"
   },
   {
    "duration": 323,
    "start_time": "2024-09-12T06:32:10.931Z"
   },
   {
    "duration": 12,
    "start_time": "2024-09-12T06:32:11.256Z"
   },
   {
    "duration": 13,
    "start_time": "2024-09-12T06:32:11.269Z"
   },
   {
    "duration": 284,
    "start_time": "2024-09-12T06:32:11.283Z"
   },
   {
    "duration": 5,
    "start_time": "2024-09-12T06:32:11.569Z"
   },
   {
    "duration": 24,
    "start_time": "2024-09-12T06:32:11.575Z"
   },
   {
    "duration": 174,
    "start_time": "2024-09-12T06:32:11.600Z"
   },
   {
    "duration": 5,
    "start_time": "2024-09-12T06:32:11.776Z"
   },
   {
    "duration": 26,
    "start_time": "2024-09-12T06:32:11.785Z"
   },
   {
    "duration": 64,
    "start_time": "2024-09-12T06:32:11.812Z"
   },
   {
    "duration": 40,
    "start_time": "2024-09-12T06:32:11.878Z"
   },
   {
    "duration": 64,
    "start_time": "2024-09-12T06:32:11.919Z"
   },
   {
    "duration": 75,
    "start_time": "2024-09-12T06:32:11.984Z"
   },
   {
    "duration": 74,
    "start_time": "2024-09-12T06:32:12.061Z"
   },
   {
    "duration": 29,
    "start_time": "2024-09-12T06:32:12.137Z"
   },
   {
    "duration": 130,
    "start_time": "2024-09-12T06:32:12.167Z"
   },
   {
    "duration": 7,
    "start_time": "2024-09-12T06:32:12.299Z"
   },
   {
    "duration": 45,
    "start_time": "2024-09-12T06:32:12.307Z"
   },
   {
    "duration": 11,
    "start_time": "2024-09-12T06:32:12.354Z"
   },
   {
    "duration": 38,
    "start_time": "2024-09-12T06:32:12.366Z"
   },
   {
    "duration": 14,
    "start_time": "2024-09-12T06:32:12.405Z"
   },
   {
    "duration": 26,
    "start_time": "2024-09-12T06:32:12.420Z"
   },
   {
    "duration": 19,
    "start_time": "2024-09-12T06:32:12.447Z"
   },
   {
    "duration": 32,
    "start_time": "2024-09-12T06:32:12.467Z"
   },
   {
    "duration": 13,
    "start_time": "2024-09-12T06:32:12.501Z"
   },
   {
    "duration": 22,
    "start_time": "2024-09-12T06:32:12.516Z"
   },
   {
    "duration": 1409,
    "start_time": "2024-09-12T08:53:34.310Z"
   },
   {
    "duration": 231,
    "start_time": "2024-09-12T08:53:35.721Z"
   },
   {
    "duration": 4,
    "start_time": "2024-09-12T08:53:35.954Z"
   },
   {
    "duration": 27,
    "start_time": "2024-09-12T08:53:35.961Z"
   },
   {
    "duration": 11,
    "start_time": "2024-09-12T08:53:35.990Z"
   },
   {
    "duration": 20,
    "start_time": "2024-09-12T08:53:36.003Z"
   },
   {
    "duration": 6,
    "start_time": "2024-09-12T08:53:36.024Z"
   },
   {
    "duration": 39,
    "start_time": "2024-09-12T08:53:36.031Z"
   },
   {
    "duration": 3,
    "start_time": "2024-09-12T08:53:40.442Z"
   },
   {
    "duration": 10,
    "start_time": "2024-09-12T08:53:47.434Z"
   },
   {
    "duration": 2,
    "start_time": "2024-09-12T08:54:32.282Z"
   },
   {
    "duration": 4,
    "start_time": "2024-09-12T08:54:36.457Z"
   },
   {
    "duration": 129,
    "start_time": "2024-09-12T08:54:36.463Z"
   },
   {
    "duration": 3,
    "start_time": "2024-09-12T08:54:36.594Z"
   },
   {
    "duration": 23,
    "start_time": "2024-09-12T08:54:36.599Z"
   },
   {
    "duration": 5,
    "start_time": "2024-09-12T08:57:09.380Z"
   },
   {
    "duration": 137,
    "start_time": "2024-09-12T08:57:09.387Z"
   },
   {
    "duration": 4,
    "start_time": "2024-09-12T08:57:09.526Z"
   },
   {
    "duration": 31,
    "start_time": "2024-09-12T08:57:09.532Z"
   },
   {
    "duration": 24,
    "start_time": "2024-09-12T08:57:09.565Z"
   },
   {
    "duration": 45,
    "start_time": "2024-09-12T08:57:09.591Z"
   },
   {
    "duration": 32,
    "start_time": "2024-09-12T08:57:09.638Z"
   },
   {
    "duration": 32,
    "start_time": "2024-09-12T08:57:09.672Z"
   },
   {
    "duration": 11,
    "start_time": "2024-09-12T08:57:09.707Z"
   },
   {
    "duration": 267,
    "start_time": "2024-09-12T08:57:09.720Z"
   },
   {
    "duration": 5,
    "start_time": "2024-09-12T08:57:09.989Z"
   },
   {
    "duration": 23,
    "start_time": "2024-09-12T08:57:09.995Z"
   },
   {
    "duration": 249,
    "start_time": "2024-09-12T08:57:10.020Z"
   },
   {
    "duration": 99,
    "start_time": "2024-09-12T08:59:08.559Z"
   },
   {
    "duration": 3,
    "start_time": "2024-09-12T08:59:12.365Z"
   },
   {
    "duration": 103,
    "start_time": "2024-09-12T08:59:12.370Z"
   },
   {
    "duration": 3,
    "start_time": "2024-09-12T08:59:12.475Z"
   },
   {
    "duration": 8,
    "start_time": "2024-09-12T08:59:12.479Z"
   },
   {
    "duration": 38,
    "start_time": "2024-09-12T08:59:12.489Z"
   },
   {
    "duration": 14,
    "start_time": "2024-09-12T08:59:12.529Z"
   },
   {
    "duration": 14,
    "start_time": "2024-09-12T08:59:12.544Z"
   },
   {
    "duration": 6,
    "start_time": "2024-09-12T08:59:12.560Z"
   },
   {
    "duration": 16,
    "start_time": "2024-09-12T08:59:12.568Z"
   },
   {
    "duration": 279,
    "start_time": "2024-09-12T08:59:12.586Z"
   },
   {
    "duration": 5,
    "start_time": "2024-09-12T08:59:12.868Z"
   },
   {
    "duration": 26,
    "start_time": "2024-09-12T08:59:12.874Z"
   },
   {
    "duration": 253,
    "start_time": "2024-09-12T08:59:12.902Z"
   },
   {
    "duration": 17,
    "start_time": "2024-09-12T08:59:13.157Z"
   },
   {
    "duration": 21,
    "start_time": "2024-09-12T08:59:13.176Z"
   },
   {
    "duration": 11,
    "start_time": "2024-09-12T08:59:13.198Z"
   },
   {
    "duration": 10,
    "start_time": "2024-09-12T08:59:13.211Z"
   },
   {
    "duration": 36,
    "start_time": "2024-09-12T08:59:13.223Z"
   },
   {
    "duration": 6,
    "start_time": "2024-09-12T08:59:13.260Z"
   },
   {
    "duration": 6,
    "start_time": "2024-09-12T08:59:13.268Z"
   },
   {
    "duration": 7,
    "start_time": "2024-09-12T08:59:13.276Z"
   },
   {
    "duration": 21,
    "start_time": "2024-09-12T08:59:13.284Z"
   },
   {
    "duration": 21,
    "start_time": "2024-09-12T08:59:13.307Z"
   },
   {
    "duration": 36,
    "start_time": "2024-09-12T08:59:13.330Z"
   },
   {
    "duration": 51,
    "start_time": "2024-09-12T08:59:13.368Z"
   },
   {
    "duration": 34,
    "start_time": "2024-09-12T08:59:13.421Z"
   },
   {
    "duration": 7,
    "start_time": "2024-09-12T08:59:13.457Z"
   },
   {
    "duration": 288,
    "start_time": "2024-09-12T08:59:13.466Z"
   },
   {
    "duration": 12,
    "start_time": "2024-09-12T08:59:13.757Z"
   },
   {
    "duration": 296,
    "start_time": "2024-09-12T08:59:15.644Z"
   },
   {
    "duration": 4,
    "start_time": "2024-09-12T08:59:59.134Z"
   },
   {
    "duration": 104,
    "start_time": "2024-09-12T08:59:59.140Z"
   },
   {
    "duration": 3,
    "start_time": "2024-09-12T08:59:59.246Z"
   },
   {
    "duration": 16,
    "start_time": "2024-09-12T08:59:59.251Z"
   },
   {
    "duration": 24,
    "start_time": "2024-09-12T08:59:59.269Z"
   },
   {
    "duration": 10,
    "start_time": "2024-09-12T08:59:59.295Z"
   },
   {
    "duration": 10,
    "start_time": "2024-09-12T08:59:59.306Z"
   },
   {
    "duration": 24,
    "start_time": "2024-09-12T08:59:59.318Z"
   },
   {
    "duration": 31,
    "start_time": "2024-09-12T08:59:59.344Z"
   },
   {
    "duration": 311,
    "start_time": "2024-09-12T08:59:59.377Z"
   },
   {
    "duration": 6,
    "start_time": "2024-09-12T08:59:59.689Z"
   },
   {
    "duration": 50,
    "start_time": "2024-09-12T08:59:59.697Z"
   },
   {
    "duration": 246,
    "start_time": "2024-09-12T08:59:59.748Z"
   },
   {
    "duration": 17,
    "start_time": "2024-09-12T08:59:59.996Z"
   },
   {
    "duration": 118,
    "start_time": "2024-09-12T09:00:00.014Z"
   },
   {
    "duration": 83,
    "start_time": "2024-09-12T09:00:00.134Z"
   },
   {
    "duration": 108,
    "start_time": "2024-09-12T09:00:00.218Z"
   },
   {
    "duration": 84,
    "start_time": "2024-09-12T09:00:00.328Z"
   },
   {
    "duration": 34,
    "start_time": "2024-09-12T09:00:00.413Z"
   },
   {
    "duration": 33,
    "start_time": "2024-09-12T09:00:00.448Z"
   },
   {
    "duration": 31,
    "start_time": "2024-09-12T09:00:00.483Z"
   },
   {
    "duration": 36,
    "start_time": "2024-09-12T09:00:00.515Z"
   },
   {
    "duration": 35,
    "start_time": "2024-09-12T09:00:00.553Z"
   },
   {
    "duration": 13,
    "start_time": "2024-09-12T09:00:00.674Z"
   },
   {
    "duration": 40,
    "start_time": "2024-09-12T09:00:00.688Z"
   },
   {
    "duration": 20,
    "start_time": "2024-09-12T09:00:00.729Z"
   },
   {
    "duration": 14,
    "start_time": "2024-09-12T09:00:00.751Z"
   },
   {
    "duration": 309,
    "start_time": "2024-09-12T09:00:00.766Z"
   },
   {
    "duration": 14,
    "start_time": "2024-09-12T09:00:01.078Z"
   },
   {
    "duration": 273,
    "start_time": "2024-09-12T09:00:01.094Z"
   },
   {
    "duration": 248,
    "start_time": "2024-09-12T09:00:01.369Z"
   },
   {
    "duration": 386,
    "start_time": "2024-09-12T09:00:01.619Z"
   },
   {
    "duration": 242,
    "start_time": "2024-09-12T09:00:02.007Z"
   },
   {
    "duration": 326,
    "start_time": "2024-09-12T09:00:02.255Z"
   },
   {
    "duration": 13,
    "start_time": "2024-09-12T09:00:02.584Z"
   },
   {
    "duration": 24,
    "start_time": "2024-09-12T09:00:02.599Z"
   },
   {
    "duration": 207,
    "start_time": "2024-09-12T09:00:02.625Z"
   },
   {
    "duration": 6,
    "start_time": "2024-09-12T09:00:02.834Z"
   },
   {
    "duration": 52,
    "start_time": "2024-09-12T09:00:02.842Z"
   },
   {
    "duration": 166,
    "start_time": "2024-09-12T09:00:02.896Z"
   },
   {
    "duration": 5,
    "start_time": "2024-09-12T09:00:03.064Z"
   },
   {
    "duration": 16,
    "start_time": "2024-09-12T09:00:03.070Z"
   },
   {
    "duration": 75,
    "start_time": "2024-09-12T09:00:03.087Z"
   },
   {
    "duration": 23,
    "start_time": "2024-09-12T09:00:03.163Z"
   },
   {
    "duration": 72,
    "start_time": "2024-09-12T09:00:03.188Z"
   },
   {
    "duration": 85,
    "start_time": "2024-09-12T09:00:03.262Z"
   },
   {
    "duration": 66,
    "start_time": "2024-09-12T09:00:03.349Z"
   },
   {
    "duration": 96,
    "start_time": "2024-09-12T09:00:03.416Z"
   },
   {
    "duration": 158,
    "start_time": "2024-09-12T09:00:03.514Z"
   },
   {
    "duration": 8,
    "start_time": "2024-09-12T09:00:03.673Z"
   },
   {
    "duration": 41,
    "start_time": "2024-09-12T09:00:03.682Z"
   },
   {
    "duration": 30,
    "start_time": "2024-09-12T09:00:03.725Z"
   },
   {
    "duration": 37,
    "start_time": "2024-09-12T09:00:03.757Z"
   },
   {
    "duration": 43,
    "start_time": "2024-09-12T09:00:03.796Z"
   },
   {
    "duration": 40,
    "start_time": "2024-09-12T09:00:03.841Z"
   },
   {
    "duration": 132,
    "start_time": "2024-09-12T09:00:03.883Z"
   },
   {
    "duration": 49,
    "start_time": "2024-09-12T09:00:04.017Z"
   },
   {
    "duration": 76,
    "start_time": "2024-09-12T09:00:04.068Z"
   },
   {
    "duration": 12,
    "start_time": "2024-09-12T09:00:04.146Z"
   },
   {
    "duration": 233,
    "start_time": "2024-09-12T09:04:28.247Z"
   },
   {
    "duration": 326,
    "start_time": "2024-09-12T09:04:54.193Z"
   },
   {
    "duration": 6,
    "start_time": "2024-09-12T09:11:42.563Z"
   },
   {
    "duration": 51,
    "start_time": "2024-09-12T09:12:01.196Z"
   },
   {
    "duration": 57,
    "start_time": "2024-09-12T09:12:05.580Z"
   },
   {
    "duration": 10,
    "start_time": "2024-09-12T09:16:48.469Z"
   },
   {
    "duration": 6,
    "start_time": "2024-09-12T09:17:29.950Z"
   },
   {
    "duration": 11,
    "start_time": "2024-09-12T09:18:53.415Z"
   },
   {
    "duration": 1215,
    "start_time": "2024-09-12T09:19:19.000Z"
   },
   {
    "duration": 1184,
    "start_time": "2024-09-12T09:20:07.832Z"
   },
   {
    "duration": 13,
    "start_time": "2024-09-12T09:20:31.856Z"
   },
   {
    "duration": 13,
    "start_time": "2024-09-12T09:21:28.425Z"
   },
   {
    "duration": 1268,
    "start_time": "2024-09-12T09:21:46.120Z"
   },
   {
    "duration": 77,
    "start_time": "2024-09-12T09:21:47.390Z"
   },
   {
    "duration": 4,
    "start_time": "2024-09-12T09:21:47.469Z"
   },
   {
    "duration": 26,
    "start_time": "2024-09-12T09:21:47.476Z"
   },
   {
    "duration": 25,
    "start_time": "2024-09-12T09:21:47.504Z"
   },
   {
    "duration": 27,
    "start_time": "2024-09-12T09:21:47.531Z"
   },
   {
    "duration": 31,
    "start_time": "2024-09-12T09:21:47.560Z"
   },
   {
    "duration": 14,
    "start_time": "2024-09-12T09:21:47.594Z"
   },
   {
    "duration": 24,
    "start_time": "2024-09-12T09:21:47.611Z"
   },
   {
    "duration": 271,
    "start_time": "2024-09-12T09:21:47.640Z"
   },
   {
    "duration": 5,
    "start_time": "2024-09-12T09:21:47.912Z"
   },
   {
    "duration": 15,
    "start_time": "2024-09-12T09:21:47.919Z"
   },
   {
    "duration": 280,
    "start_time": "2024-09-12T09:21:47.936Z"
   },
   {
    "duration": 16,
    "start_time": "2024-09-12T09:21:48.218Z"
   },
   {
    "duration": 42,
    "start_time": "2024-09-12T09:21:48.235Z"
   },
   {
    "duration": 22,
    "start_time": "2024-09-12T09:21:48.278Z"
   },
   {
    "duration": 28,
    "start_time": "2024-09-12T09:21:48.302Z"
   },
   {
    "duration": 14,
    "start_time": "2024-09-12T09:21:48.332Z"
   },
   {
    "duration": 8,
    "start_time": "2024-09-12T09:21:48.347Z"
   },
   {
    "duration": 50,
    "start_time": "2024-09-12T09:21:48.356Z"
   },
   {
    "duration": 10,
    "start_time": "2024-09-12T09:21:48.408Z"
   },
   {
    "duration": 22,
    "start_time": "2024-09-12T09:21:48.420Z"
   },
   {
    "duration": 29,
    "start_time": "2024-09-12T09:21:48.444Z"
   },
   {
    "duration": 44,
    "start_time": "2024-09-12T09:21:48.475Z"
   },
   {
    "duration": 29,
    "start_time": "2024-09-12T09:21:48.521Z"
   },
   {
    "duration": 34,
    "start_time": "2024-09-12T09:21:48.552Z"
   },
   {
    "duration": 38,
    "start_time": "2024-09-12T09:21:48.587Z"
   },
   {
    "duration": 309,
    "start_time": "2024-09-12T09:21:48.629Z"
   },
   {
    "duration": 17,
    "start_time": "2024-09-12T09:21:48.939Z"
   },
   {
    "duration": 301,
    "start_time": "2024-09-12T09:21:48.958Z"
   },
   {
    "duration": 219,
    "start_time": "2024-09-12T09:21:49.260Z"
   },
   {
    "duration": 296,
    "start_time": "2024-09-12T09:21:49.481Z"
   },
   {
    "duration": 234,
    "start_time": "2024-09-12T09:21:49.778Z"
   },
   {
    "duration": 323,
    "start_time": "2024-09-12T09:21:50.013Z"
   },
   {
    "duration": 20,
    "start_time": "2024-09-12T09:21:50.337Z"
   },
   {
    "duration": 11,
    "start_time": "2024-09-12T09:21:50.359Z"
   },
   {
    "duration": 263,
    "start_time": "2024-09-12T09:21:50.372Z"
   },
   {
    "duration": 7,
    "start_time": "2024-09-12T09:21:50.637Z"
   },
   {
    "duration": 25,
    "start_time": "2024-09-12T09:21:50.655Z"
   },
   {
    "duration": 170,
    "start_time": "2024-09-12T09:21:50.682Z"
   },
   {
    "duration": 5,
    "start_time": "2024-09-12T09:21:50.854Z"
   },
   {
    "duration": 37,
    "start_time": "2024-09-12T09:21:50.860Z"
   },
   {
    "duration": 87,
    "start_time": "2024-09-12T09:21:50.899Z"
   },
   {
    "duration": 42,
    "start_time": "2024-09-12T09:21:50.988Z"
   },
   {
    "duration": 68,
    "start_time": "2024-09-12T09:21:51.033Z"
   },
   {
    "duration": 112,
    "start_time": "2024-09-12T09:21:51.102Z"
   },
   {
    "duration": 58,
    "start_time": "2024-09-12T09:21:51.216Z"
   },
   {
    "duration": 29,
    "start_time": "2024-09-12T09:21:51.275Z"
   },
   {
    "duration": 159,
    "start_time": "2024-09-12T09:21:51.305Z"
   },
   {
    "duration": 7,
    "start_time": "2024-09-12T09:21:51.466Z"
   },
   {
    "duration": 112,
    "start_time": "2024-09-12T09:21:51.474Z"
   },
   {
    "duration": 23,
    "start_time": "2024-09-12T09:21:51.588Z"
   },
   {
    "duration": 20,
    "start_time": "2024-09-12T09:21:51.613Z"
   },
   {
    "duration": 35,
    "start_time": "2024-09-12T09:21:51.635Z"
   },
   {
    "duration": 16,
    "start_time": "2024-09-12T09:21:51.672Z"
   },
   {
    "duration": 11,
    "start_time": "2024-09-12T09:21:51.689Z"
   },
   {
    "duration": 27,
    "start_time": "2024-09-12T09:21:51.701Z"
   },
   {
    "duration": 15,
    "start_time": "2024-09-12T09:21:51.730Z"
   },
   {
    "duration": 16,
    "start_time": "2024-09-12T09:21:51.746Z"
   },
   {
    "duration": 8,
    "start_time": "2024-09-12T09:29:19.231Z"
   },
   {
    "duration": 9,
    "start_time": "2024-09-12T09:29:45.773Z"
   },
   {
    "duration": 9,
    "start_time": "2024-09-12T09:31:02.519Z"
   },
   {
    "duration": 8,
    "start_time": "2024-09-12T09:31:09.334Z"
   },
   {
    "duration": 1249,
    "start_time": "2024-09-12T09:54:37.636Z"
   },
   {
    "duration": 78,
    "start_time": "2024-09-12T09:54:38.887Z"
   },
   {
    "duration": 3,
    "start_time": "2024-09-12T09:54:38.967Z"
   },
   {
    "duration": 45,
    "start_time": "2024-09-12T09:54:38.973Z"
   },
   {
    "duration": 52,
    "start_time": "2024-09-12T09:54:39.019Z"
   },
   {
    "duration": 28,
    "start_time": "2024-09-12T09:54:39.073Z"
   },
   {
    "duration": 21,
    "start_time": "2024-09-12T09:54:39.103Z"
   },
   {
    "duration": 19,
    "start_time": "2024-09-12T09:54:39.126Z"
   },
   {
    "duration": 38,
    "start_time": "2024-09-12T09:54:39.146Z"
   },
   {
    "duration": 289,
    "start_time": "2024-09-12T09:54:39.188Z"
   },
   {
    "duration": 5,
    "start_time": "2024-09-12T09:54:39.479Z"
   },
   {
    "duration": 47,
    "start_time": "2024-09-12T09:54:39.485Z"
   },
   {
    "duration": 263,
    "start_time": "2024-09-12T09:54:39.534Z"
   },
   {
    "duration": 16,
    "start_time": "2024-09-12T09:54:39.799Z"
   },
   {
    "duration": 52,
    "start_time": "2024-09-12T09:54:39.816Z"
   },
   {
    "duration": 33,
    "start_time": "2024-09-12T09:54:39.870Z"
   },
   {
    "duration": 39,
    "start_time": "2024-09-12T09:54:39.905Z"
   },
   {
    "duration": 35,
    "start_time": "2024-09-12T09:54:39.945Z"
   },
   {
    "duration": 44,
    "start_time": "2024-09-12T09:54:39.982Z"
   },
   {
    "duration": 42,
    "start_time": "2024-09-12T09:54:40.028Z"
   },
   {
    "duration": 52,
    "start_time": "2024-09-12T09:54:40.072Z"
   },
   {
    "duration": 32,
    "start_time": "2024-09-12T09:54:40.126Z"
   },
   {
    "duration": 71,
    "start_time": "2024-09-12T09:54:40.160Z"
   },
   {
    "duration": 44,
    "start_time": "2024-09-12T09:54:40.232Z"
   },
   {
    "duration": 32,
    "start_time": "2024-09-12T09:54:40.278Z"
   },
   {
    "duration": 107,
    "start_time": "2024-09-12T09:54:40.312Z"
   },
   {
    "duration": 39,
    "start_time": "2024-09-12T09:54:40.420Z"
   },
   {
    "duration": 367,
    "start_time": "2024-09-12T09:54:40.464Z"
   },
   {
    "duration": 15,
    "start_time": "2024-09-12T09:54:40.833Z"
   },
   {
    "duration": 336,
    "start_time": "2024-09-12T09:54:40.856Z"
   },
   {
    "duration": 244,
    "start_time": "2024-09-12T09:54:41.193Z"
   },
   {
    "duration": 331,
    "start_time": "2024-09-12T09:54:41.439Z"
   },
   {
    "duration": 237,
    "start_time": "2024-09-12T09:54:41.772Z"
   },
   {
    "duration": 313,
    "start_time": "2024-09-12T09:54:42.011Z"
   },
   {
    "duration": 24,
    "start_time": "2024-09-12T09:54:42.326Z"
   },
   {
    "duration": 7,
    "start_time": "2024-09-12T09:54:42.355Z"
   },
   {
    "duration": 267,
    "start_time": "2024-09-12T09:54:42.363Z"
   },
   {
    "duration": 5,
    "start_time": "2024-09-12T09:54:42.632Z"
   },
   {
    "duration": 33,
    "start_time": "2024-09-12T09:54:42.639Z"
   },
   {
    "duration": 181,
    "start_time": "2024-09-12T09:54:42.674Z"
   },
   {
    "duration": 6,
    "start_time": "2024-09-12T09:54:42.858Z"
   },
   {
    "duration": 18,
    "start_time": "2024-09-12T09:54:42.866Z"
   },
   {
    "duration": 49,
    "start_time": "2024-09-12T09:54:42.887Z"
   },
   {
    "duration": 17,
    "start_time": "2024-09-12T09:54:42.938Z"
   },
   {
    "duration": 65,
    "start_time": "2024-09-12T09:54:42.957Z"
   },
   {
    "duration": 70,
    "start_time": "2024-09-12T09:54:43.024Z"
   },
   {
    "duration": 72,
    "start_time": "2024-09-12T09:54:43.096Z"
   },
   {
    "duration": 33,
    "start_time": "2024-09-12T09:54:43.170Z"
   },
   {
    "duration": 160,
    "start_time": "2024-09-12T09:54:43.205Z"
   },
   {
    "duration": 8,
    "start_time": "2024-09-12T09:54:43.367Z"
   },
   {
    "duration": 28,
    "start_time": "2024-09-12T09:54:43.377Z"
   },
   {
    "duration": 126,
    "start_time": "2024-09-12T09:54:43.407Z"
   },
   {
    "duration": 0,
    "start_time": "2024-09-12T09:54:43.535Z"
   },
   {
    "duration": 0,
    "start_time": "2024-09-12T09:54:43.536Z"
   },
   {
    "duration": 0,
    "start_time": "2024-09-12T09:54:43.538Z"
   },
   {
    "duration": 0,
    "start_time": "2024-09-12T09:54:43.540Z"
   },
   {
    "duration": 0,
    "start_time": "2024-09-12T09:54:43.556Z"
   },
   {
    "duration": 0,
    "start_time": "2024-09-12T09:54:43.557Z"
   },
   {
    "duration": 0,
    "start_time": "2024-09-12T09:54:43.558Z"
   },
   {
    "duration": 0,
    "start_time": "2024-09-12T09:54:43.559Z"
   },
   {
    "duration": 0,
    "start_time": "2024-09-12T09:54:43.560Z"
   },
   {
    "duration": 1195,
    "start_time": "2024-09-12T09:55:25.287Z"
   },
   {
    "duration": 77,
    "start_time": "2024-09-12T09:55:26.484Z"
   },
   {
    "duration": 4,
    "start_time": "2024-09-12T09:55:26.563Z"
   },
   {
    "duration": 11,
    "start_time": "2024-09-12T09:55:26.569Z"
   },
   {
    "duration": 22,
    "start_time": "2024-09-12T09:55:26.581Z"
   },
   {
    "duration": 11,
    "start_time": "2024-09-12T09:55:26.605Z"
   },
   {
    "duration": 28,
    "start_time": "2024-09-12T09:55:26.617Z"
   },
   {
    "duration": 26,
    "start_time": "2024-09-12T09:55:26.646Z"
   },
   {
    "duration": 14,
    "start_time": "2024-09-12T09:55:26.674Z"
   },
   {
    "duration": 277,
    "start_time": "2024-09-12T09:55:26.690Z"
   },
   {
    "duration": 5,
    "start_time": "2024-09-12T09:55:26.968Z"
   },
   {
    "duration": 10,
    "start_time": "2024-09-12T09:55:26.975Z"
   },
   {
    "duration": 268,
    "start_time": "2024-09-12T09:55:26.987Z"
   },
   {
    "duration": 17,
    "start_time": "2024-09-12T09:55:27.256Z"
   },
   {
    "duration": 34,
    "start_time": "2024-09-12T09:55:27.274Z"
   },
   {
    "duration": 16,
    "start_time": "2024-09-12T09:55:27.310Z"
   },
   {
    "duration": 15,
    "start_time": "2024-09-12T09:55:27.327Z"
   },
   {
    "duration": 13,
    "start_time": "2024-09-12T09:55:27.343Z"
   },
   {
    "duration": 22,
    "start_time": "2024-09-12T09:55:27.358Z"
   },
   {
    "duration": 4,
    "start_time": "2024-09-12T09:55:27.382Z"
   },
   {
    "duration": 17,
    "start_time": "2024-09-12T09:55:27.387Z"
   },
   {
    "duration": 12,
    "start_time": "2024-09-12T09:55:27.406Z"
   },
   {
    "duration": 33,
    "start_time": "2024-09-12T09:55:27.420Z"
   },
   {
    "duration": 57,
    "start_time": "2024-09-12T09:55:27.454Z"
   },
   {
    "duration": 20,
    "start_time": "2024-09-12T09:55:27.512Z"
   },
   {
    "duration": 30,
    "start_time": "2024-09-12T09:55:27.534Z"
   },
   {
    "duration": 5,
    "start_time": "2024-09-12T09:55:27.566Z"
   },
   {
    "duration": 318,
    "start_time": "2024-09-12T09:55:27.575Z"
   },
   {
    "duration": 12,
    "start_time": "2024-09-12T09:55:27.894Z"
   },
   {
    "duration": 331,
    "start_time": "2024-09-12T09:55:27.908Z"
   },
   {
    "duration": 228,
    "start_time": "2024-09-12T09:55:28.241Z"
   },
   {
    "duration": 312,
    "start_time": "2024-09-12T09:55:28.471Z"
   },
   {
    "duration": 235,
    "start_time": "2024-09-12T09:55:28.785Z"
   },
   {
    "duration": 348,
    "start_time": "2024-09-12T09:55:29.022Z"
   },
   {
    "duration": 13,
    "start_time": "2024-09-12T09:55:29.372Z"
   },
   {
    "duration": 6,
    "start_time": "2024-09-12T09:55:29.387Z"
   },
   {
    "duration": 253,
    "start_time": "2024-09-12T09:55:29.395Z"
   },
   {
    "duration": 7,
    "start_time": "2024-09-12T09:55:29.654Z"
   },
   {
    "duration": 18,
    "start_time": "2024-09-12T09:55:29.662Z"
   },
   {
    "duration": 176,
    "start_time": "2024-09-12T09:55:29.682Z"
   },
   {
    "duration": 5,
    "start_time": "2024-09-12T09:55:29.859Z"
   },
   {
    "duration": 5,
    "start_time": "2024-09-12T09:55:29.865Z"
   },
   {
    "duration": 47,
    "start_time": "2024-09-12T09:55:29.872Z"
   },
   {
    "duration": 5,
    "start_time": "2024-09-12T09:55:29.920Z"
   },
   {
    "duration": 73,
    "start_time": "2024-09-12T09:55:29.926Z"
   },
   {
    "duration": 108,
    "start_time": "2024-09-12T09:55:30.001Z"
   },
   {
    "duration": 66,
    "start_time": "2024-09-12T09:55:30.111Z"
   },
   {
    "duration": 29,
    "start_time": "2024-09-12T09:55:30.179Z"
   },
   {
    "duration": 212,
    "start_time": "2024-09-12T09:55:30.209Z"
   },
   {
    "duration": 7,
    "start_time": "2024-09-12T09:55:30.423Z"
   },
   {
    "duration": 57,
    "start_time": "2024-09-12T09:55:30.432Z"
   },
   {
    "duration": 41,
    "start_time": "2024-09-12T09:55:30.491Z"
   },
   {
    "duration": 38,
    "start_time": "2024-09-12T09:55:30.533Z"
   },
   {
    "duration": 28,
    "start_time": "2024-09-12T09:55:30.573Z"
   },
   {
    "duration": 28,
    "start_time": "2024-09-12T09:55:30.602Z"
   },
   {
    "duration": 30,
    "start_time": "2024-09-12T09:55:30.631Z"
   },
   {
    "duration": 42,
    "start_time": "2024-09-12T09:55:30.662Z"
   },
   {
    "duration": 57,
    "start_time": "2024-09-12T09:55:30.706Z"
   },
   {
    "duration": 20,
    "start_time": "2024-09-12T09:55:30.765Z"
   },
   {
    "duration": 31,
    "start_time": "2024-09-12T09:55:30.787Z"
   },
   {
    "duration": 40,
    "start_time": "2024-09-12T09:55:30.820Z"
   },
   {
    "duration": 1175,
    "start_time": "2024-09-12T14:46:32.278Z"
   },
   {
    "duration": 73,
    "start_time": "2024-09-12T14:46:33.455Z"
   },
   {
    "duration": 4,
    "start_time": "2024-09-12T14:46:33.530Z"
   },
   {
    "duration": 6,
    "start_time": "2024-09-12T14:46:33.535Z"
   },
   {
    "duration": 25,
    "start_time": "2024-09-12T14:46:33.543Z"
   },
   {
    "duration": 9,
    "start_time": "2024-09-12T14:46:33.570Z"
   },
   {
    "duration": 10,
    "start_time": "2024-09-12T14:46:33.581Z"
   },
   {
    "duration": 5,
    "start_time": "2024-09-12T14:46:33.593Z"
   },
   {
    "duration": 10,
    "start_time": "2024-09-12T14:46:33.599Z"
   },
   {
    "duration": 280,
    "start_time": "2024-09-12T14:46:33.611Z"
   },
   {
    "duration": 4,
    "start_time": "2024-09-12T14:46:33.893Z"
   },
   {
    "duration": 19,
    "start_time": "2024-09-12T14:46:33.899Z"
   },
   {
    "duration": 238,
    "start_time": "2024-09-12T14:46:33.919Z"
   },
   {
    "duration": 16,
    "start_time": "2024-09-12T14:46:34.161Z"
   },
   {
    "duration": 23,
    "start_time": "2024-09-12T14:46:34.179Z"
   },
   {
    "duration": 88,
    "start_time": "2024-09-12T14:46:34.204Z"
   },
   {
    "duration": 6,
    "start_time": "2024-09-12T14:46:34.294Z"
   },
   {
    "duration": 7,
    "start_time": "2024-09-12T14:46:34.301Z"
   },
   {
    "duration": 16,
    "start_time": "2024-09-12T14:46:34.310Z"
   },
   {
    "duration": 7,
    "start_time": "2024-09-12T14:46:34.327Z"
   },
   {
    "duration": 28,
    "start_time": "2024-09-12T14:46:34.336Z"
   },
   {
    "duration": 20,
    "start_time": "2024-09-12T14:46:34.366Z"
   },
   {
    "duration": 14,
    "start_time": "2024-09-12T14:46:34.388Z"
   },
   {
    "duration": 23,
    "start_time": "2024-09-12T14:46:34.404Z"
   },
   {
    "duration": 41,
    "start_time": "2024-09-12T14:46:34.428Z"
   },
   {
    "duration": 30,
    "start_time": "2024-09-12T14:46:34.471Z"
   },
   {
    "duration": 19,
    "start_time": "2024-09-12T14:46:34.503Z"
   },
   {
    "duration": 307,
    "start_time": "2024-09-12T14:46:34.523Z"
   },
   {
    "duration": 12,
    "start_time": "2024-09-12T14:46:34.832Z"
   },
   {
    "duration": 398,
    "start_time": "2024-09-12T14:46:34.852Z"
   },
   {
    "duration": 221,
    "start_time": "2024-09-12T14:46:35.251Z"
   },
   {
    "duration": 317,
    "start_time": "2024-09-12T14:46:35.473Z"
   },
   {
    "duration": 227,
    "start_time": "2024-09-12T14:46:35.792Z"
   },
   {
    "duration": 357,
    "start_time": "2024-09-12T14:46:36.021Z"
   },
   {
    "duration": 11,
    "start_time": "2024-09-12T14:46:36.379Z"
   },
   {
    "duration": 15,
    "start_time": "2024-09-12T14:46:36.391Z"
   },
   {
    "duration": 390,
    "start_time": "2024-09-12T14:46:36.407Z"
   },
   {
    "duration": 59,
    "start_time": "2024-09-12T14:46:36.798Z"
   },
   {
    "duration": 110,
    "start_time": "2024-09-12T14:46:36.858Z"
   },
   {
    "duration": 307,
    "start_time": "2024-09-12T14:46:36.970Z"
   },
   {
    "duration": 7,
    "start_time": "2024-09-12T14:46:37.281Z"
   },
   {
    "duration": 15,
    "start_time": "2024-09-12T14:46:37.289Z"
   },
   {
    "duration": 93,
    "start_time": "2024-09-12T14:46:37.306Z"
   },
   {
    "duration": 55,
    "start_time": "2024-09-12T14:46:37.401Z"
   },
   {
    "duration": 101,
    "start_time": "2024-09-12T14:46:37.458Z"
   },
   {
    "duration": 116,
    "start_time": "2024-09-12T14:46:37.561Z"
   },
   {
    "duration": 115,
    "start_time": "2024-09-12T14:46:37.679Z"
   },
   {
    "duration": 80,
    "start_time": "2024-09-12T14:46:37.796Z"
   },
   {
    "duration": 296,
    "start_time": "2024-09-12T14:46:37.878Z"
   },
   {
    "duration": 7,
    "start_time": "2024-09-12T14:46:38.176Z"
   },
   {
    "duration": 35,
    "start_time": "2024-09-12T14:46:38.185Z"
   },
   {
    "duration": 29,
    "start_time": "2024-09-12T14:46:38.223Z"
   },
   {
    "duration": 51,
    "start_time": "2024-09-12T14:46:38.254Z"
   },
   {
    "duration": 21,
    "start_time": "2024-09-12T14:46:38.308Z"
   },
   {
    "duration": 27,
    "start_time": "2024-09-12T14:46:38.331Z"
   },
   {
    "duration": 6,
    "start_time": "2024-09-12T14:46:38.361Z"
   },
   {
    "duration": 17,
    "start_time": "2024-09-12T14:46:38.369Z"
   },
   {
    "duration": 30,
    "start_time": "2024-09-12T14:46:38.387Z"
   },
   {
    "duration": 7,
    "start_time": "2024-09-12T14:46:38.419Z"
   },
   {
    "duration": 34,
    "start_time": "2024-09-12T14:46:38.428Z"
   },
   {
    "duration": 7,
    "start_time": "2024-09-12T14:46:38.463Z"
   },
   {
    "duration": 50,
    "start_time": "2024-09-18T10:07:39.340Z"
   },
   {
    "duration": 1287,
    "start_time": "2024-09-18T10:07:43.593Z"
   },
   {
    "duration": 238,
    "start_time": "2024-09-18T10:07:44.882Z"
   },
   {
    "duration": 4,
    "start_time": "2024-09-18T10:07:45.121Z"
   },
   {
    "duration": 38,
    "start_time": "2024-09-18T10:07:45.127Z"
   },
   {
    "duration": 58,
    "start_time": "2024-09-18T10:07:45.166Z"
   },
   {
    "duration": 24,
    "start_time": "2024-09-18T10:07:45.226Z"
   },
   {
    "duration": 57,
    "start_time": "2024-09-18T10:07:45.252Z"
   },
   {
    "duration": 65,
    "start_time": "2024-09-18T10:07:45.311Z"
   },
   {
    "duration": 29,
    "start_time": "2024-09-18T10:07:45.378Z"
   },
   {
    "duration": 262,
    "start_time": "2024-09-18T10:07:45.409Z"
   },
   {
    "duration": 5,
    "start_time": "2024-09-18T10:07:45.672Z"
   },
   {
    "duration": 84,
    "start_time": "2024-09-18T10:07:45.678Z"
   },
   {
    "duration": 227,
    "start_time": "2024-09-18T10:07:45.764Z"
   },
   {
    "duration": 30,
    "start_time": "2024-09-18T10:07:45.992Z"
   },
   {
    "duration": 21,
    "start_time": "2024-09-18T10:07:46.023Z"
   },
   {
    "duration": 12,
    "start_time": "2024-09-18T10:07:46.045Z"
   },
   {
    "duration": 11,
    "start_time": "2024-09-18T10:07:46.058Z"
   },
   {
    "duration": 8,
    "start_time": "2024-09-18T10:07:46.070Z"
   },
   {
    "duration": 35,
    "start_time": "2024-09-18T10:07:46.079Z"
   },
   {
    "duration": 4,
    "start_time": "2024-09-18T10:07:46.115Z"
   },
   {
    "duration": 16,
    "start_time": "2024-09-18T10:07:46.121Z"
   },
   {
    "duration": 26,
    "start_time": "2024-09-18T10:07:46.139Z"
   },
   {
    "duration": 18,
    "start_time": "2024-09-18T10:07:46.167Z"
   },
   {
    "duration": 24,
    "start_time": "2024-09-18T10:07:46.186Z"
   },
   {
    "duration": 7,
    "start_time": "2024-09-18T10:07:46.213Z"
   },
   {
    "duration": 11,
    "start_time": "2024-09-18T10:07:46.222Z"
   },
   {
    "duration": 5,
    "start_time": "2024-09-18T10:07:46.234Z"
   },
   {
    "duration": 286,
    "start_time": "2024-09-18T10:07:46.243Z"
   },
   {
    "duration": 12,
    "start_time": "2024-09-18T10:07:46.531Z"
   },
   {
    "duration": 286,
    "start_time": "2024-09-18T10:07:46.544Z"
   },
   {
    "duration": 207,
    "start_time": "2024-09-18T10:07:46.832Z"
   },
   {
    "duration": 326,
    "start_time": "2024-09-18T10:07:47.041Z"
   },
   {
    "duration": 218,
    "start_time": "2024-09-18T10:07:47.369Z"
   },
   {
    "duration": 346,
    "start_time": "2024-09-18T10:07:47.589Z"
   },
   {
    "duration": 10,
    "start_time": "2024-09-18T10:07:47.937Z"
   },
   {
    "duration": 14,
    "start_time": "2024-09-18T10:07:47.948Z"
   },
   {
    "duration": 231,
    "start_time": "2024-09-18T10:07:47.963Z"
   },
   {
    "duration": 4,
    "start_time": "2024-09-18T10:07:48.196Z"
   },
   {
    "duration": 19,
    "start_time": "2024-09-18T10:07:48.202Z"
   },
   {
    "duration": 155,
    "start_time": "2024-09-18T10:07:48.223Z"
   },
   {
    "duration": 5,
    "start_time": "2024-09-18T10:07:48.379Z"
   },
   {
    "duration": 23,
    "start_time": "2024-09-18T10:07:48.385Z"
   },
   {
    "duration": 57,
    "start_time": "2024-09-18T10:07:48.409Z"
   },
   {
    "duration": 38,
    "start_time": "2024-09-18T10:07:48.467Z"
   },
   {
    "duration": 72,
    "start_time": "2024-09-18T10:07:48.506Z"
   },
   {
    "duration": 76,
    "start_time": "2024-09-18T10:07:48.580Z"
   },
   {
    "duration": 66,
    "start_time": "2024-09-18T10:07:48.657Z"
   },
   {
    "duration": 29,
    "start_time": "2024-09-18T10:07:48.725Z"
   },
   {
    "duration": 158,
    "start_time": "2024-09-18T10:07:48.756Z"
   },
   {
    "duration": 6,
    "start_time": "2024-09-18T10:07:48.916Z"
   },
   {
    "duration": 39,
    "start_time": "2024-09-18T10:07:48.923Z"
   },
   {
    "duration": 8,
    "start_time": "2024-09-18T10:07:48.964Z"
   },
   {
    "duration": 35,
    "start_time": "2024-09-18T10:07:48.974Z"
   },
   {
    "duration": 13,
    "start_time": "2024-09-18T10:07:49.010Z"
   },
   {
    "duration": 15,
    "start_time": "2024-09-18T10:07:49.025Z"
   },
   {
    "duration": 8,
    "start_time": "2024-09-18T10:07:51.286Z"
   },
   {
    "duration": 1167,
    "start_time": "2024-09-19T05:30:01.222Z"
   },
   {
    "duration": 235,
    "start_time": "2024-09-19T05:30:02.392Z"
   },
   {
    "duration": 3,
    "start_time": "2024-09-19T05:30:02.629Z"
   },
   {
    "duration": 63,
    "start_time": "2024-09-19T05:30:02.634Z"
   },
   {
    "duration": 20,
    "start_time": "2024-09-19T05:30:02.699Z"
   },
   {
    "duration": 14,
    "start_time": "2024-09-19T05:30:02.720Z"
   },
   {
    "duration": 40,
    "start_time": "2024-09-19T05:30:02.736Z"
   },
   {
    "duration": 12,
    "start_time": "2024-09-19T05:30:02.778Z"
   },
   {
    "duration": 29,
    "start_time": "2024-09-19T05:30:02.792Z"
   },
   {
    "duration": 243,
    "start_time": "2024-09-19T05:30:02.824Z"
   },
   {
    "duration": 5,
    "start_time": "2024-09-19T05:30:03.068Z"
   },
   {
    "duration": 15,
    "start_time": "2024-09-19T05:30:03.074Z"
   },
   {
    "duration": 283,
    "start_time": "2024-09-19T05:30:03.091Z"
   },
   {
    "duration": 15,
    "start_time": "2024-09-19T05:30:03.376Z"
   },
   {
    "duration": 22,
    "start_time": "2024-09-19T05:30:03.393Z"
   },
   {
    "duration": 12,
    "start_time": "2024-09-19T05:30:03.417Z"
   },
   {
    "duration": 8,
    "start_time": "2024-09-19T05:30:03.430Z"
   },
   {
    "duration": 30,
    "start_time": "2024-09-19T05:30:03.439Z"
   },
   {
    "duration": 8,
    "start_time": "2024-09-19T05:30:03.470Z"
   },
   {
    "duration": 9,
    "start_time": "2024-09-19T05:30:03.479Z"
   },
   {
    "duration": 13,
    "start_time": "2024-09-19T05:30:03.489Z"
   },
   {
    "duration": 31,
    "start_time": "2024-09-19T05:30:03.503Z"
   },
   {
    "duration": 35,
    "start_time": "2024-09-19T05:30:03.536Z"
   },
   {
    "duration": 73,
    "start_time": "2024-09-19T05:30:03.573Z"
   },
   {
    "duration": 40,
    "start_time": "2024-09-19T05:30:03.648Z"
   },
   {
    "duration": 5,
    "start_time": "2024-09-19T05:30:03.690Z"
   },
   {
    "duration": 6,
    "start_time": "2024-09-19T05:30:03.697Z"
   },
   {
    "duration": 317,
    "start_time": "2024-09-19T05:30:03.707Z"
   },
   {
    "duration": 13,
    "start_time": "2024-09-19T05:30:04.025Z"
   },
   {
    "duration": 293,
    "start_time": "2024-09-19T05:30:04.040Z"
   },
   {
    "duration": 217,
    "start_time": "2024-09-19T05:30:04.335Z"
   },
   {
    "duration": 315,
    "start_time": "2024-09-19T05:30:04.554Z"
   },
   {
    "duration": 229,
    "start_time": "2024-09-19T05:30:04.870Z"
   },
   {
    "duration": 297,
    "start_time": "2024-09-19T05:30:05.101Z"
   },
   {
    "duration": 11,
    "start_time": "2024-09-19T05:30:05.400Z"
   },
   {
    "duration": 4,
    "start_time": "2024-09-19T05:30:05.412Z"
   },
   {
    "duration": 245,
    "start_time": "2024-09-19T05:30:05.417Z"
   },
   {
    "duration": 5,
    "start_time": "2024-09-19T05:30:05.665Z"
   },
   {
    "duration": 29,
    "start_time": "2024-09-19T05:30:05.671Z"
   },
   {
    "duration": 169,
    "start_time": "2024-09-19T05:30:05.702Z"
   },
   {
    "duration": 7,
    "start_time": "2024-09-19T05:30:05.873Z"
   },
   {
    "duration": 13,
    "start_time": "2024-09-19T05:30:05.881Z"
   },
   {
    "duration": 80,
    "start_time": "2024-09-19T05:30:05.896Z"
   },
   {
    "duration": 18,
    "start_time": "2024-09-19T05:30:05.977Z"
   },
   {
    "duration": 48,
    "start_time": "2024-09-19T05:30:05.997Z"
   },
   {
    "duration": 97,
    "start_time": "2024-09-19T05:30:06.048Z"
   },
   {
    "duration": 59,
    "start_time": "2024-09-19T05:30:06.147Z"
   },
   {
    "duration": 29,
    "start_time": "2024-09-19T05:30:06.207Z"
   },
   {
    "duration": 145,
    "start_time": "2024-09-19T05:30:06.237Z"
   },
   {
    "duration": 8,
    "start_time": "2024-09-19T05:30:08.008Z"
   }
  ],
  "kernelspec": {
   "display_name": "Python 3 (ipykernel)",
   "language": "python",
   "name": "python3"
  },
  "language_info": {
   "codemirror_mode": {
    "name": "ipython",
    "version": 3
   },
   "file_extension": ".py",
   "mimetype": "text/x-python",
   "name": "python",
   "nbconvert_exporter": "python",
   "pygments_lexer": "ipython3",
   "version": "3.9.5"
  },
  "toc": {
   "base_numbering": 1,
   "nav_menu": {},
   "number_sections": true,
   "sideBar": true,
   "skip_h1_title": true,
   "title_cell": "Table of Contents",
   "title_sidebar": "Contents",
   "toc_cell": false,
   "toc_position": {
    "height": "calc(100% - 180px)",
    "left": "10px",
    "top": "150px",
    "width": "384px"
   },
   "toc_section_display": true,
   "toc_window_display": true
  }
 },
 "nbformat": 4,
 "nbformat_minor": 2
}
