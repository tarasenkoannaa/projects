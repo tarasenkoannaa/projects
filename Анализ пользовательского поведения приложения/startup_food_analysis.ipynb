{
 "cells": [
  {
   "cell_type": "markdown",
   "metadata": {},
   "source": [
    "# Анализ данных стартапа по продаже продуктов питания"
   ]
  },
  {
   "cell_type": "markdown",
   "metadata": {},
   "source": [
    "**Цель:**\\\n",
    "По результатам эксперимента, выяснить повлияет ли обновление шрифтов во всём приложении на пользовательское поведение.    "
   ]
  },
  {
   "cell_type": "markdown",
   "metadata": {},
   "source": [
    "**План работы:**\n",
    "1. Изучить [общую информацию о датафрейме](#a): пропуски, типы данных, некорректные названия столбцов.\n",
    "2. Найти и обработать пропуски в данных, если необходимо.\n",
    "3. Поменять типы данных, где необходимо.\n",
    "4. Проверить наличие явных и неявных дубликатов, обработать значения.\n",
    "\n",
    "5. Определить [основные количественные показатели](#b): общее количество событий, общее количество пользователей, среднее количество событий на пользователя.\n",
    "6. Определить [реальный период наблюдаемых данных](#b).\n",
    "\n",
    "7. Проанализировать [события в датафрейме, их частотность](#c).\n",
    "8. Найти [количество пользователей, совершавших событие в датафрейме, долю пользователей, которые хоть раз совершали событие](#c).\n",
    "9. На основе данных, определить [состав и последовательность событий в воронке](#c).\n",
    "10. Рассчитать [долю пользователей, которая переходит от каждого предыдущего к каждому слеюущему шагу воронки](#c).\n",
    "11. Определить: [шаг, на котором уходит наибольшее количество пользователей и долю пользователей, которая доходит от первого события до оплаты](#c).\n",
    "\n",
    "12. Найти [количество пользователей в каждой экспериментальной группе](#d).\n",
    "13. Изучить результаты [A/A-теста](#e) и выявить наличие или отсуствие статистически-значимых различий между контрольными группами для всех событий воронки.\n",
    "14. Провести [A/A/B-тест](#f): выявить наличие или отсуствие статистически-значимых различий между контрольными группами (вместе и по отдельности) и группой с изменённым шрифтом для всех событий воронки.\n",
    "\n",
    "15. Перепроверить работспособность кода и сформулировать [общий вывод о результатах проведенного A/A/B-теста](#g).   "
   ]
  },
  {
   "cell_type": "markdown",
   "metadata": {},
   "source": [
    "### Подготовка данных"
   ]
  },
  {
   "cell_type": "code",
   "execution_count": 1,
   "metadata": {},
   "outputs": [],
   "source": [
    "#импорт библиотек \n",
    "\n",
    "import pandas as pd\n",
    "import numpy as np\n",
    "from datetime import datetime, timedelta\n",
    "from matplotlib import pyplot as plt\n",
    "import seaborn as sns\n",
    "import scipy.stats as stats\n",
    "import math as mth\n",
    "import os\n"
   ]
  },
  {
   "cell_type": "code",
   "execution_count": 2,
   "metadata": {},
   "outputs": [
    {
     "data": {
      "text/html": [
       "<div>\n",
       "<style scoped>\n",
       "    .dataframe tbody tr th:only-of-type {\n",
       "        vertical-align: middle;\n",
       "    }\n",
       "\n",
       "    .dataframe tbody tr th {\n",
       "        vertical-align: top;\n",
       "    }\n",
       "\n",
       "    .dataframe thead th {\n",
       "        text-align: right;\n",
       "    }\n",
       "</style>\n",
       "<table border=\"1\" class=\"dataframe\">\n",
       "  <thead>\n",
       "    <tr style=\"text-align: right;\">\n",
       "      <th></th>\n",
       "      <th>EventName</th>\n",
       "      <th>DeviceIDHash</th>\n",
       "      <th>EventTimestamp</th>\n",
       "      <th>ExpId</th>\n",
       "    </tr>\n",
       "  </thead>\n",
       "  <tbody>\n",
       "    <tr>\n",
       "      <th>0</th>\n",
       "      <td>MainScreenAppear</td>\n",
       "      <td>4575588528974610257</td>\n",
       "      <td>1564029816</td>\n",
       "      <td>246</td>\n",
       "    </tr>\n",
       "    <tr>\n",
       "      <th>1</th>\n",
       "      <td>MainScreenAppear</td>\n",
       "      <td>7416695313311560658</td>\n",
       "      <td>1564053102</td>\n",
       "      <td>246</td>\n",
       "    </tr>\n",
       "    <tr>\n",
       "      <th>2</th>\n",
       "      <td>PaymentScreenSuccessful</td>\n",
       "      <td>3518123091307005509</td>\n",
       "      <td>1564054127</td>\n",
       "      <td>248</td>\n",
       "    </tr>\n",
       "    <tr>\n",
       "      <th>3</th>\n",
       "      <td>CartScreenAppear</td>\n",
       "      <td>3518123091307005509</td>\n",
       "      <td>1564054127</td>\n",
       "      <td>248</td>\n",
       "    </tr>\n",
       "    <tr>\n",
       "      <th>4</th>\n",
       "      <td>PaymentScreenSuccessful</td>\n",
       "      <td>6217807653094995999</td>\n",
       "      <td>1564055322</td>\n",
       "      <td>248</td>\n",
       "    </tr>\n",
       "  </tbody>\n",
       "</table>\n",
       "</div>"
      ],
      "text/plain": [
       "                 EventName         DeviceIDHash  EventTimestamp  ExpId\n",
       "0         MainScreenAppear  4575588528974610257      1564029816    246\n",
       "1         MainScreenAppear  7416695313311560658      1564053102    246\n",
       "2  PaymentScreenSuccessful  3518123091307005509      1564054127    248\n",
       "3         CartScreenAppear  3518123091307005509      1564054127    248\n",
       "4  PaymentScreenSuccessful  6217807653094995999      1564055322    248"
      ]
     },
     "execution_count": 2,
     "metadata": {},
     "output_type": "execute_result"
    }
   ],
   "source": [
    "log = pd.read_csv('/datasets/logs_exp.csv', sep='\\t')\n",
    "log.head()"
   ]
  },
  {
   "cell_type": "code",
   "execution_count": 3,
   "metadata": {},
   "outputs": [],
   "source": [
    "#функция для предобработки данных\n",
    "\n",
    "def first_processing(df):\n",
    "    info = df.info(),\n",
    "    head = df.head(),\n",
    "    duplicates=df.duplicated().sum(),\n",
    "    df.columns = [x.lower() for x in df.columns]\n",
    "    return info, print('Дубликатов -',duplicates), head"
   ]
  },
  {
   "cell_type": "markdown",
   "metadata": {},
   "source": [
    "### Предобработка данных"
   ]
  },
  {
   "cell_type": "markdown",
   "metadata": {},
   "source": [
    "#### Предобработка log\n",
    "\n",
    "<a id='a'></a>"
   ]
  },
  {
   "cell_type": "code",
   "execution_count": 4,
   "metadata": {},
   "outputs": [
    {
     "name": "stdout",
     "output_type": "stream",
     "text": [
      "<class 'pandas.core.frame.DataFrame'>\n",
      "RangeIndex: 244126 entries, 0 to 244125\n",
      "Data columns (total 4 columns):\n",
      " #   Column          Non-Null Count   Dtype \n",
      "---  ------          --------------   ----- \n",
      " 0   EventName       244126 non-null  object\n",
      " 1   DeviceIDHash    244126 non-null  int64 \n",
      " 2   EventTimestamp  244126 non-null  int64 \n",
      " 3   ExpId           244126 non-null  int64 \n",
      "dtypes: int64(3), object(1)\n",
      "memory usage: 7.5+ MB\n",
      "Дубликатов - (413,)\n"
     ]
    },
    {
     "data": {
      "text/plain": [
       "((None,),\n",
       " None,\n",
       " (                 EventName         DeviceIDHash  EventTimestamp  ExpId\n",
       "  0         MainScreenAppear  4575588528974610257      1564029816    246\n",
       "  1         MainScreenAppear  7416695313311560658      1564053102    246\n",
       "  2  PaymentScreenSuccessful  3518123091307005509      1564054127    248\n",
       "  3         CartScreenAppear  3518123091307005509      1564054127    248\n",
       "  4  PaymentScreenSuccessful  6217807653094995999      1564055322    248,))"
      ]
     },
     "execution_count": 4,
     "metadata": {},
     "output_type": "execute_result"
    }
   ],
   "source": [
    "first_processing(log)"
   ]
  },
  {
   "cell_type": "code",
   "execution_count": 5,
   "metadata": {},
   "outputs": [
    {
     "data": {
      "text/html": [
       "<div>\n",
       "<style scoped>\n",
       "    .dataframe tbody tr th:only-of-type {\n",
       "        vertical-align: middle;\n",
       "    }\n",
       "\n",
       "    .dataframe tbody tr th {\n",
       "        vertical-align: top;\n",
       "    }\n",
       "\n",
       "    .dataframe thead th {\n",
       "        text-align: right;\n",
       "    }\n",
       "</style>\n",
       "<table border=\"1\" class=\"dataframe\">\n",
       "  <thead>\n",
       "    <tr style=\"text-align: right;\">\n",
       "      <th></th>\n",
       "      <th>event_name</th>\n",
       "      <th>device_id</th>\n",
       "      <th>datetime</th>\n",
       "      <th>group</th>\n",
       "      <th>date</th>\n",
       "    </tr>\n",
       "  </thead>\n",
       "  <tbody>\n",
       "    <tr>\n",
       "      <th>0</th>\n",
       "      <td>MainScreenAppear</td>\n",
       "      <td>4575588528974610257</td>\n",
       "      <td>2019-07-25 04:43:36</td>\n",
       "      <td>246</td>\n",
       "      <td>2019-07-25</td>\n",
       "    </tr>\n",
       "    <tr>\n",
       "      <th>1</th>\n",
       "      <td>MainScreenAppear</td>\n",
       "      <td>7416695313311560658</td>\n",
       "      <td>2019-07-25 11:11:42</td>\n",
       "      <td>246</td>\n",
       "      <td>2019-07-25</td>\n",
       "    </tr>\n",
       "    <tr>\n",
       "      <th>2</th>\n",
       "      <td>PaymentScreenSuccessful</td>\n",
       "      <td>3518123091307005509</td>\n",
       "      <td>2019-07-25 11:28:47</td>\n",
       "      <td>248</td>\n",
       "      <td>2019-07-25</td>\n",
       "    </tr>\n",
       "    <tr>\n",
       "      <th>3</th>\n",
       "      <td>CartScreenAppear</td>\n",
       "      <td>3518123091307005509</td>\n",
       "      <td>2019-07-25 11:28:47</td>\n",
       "      <td>248</td>\n",
       "      <td>2019-07-25</td>\n",
       "    </tr>\n",
       "    <tr>\n",
       "      <th>4</th>\n",
       "      <td>PaymentScreenSuccessful</td>\n",
       "      <td>6217807653094995999</td>\n",
       "      <td>2019-07-25 11:48:42</td>\n",
       "      <td>248</td>\n",
       "      <td>2019-07-25</td>\n",
       "    </tr>\n",
       "  </tbody>\n",
       "</table>\n",
       "</div>"
      ],
      "text/plain": [
       "                event_name            device_id            datetime  group  \\\n",
       "0         MainScreenAppear  4575588528974610257 2019-07-25 04:43:36    246   \n",
       "1         MainScreenAppear  7416695313311560658 2019-07-25 11:11:42    246   \n",
       "2  PaymentScreenSuccessful  3518123091307005509 2019-07-25 11:28:47    248   \n",
       "3         CartScreenAppear  3518123091307005509 2019-07-25 11:28:47    248   \n",
       "4  PaymentScreenSuccessful  6217807653094995999 2019-07-25 11:48:42    248   \n",
       "\n",
       "         date  \n",
       "0  2019-07-25  \n",
       "1  2019-07-25  \n",
       "2  2019-07-25  \n",
       "3  2019-07-25  \n",
       "4  2019-07-25  "
      ]
     },
     "execution_count": 5,
     "metadata": {},
     "output_type": "execute_result"
    }
   ],
   "source": [
    "log = log.drop_duplicates()\n",
    "log.columns = ['event_name', 'device_id', 'datetime', 'group']\n",
    "log['datetime'] = pd.to_datetime(log['datetime'], unit='s')\n",
    "log['date'] = log['datetime'].dt.date\n",
    "log.head()"
   ]
  },
  {
   "cell_type": "code",
   "execution_count": 6,
   "metadata": {},
   "outputs": [
    {
     "data": {
      "text/plain": [
       "event_name    0\n",
       "device_id     0\n",
       "datetime      0\n",
       "group         0\n",
       "date          0\n",
       "dtype: int64"
      ]
     },
     "execution_count": 6,
     "metadata": {},
     "output_type": "execute_result"
    }
   ],
   "source": [
    "log.isna().sum()"
   ]
  },
  {
   "cell_type": "code",
   "execution_count": 7,
   "metadata": {},
   "outputs": [
    {
     "data": {
      "text/plain": [
       "MainScreenAppear           119101\n",
       "OffersScreenAppear          46808\n",
       "CartScreenAppear            42668\n",
       "PaymentScreenSuccessful     34118\n",
       "Tutorial                     1018\n",
       "Name: event_name, dtype: int64"
      ]
     },
     "execution_count": 7,
     "metadata": {},
     "output_type": "execute_result"
    }
   ],
   "source": [
    "log['event_name'].value_counts()"
   ]
  },
  {
   "cell_type": "code",
   "execution_count": 8,
   "metadata": {},
   "outputs": [
    {
     "data": {
      "text/plain": [
       "248    85582\n",
       "246    80181\n",
       "247    77950\n",
       "Name: group, dtype: int64"
      ]
     },
     "execution_count": 8,
     "metadata": {},
     "output_type": "execute_result"
    }
   ],
   "source": [
    "log['group'].value_counts()"
   ]
  },
  {
   "cell_type": "code",
   "execution_count": 9,
   "metadata": {},
   "outputs": [
    {
     "name": "stdout",
     "output_type": "stream",
     "text": [
      "2019-07-25\n"
     ]
    },
    {
     "data": {
      "text/plain": [
       "datetime.date(2019, 8, 7)"
      ]
     },
     "execution_count": 9,
     "metadata": {},
     "output_type": "execute_result"
    }
   ],
   "source": [
    "print(log['date'].min())\n",
    "log['date'].max()"
   ]
  },
  {
   "cell_type": "code",
   "execution_count": 10,
   "metadata": {},
   "outputs": [],
   "source": [
    "log246=log[log['group']==246]\n",
    "log247=log[log['group']==247]\n",
    "log248=log[log['group']==248]\n",
    "\n",
    "log246_u=log[log['group']==246]['device_id'].unique()\n",
    "log247_u=log[log['group']==247]['device_id'].unique()\n",
    "log248_u=log[log['group']==248]['device_id'].unique()"
   ]
  },
  {
   "cell_type": "code",
   "execution_count": 11,
   "metadata": {},
   "outputs": [],
   "source": [
    "def returnMatches(a, b):\n",
    "    matches = []\n",
    "    for i in a:\n",
    "        if i in b:\n",
    "            matches.append(i)\n",
    "    return matches\n",
    "\n",
    "#функция для поиска пользователей попавших в обе группы"
   ]
  },
  {
   "cell_type": "code",
   "execution_count": 12,
   "metadata": {},
   "outputs": [
    {
     "data": {
      "text/plain": [
       "0"
      ]
     },
     "execution_count": 12,
     "metadata": {},
     "output_type": "execute_result"
    }
   ],
   "source": [
    "matches = returnMatches(log246_u, log247_u)\n",
    "len(matches)"
   ]
  },
  {
   "cell_type": "code",
   "execution_count": 13,
   "metadata": {},
   "outputs": [
    {
     "data": {
      "text/plain": [
       "0"
      ]
     },
     "execution_count": 13,
     "metadata": {},
     "output_type": "execute_result"
    }
   ],
   "source": [
    "matches = returnMatches(log246_u, log248_u)\n",
    "len(matches)"
   ]
  },
  {
   "cell_type": "code",
   "execution_count": 14,
   "metadata": {},
   "outputs": [
    {
     "data": {
      "text/plain": [
       "0"
      ]
     },
     "execution_count": 14,
     "metadata": {},
     "output_type": "execute_result"
    }
   ],
   "source": [
    "matches = returnMatches(log247_u, log248_u)\n",
    "len(matches)"
   ]
  },
  {
   "cell_type": "markdown",
   "metadata": {},
   "source": [
    "**Выводы по log(разделу 2):**\\\n",
    "Всего в датафрейме 244 126 записей по количеству действий пользователей с 25 июля по 7 августа 2019 года.\\\n",
    "Содержит действие, уникальный номер пользователя, дату и время события, группу a/a/b теста.\\\n",
    "Был добавлен столбец с датой отдельно.\\\n",
    "Пропуски отсутствуют.\\\n",
    "Тип данных в столбце datetime изменен на datetime.\\\n",
    "Обнаружено 413 дубликатов, что составляет менее 1% от общих данных, поэтому строки с дубликатами удалены.\\\n",
    "\\\n",
    "0 пользователей попало в несколько групп a/a/b-теста."
   ]
  },
  {
   "cell_type": "markdown",
   "metadata": {},
   "source": [
    "### Общий анализ и проверка данных\n",
    "\n",
    "<a id='b'></a>"
   ]
  },
  {
   "cell_type": "code",
   "execution_count": 15,
   "metadata": {},
   "outputs": [
    {
     "name": "stdout",
     "output_type": "stream",
     "text": [
      "Всего записей - 243713\n"
     ]
    }
   ],
   "source": [
    "print('Всего записей -', log.shape[0])"
   ]
  },
  {
   "cell_type": "code",
   "execution_count": 16,
   "metadata": {},
   "outputs": [
    {
     "name": "stdout",
     "output_type": "stream",
     "text": [
      "Всего пользователей - 7551\n"
     ]
    }
   ],
   "source": [
    "print('Всего пользователей -', log['device_id'].nunique())"
   ]
  },
  {
   "cell_type": "code",
   "execution_count": 17,
   "metadata": {},
   "outputs": [
    {
     "name": "stdout",
     "output_type": "stream",
     "text": [
      "В среднем событий на 1-го пользователя - 32.28\n"
     ]
    }
   ],
   "source": [
    "print('В среднем событий на 1-го пользователя -', round(log['event_name'].groupby(log['device_id']).count().mean(),2))"
   ]
  },
  {
   "cell_type": "code",
   "execution_count": 18,
   "metadata": {},
   "outputs": [
    {
     "data": {
      "image/png": "[encoded data removed]",
      "text/plain": [
       "<Figure size 864x360 with 1 Axes>"
      ]
     },
     "metadata": {
      "needs_background": "light"
     },
     "output_type": "display_data"
    }
   ],
   "source": [
    "counts246=log246['event_name'].groupby(log246['date']).count().reset_index()\n",
    "counts247=log247['event_name'].groupby(log247['date']).count().reset_index()\n",
    "counts248=log248['event_name'].groupby(log248['date']).count().reset_index()\n",
    "\n",
    "plt.figure(figsize=(12,5))\n",
    "\n",
    "plt.bar(counts248['date'],counts248['event_name'], label='248', width=0.9, align='edge')\n",
    "plt.bar(counts247['date'],counts247['event_name'], label='247', width=0.6, align='edge')\n",
    "plt.bar(counts246['date'],counts246['event_name'], label='246', width=0.3, align='edge')\n",
    "\n",
    "plt.legend() \n",
    "plt.xlabel('Дата')\n",
    "plt.ylabel('Количество событий')\n",
    "plt.title('График количества событий во времени')\n",
    "plt.show()"
   ]
  },
  {
   "cell_type": "markdown",
   "metadata": {},
   "source": [
    "**Выводы:**\\\n",
    "На графике количества событий по датам видно, что количество данных с 25 по 30 июля сильно уступает количеству данных в августе. Скорее всего данные \"доехали\" именно к 1 августа, данные до 1го августа убираем.\n",
    "    "
   ]
  },
  {
   "cell_type": "code",
   "execution_count": 19,
   "metadata": {},
   "outputs": [
    {
     "name": "stdout",
     "output_type": "stream",
     "text": [
      "<class 'pandas.core.frame.DataFrame'>\n",
      "Int64Index: 243713 entries, 0 to 244125\n",
      "Data columns (total 5 columns):\n",
      " #   Column      Non-Null Count   Dtype         \n",
      "---  ------      --------------   -----         \n",
      " 0   event_name  243713 non-null  object        \n",
      " 1   device_id   243713 non-null  int64         \n",
      " 2   datetime    243713 non-null  datetime64[ns]\n",
      " 3   group       243713 non-null  int64         \n",
      " 4   date        243713 non-null  object        \n",
      "dtypes: datetime64[ns](1), int64(2), object(2)\n",
      "memory usage: 19.2+ MB\n"
     ]
    }
   ],
   "source": [
    "log.info()"
   ]
  },
  {
   "cell_type": "code",
   "execution_count": 20,
   "metadata": {},
   "outputs": [
    {
     "name": "stdout",
     "output_type": "stream",
     "text": [
      "Удалено строк датафрейма - 2826 , удалено в процентах - 1.16 %\n"
     ]
    }
   ],
   "source": [
    "log['date'] = pd.to_datetime(log['date'])\n",
    "new_log = log.query('date > \"2019-07-31\"')\n",
    "print('Удалено строк датафрейма -', log.shape[0] - new_log.shape[0], \n",
    "      ', удалено в процентах -',\n",
    "      round(((log.shape[0] - new_log.shape[0])/log.shape[0])*100,2), '%')\n"
   ]
  },
  {
   "cell_type": "code",
   "execution_count": 21,
   "metadata": {},
   "outputs": [
    {
     "name": "stdout",
     "output_type": "stream",
     "text": [
      "Удалено данных о пользователях - 5 , удалено в процентах - 0.07 %\n"
     ]
    },
    {
     "name": "stderr",
     "output_type": "stream",
     "text": [
      "/tmp/ipykernel_79/3552053160.py:3: FutureWarning: elementwise comparison failed; returning scalar instead, but in the future will perform elementwise comparison\n",
      "  if row not in log['device_id'].unique():\n"
     ]
    }
   ],
   "source": [
    "lost_id = 0\n",
    "for row in new_log:\n",
    "    if row not in log['device_id'].unique():\n",
    "        lost_id +=1 \n",
    "        \n",
    "print('Удалено данных о пользователях -',lost_id,\n",
    "     ', удалено в процентах -',\n",
    "      round((lost_id/log['device_id'].nunique())*100,2), '%')"
   ]
  },
  {
   "cell_type": "code",
   "execution_count": 22,
   "metadata": {},
   "outputs": [
    {
     "name": "stdout",
     "output_type": "stream",
     "text": [
      "<class 'pandas.core.frame.DataFrame'>\n",
      "Int64Index: 240887 entries, 2828 to 244125\n",
      "Data columns (total 5 columns):\n",
      " #   Column      Non-Null Count   Dtype         \n",
      "---  ------      --------------   -----         \n",
      " 0   event_name  240887 non-null  object        \n",
      " 1   device_id   240887 non-null  int64         \n",
      " 2   datetime    240887 non-null  datetime64[ns]\n",
      " 3   group       240887 non-null  int64         \n",
      " 4   date        240887 non-null  datetime64[ns]\n",
      "dtypes: datetime64[ns](2), int64(2), object(1)\n",
      "memory usage: 11.0+ MB\n"
     ]
    }
   ],
   "source": [
    "new_log.info()"
   ]
  },
  {
   "cell_type": "code",
   "execution_count": 23,
   "metadata": {},
   "outputs": [
    {
     "data": {
      "text/html": [
       "<div>\n",
       "<style scoped>\n",
       "    .dataframe tbody tr th:only-of-type {\n",
       "        vertical-align: middle;\n",
       "    }\n",
       "\n",
       "    .dataframe tbody tr th {\n",
       "        vertical-align: top;\n",
       "    }\n",
       "\n",
       "    .dataframe thead th {\n",
       "        text-align: right;\n",
       "    }\n",
       "</style>\n",
       "<table border=\"1\" class=\"dataframe\">\n",
       "  <thead>\n",
       "    <tr style=\"text-align: right;\">\n",
       "      <th></th>\n",
       "      <th>device_id</th>\n",
       "    </tr>\n",
       "    <tr>\n",
       "      <th>group</th>\n",
       "      <th></th>\n",
       "    </tr>\n",
       "  </thead>\n",
       "  <tbody>\n",
       "    <tr>\n",
       "      <th>246</th>\n",
       "      <td>2484</td>\n",
       "    </tr>\n",
       "    <tr>\n",
       "      <th>247</th>\n",
       "      <td>2513</td>\n",
       "    </tr>\n",
       "    <tr>\n",
       "      <th>248</th>\n",
       "      <td>2537</td>\n",
       "    </tr>\n",
       "  </tbody>\n",
       "</table>\n",
       "</div>"
      ],
      "text/plain": [
       "       device_id\n",
       "group           \n",
       "246         2484\n",
       "247         2513\n",
       "248         2537"
      ]
     },
     "execution_count": 23,
     "metadata": {},
     "output_type": "execute_result"
    }
   ],
   "source": [
    "new_groups = new_log.pivot_table(index='group',values='device_id',aggfunc='nunique')\n",
    "new_groups\n",
    "#количество пользователей в каждой экспериментальной группе"
   ]
  },
  {
   "cell_type": "markdown",
   "metadata": {},
   "source": [
    "**Вывод по разделу 3:**\\\n",
    "После обработки данных в логе осталось всего 243 713 записей о 7 551 пользователе. В среднем на одного пользователя приходится 32 события.\\\n",
    "Согласно графику количества событий в каждую дату, может сделать вывод, что реальный период оценки данных - 7 дней с 1-го по 7-е августа 2019 года. В окончательный датафрейм для дальнейшего анализа не попало 2826 записей (около 1% от общего объема данных) и данные о 5-ти пользователях (менее 1% от общего количества пользователей).\\\n",
    "\\\n",
    "В обновлённом датафрейме new_log - 240 887 записей, включены данные о примерно одинаковом количестве пользователей из всех 3-х групп."
   ]
  },
  {
   "cell_type": "markdown",
   "metadata": {},
   "source": [
    "### Анализ воронки событий\n",
    "\n",
    "<a id='c'></a>"
   ]
  },
  {
   "cell_type": "code",
   "execution_count": 24,
   "metadata": {},
   "outputs": [
    {
     "data": {
      "text/plain": [
       "MainScreenAppear           117328\n",
       "OffersScreenAppear          46333\n",
       "CartScreenAppear            42303\n",
       "PaymentScreenSuccessful     33918\n",
       "Tutorial                     1005\n",
       "Name: event_name, dtype: int64"
      ]
     },
     "execution_count": 24,
     "metadata": {},
     "output_type": "execute_result"
    }
   ],
   "source": [
    "new_log['event_name'].value_counts().sort_values(ascending=False)\n",
    "\n",
    "#частота событий в логе"
   ]
  },
  {
   "cell_type": "code",
   "execution_count": 25,
   "metadata": {},
   "outputs": [
    {
     "data": {
      "text/html": [
       "<div>\n",
       "<style scoped>\n",
       "    .dataframe tbody tr th:only-of-type {\n",
       "        vertical-align: middle;\n",
       "    }\n",
       "\n",
       "    .dataframe tbody tr th {\n",
       "        vertical-align: top;\n",
       "    }\n",
       "\n",
       "    .dataframe thead th {\n",
       "        text-align: right;\n",
       "    }\n",
       "</style>\n",
       "<table border=\"1\" class=\"dataframe\">\n",
       "  <thead>\n",
       "    <tr style=\"text-align: right;\">\n",
       "      <th></th>\n",
       "      <th>device_id</th>\n",
       "    </tr>\n",
       "    <tr>\n",
       "      <th>event_name</th>\n",
       "      <th></th>\n",
       "    </tr>\n",
       "  </thead>\n",
       "  <tbody>\n",
       "    <tr>\n",
       "      <th>MainScreenAppear</th>\n",
       "      <td>7419</td>\n",
       "    </tr>\n",
       "    <tr>\n",
       "      <th>OffersScreenAppear</th>\n",
       "      <td>4593</td>\n",
       "    </tr>\n",
       "    <tr>\n",
       "      <th>CartScreenAppear</th>\n",
       "      <td>3734</td>\n",
       "    </tr>\n",
       "    <tr>\n",
       "      <th>PaymentScreenSuccessful</th>\n",
       "      <td>3539</td>\n",
       "    </tr>\n",
       "    <tr>\n",
       "      <th>Tutorial</th>\n",
       "      <td>840</td>\n",
       "    </tr>\n",
       "  </tbody>\n",
       "</table>\n",
       "</div>"
      ],
      "text/plain": [
       "                         device_id\n",
       "event_name                        \n",
       "MainScreenAppear              7419\n",
       "OffersScreenAppear            4593\n",
       "CartScreenAppear              3734\n",
       "PaymentScreenSuccessful       3539\n",
       "Tutorial                       840"
      ]
     },
     "execution_count": 25,
     "metadata": {},
     "output_type": "execute_result"
    }
   ],
   "source": [
    "events = new_log.pivot_table(index='event_name',values='device_id',aggfunc='nunique').sort_values(\n",
    "    by = 'device_id', ascending = False)\n",
    "events\n",
    "\n",
    "#количество уникальных пользователей, совершивших событие хотя бы раз"
   ]
  },
  {
   "cell_type": "code",
   "execution_count": 26,
   "metadata": {},
   "outputs": [
    {
     "data": {
      "text/html": [
       "<div>\n",
       "<style scoped>\n",
       "    .dataframe tbody tr th:only-of-type {\n",
       "        vertical-align: middle;\n",
       "    }\n",
       "\n",
       "    .dataframe tbody tr th {\n",
       "        vertical-align: top;\n",
       "    }\n",
       "\n",
       "    .dataframe thead th {\n",
       "        text-align: right;\n",
       "    }\n",
       "</style>\n",
       "<table border=\"1\" class=\"dataframe\">\n",
       "  <thead>\n",
       "    <tr style=\"text-align: right;\">\n",
       "      <th></th>\n",
       "      <th>device_id</th>\n",
       "      <th>user%</th>\n",
       "    </tr>\n",
       "    <tr>\n",
       "      <th>event_name</th>\n",
       "      <th></th>\n",
       "      <th></th>\n",
       "    </tr>\n",
       "  </thead>\n",
       "  <tbody>\n",
       "    <tr>\n",
       "      <th>MainScreenAppear</th>\n",
       "      <td>7419</td>\n",
       "      <td>98.47</td>\n",
       "    </tr>\n",
       "    <tr>\n",
       "      <th>OffersScreenAppear</th>\n",
       "      <td>4593</td>\n",
       "      <td>60.96</td>\n",
       "    </tr>\n",
       "    <tr>\n",
       "      <th>CartScreenAppear</th>\n",
       "      <td>3734</td>\n",
       "      <td>49.56</td>\n",
       "    </tr>\n",
       "    <tr>\n",
       "      <th>PaymentScreenSuccessful</th>\n",
       "      <td>3539</td>\n",
       "      <td>46.97</td>\n",
       "    </tr>\n",
       "    <tr>\n",
       "      <th>Tutorial</th>\n",
       "      <td>840</td>\n",
       "      <td>11.15</td>\n",
       "    </tr>\n",
       "  </tbody>\n",
       "</table>\n",
       "</div>"
      ],
      "text/plain": [
       "                         device_id  user%\n",
       "event_name                               \n",
       "MainScreenAppear              7419  98.47\n",
       "OffersScreenAppear            4593  60.96\n",
       "CartScreenAppear              3734  49.56\n",
       "PaymentScreenSuccessful       3539  46.97\n",
       "Tutorial                       840  11.15"
      ]
     },
     "execution_count": 26,
     "metadata": {},
     "output_type": "execute_result"
    }
   ],
   "source": [
    "events['user%'] = round(events['device_id']/len(new_log['device_id'].unique()) * 100,2)\n",
    "events\n",
    "\n",
    "#доля уникальных пользователей, совершивших событие хотя бы раз"
   ]
  },
  {
   "cell_type": "markdown",
   "metadata": {},
   "source": [
    "**Воронка событий пользователя:**\n",
    "1. MainScreenAppear - вход на главный экран\n",
    "2. OffersScreenAppear - вход на страницу товара\n",
    "3. CartScreenAppear - вход в корзину\n",
    "4. PaymentScreenSuccessful - оплата заказа пользователем\\\n",
    "\\\n",
    "Из общей цепочки выбивается событие 'Tutorial' - обучение. Опциональное обучение вероятно не входит в воронку событий, значит, данные в дальнейшем анализе можно не учитывать."
   ]
  },
  {
   "cell_type": "code",
   "execution_count": 27,
   "metadata": {},
   "outputs": [],
   "source": [
    "events.drop(['Tutorial'], inplace=True)\n",
    "\n",
    "#удаляем данные об обучении из дф"
   ]
  },
  {
   "cell_type": "code",
   "execution_count": 28,
   "metadata": {},
   "outputs": [
    {
     "name": "stderr",
     "output_type": "stream",
     "text": [
      "/opt/conda/lib/python3.9/site-packages/pandas/core/indexing.py:1637: SettingWithCopyWarning: \n",
      "A value is trying to be set on a copy of a slice from a DataFrame\n",
      "\n",
      "See the caveats in the documentation: https://pandas.pydata.org/pandas-docs/stable/user_guide/indexing.html#returning-a-view-versus-a-copy\n",
      "  self._setitem_single_block(indexer, value, name)\n"
     ]
    },
    {
     "data": {
      "text/html": [
       "<div>\n",
       "<style scoped>\n",
       "    .dataframe tbody tr th:only-of-type {\n",
       "        vertical-align: middle;\n",
       "    }\n",
       "\n",
       "    .dataframe tbody tr th {\n",
       "        vertical-align: top;\n",
       "    }\n",
       "\n",
       "    .dataframe thead th {\n",
       "        text-align: right;\n",
       "    }\n",
       "</style>\n",
       "<table border=\"1\" class=\"dataframe\">\n",
       "  <thead>\n",
       "    <tr style=\"text-align: right;\">\n",
       "      <th></th>\n",
       "      <th>device_id</th>\n",
       "      <th>user%</th>\n",
       "      <th>next%</th>\n",
       "    </tr>\n",
       "    <tr>\n",
       "      <th>event_name</th>\n",
       "      <th></th>\n",
       "      <th></th>\n",
       "      <th></th>\n",
       "    </tr>\n",
       "  </thead>\n",
       "  <tbody>\n",
       "    <tr>\n",
       "      <th>MainScreenAppear</th>\n",
       "      <td>7419</td>\n",
       "      <td>98.47</td>\n",
       "      <td>100.00</td>\n",
       "    </tr>\n",
       "    <tr>\n",
       "      <th>OffersScreenAppear</th>\n",
       "      <td>4593</td>\n",
       "      <td>60.96</td>\n",
       "      <td>61.91</td>\n",
       "    </tr>\n",
       "    <tr>\n",
       "      <th>CartScreenAppear</th>\n",
       "      <td>3734</td>\n",
       "      <td>49.56</td>\n",
       "      <td>81.30</td>\n",
       "    </tr>\n",
       "    <tr>\n",
       "      <th>PaymentScreenSuccessful</th>\n",
       "      <td>3539</td>\n",
       "      <td>46.97</td>\n",
       "      <td>94.78</td>\n",
       "    </tr>\n",
       "  </tbody>\n",
       "</table>\n",
       "</div>"
      ],
      "text/plain": [
       "                         device_id  user%   next%\n",
       "event_name                                       \n",
       "MainScreenAppear              7419  98.47  100.00\n",
       "OffersScreenAppear            4593  60.96   61.91\n",
       "CartScreenAppear              3734  49.56   81.30\n",
       "PaymentScreenSuccessful       3539  46.97   94.78"
      ]
     },
     "execution_count": 28,
     "metadata": {},
     "output_type": "execute_result"
    }
   ],
   "source": [
    "events['next%'] = 0\n",
    "for i in range(0, len(events['user%'])):\n",
    "    if i == 0:\n",
    "        events['next%'].iloc[i] = 100\n",
    "    else:\n",
    "        events['next%'].iloc[i] = round(int(events['device_id'].iloc[i]) / int(events['device_id'].iloc[i-1])*100,2)\n",
    "\n",
    "events\n",
    "\n",
    "#для каждого события считаем долю пользователей, перешедших на следующий шаг воронки"
   ]
  },
  {
   "cell_type": "code",
   "execution_count": 29,
   "metadata": {},
   "outputs": [
    {
     "name": "stdout",
     "output_type": "stream",
     "text": [
      "С первого до последнего шага воронки доходят - 52.3 %\n"
     ]
    }
   ],
   "source": [
    "print('С первого до последнего шага воронки доходят -', \n",
    "      round(((events['device_id'][0]-events['device_id'][3])/events['device_id'][0])*100,2), '%')"
   ]
  },
  {
   "cell_type": "markdown",
   "metadata": {},
   "source": [
    "**Выводы по разделу 4:**\\\n",
    "В датафрейме присутствует 5 событий:\n",
    "* MainScreenAppear - вход на главный экран\n",
    "* OffersScreenAppear - вход на страницу товара\n",
    "* CartScreenAppear - вход в корзину\n",
    "* PaymentScreenSuccessful - оплата заказа пользователем\n",
    "* Tutorial - обучение\\\n",
    "\\\n",
    "Наиболее популярное по количеству записей MainScreenAppear - почти половина от общего объема, наименее Tutorial  - менее 1%.\\\n",
    "С точки зрения количества уникальных пользователей, совершивших событие, MainScreenAppear также лидирует - 98% пользователей, а Tutorial также отстаёт - 11% пользователей.\\\n",
    "\\\n",
    "Воронка событий пользователя:\n",
    "1. MainScreenAppear\n",
    "2. OffersScreenAppear\n",
    "3. CartScreenAppear\n",
    "4. PaymentScreenSuccessful\\\n",
    "\\\n",
    "Событие Tutorial - вероятно опциональное и не входит в воронку событий, поэтому данные об этом событии в дальнейшем анализе воронки было решено не учитывать.\\\n",
    "\\\n",
    "От начала до конца воронку проходит *52% пользователей*, больше всего потенциальных покупателей теряется при переходе с шага MainScreenAppear на шаг OffersScreenAppear - *почти 40% пользователей не переходят с главного экрана на страницу товара*."
   ]
  },
  {
   "cell_type": "markdown",
   "metadata": {},
   "source": [
    "### Анализ результатов эксперимента"
   ]
  },
  {
   "cell_type": "markdown",
   "metadata": {},
   "source": [
    "#### Подготовка к анализу\n",
    "\n",
    "<a id='d'></a>"
   ]
  },
  {
   "cell_type": "code",
   "execution_count": 30,
   "metadata": {},
   "outputs": [
    {
     "data": {
      "text/html": [
       "<div>\n",
       "<style scoped>\n",
       "    .dataframe tbody tr th:only-of-type {\n",
       "        vertical-align: middle;\n",
       "    }\n",
       "\n",
       "    .dataframe tbody tr th {\n",
       "        vertical-align: top;\n",
       "    }\n",
       "\n",
       "    .dataframe thead th {\n",
       "        text-align: right;\n",
       "    }\n",
       "</style>\n",
       "<table border=\"1\" class=\"dataframe\">\n",
       "  <thead>\n",
       "    <tr style=\"text-align: right;\">\n",
       "      <th></th>\n",
       "      <th>device_id</th>\n",
       "    </tr>\n",
       "    <tr>\n",
       "      <th>group</th>\n",
       "      <th></th>\n",
       "    </tr>\n",
       "  </thead>\n",
       "  <tbody>\n",
       "    <tr>\n",
       "      <th>246</th>\n",
       "      <td>2484</td>\n",
       "    </tr>\n",
       "    <tr>\n",
       "      <th>247</th>\n",
       "      <td>2513</td>\n",
       "    </tr>\n",
       "    <tr>\n",
       "      <th>248</th>\n",
       "      <td>2537</td>\n",
       "    </tr>\n",
       "  </tbody>\n",
       "</table>\n",
       "</div>"
      ],
      "text/plain": [
       "       device_id\n",
       "group           \n",
       "246         2484\n",
       "247         2513\n",
       "248         2537"
      ]
     },
     "execution_count": 30,
     "metadata": {},
     "output_type": "execute_result"
    }
   ],
   "source": [
    "new_groups=new_log.pivot_table(index='group',values='device_id',aggfunc='nunique')\n",
    "new_groups\n",
    "\n",
    "#общее количество пользователей в каждой группе"
   ]
  },
  {
   "cell_type": "code",
   "execution_count": 31,
   "metadata": {},
   "outputs": [
    {
     "data": {
      "text/html": [
       "<div>\n",
       "<style scoped>\n",
       "    .dataframe tbody tr th:only-of-type {\n",
       "        vertical-align: middle;\n",
       "    }\n",
       "\n",
       "    .dataframe tbody tr th {\n",
       "        vertical-align: top;\n",
       "    }\n",
       "\n",
       "    .dataframe thead th {\n",
       "        text-align: right;\n",
       "    }\n",
       "</style>\n",
       "<table border=\"1\" class=\"dataframe\">\n",
       "  <thead>\n",
       "    <tr style=\"text-align: right;\">\n",
       "      <th>event_name</th>\n",
       "      <th>CartScreenAppear</th>\n",
       "      <th>MainScreenAppear</th>\n",
       "      <th>OffersScreenAppear</th>\n",
       "      <th>PaymentScreenSuccessful</th>\n",
       "    </tr>\n",
       "    <tr>\n",
       "      <th>group</th>\n",
       "      <th></th>\n",
       "      <th></th>\n",
       "      <th></th>\n",
       "      <th></th>\n",
       "    </tr>\n",
       "  </thead>\n",
       "  <tbody>\n",
       "    <tr>\n",
       "      <th>246</th>\n",
       "      <td>1266</td>\n",
       "      <td>2450</td>\n",
       "      <td>1542</td>\n",
       "      <td>1200</td>\n",
       "    </tr>\n",
       "    <tr>\n",
       "      <th>247</th>\n",
       "      <td>1238</td>\n",
       "      <td>2476</td>\n",
       "      <td>1520</td>\n",
       "      <td>1158</td>\n",
       "    </tr>\n",
       "    <tr>\n",
       "      <th>248</th>\n",
       "      <td>1230</td>\n",
       "      <td>2493</td>\n",
       "      <td>1531</td>\n",
       "      <td>1181</td>\n",
       "    </tr>\n",
       "  </tbody>\n",
       "</table>\n",
       "</div>"
      ],
      "text/plain": [
       "event_name  CartScreenAppear  MainScreenAppear  OffersScreenAppear  \\\n",
       "group                                                                \n",
       "246                     1266              2450                1542   \n",
       "247                     1238              2476                1520   \n",
       "248                     1230              2493                1531   \n",
       "\n",
       "event_name  PaymentScreenSuccessful  \n",
       "group                                \n",
       "246                            1200  \n",
       "247                            1158  \n",
       "248                            1181  "
      ]
     },
     "execution_count": 31,
     "metadata": {},
     "output_type": "execute_result"
    }
   ],
   "source": [
    "funnel = new_log.pivot_table(index='group',columns = 'event_name', values='device_id',aggfunc='nunique')\n",
    "\n",
    "del funnel['Tutorial']\n",
    "\n",
    "funnel\n",
    "\n",
    "#количество пользователей на каждом этапе вронки по группам"
   ]
  },
  {
   "cell_type": "code",
   "execution_count": 32,
   "metadata": {},
   "outputs": [
    {
     "data": {
      "text/plain": [
       "group\n",
       "246    98.63\n",
       "247    98.53\n",
       "248    98.27\n",
       "dtype: float64"
      ]
     },
     "execution_count": 32,
     "metadata": {},
     "output_type": "execute_result"
    }
   ],
   "source": [
    "round((funnel['MainScreenAppear']/new_groups['device_id'])*100,2)\n",
    "\n",
    "#доля пользователей совершивших самое популярное событие MainScreenAppear в каждой группе"
   ]
  },
  {
   "cell_type": "code",
   "execution_count": 33,
   "metadata": {},
   "outputs": [],
   "source": [
    "new_groups = new_groups.reset_index()\n",
    "funnel = funnel.reset_index()"
   ]
  },
  {
   "cell_type": "code",
   "execution_count": 34,
   "metadata": {},
   "outputs": [],
   "source": [
    "def st_test (prev, final, alpha):\n",
    "    p1 = prev[0] / final[0]\n",
    "    p2 = prev[1] / final[1]\n",
    "    p_total = (prev[0] + prev[1]) / (final[0] + final[1])\n",
    "    difference = p1 - p2\n",
    " \n",
    "    z_value = difference / mth.sqrt(p_total *(1-p_total) * (1/final[0] + 1/final[1]))\n",
    "    distr = stats.norm(0, 1) \n",
    "    p_value = (1 - distr.cdf(abs(z_value))) * 2\n",
    "    \n",
    "    print('p-value: ', p_value)\n",
    "    \n",
    "    if (p_value < alpha):\n",
    "        print(\"Отвергаем нулевую гипотезу\")\n",
    "        print('')\n",
    "    else:\n",
    "        print(\"Не получилось отвергнуть нулевую гипотезу\")\n",
    "        print('')\n",
    "        \n",
    "#функция для проверки статистических гипотез"
   ]
  },
  {
   "cell_type": "code",
   "execution_count": 35,
   "metadata": {},
   "outputs": [],
   "source": [
    "def cycle (group1, group2, alpha):\n",
    "    users_quantity = ([new_groups['device_id'][group1], new_groups['device_id'][group2]])\n",
    "    MainScreenAppear_quantity = ([funnel['MainScreenAppear'][group1], funnel['MainScreenAppear'][group2]])\n",
    "    OffersScreenAppear_quantity = ([funnel['OffersScreenAppear'][group1], funnel['OffersScreenAppear'][group2]])\n",
    "    CartScreenAppear_quantity = ([funnel['CartScreenAppear'][group1], funnel['CartScreenAppear'][group2]])\n",
    "    PaymentScreenSuccessful_quantity = ([funnel['PaymentScreenSuccessful'][group1], funnel['PaymentScreenSuccessful'][group2]])\n",
    "    \n",
    "    print('Результаты по MainScreenAppear')\n",
    "    st_test(MainScreenAppear_quantity, users_quantity, alpha)\n",
    "    \n",
    "    print('Результаты по OffersScreenAppear')\n",
    "    st_test(OffersScreenAppear_quantity, users_quantity, alpha)\n",
    "    \n",
    "    print('Результаты по CartScreenAppear')\n",
    "    st_test(CartScreenAppear_quantity, users_quantity, alpha)\n",
    "    \n",
    "    print('Результаты по PaymentScreenSuccessful')\n",
    "    st_test(PaymentScreenSuccessful_quantity, users_quantity, alpha)\n",
    "    \n",
    "#функция для проверки статистических гипотез по всем типам событий"
   ]
  },
  {
   "cell_type": "markdown",
   "metadata": {},
   "source": [
    "#### A/A-тест\n",
    "\n",
    "<a id='e'></a>"
   ]
  },
  {
   "cell_type": "markdown",
   "metadata": {},
   "source": [
    "H0: статистически значимых различий в долях пользователей совершивших действие между группами 246 и 247 нет.\\\n",
    "H1: статистически значимые различия в долях пользователей совершивших действие между группами 246 и 247 есть."
   ]
  },
  {
   "cell_type": "code",
   "execution_count": 36,
   "metadata": {},
   "outputs": [
    {
     "name": "stdout",
     "output_type": "stream",
     "text": [
      "Результаты по MainScreenAppear\n",
      "p-value:  0.7570597232046099\n",
      "Не получилось отвергнуть нулевую гипотезу\n",
      "\n",
      "Результаты по OffersScreenAppear\n",
      "p-value:  0.2480954578522181\n",
      "Не получилось отвергнуть нулевую гипотезу\n",
      "\n",
      "Результаты по CartScreenAppear\n",
      "p-value:  0.22883372237997213\n",
      "Не получилось отвергнуть нулевую гипотезу\n",
      "\n",
      "Результаты по PaymentScreenSuccessful\n",
      "p-value:  0.11456679313141849\n",
      "Не получилось отвергнуть нулевую гипотезу\n",
      "\n"
     ]
    }
   ],
   "source": [
    "cycle (0, 1, 0.05)"
   ]
  },
  {
   "cell_type": "markdown",
   "metadata": {},
   "source": [
    "**Выводы A/A-тест:**\\\n",
    "p-value выше уровня значимости 5% по каждому событию - значит, мы не отвергаем нулевую гипотезу об отсутствии различий в долях пользователей совершивших действие между контрольными группами. Различия в показателях не являются статистически значимыми.\\\n",
    "\\\n",
    "Можно сделать вывод, что разбиение на группы работает корректно."
   ]
  },
  {
   "cell_type": "markdown",
   "metadata": {},
   "source": [
    "#### A/A/B-тест\n",
    "\n",
    "<a id='f'></a>"
   ]
  },
  {
   "cell_type": "markdown",
   "metadata": {},
   "source": [
    "**H0**: статистически значимых различий в среднем количестве пользователей совершивших действие между группами 246 и 248 нет.\\\n",
    "**H1**: статистически значимые различия в среднем количестве пользователей совершивших действие между группами 246 и 248 есть."
   ]
  },
  {
   "cell_type": "code",
   "execution_count": 37,
   "metadata": {},
   "outputs": [
    {
     "name": "stdout",
     "output_type": "stream",
     "text": [
      "Результаты по MainScreenAppear\n",
      "p-value:  0.2949721933554552\n",
      "Не получилось отвергнуть нулевую гипотезу\n",
      "\n",
      "Результаты по OffersScreenAppear\n",
      "p-value:  0.20836205402738917\n",
      "Не получилось отвергнуть нулевую гипотезу\n",
      "\n",
      "Результаты по CartScreenAppear\n",
      "p-value:  0.07842923237520116\n",
      "Не получилось отвергнуть нулевую гипотезу\n",
      "\n",
      "Результаты по PaymentScreenSuccessful\n",
      "p-value:  0.2122553275697796\n",
      "Не получилось отвергнуть нулевую гипотезу\n",
      "\n"
     ]
    }
   ],
   "source": [
    "cycle (0, 2, 0.05)"
   ]
  },
  {
   "cell_type": "markdown",
   "metadata": {},
   "source": [
    "**Выводы A/B-тест (246/248):**\\\n",
    "p-value выше уровня значимости 5% по всем событиям  - значит, мы не отвергаем нулевую гипотезу об отсутствии различий в долях пользователей совершивших действие между группами. Различия в показателях не являются статистически значимыми."
   ]
  },
  {
   "cell_type": "markdown",
   "metadata": {},
   "source": [
    "**H0**: статистически значимых различий в среднем количестве пользователей совершивших действие между группами 247 и 248 нет.\\\n",
    "**H1**: статистически значимые различия в среднем количестве пользователей совершивших действие между группами 247 и 248 есть."
   ]
  },
  {
   "cell_type": "code",
   "execution_count": 38,
   "metadata": {},
   "outputs": [
    {
     "name": "stdout",
     "output_type": "stream",
     "text": [
      "Результаты по MainScreenAppear\n",
      "p-value:  0.4587053616621515\n",
      "Не получилось отвергнуть нулевую гипотезу\n",
      "\n",
      "Результаты по OffersScreenAppear\n",
      "p-value:  0.9197817830592261\n",
      "Не получилось отвергнуть нулевую гипотезу\n",
      "\n",
      "Результаты по CartScreenAppear\n",
      "p-value:  0.5786197879539783\n",
      "Не получилось отвергнуть нулевую гипотезу\n",
      "\n",
      "Результаты по PaymentScreenSuccessful\n",
      "p-value:  0.7373415053803964\n",
      "Не получилось отвергнуть нулевую гипотезу\n",
      "\n"
     ]
    }
   ],
   "source": [
    "cycle (1, 2, 0.05)"
   ]
  },
  {
   "cell_type": "markdown",
   "metadata": {},
   "source": [
    "**Выводы A/B-тест (247/248):**\\\n",
    "p-value выше уровня значимости 5% по каждому событию - значит, мы не отвергаем нулевую гипотезу об отсутствии различий в долях пользователей совершивших действие между группами. Различия в показателях по каждому событию между группами не являются статистически значимыми."
   ]
  },
  {
   "cell_type": "code",
   "execution_count": 39,
   "metadata": {},
   "outputs": [
    {
     "data": {
      "text/html": [
       "<div>\n",
       "<style scoped>\n",
       "    .dataframe tbody tr th:only-of-type {\n",
       "        vertical-align: middle;\n",
       "    }\n",
       "\n",
       "    .dataframe tbody tr th {\n",
       "        vertical-align: top;\n",
       "    }\n",
       "\n",
       "    .dataframe thead th {\n",
       "        text-align: right;\n",
       "    }\n",
       "</style>\n",
       "<table border=\"1\" class=\"dataframe\">\n",
       "  <thead>\n",
       "    <tr style=\"text-align: right;\">\n",
       "      <th>event_name</th>\n",
       "      <th>group</th>\n",
       "      <th>CartScreenAppear</th>\n",
       "      <th>MainScreenAppear</th>\n",
       "      <th>OffersScreenAppear</th>\n",
       "      <th>PaymentScreenSuccessful</th>\n",
       "    </tr>\n",
       "  </thead>\n",
       "  <tbody>\n",
       "    <tr>\n",
       "      <th>0</th>\n",
       "      <td>246</td>\n",
       "      <td>1266</td>\n",
       "      <td>2450</td>\n",
       "      <td>1542</td>\n",
       "      <td>1200</td>\n",
       "    </tr>\n",
       "    <tr>\n",
       "      <th>1</th>\n",
       "      <td>247</td>\n",
       "      <td>1238</td>\n",
       "      <td>2476</td>\n",
       "      <td>1520</td>\n",
       "      <td>1158</td>\n",
       "    </tr>\n",
       "    <tr>\n",
       "      <th>2</th>\n",
       "      <td>248</td>\n",
       "      <td>1230</td>\n",
       "      <td>2493</td>\n",
       "      <td>1531</td>\n",
       "      <td>1181</td>\n",
       "    </tr>\n",
       "    <tr>\n",
       "      <th>3</th>\n",
       "      <td>249</td>\n",
       "      <td>2504</td>\n",
       "      <td>4926</td>\n",
       "      <td>3062</td>\n",
       "      <td>2358</td>\n",
       "    </tr>\n",
       "  </tbody>\n",
       "</table>\n",
       "</div>"
      ],
      "text/plain": [
       "event_name  group  CartScreenAppear  MainScreenAppear  OffersScreenAppear  \\\n",
       "0             246              1266              2450                1542   \n",
       "1             247              1238              2476                1520   \n",
       "2             248              1230              2493                1531   \n",
       "3             249              2504              4926                3062   \n",
       "\n",
       "event_name  PaymentScreenSuccessful  \n",
       "0                              1200  \n",
       "1                              1158  \n",
       "2                              1181  \n",
       "3                              2358  "
      ]
     },
     "execution_count": 39,
     "metadata": {},
     "output_type": "execute_result"
    }
   ],
   "source": [
    "funnel.loc[3]=[249,\n",
    "              funnel['CartScreenAppear'][0]+funnel['CartScreenAppear'][1],\n",
    "               funnel['MainScreenAppear'][0]+funnel['MainScreenAppear'][1], \n",
    "               funnel['OffersScreenAppear'][0]+funnel['OffersScreenAppear'][1],\n",
    "              funnel['PaymentScreenSuccessful'][0]+funnel['PaymentScreenSuccessful'][1]]\n",
    "funnel\n",
    "\n",
    "#создание строки для объединенной группы из двух групп: 246 + 247 = 249"
   ]
  },
  {
   "cell_type": "code",
   "execution_count": 40,
   "metadata": {},
   "outputs": [
    {
     "data": {
      "text/html": [
       "<div>\n",
       "<style scoped>\n",
       "    .dataframe tbody tr th:only-of-type {\n",
       "        vertical-align: middle;\n",
       "    }\n",
       "\n",
       "    .dataframe tbody tr th {\n",
       "        vertical-align: top;\n",
       "    }\n",
       "\n",
       "    .dataframe thead th {\n",
       "        text-align: right;\n",
       "    }\n",
       "</style>\n",
       "<table border=\"1\" class=\"dataframe\">\n",
       "  <thead>\n",
       "    <tr style=\"text-align: right;\">\n",
       "      <th></th>\n",
       "      <th>group</th>\n",
       "      <th>device_id</th>\n",
       "    </tr>\n",
       "  </thead>\n",
       "  <tbody>\n",
       "    <tr>\n",
       "      <th>0</th>\n",
       "      <td>246</td>\n",
       "      <td>2484</td>\n",
       "    </tr>\n",
       "    <tr>\n",
       "      <th>1</th>\n",
       "      <td>247</td>\n",
       "      <td>2513</td>\n",
       "    </tr>\n",
       "    <tr>\n",
       "      <th>2</th>\n",
       "      <td>248</td>\n",
       "      <td>2537</td>\n",
       "    </tr>\n",
       "    <tr>\n",
       "      <th>3</th>\n",
       "      <td>249</td>\n",
       "      <td>4997</td>\n",
       "    </tr>\n",
       "  </tbody>\n",
       "</table>\n",
       "</div>"
      ],
      "text/plain": [
       "   group  device_id\n",
       "0    246       2484\n",
       "1    247       2513\n",
       "2    248       2537\n",
       "3    249       4997"
      ]
     },
     "execution_count": 40,
     "metadata": {},
     "output_type": "execute_result"
    }
   ],
   "source": [
    "new_groups.loc[3]=[249,new_groups['device_id'][0]+new_groups['device_id'][1]]\n",
    "new_groups\n",
    "\n",
    "#создание строки для объединенного количества пользователей двух групп: 246 + 247 = 249"
   ]
  },
  {
   "cell_type": "markdown",
   "metadata": {},
   "source": [
    "**H0**: статистически значимых различий в среднем количестве пользователей совершивших действие между объединённой группой и  группой 248 нет.\\\n",
    "**H1**: статистически значимые различия в среднем количестве пользователей совершивших действие между объединённой группой и  группой 248 есть."
   ]
  },
  {
   "cell_type": "code",
   "execution_count": 41,
   "metadata": {},
   "outputs": [
    {
     "name": "stdout",
     "output_type": "stream",
     "text": [
      "Результаты по MainScreenAppear\n",
      "p-value:  0.29424526837179577\n",
      "Не получилось отвергнуть нулевую гипотезу\n",
      "\n",
      "Результаты по OffersScreenAppear\n",
      "p-value:  0.43425549655188256\n",
      "Не получилось отвергнуть нулевую гипотезу\n",
      "\n",
      "Результаты по CartScreenAppear\n",
      "p-value:  0.18175875284404386\n",
      "Не получилось отвергнуть нулевую гипотезу\n",
      "\n",
      "Результаты по PaymentScreenSuccessful\n",
      "p-value:  0.6004294282308704\n",
      "Не получилось отвергнуть нулевую гипотезу\n",
      "\n"
     ]
    }
   ],
   "source": [
    "cycle (3, 2, 0.05)"
   ]
  },
  {
   "cell_type": "markdown",
   "metadata": {},
   "source": [
    "**Выводы A/B-тест (объединённая группа/248):**\\\n",
    "p-value выше уровня значимости 5% по каждому событию - значит, мы не отвергаем нулевую гипотезу об отсутствии различий в долях пользователей совершивших действие между группами. Различия в показателях по каждому событию между группами не являются статистически значимыми."
   ]
  },
  {
   "cell_type": "markdown",
   "metadata": {},
   "source": [
    "**Выводы A/A/B-тест (уровень стат. значимости = 0.05):**\\\n",
    "В целом, результаты тестов показали, что при уровне статистической значимости - 0.05, доли пользователей совершивших какое-либо действие не отличаются между всеми 3-мя группами.\\\n",
    "Таким образом, согласно тестам, изменение шрифта приложения вероятно не повлияет на поведение пользователей."
   ]
  },
  {
   "cell_type": "markdown",
   "metadata": {},
   "source": [
    "#### A/A-тест (уровень стат. значимости = 0.1)"
   ]
  },
  {
   "cell_type": "markdown",
   "metadata": {},
   "source": [
    "**H0**: статистически значимых различий в среднем количестве пользователей совершивших действие между группами 246 и 247 нет.\\\n",
    "**H1**: статистически значимые различия в среднем количестве пользователей совершивших действие между группами 246 и 247 есть."
   ]
  },
  {
   "cell_type": "code",
   "execution_count": 42,
   "metadata": {},
   "outputs": [
    {
     "name": "stdout",
     "output_type": "stream",
     "text": [
      "Результаты по MainScreenAppear\n",
      "p-value:  0.7570597232046099\n",
      "Не получилось отвергнуть нулевую гипотезу\n",
      "\n",
      "Результаты по OffersScreenAppear\n",
      "p-value:  0.2480954578522181\n",
      "Не получилось отвергнуть нулевую гипотезу\n",
      "\n",
      "Результаты по CartScreenAppear\n",
      "p-value:  0.22883372237997213\n",
      "Не получилось отвергнуть нулевую гипотезу\n",
      "\n",
      "Результаты по PaymentScreenSuccessful\n",
      "p-value:  0.11456679313141849\n",
      "Не получилось отвергнуть нулевую гипотезу\n",
      "\n"
     ]
    }
   ],
   "source": [
    "cycle (0, 1, 0.1)"
   ]
  },
  {
   "cell_type": "markdown",
   "metadata": {},
   "source": [
    "**Выводы A/A-тест:**\\\n",
    "p-value выше уровня значимости 10% по каждому событию - значит, также, как и ранее, мы не отвергаем нулевую гипотезу об отсутствии различий в долях пользователей совершивших действие между контрольными группами. Различия в показателях не являются статистически значимыми."
   ]
  },
  {
   "cell_type": "markdown",
   "metadata": {},
   "source": [
    "#### A/A/B-тест (уровень стат. значимости = 0.1)"
   ]
  },
  {
   "cell_type": "markdown",
   "metadata": {},
   "source": [
    "**H0**: статистически значимых различий в среднем количестве пользователей совершивших действие между группами 246 и 248 нет.\\\n",
    "**H1**: статистически значимые различия в среднем количестве пользователей совершивших действие между группами 246 и 248 есть."
   ]
  },
  {
   "cell_type": "code",
   "execution_count": 43,
   "metadata": {},
   "outputs": [
    {
     "name": "stdout",
     "output_type": "stream",
     "text": [
      "Результаты по MainScreenAppear\n",
      "p-value:  0.2949721933554552\n",
      "Не получилось отвергнуть нулевую гипотезу\n",
      "\n",
      "Результаты по OffersScreenAppear\n",
      "p-value:  0.20836205402738917\n",
      "Не получилось отвергнуть нулевую гипотезу\n",
      "\n",
      "Результаты по CartScreenAppear\n",
      "p-value:  0.07842923237520116\n",
      "Отвергаем нулевую гипотезу\n",
      "\n",
      "Результаты по PaymentScreenSuccessful\n",
      "p-value:  0.2122553275697796\n",
      "Не получилось отвергнуть нулевую гипотезу\n",
      "\n"
     ]
    }
   ],
   "source": [
    "cycle (0, 2, 0.1)"
   ]
  },
  {
   "cell_type": "markdown",
   "metadata": {},
   "source": [
    "**Выводы A/B-тест (246/248):**\\\n",
    "p-value выше уровня значимости 5% по 3-м из 4-х событий  - значит, по ним мы не отвергаем нулевую гипотезу об отсутствии различий в долях пользователей совершивших действие между группами. Различия в показателях не являются статистически значимыми.\\\n",
    "\\\n",
    "Статистически значимые различия присутствуют только на этапе воронки CartScreenAppear."
   ]
  },
  {
   "cell_type": "markdown",
   "metadata": {},
   "source": [
    "**H0**: статистически значимых различий в среднем количестве пользователей совершивших действие между группами 247 и 248 нет.\\\n",
    "**H1**: статистически значимые различия в среднем количестве пользователей совершивших действие между группами 247 и 248 есть."
   ]
  },
  {
   "cell_type": "code",
   "execution_count": 44,
   "metadata": {},
   "outputs": [
    {
     "name": "stdout",
     "output_type": "stream",
     "text": [
      "Результаты по MainScreenAppear\n",
      "p-value:  0.4587053616621515\n",
      "Не получилось отвергнуть нулевую гипотезу\n",
      "\n",
      "Результаты по OffersScreenAppear\n",
      "p-value:  0.9197817830592261\n",
      "Не получилось отвергнуть нулевую гипотезу\n",
      "\n",
      "Результаты по CartScreenAppear\n",
      "p-value:  0.5786197879539783\n",
      "Не получилось отвергнуть нулевую гипотезу\n",
      "\n",
      "Результаты по PaymentScreenSuccessful\n",
      "p-value:  0.7373415053803964\n",
      "Не получилось отвергнуть нулевую гипотезу\n",
      "\n"
     ]
    }
   ],
   "source": [
    "cycle (1, 2, 0.1)"
   ]
  },
  {
   "cell_type": "markdown",
   "metadata": {},
   "source": [
    "**Выводы A/B-тест (247/248):**\\\n",
    "p-value выше уровня значимости 5% по каждому событию - значит, мы не отвергаем нулевую гипотезу об отсутствии различий в долях пользователей совершивших действие между группами. Различия в показателях по каждому событию между группами не являются статистически значимыми."
   ]
  },
  {
   "cell_type": "markdown",
   "metadata": {},
   "source": [
    "**H0**: статистически значимых различий в среднем количестве пользователей совершивших действие между объединённой группой и  группой 248 нет.\\\n",
    "**H1**: статистически значимые различия в среднем количестве пользователей совершивших действие между объединённой группой и  группой 248 есть."
   ]
  },
  {
   "cell_type": "code",
   "execution_count": 45,
   "metadata": {},
   "outputs": [
    {
     "name": "stdout",
     "output_type": "stream",
     "text": [
      "Результаты по MainScreenAppear\n",
      "p-value:  0.29424526837179577\n",
      "Не получилось отвергнуть нулевую гипотезу\n",
      "\n",
      "Результаты по OffersScreenAppear\n",
      "p-value:  0.43425549655188256\n",
      "Не получилось отвергнуть нулевую гипотезу\n",
      "\n",
      "Результаты по CartScreenAppear\n",
      "p-value:  0.18175875284404386\n",
      "Не получилось отвергнуть нулевую гипотезу\n",
      "\n",
      "Результаты по PaymentScreenSuccessful\n",
      "p-value:  0.6004294282308704\n",
      "Не получилось отвергнуть нулевую гипотезу\n",
      "\n"
     ]
    }
   ],
   "source": [
    "cycle (3, 2, 0.1)"
   ]
  },
  {
   "cell_type": "markdown",
   "metadata": {},
   "source": [
    "**Выводы A/B-тест (объединённая группа/248):**\\\n",
    "p-value выше уровня значимости 5% по каждому событию - значит, мы не отвергаем нулевую гипотезу об отсутствии различий в долях пользователей совершивших действие между группами. Различия в показателях по каждому событию между группами не являются статистически значимыми."
   ]
  },
  {
   "cell_type": "markdown",
   "metadata": {},
   "source": [
    "**Выводы A/A/B-тест (уровень стат. значимости = 0.1):**\\\n",
    "В целом, результаты тестов показали, что при уровнях статистической значимости - 0.1 и 0.05, доли пользователей совершивших какое-либо действие практически не отличаются между всеми 3-мя группами.\\\n",
    "Таким образом, согласно тестам, изменение шрифта приложения вероятно практически не повлияет на поведение пользователей."
   ]
  },
  {
   "cell_type": "markdown",
   "metadata": {},
   "source": [
    "### Общий вывод\n",
    "\n",
    "<a id='g'></a>"
   ]
  },
  {
   "cell_type": "markdown",
   "metadata": {},
   "source": [
    "В ходе исследования были рассмотрены **данные стартапа по продаже продуктов питания с 1 по 7 августа 2019 года**: лог с данными и пользователях, воронка продаж, результаты A/A/B-эксперимента.\n"
   ]
  },
  {
   "cell_type": "markdown",
   "metadata": {},
   "source": [
    "После обработки данных в логе осталось всего 243 713 записей о 7 551 пользователе. В среднем на одного пользователя приходится 32 события.\\\n",
    "Важно отметить, что первичная версия датафрейма состояла из данных с 25 июля по 2 августа, однако, по результатам исследования, выяснилось, что реальный период оценки данных - 7 дней с 1-го по 7-е августа 2019 года (99% данных).\\\n",
    "\\\n",
    "В обновлённом датафрейме, подготовленном для дальнейшего анализа воронки и экспериментов, - 240 887 записей, включены данные о примерно одинаковом количестве пользователей из всех **3-х групп: 246, 247(контрольные группы) и 248**."
   ]
  },
  {
   "cell_type": "markdown",
   "metadata": {},
   "source": [
    "Всего в датафрейме были обнаружены записи о 5-ти событиях:\n",
    "* MainScreenAppear - вход на главный экран\n",
    "* OffersScreenAppear - вход на страницу товара\n",
    "* CartScreenAppear - вход в корзину\n",
    "* PaymentScreenSuccessful - оплата заказа пользователем\n",
    "* Tutorial - обучение\\\n",
    "\\\n",
    "В ходе анализа, была сформирована воронка событий пользователя:\n",
    "1. MainScreenAppear\n",
    "2. OffersScreenAppear\n",
    "3. CartScreenAppear\n",
    "4. PaymentScreenSuccessful\\\n",
    "\\\n",
    "(*Событие Tutorial - вероятно опциональное и не входит в воронку событий*).\\\n",
    "\\\n",
    "От начала до конца воронку проходит **52% пользователей**, больше всего потенциальных покупателей теряется при переходе с шага MainScreenAppear на шаг OffersScreenAppear - **почти 40% пользователей не переходят с главного экрана на страницу товара**."
   ]
  },
  {
   "cell_type": "markdown",
   "metadata": {},
   "source": [
    "В ходе A/A/B-эксперимента были проведены тесты с уровнем значимости *5% и 10%*, направленные на сравнение долей пользователей, совершающих определенные действия в 3-х группах.\\\n",
    "\\\n",
    "Результаты *A/A-теста* показали, что статистически-значимых различий между контрольными группами (246 и 247) нет. Значит, **данные разбиты по группам корректно**.\\\n",
    "\\\n",
    "По результатам A/B-тестов, доли пользователей совершивших какое-либо действие **практически не отличаются между группами A (246,247) и группой B (248)**, для которой шрифты во всём приложении изменились."
   ]
  },
  {
   "cell_type": "markdown",
   "metadata": {},
   "source": [
    "Таким образом, **обновление шрифтов во всем приложении значимо не повлияет на существующее поведение пользователя в приложении**."
   ]
  }
 ],
 "metadata": {
  "ExecuteTimeLog": [
   {
    "duration": 64,
    "start_time": "2024-09-16T08:18:32.608Z"
   },
   {
    "duration": 1513,
    "start_time": "2024-09-16T08:18:38.192Z"
   },
   {
    "duration": 187,
    "start_time": "2024-09-16T08:22:36.777Z"
   },
   {
    "duration": 72,
    "start_time": "2024-09-18T09:09:01.514Z"
   },
   {
    "duration": 0,
    "start_time": "2024-09-18T09:09:01.588Z"
   },
   {
    "duration": 0,
    "start_time": "2024-09-18T09:09:01.589Z"
   },
   {
    "duration": 1350,
    "start_time": "2024-09-18T09:09:08.696Z"
   },
   {
    "duration": 923,
    "start_time": "2024-09-18T09:09:10.048Z"
   },
   {
    "duration": 3,
    "start_time": "2024-09-18T09:09:32.829Z"
   },
   {
    "duration": 105,
    "start_time": "2024-09-18T09:10:47.998Z"
   },
   {
    "duration": 11,
    "start_time": "2024-09-18T09:15:29.511Z"
   },
   {
    "duration": 367,
    "start_time": "2024-09-18T09:18:03.594Z"
   },
   {
    "duration": 3,
    "start_time": "2024-09-18T09:18:14.059Z"
   },
   {
    "duration": 213,
    "start_time": "2024-09-18T09:18:14.064Z"
   },
   {
    "duration": 4,
    "start_time": "2024-09-18T09:18:14.278Z"
   },
   {
    "duration": 99,
    "start_time": "2024-09-18T09:18:14.283Z"
   },
   {
    "duration": 202,
    "start_time": "2024-09-18T09:18:14.383Z"
   },
   {
    "duration": 47,
    "start_time": "2024-09-18T09:21:01.570Z"
   },
   {
    "duration": 3,
    "start_time": "2024-09-18T09:21:10.110Z"
   },
   {
    "duration": 198,
    "start_time": "2024-09-18T09:21:10.115Z"
   },
   {
    "duration": 4,
    "start_time": "2024-09-18T09:21:10.314Z"
   },
   {
    "duration": 85,
    "start_time": "2024-09-18T09:21:10.319Z"
   },
   {
    "duration": 44,
    "start_time": "2024-09-18T09:21:12.003Z"
   },
   {
    "duration": 3,
    "start_time": "2024-09-18T09:21:29.428Z"
   },
   {
    "duration": 186,
    "start_time": "2024-09-18T09:21:29.433Z"
   },
   {
    "duration": 3,
    "start_time": "2024-09-18T09:21:29.621Z"
   },
   {
    "duration": 96,
    "start_time": "2024-09-18T09:21:29.625Z"
   },
   {
    "duration": 43,
    "start_time": "2024-09-18T09:21:29.723Z"
   },
   {
    "duration": 63,
    "start_time": "2024-09-18T09:24:42.083Z"
   },
   {
    "duration": 88,
    "start_time": "2024-09-18T09:24:51.074Z"
   },
   {
    "duration": 64,
    "start_time": "2024-09-18T09:28:31.373Z"
   },
   {
    "duration": 69,
    "start_time": "2024-09-18T09:28:36.653Z"
   },
   {
    "duration": 76,
    "start_time": "2024-09-18T09:28:40.597Z"
   },
   {
    "duration": 99,
    "start_time": "2024-09-18T09:29:14.436Z"
   },
   {
    "duration": 109,
    "start_time": "2024-09-18T09:29:33.733Z"
   },
   {
    "duration": 93,
    "start_time": "2024-09-18T09:29:40.797Z"
   },
   {
    "duration": 80,
    "start_time": "2024-09-18T09:29:47.629Z"
   },
   {
    "duration": 74,
    "start_time": "2024-09-18T09:30:10.870Z"
   },
   {
    "duration": 70,
    "start_time": "2024-09-18T09:30:39.341Z"
   },
   {
    "duration": 74,
    "start_time": "2024-09-18T09:32:01.101Z"
   },
   {
    "duration": 3,
    "start_time": "2024-09-18T09:32:07.960Z"
   },
   {
    "duration": 201,
    "start_time": "2024-09-18T09:32:07.965Z"
   },
   {
    "duration": 5,
    "start_time": "2024-09-18T09:32:08.168Z"
   },
   {
    "duration": 97,
    "start_time": "2024-09-18T09:32:08.175Z"
   },
   {
    "duration": 82,
    "start_time": "2024-09-18T09:32:08.273Z"
   },
   {
    "duration": 106,
    "start_time": "2024-09-18T09:33:50.425Z"
   },
   {
    "duration": 73,
    "start_time": "2024-09-18T09:34:31.583Z"
   },
   {
    "duration": 75,
    "start_time": "2024-09-18T09:34:37.087Z"
   },
   {
    "duration": 100,
    "start_time": "2024-09-18T09:37:01.977Z"
   },
   {
    "duration": 84,
    "start_time": "2024-09-18T09:37:06.640Z"
   },
   {
    "duration": 3,
    "start_time": "2024-09-18T09:37:30.547Z"
   },
   {
    "duration": 200,
    "start_time": "2024-09-18T09:37:30.551Z"
   },
   {
    "duration": 3,
    "start_time": "2024-09-18T09:37:30.753Z"
   },
   {
    "duration": 115,
    "start_time": "2024-09-18T09:37:30.758Z"
   },
   {
    "duration": 115,
    "start_time": "2024-09-18T09:37:30.874Z"
   },
   {
    "duration": 73,
    "start_time": "2024-09-18T09:38:35.706Z"
   },
   {
    "duration": 406,
    "start_time": "2024-09-18T09:40:44.122Z"
   },
   {
    "duration": 3,
    "start_time": "2024-09-18T09:40:48.660Z"
   },
   {
    "duration": 195,
    "start_time": "2024-09-18T09:40:48.665Z"
   },
   {
    "duration": 3,
    "start_time": "2024-09-18T09:40:48.861Z"
   },
   {
    "duration": 91,
    "start_time": "2024-09-18T09:40:48.866Z"
   },
   {
    "duration": 236,
    "start_time": "2024-09-18T09:40:48.959Z"
   },
   {
    "duration": 324,
    "start_time": "2024-09-18T09:41:07.850Z"
   },
   {
    "duration": 101,
    "start_time": "2024-09-18T09:41:22.386Z"
   },
   {
    "duration": 80,
    "start_time": "2024-09-18T09:45:57.461Z"
   },
   {
    "duration": 94,
    "start_time": "2024-09-18T09:46:04.276Z"
   },
   {
    "duration": 98,
    "start_time": "2024-09-18T09:46:08.980Z"
   },
   {
    "duration": 286,
    "start_time": "2024-09-18T09:46:43.877Z"
   },
   {
    "duration": 78,
    "start_time": "2024-09-18T09:46:47.468Z"
   },
   {
    "duration": 149,
    "start_time": "2024-09-18T09:47:22.725Z"
   },
   {
    "duration": 281,
    "start_time": "2024-09-18T09:47:26.677Z"
   },
   {
    "duration": 276,
    "start_time": "2024-09-18T09:47:32.677Z"
   },
   {
    "duration": 3,
    "start_time": "2024-09-18T09:47:39.151Z"
   },
   {
    "duration": 212,
    "start_time": "2024-09-18T09:47:39.156Z"
   },
   {
    "duration": 3,
    "start_time": "2024-09-18T09:47:39.369Z"
   },
   {
    "duration": 129,
    "start_time": "2024-09-18T09:47:39.374Z"
   },
   {
    "duration": 166,
    "start_time": "2024-09-18T09:47:39.504Z"
   },
   {
    "duration": 4,
    "start_time": "2024-09-18T09:48:19.949Z"
   },
   {
    "duration": 7,
    "start_time": "2024-09-18T09:48:50.398Z"
   },
   {
    "duration": 33,
    "start_time": "2024-09-18T09:52:23.064Z"
   },
   {
    "duration": 22,
    "start_time": "2024-09-18T09:52:34.001Z"
   },
   {
    "duration": 26,
    "start_time": "2024-09-18T09:52:54.960Z"
   },
   {
    "duration": 22,
    "start_time": "2024-09-18T09:53:23.496Z"
   },
   {
    "duration": 7,
    "start_time": "2024-09-18T09:54:09.385Z"
   },
   {
    "duration": 37,
    "start_time": "2024-09-18T09:54:28.890Z"
   },
   {
    "duration": 649,
    "start_time": "2024-09-18T10:01:15.765Z"
   },
   {
    "duration": 535,
    "start_time": "2024-09-18T10:01:40.437Z"
   },
   {
    "duration": 34,
    "start_time": "2024-09-18T10:01:53.205Z"
   },
   {
    "duration": 60,
    "start_time": "2024-09-18T10:04:12.886Z"
   },
   {
    "duration": 36,
    "start_time": "2024-09-18T10:04:17.054Z"
   },
   {
    "duration": 63,
    "start_time": "2024-09-18T10:05:23.656Z"
   },
   {
    "duration": 3,
    "start_time": "2024-09-18T10:06:17.428Z"
   },
   {
    "duration": 190,
    "start_time": "2024-09-18T10:06:17.434Z"
   },
   {
    "duration": 3,
    "start_time": "2024-09-18T10:06:17.625Z"
   },
   {
    "duration": 71,
    "start_time": "2024-09-18T10:06:17.630Z"
   },
   {
    "duration": 142,
    "start_time": "2024-09-18T10:06:17.714Z"
   },
   {
    "duration": 4,
    "start_time": "2024-09-18T10:06:17.857Z"
   },
   {
    "duration": 11,
    "start_time": "2024-09-18T10:06:17.863Z"
   },
   {
    "duration": 45,
    "start_time": "2024-09-18T10:06:17.876Z"
   },
   {
    "duration": 35,
    "start_time": "2024-09-18T10:06:17.922Z"
   },
   {
    "duration": 10937,
    "start_time": "2024-09-18T10:06:17.959Z"
   },
   {
    "duration": 54,
    "start_time": "2024-09-18T10:08:42.529Z"
   },
   {
    "duration": 33,
    "start_time": "2024-09-18T10:08:52.545Z"
   },
   {
    "duration": 38,
    "start_time": "2024-09-18T10:08:58.351Z"
   },
   {
    "duration": 36,
    "start_time": "2024-09-18T10:09:25.776Z"
   },
   {
    "duration": 252,
    "start_time": "2024-09-18T10:10:40.721Z"
   },
   {
    "duration": 213,
    "start_time": "2024-09-18T10:11:16.898Z"
   },
   {
    "duration": 11,
    "start_time": "2024-09-18T10:14:00.988Z"
   },
   {
    "duration": 119,
    "start_time": "2024-09-18T10:14:51.849Z"
   },
   {
    "duration": 10,
    "start_time": "2024-09-18T10:15:04.110Z"
   },
   {
    "duration": 36,
    "start_time": "2024-09-18T10:15:14.972Z"
   },
   {
    "duration": 21,
    "start_time": "2024-09-18T10:15:19.539Z"
   },
   {
    "duration": 194,
    "start_time": "2024-09-18T10:15:31.259Z"
   },
   {
    "duration": 216,
    "start_time": "2024-09-18T10:15:53.805Z"
   },
   {
    "duration": 243,
    "start_time": "2024-09-18T10:16:54.429Z"
   },
   {
    "duration": 216,
    "start_time": "2024-09-18T10:20:34.574Z"
   },
   {
    "duration": 202,
    "start_time": "2024-09-18T10:26:45.710Z"
   },
   {
    "duration": 281,
    "start_time": "2024-09-18T10:27:16.230Z"
   },
   {
    "duration": 188,
    "start_time": "2024-09-18T10:27:29.575Z"
   },
   {
    "duration": 9,
    "start_time": "2024-09-18T10:34:32.545Z"
   },
   {
    "duration": 147,
    "start_time": "2024-09-18T10:34:45.489Z"
   },
   {
    "duration": 209,
    "start_time": "2024-09-18T10:36:16.209Z"
   },
   {
    "duration": 219,
    "start_time": "2024-09-18T10:36:57.289Z"
   },
   {
    "duration": 214,
    "start_time": "2024-09-18T10:37:22.217Z"
   },
   {
    "duration": 288,
    "start_time": "2024-09-18T10:37:31.137Z"
   },
   {
    "duration": 3,
    "start_time": "2024-09-18T10:40:51.179Z"
   },
   {
    "duration": 151,
    "start_time": "2024-09-18T10:42:20.996Z"
   },
   {
    "duration": 262,
    "start_time": "2024-09-18T10:42:46.956Z"
   },
   {
    "duration": 255,
    "start_time": "2024-09-18T10:43:06.715Z"
   },
   {
    "duration": 257,
    "start_time": "2024-09-18T10:43:16.220Z"
   },
   {
    "duration": 230,
    "start_time": "2024-09-18T10:43:25.499Z"
   },
   {
    "duration": 273,
    "start_time": "2024-09-18T10:44:07.180Z"
   },
   {
    "duration": 250,
    "start_time": "2024-09-18T10:44:51.524Z"
   },
   {
    "duration": 264,
    "start_time": "2024-09-18T10:44:59.061Z"
   },
   {
    "duration": 242,
    "start_time": "2024-09-18T10:45:03.572Z"
   },
   {
    "duration": 251,
    "start_time": "2024-09-18T10:45:07.565Z"
   },
   {
    "duration": 34,
    "start_time": "2024-09-18T10:49:37.814Z"
   },
   {
    "duration": 319,
    "start_time": "2024-09-18T10:49:46.134Z"
   },
   {
    "duration": 262,
    "start_time": "2024-09-18T10:50:02.479Z"
   },
   {
    "duration": 201,
    "start_time": "2024-09-18T10:51:00.791Z"
   },
   {
    "duration": 10,
    "start_time": "2024-09-18T10:51:51.591Z"
   },
   {
    "duration": 33,
    "start_time": "2024-09-18T10:54:22.320Z"
   },
   {
    "duration": 14,
    "start_time": "2024-09-18T10:55:10.937Z"
   },
   {
    "duration": 13,
    "start_time": "2024-09-18T10:55:25.401Z"
   },
   {
    "duration": 13,
    "start_time": "2024-09-18T10:55:31.760Z"
   },
   {
    "duration": 17,
    "start_time": "2024-09-18T10:55:50.401Z"
   },
   {
    "duration": 14,
    "start_time": "2024-09-18T10:55:57.593Z"
   },
   {
    "duration": 11,
    "start_time": "2024-09-18T10:56:03.993Z"
   },
   {
    "duration": 201,
    "start_time": "2024-09-18T10:56:16.177Z"
   },
   {
    "duration": 26,
    "start_time": "2024-09-18T10:57:19.699Z"
   },
   {
    "duration": 16,
    "start_time": "2024-09-18T11:00:33.772Z"
   },
   {
    "duration": 214,
    "start_time": "2024-09-18T11:00:47.068Z"
   },
   {
    "duration": 62,
    "start_time": "2024-09-18T11:02:02.327Z"
   },
   {
    "duration": 26,
    "start_time": "2024-09-18T11:02:08.245Z"
   },
   {
    "duration": 44,
    "start_time": "2024-09-18T11:02:45.293Z"
   },
   {
    "duration": 26,
    "start_time": "2024-09-18T11:02:55.613Z"
   },
   {
    "duration": 7,
    "start_time": "2024-09-18T11:04:06.870Z"
   },
   {
    "duration": 29,
    "start_time": "2024-09-18T11:04:29.285Z"
   },
   {
    "duration": 8,
    "start_time": "2024-09-18T11:04:53.557Z"
   },
   {
    "duration": 6,
    "start_time": "2024-09-18T11:05:00.494Z"
   },
   {
    "duration": 3,
    "start_time": "2024-09-18T11:05:09.418Z"
   },
   {
    "duration": 183,
    "start_time": "2024-09-18T11:05:09.423Z"
   },
   {
    "duration": 6,
    "start_time": "2024-09-18T11:05:09.608Z"
   },
   {
    "duration": 71,
    "start_time": "2024-09-18T11:05:09.616Z"
   },
   {
    "duration": 140,
    "start_time": "2024-09-18T11:05:09.689Z"
   },
   {
    "duration": 26,
    "start_time": "2024-09-18T11:05:09.831Z"
   },
   {
    "duration": 58,
    "start_time": "2024-09-18T11:05:09.859Z"
   },
   {
    "duration": 65,
    "start_time": "2024-09-18T11:05:09.919Z"
   },
   {
    "duration": 10,
    "start_time": "2024-09-18T11:05:09.987Z"
   },
   {
    "duration": 34,
    "start_time": "2024-09-18T11:05:09.999Z"
   },
   {
    "duration": 33,
    "start_time": "2024-09-18T11:05:10.035Z"
   },
   {
    "duration": 22,
    "start_time": "2024-09-18T11:05:10.069Z"
   },
   {
    "duration": 223,
    "start_time": "2024-09-18T11:05:10.092Z"
   },
   {
    "duration": 248,
    "start_time": "2024-09-18T11:05:10.317Z"
   },
   {
    "duration": 31,
    "start_time": "2024-09-18T11:05:10.567Z"
   },
   {
    "duration": 54,
    "start_time": "2024-09-18T11:05:10.613Z"
   },
   {
    "duration": 10,
    "start_time": "2024-09-18T11:05:10.669Z"
   },
   {
    "duration": 45,
    "start_time": "2024-09-18T11:06:47.271Z"
   },
   {
    "duration": 27,
    "start_time": "2024-09-18T11:07:04.751Z"
   },
   {
    "duration": 28,
    "start_time": "2024-09-18T11:07:12.983Z"
   },
   {
    "duration": 18,
    "start_time": "2024-09-18T11:09:05.648Z"
   },
   {
    "duration": 5,
    "start_time": "2024-09-18T11:09:12.488Z"
   },
   {
    "duration": 3,
    "start_time": "2024-09-18T11:09:45.428Z"
   },
   {
    "duration": 209,
    "start_time": "2024-09-18T11:09:45.433Z"
   },
   {
    "duration": 4,
    "start_time": "2024-09-18T11:09:45.644Z"
   },
   {
    "duration": 85,
    "start_time": "2024-09-18T11:09:45.650Z"
   },
   {
    "duration": 153,
    "start_time": "2024-09-18T11:09:45.737Z"
   },
   {
    "duration": 32,
    "start_time": "2024-09-18T11:09:45.892Z"
   },
   {
    "duration": 61,
    "start_time": "2024-09-18T11:09:45.926Z"
   },
   {
    "duration": 4,
    "start_time": "2024-09-18T11:09:45.988Z"
   },
   {
    "duration": 25,
    "start_time": "2024-09-18T11:09:45.993Z"
   },
   {
    "duration": 34,
    "start_time": "2024-09-18T11:09:46.020Z"
   },
   {
    "duration": 38,
    "start_time": "2024-09-18T11:09:46.055Z"
   },
   {
    "duration": 39,
    "start_time": "2024-09-18T11:09:46.094Z"
   },
   {
    "duration": 224,
    "start_time": "2024-09-18T11:09:46.134Z"
   },
   {
    "duration": 256,
    "start_time": "2024-09-18T11:09:46.360Z"
   },
   {
    "duration": 32,
    "start_time": "2024-09-18T11:09:46.618Z"
   },
   {
    "duration": 52,
    "start_time": "2024-09-18T11:09:46.651Z"
   },
   {
    "duration": 27,
    "start_time": "2024-09-18T11:09:46.704Z"
   },
   {
    "duration": 26,
    "start_time": "2024-09-18T11:09:46.733Z"
   },
   {
    "duration": 12,
    "start_time": "2024-09-18T11:11:09.089Z"
   },
   {
    "duration": 15,
    "start_time": "2024-09-18T11:12:12.561Z"
   },
   {
    "duration": 19,
    "start_time": "2024-09-18T11:12:27.449Z"
   },
   {
    "duration": 36,
    "start_time": "2024-09-18T11:13:34.346Z"
   },
   {
    "duration": 28,
    "start_time": "2024-09-18T11:13:54.570Z"
   },
   {
    "duration": 34,
    "start_time": "2024-09-18T11:14:08.443Z"
   },
   {
    "duration": 45,
    "start_time": "2024-09-18T11:14:27.283Z"
   },
   {
    "duration": 15,
    "start_time": "2024-09-18T11:16:06.859Z"
   },
   {
    "duration": 7,
    "start_time": "2024-09-18T11:16:09.059Z"
   },
   {
    "duration": 13,
    "start_time": "2024-09-18T11:16:22.099Z"
   },
   {
    "duration": 15,
    "start_time": "2024-09-18T11:16:29.812Z"
   },
   {
    "duration": 71,
    "start_time": "2024-09-18T11:17:43.148Z"
   },
   {
    "duration": 269,
    "start_time": "2024-09-18T11:42:05.400Z"
   },
   {
    "duration": 563,
    "start_time": "2024-09-18T11:42:17.287Z"
   },
   {
    "duration": 67,
    "start_time": "2024-09-18T11:42:28.295Z"
   },
   {
    "duration": 66,
    "start_time": "2024-09-18T11:42:39.023Z"
   },
   {
    "duration": 298,
    "start_time": "2024-09-18T11:43:05.784Z"
   },
   {
    "duration": 70,
    "start_time": "2024-09-18T11:43:15.000Z"
   },
   {
    "duration": 9,
    "start_time": "2024-09-18T11:45:36.050Z"
   },
   {
    "duration": 64,
    "start_time": "2024-09-18T11:45:39.362Z"
   },
   {
    "duration": 12,
    "start_time": "2024-09-18T11:45:41.329Z"
   },
   {
    "duration": 10,
    "start_time": "2024-09-18T11:47:02.763Z"
   },
   {
    "duration": 10,
    "start_time": "2024-09-18T11:47:31.563Z"
   },
   {
    "duration": 10,
    "start_time": "2024-09-18T11:47:36.458Z"
   },
   {
    "duration": 10,
    "start_time": "2024-09-18T11:47:41.810Z"
   },
   {
    "duration": 15,
    "start_time": "2024-09-18T11:48:42.499Z"
   },
   {
    "duration": 10,
    "start_time": "2024-09-18T11:48:56.122Z"
   },
   {
    "duration": 4,
    "start_time": "2024-09-18T11:57:49.255Z"
   },
   {
    "duration": 10,
    "start_time": "2024-09-18T11:58:20.439Z"
   },
   {
    "duration": 3,
    "start_time": "2024-09-18T11:58:30.004Z"
   },
   {
    "duration": 354,
    "start_time": "2024-09-18T11:58:30.009Z"
   },
   {
    "duration": 4,
    "start_time": "2024-09-18T11:58:30.364Z"
   },
   {
    "duration": 112,
    "start_time": "2024-09-18T11:58:30.370Z"
   },
   {
    "duration": 134,
    "start_time": "2024-09-18T11:58:30.484Z"
   },
   {
    "duration": 26,
    "start_time": "2024-09-18T11:58:30.620Z"
   },
   {
    "duration": 16,
    "start_time": "2024-09-18T11:58:30.647Z"
   },
   {
    "duration": 36,
    "start_time": "2024-09-18T11:58:30.665Z"
   },
   {
    "duration": 21,
    "start_time": "2024-09-18T11:58:30.704Z"
   },
   {
    "duration": 53,
    "start_time": "2024-09-18T11:58:30.726Z"
   },
   {
    "duration": 37,
    "start_time": "2024-09-18T11:58:30.780Z"
   },
   {
    "duration": 25,
    "start_time": "2024-09-18T11:58:30.818Z"
   },
   {
    "duration": 233,
    "start_time": "2024-09-18T11:58:30.844Z"
   },
   {
    "duration": 258,
    "start_time": "2024-09-18T11:58:31.079Z"
   },
   {
    "duration": 38,
    "start_time": "2024-09-18T11:58:31.339Z"
   },
   {
    "duration": 60,
    "start_time": "2024-09-18T11:58:31.379Z"
   },
   {
    "duration": 13,
    "start_time": "2024-09-18T11:58:31.440Z"
   },
   {
    "duration": 6,
    "start_time": "2024-09-18T11:58:31.455Z"
   },
   {
    "duration": 36,
    "start_time": "2024-09-18T11:58:31.462Z"
   },
   {
    "duration": 114,
    "start_time": "2024-09-18T11:58:31.514Z"
   },
   {
    "duration": 71,
    "start_time": "2024-09-18T11:58:31.630Z"
   },
   {
    "duration": 21,
    "start_time": "2024-09-18T11:58:31.702Z"
   },
   {
    "duration": 19,
    "start_time": "2024-09-18T11:58:31.725Z"
   },
   {
    "duration": 64,
    "start_time": "2024-09-18T12:04:58.290Z"
   },
   {
    "duration": 756,
    "start_time": "2024-09-18T12:05:29.418Z"
   },
   {
    "duration": 752,
    "start_time": "2024-09-18T12:05:43.978Z"
   },
   {
    "duration": 13,
    "start_time": "2024-09-18T12:05:54.467Z"
   },
   {
    "duration": 12,
    "start_time": "2024-09-18T12:06:10.571Z"
   },
   {
    "duration": 11,
    "start_time": "2024-09-18T12:06:33.963Z"
   },
   {
    "duration": 13,
    "start_time": "2024-09-18T12:06:46.003Z"
   },
   {
    "duration": 13,
    "start_time": "2024-09-18T12:06:56.611Z"
   },
   {
    "duration": 19,
    "start_time": "2024-09-18T12:07:37.276Z"
   },
   {
    "duration": 5,
    "start_time": "2024-09-18T12:12:08.901Z"
   },
   {
    "duration": 5,
    "start_time": "2024-09-18T12:12:12.926Z"
   },
   {
    "duration": 4,
    "start_time": "2024-09-18T12:12:36.062Z"
   },
   {
    "duration": 5,
    "start_time": "2024-09-18T12:12:59.814Z"
   },
   {
    "duration": 5,
    "start_time": "2024-09-18T12:13:29.869Z"
   },
   {
    "duration": 5,
    "start_time": "2024-09-18T12:13:47.406Z"
   },
   {
    "duration": 41,
    "start_time": "2024-09-18T12:16:02.135Z"
   },
   {
    "duration": 20,
    "start_time": "2024-09-18T12:29:29.678Z"
   },
   {
    "duration": 23,
    "start_time": "2024-09-18T12:29:53.718Z"
   },
   {
    "duration": 10,
    "start_time": "2024-09-18T12:30:07.966Z"
   },
   {
    "duration": 18,
    "start_time": "2024-09-18T12:30:13.182Z"
   },
   {
    "duration": 27,
    "start_time": "2024-09-18T12:30:20.918Z"
   },
   {
    "duration": 31,
    "start_time": "2024-09-18T12:30:36.622Z"
   },
   {
    "duration": 32,
    "start_time": "2024-09-18T12:31:16.326Z"
   },
   {
    "duration": 18,
    "start_time": "2024-09-18T12:36:00.393Z"
   },
   {
    "duration": 795,
    "start_time": "2024-09-18T12:36:31.681Z"
   },
   {
    "duration": 859,
    "start_time": "2024-09-18T12:36:56.899Z"
   },
   {
    "duration": 788,
    "start_time": "2024-09-18T12:37:41.162Z"
   },
   {
    "duration": 792,
    "start_time": "2024-09-18T12:38:09.611Z"
   },
   {
    "duration": 776,
    "start_time": "2024-09-18T12:38:17.362Z"
   },
   {
    "duration": 3730,
    "start_time": "2024-09-18T12:38:22.706Z"
   },
   {
    "duration": 849,
    "start_time": "2024-09-18T12:38:26.787Z"
   },
   {
    "duration": 41,
    "start_time": "2024-09-18T12:38:33.554Z"
   },
   {
    "duration": 730,
    "start_time": "2024-09-18T12:39:03.675Z"
   },
   {
    "duration": 40,
    "start_time": "2024-09-18T12:39:19.875Z"
   },
   {
    "duration": 41,
    "start_time": "2024-09-18T12:42:27.389Z"
   },
   {
    "duration": 777,
    "start_time": "2024-09-18T12:42:53.061Z"
   },
   {
    "duration": 827,
    "start_time": "2024-09-18T12:43:00.733Z"
   },
   {
    "duration": 796,
    "start_time": "2024-09-18T12:43:18.878Z"
   },
   {
    "duration": 1359,
    "start_time": "2024-09-19T05:02:38.472Z"
   },
   {
    "duration": 785,
    "start_time": "2024-09-19T05:02:39.833Z"
   },
   {
    "duration": 4,
    "start_time": "2024-09-19T05:02:40.620Z"
   },
   {
    "duration": 106,
    "start_time": "2024-09-19T05:02:40.626Z"
   },
   {
    "duration": 184,
    "start_time": "2024-09-19T05:02:40.736Z"
   },
   {
    "duration": 28,
    "start_time": "2024-09-19T05:02:40.922Z"
   },
   {
    "duration": 19,
    "start_time": "2024-09-19T05:02:40.952Z"
   },
   {
    "duration": 5,
    "start_time": "2024-09-19T05:02:40.973Z"
   },
   {
    "duration": 12,
    "start_time": "2024-09-19T05:02:40.980Z"
   },
   {
    "duration": 33,
    "start_time": "2024-09-19T05:02:40.995Z"
   },
   {
    "duration": 59,
    "start_time": "2024-09-19T05:02:41.030Z"
   },
   {
    "duration": 39,
    "start_time": "2024-09-19T05:02:41.091Z"
   },
   {
    "duration": 348,
    "start_time": "2024-09-19T05:02:41.132Z"
   },
   {
    "duration": 241,
    "start_time": "2024-09-19T05:02:41.481Z"
   },
   {
    "duration": 29,
    "start_time": "2024-09-19T05:02:41.723Z"
   },
   {
    "duration": 64,
    "start_time": "2024-09-19T05:02:41.754Z"
   },
   {
    "duration": 14,
    "start_time": "2024-09-19T05:02:41.820Z"
   },
   {
    "duration": 11,
    "start_time": "2024-09-19T05:02:41.836Z"
   },
   {
    "duration": 32,
    "start_time": "2024-09-19T05:02:41.864Z"
   },
   {
    "duration": 64,
    "start_time": "2024-09-19T05:02:41.897Z"
   },
   {
    "duration": 70,
    "start_time": "2024-09-19T05:02:41.964Z"
   },
   {
    "duration": 10,
    "start_time": "2024-09-19T05:02:42.036Z"
   },
   {
    "duration": 19,
    "start_time": "2024-09-19T05:02:42.047Z"
   },
   {
    "duration": 15,
    "start_time": "2024-09-19T05:02:42.068Z"
   },
   {
    "duration": 4,
    "start_time": "2024-09-19T05:02:42.084Z"
   },
   {
    "duration": 53,
    "start_time": "2024-09-19T05:02:42.090Z"
   },
   {
    "duration": 47,
    "start_time": "2024-09-19T05:03:12.105Z"
   },
   {
    "duration": 10,
    "start_time": "2024-09-19T05:04:15.376Z"
   },
   {
    "duration": 20,
    "start_time": "2024-09-19T05:04:20.096Z"
   },
   {
    "duration": 16,
    "start_time": "2024-09-19T05:04:34.305Z"
   },
   {
    "duration": 5,
    "start_time": "2024-09-19T05:05:52.057Z"
   },
   {
    "duration": 13,
    "start_time": "2024-09-19T05:05:56.849Z"
   },
   {
    "duration": 29,
    "start_time": "2024-09-19T05:06:38.466Z"
   },
   {
    "duration": 1338,
    "start_time": "2024-09-19T05:07:08.234Z"
   },
   {
    "duration": 1244,
    "start_time": "2024-09-19T05:07:12.642Z"
   },
   {
    "duration": 27,
    "start_time": "2024-09-19T05:07:22.578Z"
   },
   {
    "duration": 25,
    "start_time": "2024-09-19T05:07:50.394Z"
   },
   {
    "duration": 25,
    "start_time": "2024-09-19T05:08:05.539Z"
   },
   {
    "duration": 26,
    "start_time": "2024-09-19T05:08:13.322Z"
   },
   {
    "duration": 32,
    "start_time": "2024-09-19T05:08:17.131Z"
   },
   {
    "duration": 32,
    "start_time": "2024-09-19T05:14:53.045Z"
   },
   {
    "duration": 56,
    "start_time": "2024-09-19T05:15:10.558Z"
   },
   {
    "duration": 101,
    "start_time": "2024-09-19T05:15:10.717Z"
   },
   {
    "duration": 48,
    "start_time": "2024-09-19T05:16:52.543Z"
   },
   {
    "duration": 1214,
    "start_time": "2024-09-19T05:17:10.159Z"
   },
   {
    "duration": 1146,
    "start_time": "2024-09-19T05:17:36.623Z"
   },
   {
    "duration": 82,
    "start_time": "2024-09-19T05:17:59.079Z"
   },
   {
    "duration": 1483,
    "start_time": "2024-09-19T05:18:27.223Z"
   },
   {
    "duration": 83,
    "start_time": "2024-09-19T05:20:07.720Z"
   },
   {
    "duration": 1123,
    "start_time": "2024-09-19T05:21:07.992Z"
   },
   {
    "duration": 46,
    "start_time": "2024-09-19T05:21:14.449Z"
   },
   {
    "duration": 47,
    "start_time": "2024-09-19T05:21:23.152Z"
   },
   {
    "duration": 1187,
    "start_time": "2024-09-19T05:21:28.281Z"
   },
   {
    "duration": 52,
    "start_time": "2024-09-19T05:21:32.369Z"
   },
   {
    "duration": 1213,
    "start_time": "2024-09-19T05:21:43.208Z"
   },
   {
    "duration": 46,
    "start_time": "2024-09-19T05:21:46.937Z"
   },
   {
    "duration": 45,
    "start_time": "2024-09-19T05:22:43.321Z"
   },
   {
    "duration": 56,
    "start_time": "2024-09-19T05:22:49.321Z"
   },
   {
    "duration": 98,
    "start_time": "2024-09-19T05:23:00.826Z"
   },
   {
    "duration": 88,
    "start_time": "2024-09-19T05:24:13.507Z"
   },
   {
    "duration": 3,
    "start_time": "2024-09-19T05:24:21.831Z"
   },
   {
    "duration": 206,
    "start_time": "2024-09-19T05:24:21.837Z"
   },
   {
    "duration": 3,
    "start_time": "2024-09-19T05:24:22.045Z"
   },
   {
    "duration": 80,
    "start_time": "2024-09-19T05:24:22.050Z"
   },
   {
    "duration": 158,
    "start_time": "2024-09-19T05:24:22.132Z"
   },
   {
    "duration": 26,
    "start_time": "2024-09-19T05:24:22.292Z"
   },
   {
    "duration": 16,
    "start_time": "2024-09-19T05:24:22.320Z"
   },
   {
    "duration": 4,
    "start_time": "2024-09-19T05:24:22.338Z"
   },
   {
    "duration": 23,
    "start_time": "2024-09-19T05:24:22.343Z"
   },
   {
    "duration": 35,
    "start_time": "2024-09-19T05:24:22.369Z"
   },
   {
    "duration": 35,
    "start_time": "2024-09-19T05:24:22.406Z"
   },
   {
    "duration": 38,
    "start_time": "2024-09-19T05:24:22.465Z"
   },
   {
    "duration": 224,
    "start_time": "2024-09-19T05:24:22.504Z"
   },
   {
    "duration": 250,
    "start_time": "2024-09-19T05:24:22.730Z"
   },
   {
    "duration": 31,
    "start_time": "2024-09-19T05:24:22.982Z"
   },
   {
    "duration": 65,
    "start_time": "2024-09-19T05:24:23.015Z"
   },
   {
    "duration": 14,
    "start_time": "2024-09-19T05:24:23.081Z"
   },
   {
    "duration": 19,
    "start_time": "2024-09-19T05:24:23.096Z"
   },
   {
    "duration": 36,
    "start_time": "2024-09-19T05:24:23.117Z"
   },
   {
    "duration": 82,
    "start_time": "2024-09-19T05:24:23.155Z"
   },
   {
    "duration": 10,
    "start_time": "2024-09-19T05:24:23.239Z"
   },
   {
    "duration": 36,
    "start_time": "2024-09-19T05:24:23.250Z"
   },
   {
    "duration": 25,
    "start_time": "2024-09-19T05:24:23.288Z"
   },
   {
    "duration": 32,
    "start_time": "2024-09-19T05:24:23.314Z"
   },
   {
    "duration": 36,
    "start_time": "2024-09-19T05:24:24.924Z"
   },
   {
    "duration": 80,
    "start_time": "2024-09-19T05:24:26.844Z"
   },
   {
    "duration": 78,
    "start_time": "2024-09-19T05:24:36.666Z"
   },
   {
    "duration": 90,
    "start_time": "2024-09-19T05:26:15.307Z"
   },
   {
    "duration": 5,
    "start_time": "2024-09-19T05:27:26.707Z"
   },
   {
    "duration": 1179,
    "start_time": "2024-09-19T05:27:36.435Z"
   },
   {
    "duration": 6,
    "start_time": "2024-09-19T05:28:07.355Z"
   },
   {
    "duration": 6,
    "start_time": "2024-09-19T05:28:26.963Z"
   },
   {
    "duration": 5,
    "start_time": "2024-09-19T05:35:48.065Z"
   },
   {
    "duration": 5,
    "start_time": "2024-09-19T05:35:48.834Z"
   },
   {
    "duration": 1234,
    "start_time": "2024-09-19T05:36:01.183Z"
   },
   {
    "duration": 8,
    "start_time": "2024-09-19T05:37:42.562Z"
   },
   {
    "duration": 1180,
    "start_time": "2024-09-19T05:37:45.224Z"
   },
   {
    "duration": 1204,
    "start_time": "2024-09-19T05:38:29.713Z"
   },
   {
    "duration": 81,
    "start_time": "2024-09-19T05:39:14.946Z"
   },
   {
    "duration": 3,
    "start_time": "2024-09-19T05:39:55.103Z"
   },
   {
    "duration": 206,
    "start_time": "2024-09-19T05:39:55.108Z"
   },
   {
    "duration": 3,
    "start_time": "2024-09-19T05:39:55.316Z"
   },
   {
    "duration": 79,
    "start_time": "2024-09-19T05:39:55.321Z"
   },
   {
    "duration": 139,
    "start_time": "2024-09-19T05:39:55.402Z"
   },
   {
    "duration": 33,
    "start_time": "2024-09-19T05:39:55.543Z"
   },
   {
    "duration": 6,
    "start_time": "2024-09-19T05:39:55.578Z"
   },
   {
    "duration": 4,
    "start_time": "2024-09-19T05:39:55.585Z"
   },
   {
    "duration": 11,
    "start_time": "2024-09-19T05:39:55.591Z"
   },
   {
    "duration": 29,
    "start_time": "2024-09-19T05:39:55.604Z"
   },
   {
    "duration": 62,
    "start_time": "2024-09-19T05:39:55.635Z"
   },
   {
    "duration": 30,
    "start_time": "2024-09-19T05:39:55.698Z"
   },
   {
    "duration": 257,
    "start_time": "2024-09-19T05:39:55.729Z"
   },
   {
    "duration": 254,
    "start_time": "2024-09-19T05:39:55.987Z"
   },
   {
    "duration": 36,
    "start_time": "2024-09-19T05:39:56.243Z"
   },
   {
    "duration": 47,
    "start_time": "2024-09-19T05:39:56.281Z"
   },
   {
    "duration": 13,
    "start_time": "2024-09-19T05:39:56.330Z"
   },
   {
    "duration": 25,
    "start_time": "2024-09-19T05:39:56.345Z"
   },
   {
    "duration": 25,
    "start_time": "2024-09-19T05:39:56.372Z"
   },
   {
    "duration": 78,
    "start_time": "2024-09-19T05:39:56.399Z"
   },
   {
    "duration": 10,
    "start_time": "2024-09-19T05:39:56.479Z"
   },
   {
    "duration": 6,
    "start_time": "2024-09-19T05:39:56.490Z"
   },
   {
    "duration": 115,
    "start_time": "2024-09-19T05:39:56.498Z"
   },
   {
    "duration": 4,
    "start_time": "2024-09-19T05:39:56.616Z"
   },
   {
    "duration": 58,
    "start_time": "2024-09-19T05:39:56.621Z"
   },
   {
    "duration": 68,
    "start_time": "2024-09-19T05:39:56.681Z"
   },
   {
    "duration": 1145,
    "start_time": "2024-09-19T05:39:56.751Z"
   },
   {
    "duration": 0,
    "start_time": "2024-09-19T05:39:57.898Z"
   },
   {
    "duration": 6,
    "start_time": "2024-09-19T05:40:12.338Z"
   },
   {
    "duration": 42,
    "start_time": "2024-09-19T05:40:26.034Z"
   },
   {
    "duration": 67,
    "start_time": "2024-09-19T05:40:26.977Z"
   },
   {
    "duration": 7,
    "start_time": "2024-09-19T05:40:27.618Z"
   },
   {
    "duration": 5,
    "start_time": "2024-09-19T05:40:30.482Z"
   },
   {
    "duration": 5,
    "start_time": "2024-09-19T05:40:31.042Z"
   },
   {
    "duration": 1123,
    "start_time": "2024-09-19T05:40:33.833Z"
   },
   {
    "duration": 1144,
    "start_time": "2024-09-19T05:40:49.978Z"
   },
   {
    "duration": 8,
    "start_time": "2024-09-19T05:41:38.378Z"
   },
   {
    "duration": 6,
    "start_time": "2024-09-19T05:42:03.475Z"
   },
   {
    "duration": 1383,
    "start_time": "2024-09-19T05:42:17.842Z"
   },
   {
    "duration": 3,
    "start_time": "2024-09-19T05:42:36.695Z"
   },
   {
    "duration": 181,
    "start_time": "2024-09-19T05:42:36.700Z"
   },
   {
    "duration": 4,
    "start_time": "2024-09-19T05:42:36.882Z"
   },
   {
    "duration": 83,
    "start_time": "2024-09-19T05:42:36.887Z"
   },
   {
    "duration": 136,
    "start_time": "2024-09-19T05:42:36.972Z"
   },
   {
    "duration": 26,
    "start_time": "2024-09-19T05:42:37.110Z"
   },
   {
    "duration": 29,
    "start_time": "2024-09-19T05:42:37.138Z"
   },
   {
    "duration": 57,
    "start_time": "2024-09-19T05:42:37.169Z"
   },
   {
    "duration": 41,
    "start_time": "2024-09-19T05:42:37.228Z"
   },
   {
    "duration": 77,
    "start_time": "2024-09-19T05:42:37.271Z"
   },
   {
    "duration": 49,
    "start_time": "2024-09-19T05:42:37.350Z"
   },
   {
    "duration": 28,
    "start_time": "2024-09-19T05:42:37.401Z"
   },
   {
    "duration": 234,
    "start_time": "2024-09-19T05:42:37.431Z"
   },
   {
    "duration": 262,
    "start_time": "2024-09-19T05:42:37.667Z"
   },
   {
    "duration": 42,
    "start_time": "2024-09-19T05:42:37.930Z"
   },
   {
    "duration": 57,
    "start_time": "2024-09-19T05:42:37.973Z"
   },
   {
    "duration": 15,
    "start_time": "2024-09-19T05:42:38.031Z"
   },
   {
    "duration": 7,
    "start_time": "2024-09-19T05:42:38.065Z"
   },
   {
    "duration": 32,
    "start_time": "2024-09-19T05:42:38.073Z"
   },
   {
    "duration": 72,
    "start_time": "2024-09-19T05:42:38.107Z"
   },
   {
    "duration": 11,
    "start_time": "2024-09-19T05:42:38.180Z"
   },
   {
    "duration": 3,
    "start_time": "2024-09-19T05:42:38.193Z"
   },
   {
    "duration": 18,
    "start_time": "2024-09-19T05:42:38.198Z"
   },
   {
    "duration": 5,
    "start_time": "2024-09-19T05:42:38.218Z"
   },
   {
    "duration": 72,
    "start_time": "2024-09-19T05:42:38.225Z"
   },
   {
    "duration": 87,
    "start_time": "2024-09-19T05:42:38.299Z"
   },
   {
    "duration": 5,
    "start_time": "2024-09-19T05:42:38.387Z"
   },
   {
    "duration": 6,
    "start_time": "2024-09-19T05:42:38.395Z"
   },
   {
    "duration": 5,
    "start_time": "2024-09-19T05:42:41.196Z"
   },
   {
    "duration": 5,
    "start_time": "2024-09-19T05:42:42.573Z"
   },
   {
    "duration": 7,
    "start_time": "2024-09-19T05:42:43.124Z"
   },
   {
    "duration": 1110,
    "start_time": "2024-09-19T05:42:44.436Z"
   },
   {
    "duration": 1546,
    "start_time": "2024-09-19T05:43:10.260Z"
   },
   {
    "duration": 4,
    "start_time": "2024-09-19T05:44:05.595Z"
   },
   {
    "duration": 5,
    "start_time": "2024-09-19T05:44:06.795Z"
   },
   {
    "duration": 12,
    "start_time": "2024-09-19T05:44:08.339Z"
   },
   {
    "duration": 5,
    "start_time": "2024-09-19T05:44:12.931Z"
   },
   {
    "duration": 15,
    "start_time": "2024-09-19T05:44:14.035Z"
   },
   {
    "duration": 3,
    "start_time": "2024-09-19T05:44:53.228Z"
   },
   {
    "duration": 5,
    "start_time": "2024-09-19T05:45:00.324Z"
   },
   {
    "duration": 17,
    "start_time": "2024-09-19T05:45:00.940Z"
   },
   {
    "duration": 5,
    "start_time": "2024-09-19T05:45:09.964Z"
   },
   {
    "duration": 5,
    "start_time": "2024-09-19T05:45:10.491Z"
   },
   {
    "duration": 22,
    "start_time": "2024-09-19T05:45:10.963Z"
   },
   {
    "duration": 5,
    "start_time": "2024-09-19T05:45:31.692Z"
   },
   {
    "duration": 5,
    "start_time": "2024-09-19T05:45:32.244Z"
   },
   {
    "duration": 11,
    "start_time": "2024-09-19T05:45:32.748Z"
   },
   {
    "duration": 5,
    "start_time": "2024-09-19T05:54:01.769Z"
   },
   {
    "duration": 6,
    "start_time": "2024-09-19T05:55:08.152Z"
   },
   {
    "duration": 6,
    "start_time": "2024-09-19T05:55:08.760Z"
   },
   {
    "duration": 9,
    "start_time": "2024-09-19T05:55:09.704Z"
   },
   {
    "duration": 3,
    "start_time": "2024-09-19T05:55:14.717Z"
   },
   {
    "duration": 188,
    "start_time": "2024-09-19T05:55:14.721Z"
   },
   {
    "duration": 4,
    "start_time": "2024-09-19T05:55:14.910Z"
   },
   {
    "duration": 75,
    "start_time": "2024-09-19T05:55:14.916Z"
   },
   {
    "duration": 145,
    "start_time": "2024-09-19T05:55:14.994Z"
   },
   {
    "duration": 29,
    "start_time": "2024-09-19T05:55:15.141Z"
   },
   {
    "duration": 30,
    "start_time": "2024-09-19T05:55:15.172Z"
   },
   {
    "duration": 18,
    "start_time": "2024-09-19T05:55:15.204Z"
   },
   {
    "duration": 23,
    "start_time": "2024-09-19T05:55:15.225Z"
   },
   {
    "duration": 46,
    "start_time": "2024-09-19T05:55:15.250Z"
   },
   {
    "duration": 34,
    "start_time": "2024-09-19T05:55:15.297Z"
   },
   {
    "duration": 59,
    "start_time": "2024-09-19T05:55:15.333Z"
   },
   {
    "duration": 234,
    "start_time": "2024-09-19T05:55:15.394Z"
   },
   {
    "duration": 264,
    "start_time": "2024-09-19T05:55:15.630Z"
   },
   {
    "duration": 33,
    "start_time": "2024-09-19T05:55:15.895Z"
   },
   {
    "duration": 57,
    "start_time": "2024-09-19T05:55:15.930Z"
   },
   {
    "duration": 12,
    "start_time": "2024-09-19T05:55:15.989Z"
   },
   {
    "duration": 15,
    "start_time": "2024-09-19T05:55:16.003Z"
   },
   {
    "duration": 27,
    "start_time": "2024-09-19T05:55:16.019Z"
   },
   {
    "duration": 60,
    "start_time": "2024-09-19T05:55:16.065Z"
   },
   {
    "duration": 10,
    "start_time": "2024-09-19T05:55:16.126Z"
   },
   {
    "duration": 9,
    "start_time": "2024-09-19T05:55:16.137Z"
   },
   {
    "duration": 27,
    "start_time": "2024-09-19T05:55:16.147Z"
   },
   {
    "duration": 5,
    "start_time": "2024-09-19T05:55:16.177Z"
   },
   {
    "duration": 57,
    "start_time": "2024-09-19T05:55:16.183Z"
   },
   {
    "duration": 80,
    "start_time": "2024-09-19T05:55:16.242Z"
   },
   {
    "duration": 6,
    "start_time": "2024-09-19T05:55:16.324Z"
   },
   {
    "duration": 13,
    "start_time": "2024-09-19T05:55:16.332Z"
   },
   {
    "duration": 6,
    "start_time": "2024-09-19T05:55:16.347Z"
   },
   {
    "duration": 13,
    "start_time": "2024-09-19T05:55:16.354Z"
   },
   {
    "duration": 19,
    "start_time": "2024-09-19T05:55:16.369Z"
   },
   {
    "duration": 9,
    "start_time": "2024-09-19T05:55:33.905Z"
   },
   {
    "duration": 5,
    "start_time": "2024-09-19T05:55:36.497Z"
   },
   {
    "duration": 10,
    "start_time": "2024-09-19T05:55:37.048Z"
   },
   {
    "duration": 4,
    "start_time": "2024-09-19T05:57:06.501Z"
   },
   {
    "duration": 197,
    "start_time": "2024-09-19T05:57:06.507Z"
   },
   {
    "duration": 5,
    "start_time": "2024-09-19T05:57:06.705Z"
   },
   {
    "duration": 81,
    "start_time": "2024-09-19T05:57:06.712Z"
   },
   {
    "duration": 145,
    "start_time": "2024-09-19T05:57:06.796Z"
   },
   {
    "duration": 41,
    "start_time": "2024-09-19T05:57:06.943Z"
   },
   {
    "duration": 28,
    "start_time": "2024-09-19T05:57:06.985Z"
   },
   {
    "duration": 16,
    "start_time": "2024-09-19T05:57:07.014Z"
   },
   {
    "duration": 9,
    "start_time": "2024-09-19T05:57:07.032Z"
   },
   {
    "duration": 34,
    "start_time": "2024-09-19T05:57:07.043Z"
   },
   {
    "duration": 35,
    "start_time": "2024-09-19T05:57:07.078Z"
   },
   {
    "duration": 27,
    "start_time": "2024-09-19T05:57:07.114Z"
   },
   {
    "duration": 215,
    "start_time": "2024-09-19T05:57:07.143Z"
   },
   {
    "duration": 248,
    "start_time": "2024-09-19T05:57:07.359Z"
   },
   {
    "duration": 30,
    "start_time": "2024-09-19T05:57:07.608Z"
   },
   {
    "duration": 69,
    "start_time": "2024-09-19T05:57:07.639Z"
   },
   {
    "duration": 13,
    "start_time": "2024-09-19T05:57:07.709Z"
   },
   {
    "duration": 7,
    "start_time": "2024-09-19T05:57:07.723Z"
   },
   {
    "duration": 40,
    "start_time": "2024-09-19T05:57:07.732Z"
   },
   {
    "duration": 91,
    "start_time": "2024-09-19T05:57:07.774Z"
   },
   {
    "duration": 11,
    "start_time": "2024-09-19T05:57:07.867Z"
   },
   {
    "duration": 42,
    "start_time": "2024-09-19T05:57:07.879Z"
   },
   {
    "duration": 16,
    "start_time": "2024-09-19T05:57:07.923Z"
   },
   {
    "duration": 22,
    "start_time": "2024-09-19T05:57:07.941Z"
   },
   {
    "duration": 42,
    "start_time": "2024-09-19T05:57:07.964Z"
   },
   {
    "duration": 79,
    "start_time": "2024-09-19T05:57:08.008Z"
   },
   {
    "duration": 8,
    "start_time": "2024-09-19T05:57:08.089Z"
   },
   {
    "duration": 31,
    "start_time": "2024-09-19T05:57:08.098Z"
   },
   {
    "duration": 17,
    "start_time": "2024-09-19T05:57:08.131Z"
   },
   {
    "duration": 9,
    "start_time": "2024-09-19T05:57:08.150Z"
   },
   {
    "duration": 24,
    "start_time": "2024-09-19T05:57:08.161Z"
   },
   {
    "duration": 7,
    "start_time": "2024-09-19T05:57:24.412Z"
   },
   {
    "duration": 9,
    "start_time": "2024-09-19T05:57:24.907Z"
   },
   {
    "duration": 5,
    "start_time": "2024-09-19T05:57:31.219Z"
   },
   {
    "duration": 5,
    "start_time": "2024-09-19T05:57:31.699Z"
   },
   {
    "duration": 11,
    "start_time": "2024-09-19T05:57:32.218Z"
   },
   {
    "duration": 4,
    "start_time": "2024-09-19T05:57:41.029Z"
   },
   {
    "duration": 204,
    "start_time": "2024-09-19T05:57:41.035Z"
   },
   {
    "duration": 5,
    "start_time": "2024-09-19T05:57:41.241Z"
   },
   {
    "duration": 92,
    "start_time": "2024-09-19T05:57:41.247Z"
   },
   {
    "duration": 150,
    "start_time": "2024-09-19T05:57:41.341Z"
   },
   {
    "duration": 27,
    "start_time": "2024-09-19T05:57:41.493Z"
   },
   {
    "duration": 8,
    "start_time": "2024-09-19T05:57:41.522Z"
   },
   {
    "duration": 4,
    "start_time": "2024-09-19T05:57:41.532Z"
   },
   {
    "duration": 10,
    "start_time": "2024-09-19T05:57:41.564Z"
   },
   {
    "duration": 29,
    "start_time": "2024-09-19T05:57:41.576Z"
   },
   {
    "duration": 60,
    "start_time": "2024-09-19T05:57:41.607Z"
   },
   {
    "duration": 33,
    "start_time": "2024-09-19T05:57:41.669Z"
   },
   {
    "duration": 224,
    "start_time": "2024-09-19T05:57:41.706Z"
   },
   {
    "duration": 251,
    "start_time": "2024-09-19T05:57:41.931Z"
   },
   {
    "duration": 31,
    "start_time": "2024-09-19T05:57:42.184Z"
   },
   {
    "duration": 58,
    "start_time": "2024-09-19T05:57:42.216Z"
   },
   {
    "duration": 13,
    "start_time": "2024-09-19T05:57:42.276Z"
   },
   {
    "duration": 7,
    "start_time": "2024-09-19T05:57:42.290Z"
   },
   {
    "duration": 25,
    "start_time": "2024-09-19T05:57:42.298Z"
   },
   {
    "duration": 92,
    "start_time": "2024-09-19T05:57:42.325Z"
   },
   {
    "duration": 9,
    "start_time": "2024-09-19T05:57:42.419Z"
   },
   {
    "duration": 3,
    "start_time": "2024-09-19T05:57:42.430Z"
   },
   {
    "duration": 13,
    "start_time": "2024-09-19T05:57:42.434Z"
   },
   {
    "duration": 6,
    "start_time": "2024-09-19T05:57:42.465Z"
   },
   {
    "duration": 37,
    "start_time": "2024-09-19T05:57:42.473Z"
   },
   {
    "duration": 88,
    "start_time": "2024-09-19T05:57:42.511Z"
   },
   {
    "duration": 6,
    "start_time": "2024-09-19T05:57:42.600Z"
   },
   {
    "duration": 6,
    "start_time": "2024-09-19T05:57:42.608Z"
   },
   {
    "duration": 5,
    "start_time": "2024-09-19T05:57:42.615Z"
   },
   {
    "duration": 6,
    "start_time": "2024-09-19T05:57:42.622Z"
   },
   {
    "duration": 40,
    "start_time": "2024-09-19T05:57:42.629Z"
   },
   {
    "duration": 3,
    "start_time": "2024-09-19T05:57:50.054Z"
   },
   {
    "duration": 201,
    "start_time": "2024-09-19T05:57:50.059Z"
   },
   {
    "duration": 3,
    "start_time": "2024-09-19T05:57:50.262Z"
   },
   {
    "duration": 79,
    "start_time": "2024-09-19T05:57:50.267Z"
   },
   {
    "duration": 149,
    "start_time": "2024-09-19T05:57:50.349Z"
   },
   {
    "duration": 25,
    "start_time": "2024-09-19T05:57:50.500Z"
   },
   {
    "duration": 8,
    "start_time": "2024-09-19T05:57:50.526Z"
   },
   {
    "duration": 3,
    "start_time": "2024-09-19T05:57:50.535Z"
   },
   {
    "duration": 30,
    "start_time": "2024-09-19T05:57:50.540Z"
   },
   {
    "duration": 26,
    "start_time": "2024-09-19T05:57:50.571Z"
   },
   {
    "duration": 35,
    "start_time": "2024-09-19T05:57:50.599Z"
   },
   {
    "duration": 55,
    "start_time": "2024-09-19T05:57:50.635Z"
   },
   {
    "duration": 225,
    "start_time": "2024-09-19T05:57:50.693Z"
   },
   {
    "duration": 240,
    "start_time": "2024-09-19T05:57:50.919Z"
   },
   {
    "duration": 32,
    "start_time": "2024-09-19T05:57:51.160Z"
   },
   {
    "duration": 48,
    "start_time": "2024-09-19T05:57:51.193Z"
   },
   {
    "duration": 27,
    "start_time": "2024-09-19T05:57:51.243Z"
   },
   {
    "duration": 34,
    "start_time": "2024-09-19T05:57:51.272Z"
   },
   {
    "duration": 93,
    "start_time": "2024-09-19T05:57:51.308Z"
   },
   {
    "duration": 67,
    "start_time": "2024-09-19T05:57:51.403Z"
   },
   {
    "duration": 10,
    "start_time": "2024-09-19T05:57:51.471Z"
   },
   {
    "duration": 3,
    "start_time": "2024-09-19T05:57:51.482Z"
   },
   {
    "duration": 12,
    "start_time": "2024-09-19T05:57:51.486Z"
   },
   {
    "duration": 4,
    "start_time": "2024-09-19T05:57:51.500Z"
   },
   {
    "duration": 69,
    "start_time": "2024-09-19T05:57:51.506Z"
   },
   {
    "duration": 73,
    "start_time": "2024-09-19T05:57:51.576Z"
   },
   {
    "duration": 22,
    "start_time": "2024-09-19T05:57:51.651Z"
   },
   {
    "duration": 7,
    "start_time": "2024-09-19T05:57:51.676Z"
   },
   {
    "duration": 7,
    "start_time": "2024-09-19T05:57:51.686Z"
   },
   {
    "duration": 25,
    "start_time": "2024-09-19T05:57:51.695Z"
   },
   {
    "duration": 13,
    "start_time": "2024-09-19T05:57:51.722Z"
   },
   {
    "duration": 1194,
    "start_time": "2024-09-19T05:58:10.406Z"
   },
   {
    "duration": 210,
    "start_time": "2024-09-19T05:58:11.602Z"
   },
   {
    "duration": 4,
    "start_time": "2024-09-19T05:58:11.815Z"
   },
   {
    "duration": 113,
    "start_time": "2024-09-19T05:58:11.822Z"
   },
   {
    "duration": 177,
    "start_time": "2024-09-19T05:58:11.936Z"
   },
   {
    "duration": 27,
    "start_time": "2024-09-19T05:58:12.115Z"
   },
   {
    "duration": 22,
    "start_time": "2024-09-19T05:58:12.143Z"
   },
   {
    "duration": 5,
    "start_time": "2024-09-19T05:58:12.166Z"
   },
   {
    "duration": 17,
    "start_time": "2024-09-19T05:58:12.172Z"
   },
   {
    "duration": 34,
    "start_time": "2024-09-19T05:58:12.192Z"
   },
   {
    "duration": 53,
    "start_time": "2024-09-19T05:58:12.228Z"
   },
   {
    "duration": 31,
    "start_time": "2024-09-19T05:58:12.283Z"
   },
   {
    "duration": 322,
    "start_time": "2024-09-19T05:58:12.316Z"
   },
   {
    "duration": 267,
    "start_time": "2024-09-19T05:58:12.640Z"
   },
   {
    "duration": 32,
    "start_time": "2024-09-19T05:58:12.909Z"
   },
   {
    "duration": 68,
    "start_time": "2024-09-19T05:58:12.942Z"
   },
   {
    "duration": 15,
    "start_time": "2024-09-19T05:58:13.012Z"
   },
   {
    "duration": 6,
    "start_time": "2024-09-19T05:58:13.029Z"
   },
   {
    "duration": 51,
    "start_time": "2024-09-19T05:58:13.037Z"
   },
   {
    "duration": 82,
    "start_time": "2024-09-19T05:58:13.090Z"
   },
   {
    "duration": 11,
    "start_time": "2024-09-19T05:58:13.174Z"
   },
   {
    "duration": 4,
    "start_time": "2024-09-19T05:58:13.186Z"
   },
   {
    "duration": 15,
    "start_time": "2024-09-19T05:58:13.191Z"
   },
   {
    "duration": 5,
    "start_time": "2024-09-19T05:58:13.208Z"
   },
   {
    "duration": 80,
    "start_time": "2024-09-19T05:58:13.214Z"
   },
   {
    "duration": 95,
    "start_time": "2024-09-19T05:58:13.295Z"
   },
   {
    "duration": 6,
    "start_time": "2024-09-19T05:58:13.392Z"
   },
   {
    "duration": 5,
    "start_time": "2024-09-19T05:58:13.402Z"
   },
   {
    "duration": 18,
    "start_time": "2024-09-19T05:58:13.409Z"
   },
   {
    "duration": 18,
    "start_time": "2024-09-19T05:58:13.428Z"
   },
   {
    "duration": 137,
    "start_time": "2024-09-19T05:58:13.448Z"
   },
   {
    "duration": 1179,
    "start_time": "2024-09-19T06:00:03.257Z"
   },
   {
    "duration": 188,
    "start_time": "2024-09-19T06:00:04.438Z"
   },
   {
    "duration": 4,
    "start_time": "2024-09-19T06:00:04.627Z"
   },
   {
    "duration": 97,
    "start_time": "2024-09-19T06:00:04.632Z"
   },
   {
    "duration": 173,
    "start_time": "2024-09-19T06:00:04.732Z"
   },
   {
    "duration": 27,
    "start_time": "2024-09-19T06:00:04.907Z"
   },
   {
    "duration": 29,
    "start_time": "2024-09-19T06:00:04.936Z"
   },
   {
    "duration": 13,
    "start_time": "2024-09-19T06:00:04.967Z"
   },
   {
    "duration": 21,
    "start_time": "2024-09-19T06:00:04.982Z"
   },
   {
    "duration": 54,
    "start_time": "2024-09-19T06:00:05.004Z"
   },
   {
    "duration": 36,
    "start_time": "2024-09-19T06:00:05.060Z"
   },
   {
    "duration": 34,
    "start_time": "2024-09-19T06:00:05.098Z"
   },
   {
    "duration": 312,
    "start_time": "2024-09-19T06:00:05.133Z"
   },
   {
    "duration": 255,
    "start_time": "2024-09-19T06:00:05.448Z"
   },
   {
    "duration": 53,
    "start_time": "2024-09-19T06:00:05.704Z"
   },
   {
    "duration": 96,
    "start_time": "2024-09-19T06:00:05.759Z"
   },
   {
    "duration": 94,
    "start_time": "2024-09-19T06:00:05.857Z"
   },
   {
    "duration": 22,
    "start_time": "2024-09-19T06:00:05.953Z"
   },
   {
    "duration": 46,
    "start_time": "2024-09-19T06:00:05.977Z"
   },
   {
    "duration": 77,
    "start_time": "2024-09-19T06:00:06.025Z"
   },
   {
    "duration": 12,
    "start_time": "2024-09-19T06:00:06.105Z"
   },
   {
    "duration": 12,
    "start_time": "2024-09-19T06:00:06.119Z"
   },
   {
    "duration": 43,
    "start_time": "2024-09-19T06:00:06.132Z"
   },
   {
    "duration": 25,
    "start_time": "2024-09-19T06:00:06.177Z"
   },
   {
    "duration": 58,
    "start_time": "2024-09-19T06:00:06.204Z"
   },
   {
    "duration": 82,
    "start_time": "2024-09-19T06:00:06.263Z"
   },
   {
    "duration": 6,
    "start_time": "2024-09-19T06:00:06.348Z"
   },
   {
    "duration": 7,
    "start_time": "2024-09-19T06:00:06.365Z"
   },
   {
    "duration": 18,
    "start_time": "2024-09-19T06:00:06.374Z"
   },
   {
    "duration": 11,
    "start_time": "2024-09-19T06:00:06.394Z"
   },
   {
    "duration": 133,
    "start_time": "2024-09-19T06:00:06.406Z"
   },
   {
    "duration": 1243,
    "start_time": "2024-09-19T06:00:50.639Z"
   },
   {
    "duration": 182,
    "start_time": "2024-09-19T06:00:51.885Z"
   },
   {
    "duration": 4,
    "start_time": "2024-09-19T06:00:52.068Z"
   },
   {
    "duration": 103,
    "start_time": "2024-09-19T06:00:52.073Z"
   },
   {
    "duration": 153,
    "start_time": "2024-09-19T06:00:52.178Z"
   },
   {
    "duration": 35,
    "start_time": "2024-09-19T06:00:52.333Z"
   },
   {
    "duration": 9,
    "start_time": "2024-09-19T06:00:52.370Z"
   },
   {
    "duration": 4,
    "start_time": "2024-09-19T06:00:52.380Z"
   },
   {
    "duration": 19,
    "start_time": "2024-09-19T06:00:52.386Z"
   },
   {
    "duration": 49,
    "start_time": "2024-09-19T06:00:52.408Z"
   },
   {
    "duration": 34,
    "start_time": "2024-09-19T06:00:52.458Z"
   },
   {
    "duration": 33,
    "start_time": "2024-09-19T06:00:52.493Z"
   },
   {
    "duration": 346,
    "start_time": "2024-09-19T06:00:52.527Z"
   },
   {
    "duration": 272,
    "start_time": "2024-09-19T06:00:52.875Z"
   },
   {
    "duration": 37,
    "start_time": "2024-09-19T06:00:53.148Z"
   },
   {
    "duration": 57,
    "start_time": "2024-09-19T06:00:53.187Z"
   },
   {
    "duration": 29,
    "start_time": "2024-09-19T06:00:53.245Z"
   },
   {
    "duration": 6,
    "start_time": "2024-09-19T06:00:53.276Z"
   },
   {
    "duration": 37,
    "start_time": "2024-09-19T06:00:53.284Z"
   },
   {
    "duration": 126,
    "start_time": "2024-09-19T06:00:53.323Z"
   },
   {
    "duration": 11,
    "start_time": "2024-09-19T06:00:53.451Z"
   },
   {
    "duration": 10,
    "start_time": "2024-09-19T06:00:53.463Z"
   },
   {
    "duration": 39,
    "start_time": "2024-09-19T06:00:53.475Z"
   },
   {
    "duration": 21,
    "start_time": "2024-09-19T06:00:53.515Z"
   },
   {
    "duration": 52,
    "start_time": "2024-09-19T06:00:53.537Z"
   },
   {
    "duration": 88,
    "start_time": "2024-09-19T06:00:53.591Z"
   },
   {
    "duration": 6,
    "start_time": "2024-09-19T06:00:53.680Z"
   },
   {
    "duration": 18,
    "start_time": "2024-09-19T06:00:53.689Z"
   },
   {
    "duration": 18,
    "start_time": "2024-09-19T06:00:53.709Z"
   },
   {
    "duration": 13,
    "start_time": "2024-09-19T06:00:53.729Z"
   },
   {
    "duration": 31,
    "start_time": "2024-09-19T06:00:53.744Z"
   },
   {
    "duration": 4,
    "start_time": "2024-09-19T06:01:49.671Z"
   },
   {
    "duration": 188,
    "start_time": "2024-09-19T06:01:49.676Z"
   },
   {
    "duration": 3,
    "start_time": "2024-09-19T06:01:49.865Z"
   },
   {
    "duration": 125,
    "start_time": "2024-09-19T06:01:49.871Z"
   },
   {
    "duration": 129,
    "start_time": "2024-09-19T06:01:49.997Z"
   },
   {
    "duration": 38,
    "start_time": "2024-09-19T06:01:50.128Z"
   },
   {
    "duration": 6,
    "start_time": "2024-09-19T06:01:50.167Z"
   },
   {
    "duration": 3,
    "start_time": "2024-09-19T06:01:50.175Z"
   },
   {
    "duration": 8,
    "start_time": "2024-09-19T06:01:50.179Z"
   },
   {
    "duration": 31,
    "start_time": "2024-09-19T06:01:50.190Z"
   },
   {
    "duration": 70,
    "start_time": "2024-09-19T06:01:50.222Z"
   },
   {
    "duration": 27,
    "start_time": "2024-09-19T06:01:50.294Z"
   },
   {
    "duration": 238,
    "start_time": "2024-09-19T06:01:50.323Z"
   },
   {
    "duration": 296,
    "start_time": "2024-09-19T06:01:50.563Z"
   },
   {
    "duration": 34,
    "start_time": "2024-09-19T06:01:50.860Z"
   },
   {
    "duration": 51,
    "start_time": "2024-09-19T06:01:50.896Z"
   },
   {
    "duration": 14,
    "start_time": "2024-09-19T06:01:50.964Z"
   },
   {
    "duration": 6,
    "start_time": "2024-09-19T06:01:50.980Z"
   },
   {
    "duration": 30,
    "start_time": "2024-09-19T06:01:50.988Z"
   },
   {
    "duration": 87,
    "start_time": "2024-09-19T06:01:51.020Z"
   },
   {
    "duration": 10,
    "start_time": "2024-09-19T06:01:51.109Z"
   },
   {
    "duration": 5,
    "start_time": "2024-09-19T06:01:51.121Z"
   },
   {
    "duration": 13,
    "start_time": "2024-09-19T06:01:51.127Z"
   },
   {
    "duration": 6,
    "start_time": "2024-09-19T06:01:51.142Z"
   },
   {
    "duration": 37,
    "start_time": "2024-09-19T06:01:51.164Z"
   },
   {
    "duration": 90,
    "start_time": "2024-09-19T06:01:51.202Z"
   },
   {
    "duration": 6,
    "start_time": "2024-09-19T06:01:51.293Z"
   },
   {
    "duration": 10,
    "start_time": "2024-09-19T06:01:51.301Z"
   },
   {
    "duration": 24,
    "start_time": "2024-09-19T06:01:51.312Z"
   },
   {
    "duration": 49,
    "start_time": "2024-09-19T06:01:51.338Z"
   },
   {
    "duration": 27,
    "start_time": "2024-09-19T06:01:51.388Z"
   },
   {
    "duration": 8,
    "start_time": "2024-09-19T06:02:32.931Z"
   },
   {
    "duration": 8,
    "start_time": "2024-09-19T06:04:08.620Z"
   },
   {
    "duration": 9,
    "start_time": "2024-09-19T06:04:15.012Z"
   },
   {
    "duration": 1313,
    "start_time": "2024-09-19T06:12:28.809Z"
   },
   {
    "duration": 6,
    "start_time": "2024-09-19T06:12:45.473Z"
   },
   {
    "duration": 10,
    "start_time": "2024-09-19T06:12:50.776Z"
   },
   {
    "duration": 11,
    "start_time": "2024-09-19T06:14:02.704Z"
   },
   {
    "duration": 20,
    "start_time": "2024-09-19T06:14:26.424Z"
   },
   {
    "duration": 10,
    "start_time": "2024-09-19T06:14:41.673Z"
   },
   {
    "duration": 10,
    "start_time": "2024-09-19T06:15:41.481Z"
   },
   {
    "duration": 15,
    "start_time": "2024-09-19T06:16:00.202Z"
   },
   {
    "duration": 10,
    "start_time": "2024-09-19T06:16:06.161Z"
   },
   {
    "duration": 11,
    "start_time": "2024-09-19T06:16:10.625Z"
   },
   {
    "duration": 24,
    "start_time": "2024-09-19T06:16:18.097Z"
   },
   {
    "duration": 6360,
    "start_time": "2024-09-19T06:16:31.858Z"
   },
   {
    "duration": 9875,
    "start_time": "2024-09-19T06:16:43.186Z"
   },
   {
    "duration": 7,
    "start_time": "2024-09-19T06:17:04.115Z"
   },
   {
    "duration": 8,
    "start_time": "2024-09-19T06:17:11.331Z"
   },
   {
    "duration": 12,
    "start_time": "2024-09-19T06:17:20.651Z"
   },
   {
    "duration": 17,
    "start_time": "2024-09-19T06:17:21.675Z"
   },
   {
    "duration": 16,
    "start_time": "2024-09-19T06:17:45.330Z"
   },
   {
    "duration": 12,
    "start_time": "2024-09-19T06:19:40.341Z"
   },
   {
    "duration": 13,
    "start_time": "2024-09-19T06:20:08.116Z"
   },
   {
    "duration": 3,
    "start_time": "2024-09-19T06:20:13.880Z"
   },
   {
    "duration": 208,
    "start_time": "2024-09-19T06:20:13.885Z"
   },
   {
    "duration": 4,
    "start_time": "2024-09-19T06:20:14.095Z"
   },
   {
    "duration": 86,
    "start_time": "2024-09-19T06:20:14.101Z"
   },
   {
    "duration": 156,
    "start_time": "2024-09-19T06:20:14.189Z"
   },
   {
    "duration": 35,
    "start_time": "2024-09-19T06:20:14.347Z"
   },
   {
    "duration": 15,
    "start_time": "2024-09-19T06:20:14.384Z"
   },
   {
    "duration": 5,
    "start_time": "2024-09-19T06:20:14.401Z"
   },
   {
    "duration": 10,
    "start_time": "2024-09-19T06:20:14.408Z"
   },
   {
    "duration": 77,
    "start_time": "2024-09-19T06:20:14.422Z"
   },
   {
    "duration": 34,
    "start_time": "2024-09-19T06:20:14.502Z"
   },
   {
    "duration": 52,
    "start_time": "2024-09-19T06:20:14.538Z"
   },
   {
    "duration": 259,
    "start_time": "2024-09-19T06:20:14.592Z"
   },
   {
    "duration": 272,
    "start_time": "2024-09-19T06:20:14.853Z"
   },
   {
    "duration": 38,
    "start_time": "2024-09-19T06:20:15.127Z"
   },
   {
    "duration": 51,
    "start_time": "2024-09-19T06:20:15.167Z"
   },
   {
    "duration": 15,
    "start_time": "2024-09-19T06:20:15.220Z"
   },
   {
    "duration": 30,
    "start_time": "2024-09-19T06:20:15.236Z"
   },
   {
    "duration": 27,
    "start_time": "2024-09-19T06:20:15.268Z"
   },
   {
    "duration": 86,
    "start_time": "2024-09-19T06:20:15.297Z"
   },
   {
    "duration": 12,
    "start_time": "2024-09-19T06:20:15.385Z"
   },
   {
    "duration": 56,
    "start_time": "2024-09-19T06:20:15.399Z"
   },
   {
    "duration": 26,
    "start_time": "2024-09-19T06:20:15.457Z"
   },
   {
    "duration": 11,
    "start_time": "2024-09-19T06:20:15.485Z"
   },
   {
    "duration": 43,
    "start_time": "2024-09-19T06:20:15.498Z"
   },
   {
    "duration": 80,
    "start_time": "2024-09-19T06:20:15.542Z"
   },
   {
    "duration": 6,
    "start_time": "2024-09-19T06:20:15.624Z"
   },
   {
    "duration": 10,
    "start_time": "2024-09-19T06:20:15.633Z"
   },
   {
    "duration": 6,
    "start_time": "2024-09-19T06:20:15.644Z"
   },
   {
    "duration": 11,
    "start_time": "2024-09-19T06:20:15.664Z"
   },
   {
    "duration": 12,
    "start_time": "2024-09-19T06:20:15.677Z"
   },
   {
    "duration": 11,
    "start_time": "2024-09-19T06:20:15.691Z"
   },
   {
    "duration": 13,
    "start_time": "2024-09-19T06:20:15.704Z"
   },
   {
    "duration": 11,
    "start_time": "2024-09-19T06:20:18.597Z"
   },
   {
    "duration": 14,
    "start_time": "2024-09-19T06:20:19.989Z"
   },
   {
    "duration": 4,
    "start_time": "2024-09-19T06:21:52.341Z"
   },
   {
    "duration": 6,
    "start_time": "2024-09-19T06:22:00.933Z"
   },
   {
    "duration": 4,
    "start_time": "2024-09-19T06:22:07.013Z"
   },
   {
    "duration": 12,
    "start_time": "2024-09-19T06:22:23.685Z"
   },
   {
    "duration": 11,
    "start_time": "2024-09-19T06:22:27.228Z"
   },
   {
    "duration": 10,
    "start_time": "2024-09-19T06:22:44.349Z"
   },
   {
    "duration": 7,
    "start_time": "2024-09-19T06:23:07.726Z"
   },
   {
    "duration": 10,
    "start_time": "2024-09-19T06:23:10.046Z"
   },
   {
    "duration": 7,
    "start_time": "2024-09-19T06:24:28.599Z"
   },
   {
    "duration": 11,
    "start_time": "2024-09-19T06:24:29.742Z"
   },
   {
    "duration": 1217,
    "start_time": "2024-09-19T06:26:06.130Z"
   },
   {
    "duration": 197,
    "start_time": "2024-09-19T06:26:07.349Z"
   },
   {
    "duration": 5,
    "start_time": "2024-09-19T06:26:07.548Z"
   },
   {
    "duration": 104,
    "start_time": "2024-09-19T06:26:07.554Z"
   },
   {
    "duration": 179,
    "start_time": "2024-09-19T06:26:07.660Z"
   },
   {
    "duration": 29,
    "start_time": "2024-09-19T06:26:07.841Z"
   },
   {
    "duration": 7,
    "start_time": "2024-09-19T06:26:07.872Z"
   },
   {
    "duration": 4,
    "start_time": "2024-09-19T06:26:07.881Z"
   },
   {
    "duration": 12,
    "start_time": "2024-09-19T06:26:07.887Z"
   },
   {
    "duration": 68,
    "start_time": "2024-09-19T06:26:07.903Z"
   },
   {
    "duration": 37,
    "start_time": "2024-09-19T06:26:07.973Z"
   },
   {
    "duration": 54,
    "start_time": "2024-09-19T06:26:08.012Z"
   },
   {
    "duration": 322,
    "start_time": "2024-09-19T06:26:08.067Z"
   },
   {
    "duration": 257,
    "start_time": "2024-09-19T06:26:08.390Z"
   },
   {
    "duration": 39,
    "start_time": "2024-09-19T06:26:08.649Z"
   },
   {
    "duration": 56,
    "start_time": "2024-09-19T06:26:08.689Z"
   },
   {
    "duration": 35,
    "start_time": "2024-09-19T06:26:08.747Z"
   },
   {
    "duration": 9,
    "start_time": "2024-09-19T06:26:08.784Z"
   },
   {
    "duration": 41,
    "start_time": "2024-09-19T06:26:08.794Z"
   },
   {
    "duration": 90,
    "start_time": "2024-09-19T06:26:08.837Z"
   },
   {
    "duration": 15,
    "start_time": "2024-09-19T06:26:08.929Z"
   },
   {
    "duration": 4,
    "start_time": "2024-09-19T06:26:08.946Z"
   },
   {
    "duration": 17,
    "start_time": "2024-09-19T06:26:08.965Z"
   },
   {
    "duration": 5,
    "start_time": "2024-09-19T06:26:08.984Z"
   },
   {
    "duration": 82,
    "start_time": "2024-09-19T06:26:08.991Z"
   },
   {
    "duration": 100,
    "start_time": "2024-09-19T06:26:09.075Z"
   },
   {
    "duration": 6,
    "start_time": "2024-09-19T06:26:09.177Z"
   },
   {
    "duration": 5,
    "start_time": "2024-09-19T06:26:09.186Z"
   },
   {
    "duration": 5,
    "start_time": "2024-09-19T06:26:09.192Z"
   },
   {
    "duration": 5,
    "start_time": "2024-09-19T06:26:09.198Z"
   },
   {
    "duration": 11,
    "start_time": "2024-09-19T06:26:09.205Z"
   },
   {
    "duration": 8,
    "start_time": "2024-09-19T06:26:09.218Z"
   },
   {
    "duration": 45,
    "start_time": "2024-09-19T06:26:09.228Z"
   },
   {
    "duration": 11,
    "start_time": "2024-09-19T06:26:09.275Z"
   },
   {
    "duration": 11,
    "start_time": "2024-09-19T06:26:09.287Z"
   },
   {
    "duration": 11,
    "start_time": "2024-09-19T06:26:09.300Z"
   },
   {
    "duration": 3,
    "start_time": "2024-09-19T06:27:22.693Z"
   },
   {
    "duration": 196,
    "start_time": "2024-09-19T06:27:22.698Z"
   },
   {
    "duration": 3,
    "start_time": "2024-09-19T06:27:22.895Z"
   },
   {
    "duration": 85,
    "start_time": "2024-09-19T06:27:22.899Z"
   },
   {
    "duration": 161,
    "start_time": "2024-09-19T06:27:22.986Z"
   },
   {
    "duration": 29,
    "start_time": "2024-09-19T06:27:23.149Z"
   },
   {
    "duration": 8,
    "start_time": "2024-09-19T06:27:23.180Z"
   },
   {
    "duration": 10,
    "start_time": "2024-09-19T06:27:23.190Z"
   },
   {
    "duration": 14,
    "start_time": "2024-09-19T06:27:23.202Z"
   },
   {
    "duration": 47,
    "start_time": "2024-09-19T06:27:23.218Z"
   },
   {
    "duration": 34,
    "start_time": "2024-09-19T06:27:23.266Z"
   },
   {
    "duration": 52,
    "start_time": "2024-09-19T06:27:23.302Z"
   },
   {
    "duration": 259,
    "start_time": "2024-09-19T06:27:23.357Z"
   },
   {
    "duration": 270,
    "start_time": "2024-09-19T06:27:23.618Z"
   },
   {
    "duration": 37,
    "start_time": "2024-09-19T06:27:23.890Z"
   },
   {
    "duration": 105,
    "start_time": "2024-09-19T06:27:23.928Z"
   },
   {
    "duration": 22,
    "start_time": "2024-09-19T06:27:24.035Z"
   },
   {
    "duration": 12,
    "start_time": "2024-09-19T06:27:24.059Z"
   },
   {
    "duration": 50,
    "start_time": "2024-09-19T06:27:24.073Z"
   },
   {
    "duration": 99,
    "start_time": "2024-09-19T06:27:24.125Z"
   },
   {
    "duration": 10,
    "start_time": "2024-09-19T06:27:24.227Z"
   },
   {
    "duration": 3,
    "start_time": "2024-09-19T06:27:24.239Z"
   },
   {
    "duration": 30,
    "start_time": "2024-09-19T06:27:24.243Z"
   },
   {
    "duration": 18,
    "start_time": "2024-09-19T06:27:24.274Z"
   },
   {
    "duration": 54,
    "start_time": "2024-09-19T06:27:24.294Z"
   },
   {
    "duration": 72,
    "start_time": "2024-09-19T06:27:24.350Z"
   },
   {
    "duration": 5,
    "start_time": "2024-09-19T06:27:24.424Z"
   },
   {
    "duration": 19,
    "start_time": "2024-09-19T06:27:24.430Z"
   },
   {
    "duration": 8,
    "start_time": "2024-09-19T06:27:24.451Z"
   },
   {
    "duration": 14,
    "start_time": "2024-09-19T06:27:24.460Z"
   },
   {
    "duration": 44,
    "start_time": "2024-09-19T06:27:24.476Z"
   },
   {
    "duration": 29,
    "start_time": "2024-09-19T06:27:24.521Z"
   },
   {
    "duration": 30,
    "start_time": "2024-09-19T06:27:24.551Z"
   },
   {
    "duration": 22,
    "start_time": "2024-09-19T06:27:24.583Z"
   },
   {
    "duration": 34,
    "start_time": "2024-09-19T06:27:24.606Z"
   },
   {
    "duration": 22,
    "start_time": "2024-09-19T06:27:24.641Z"
   },
   {
    "duration": 1214,
    "start_time": "2024-09-19T06:28:48.479Z"
   },
   {
    "duration": 203,
    "start_time": "2024-09-19T06:28:49.695Z"
   },
   {
    "duration": 4,
    "start_time": "2024-09-19T06:28:49.900Z"
   },
   {
    "duration": 100,
    "start_time": "2024-09-19T06:28:49.906Z"
   },
   {
    "duration": 170,
    "start_time": "2024-09-19T06:28:50.008Z"
   },
   {
    "duration": 39,
    "start_time": "2024-09-19T06:28:50.180Z"
   },
   {
    "duration": 14,
    "start_time": "2024-09-19T06:28:50.221Z"
   },
   {
    "duration": 4,
    "start_time": "2024-09-19T06:28:50.237Z"
   },
   {
    "duration": 30,
    "start_time": "2024-09-19T06:28:50.242Z"
   },
   {
    "duration": 34,
    "start_time": "2024-09-19T06:28:50.274Z"
   },
   {
    "duration": 34,
    "start_time": "2024-09-19T06:28:50.310Z"
   },
   {
    "duration": 35,
    "start_time": "2024-09-19T06:28:50.365Z"
   },
   {
    "duration": 348,
    "start_time": "2024-09-19T06:28:50.401Z"
   },
   {
    "duration": 279,
    "start_time": "2024-09-19T06:28:50.750Z"
   },
   {
    "duration": 43,
    "start_time": "2024-09-19T06:28:51.030Z"
   },
   {
    "duration": 54,
    "start_time": "2024-09-19T06:28:51.074Z"
   },
   {
    "duration": 36,
    "start_time": "2024-09-19T06:28:51.130Z"
   },
   {
    "duration": 6,
    "start_time": "2024-09-19T06:28:51.168Z"
   },
   {
    "duration": 37,
    "start_time": "2024-09-19T06:28:51.176Z"
   },
   {
    "duration": 85,
    "start_time": "2024-09-19T06:28:51.215Z"
   },
   {
    "duration": 14,
    "start_time": "2024-09-19T06:28:51.302Z"
   },
   {
    "duration": 3,
    "start_time": "2024-09-19T06:28:51.319Z"
   },
   {
    "duration": 19,
    "start_time": "2024-09-19T06:28:51.324Z"
   },
   {
    "duration": 25,
    "start_time": "2024-09-19T06:28:51.344Z"
   },
   {
    "duration": 55,
    "start_time": "2024-09-19T06:28:51.371Z"
   },
   {
    "duration": 90,
    "start_time": "2024-09-19T06:28:51.428Z"
   },
   {
    "duration": 6,
    "start_time": "2024-09-19T06:28:51.520Z"
   },
   {
    "duration": 16,
    "start_time": "2024-09-19T06:28:51.530Z"
   },
   {
    "duration": 8,
    "start_time": "2024-09-19T06:28:51.548Z"
   },
   {
    "duration": 38,
    "start_time": "2024-09-19T06:28:51.557Z"
   },
   {
    "duration": 22,
    "start_time": "2024-09-19T06:28:51.596Z"
   },
   {
    "duration": 10,
    "start_time": "2024-09-19T06:28:51.620Z"
   },
   {
    "duration": 24,
    "start_time": "2024-09-19T06:28:51.632Z"
   },
   {
    "duration": 20,
    "start_time": "2024-09-19T06:28:51.658Z"
   },
   {
    "duration": 15,
    "start_time": "2024-09-19T06:28:51.679Z"
   },
   {
    "duration": 9,
    "start_time": "2024-09-19T06:28:51.696Z"
   },
   {
    "duration": 12,
    "start_time": "2024-09-19T06:40:13.819Z"
   },
   {
    "duration": 10,
    "start_time": "2024-09-19T06:40:16.232Z"
   },
   {
    "duration": 10,
    "start_time": "2024-09-19T06:40:18.351Z"
   },
   {
    "duration": 11,
    "start_time": "2024-09-19T06:40:20.464Z"
   },
   {
    "duration": 7,
    "start_time": "2024-09-19T07:06:48.444Z"
   },
   {
    "duration": 3,
    "start_time": "2024-09-19T07:09:17.938Z"
   },
   {
    "duration": 201,
    "start_time": "2024-09-19T07:09:17.944Z"
   },
   {
    "duration": 5,
    "start_time": "2024-09-19T07:09:18.146Z"
   },
   {
    "duration": 120,
    "start_time": "2024-09-19T07:09:18.153Z"
   },
   {
    "duration": 182,
    "start_time": "2024-09-19T07:09:18.277Z"
   },
   {
    "duration": 39,
    "start_time": "2024-09-19T07:09:18.461Z"
   },
   {
    "duration": 7,
    "start_time": "2024-09-19T07:09:18.502Z"
   },
   {
    "duration": 35,
    "start_time": "2024-09-19T07:09:18.510Z"
   },
   {
    "duration": 50,
    "start_time": "2024-09-19T07:09:22.286Z"
   },
   {
    "duration": 3,
    "start_time": "2024-09-19T07:09:40.958Z"
   },
   {
    "duration": 27,
    "start_time": "2024-09-19T07:10:10.177Z"
   },
   {
    "duration": 19,
    "start_time": "2024-09-19T07:10:25.675Z"
   },
   {
    "duration": 15,
    "start_time": "2024-09-19T07:10:43.428Z"
   },
   {
    "duration": 30,
    "start_time": "2024-09-19T07:10:49.052Z"
   },
   {
    "duration": 17,
    "start_time": "2024-09-19T07:11:36.413Z"
   },
   {
    "duration": 26,
    "start_time": "2024-09-19T07:17:18.087Z"
   },
   {
    "duration": 7,
    "start_time": "2024-09-19T07:28:30.263Z"
   },
   {
    "duration": 9,
    "start_time": "2024-09-19T07:28:56.861Z"
   },
   {
    "duration": 42,
    "start_time": "2024-09-19T07:29:23.607Z"
   },
   {
    "duration": 63,
    "start_time": "2024-09-19T07:29:41.038Z"
   },
   {
    "duration": 20,
    "start_time": "2024-09-19T07:29:44.118Z"
   },
   {
    "duration": 135,
    "start_time": "2024-09-19T07:30:58.247Z"
   },
   {
    "duration": 3,
    "start_time": "2024-09-19T07:31:13.700Z"
   },
   {
    "duration": 227,
    "start_time": "2024-09-19T07:31:13.705Z"
   },
   {
    "duration": 4,
    "start_time": "2024-09-19T07:31:13.934Z"
   },
   {
    "duration": 100,
    "start_time": "2024-09-19T07:31:13.940Z"
   },
   {
    "duration": 165,
    "start_time": "2024-09-19T07:31:14.043Z"
   },
   {
    "duration": 38,
    "start_time": "2024-09-19T07:31:14.210Z"
   },
   {
    "duration": 64,
    "start_time": "2024-09-19T07:31:14.270Z"
   },
   {
    "duration": 11,
    "start_time": "2024-09-19T07:31:14.336Z"
   },
   {
    "duration": 57,
    "start_time": "2024-09-19T07:31:14.351Z"
   },
   {
    "duration": 65,
    "start_time": "2024-09-19T07:31:14.410Z"
   },
   {
    "duration": 7,
    "start_time": "2024-09-19T07:31:14.481Z"
   },
   {
    "duration": 35,
    "start_time": "2024-09-19T07:31:14.490Z"
   },
   {
    "duration": 23,
    "start_time": "2024-09-19T07:31:14.527Z"
   },
   {
    "duration": 27,
    "start_time": "2024-09-19T07:31:14.552Z"
   },
   {
    "duration": 6,
    "start_time": "2024-09-19T07:31:14.581Z"
   },
   {
    "duration": 9,
    "start_time": "2024-09-19T07:31:14.589Z"
   },
   {
    "duration": 37,
    "start_time": "2024-09-19T07:31:14.601Z"
   },
   {
    "duration": 11,
    "start_time": "2024-09-19T07:31:16.529Z"
   },
   {
    "duration": 15,
    "start_time": "2024-09-19T07:31:55.800Z"
   },
   {
    "duration": 4,
    "start_time": "2024-09-19T07:32:11.494Z"
   },
   {
    "duration": 240,
    "start_time": "2024-09-19T07:32:11.501Z"
   },
   {
    "duration": 4,
    "start_time": "2024-09-19T07:32:11.743Z"
   },
   {
    "duration": 95,
    "start_time": "2024-09-19T07:32:11.749Z"
   },
   {
    "duration": 206,
    "start_time": "2024-09-19T07:32:11.847Z"
   },
   {
    "duration": 57,
    "start_time": "2024-09-19T07:32:12.055Z"
   },
   {
    "duration": 25,
    "start_time": "2024-09-19T07:32:12.114Z"
   },
   {
    "duration": 39,
    "start_time": "2024-09-19T07:32:12.141Z"
   },
   {
    "duration": 61,
    "start_time": "2024-09-19T07:32:12.182Z"
   },
   {
    "duration": 80,
    "start_time": "2024-09-19T07:32:12.245Z"
   },
   {
    "duration": 3,
    "start_time": "2024-09-19T07:32:12.327Z"
   },
   {
    "duration": 29,
    "start_time": "2024-09-19T07:32:12.332Z"
   },
   {
    "duration": 26,
    "start_time": "2024-09-19T07:32:12.365Z"
   },
   {
    "duration": 17,
    "start_time": "2024-09-19T07:32:12.393Z"
   },
   {
    "duration": 4,
    "start_time": "2024-09-19T07:32:12.412Z"
   },
   {
    "duration": 23,
    "start_time": "2024-09-19T07:32:12.417Z"
   },
   {
    "duration": 50,
    "start_time": "2024-09-19T07:32:12.441Z"
   },
   {
    "duration": 11,
    "start_time": "2024-09-19T07:32:12.492Z"
   },
   {
    "duration": 0,
    "start_time": "2024-09-19T07:32:12.505Z"
   },
   {
    "duration": 0,
    "start_time": "2024-09-19T07:32:12.506Z"
   },
   {
    "duration": 0,
    "start_time": "2024-09-19T07:32:12.507Z"
   },
   {
    "duration": 0,
    "start_time": "2024-09-19T07:32:12.509Z"
   },
   {
    "duration": 0,
    "start_time": "2024-09-19T07:32:12.510Z"
   },
   {
    "duration": 0,
    "start_time": "2024-09-19T07:32:12.511Z"
   },
   {
    "duration": 0,
    "start_time": "2024-09-19T07:32:12.513Z"
   },
   {
    "duration": 0,
    "start_time": "2024-09-19T07:32:12.514Z"
   },
   {
    "duration": 0,
    "start_time": "2024-09-19T07:32:12.515Z"
   },
   {
    "duration": 0,
    "start_time": "2024-09-19T07:32:12.516Z"
   },
   {
    "duration": 0,
    "start_time": "2024-09-19T07:32:12.517Z"
   },
   {
    "duration": 0,
    "start_time": "2024-09-19T07:32:12.518Z"
   },
   {
    "duration": 0,
    "start_time": "2024-09-19T07:32:12.519Z"
   },
   {
    "duration": 0,
    "start_time": "2024-09-19T07:32:12.521Z"
   },
   {
    "duration": 0,
    "start_time": "2024-09-19T07:32:12.522Z"
   },
   {
    "duration": 0,
    "start_time": "2024-09-19T07:32:12.523Z"
   },
   {
    "duration": 0,
    "start_time": "2024-09-19T07:32:12.565Z"
   },
   {
    "duration": 0,
    "start_time": "2024-09-19T07:32:12.566Z"
   },
   {
    "duration": 0,
    "start_time": "2024-09-19T07:32:12.567Z"
   },
   {
    "duration": 0,
    "start_time": "2024-09-19T07:32:12.568Z"
   },
   {
    "duration": 0,
    "start_time": "2024-09-19T07:32:12.568Z"
   },
   {
    "duration": 0,
    "start_time": "2024-09-19T07:32:12.569Z"
   },
   {
    "duration": 0,
    "start_time": "2024-09-19T07:32:12.570Z"
   },
   {
    "duration": 0,
    "start_time": "2024-09-19T07:32:12.571Z"
   },
   {
    "duration": 0,
    "start_time": "2024-09-19T07:32:12.572Z"
   },
   {
    "duration": 0,
    "start_time": "2024-09-19T07:32:12.575Z"
   },
   {
    "duration": 0,
    "start_time": "2024-09-19T07:32:12.576Z"
   },
   {
    "duration": 9,
    "start_time": "2024-09-19T07:33:11.280Z"
   },
   {
    "duration": 4,
    "start_time": "2024-09-19T07:33:55.525Z"
   },
   {
    "duration": 217,
    "start_time": "2024-09-19T07:33:55.532Z"
   },
   {
    "duration": 4,
    "start_time": "2024-09-19T07:33:55.751Z"
   },
   {
    "duration": 91,
    "start_time": "2024-09-19T07:33:55.757Z"
   },
   {
    "duration": 180,
    "start_time": "2024-09-19T07:33:55.850Z"
   },
   {
    "duration": 40,
    "start_time": "2024-09-19T07:33:56.032Z"
   },
   {
    "duration": 35,
    "start_time": "2024-09-19T07:33:56.073Z"
   },
   {
    "duration": 11,
    "start_time": "2024-09-19T07:33:56.110Z"
   },
   {
    "duration": 68,
    "start_time": "2024-09-19T07:33:56.123Z"
   },
   {
    "duration": 41,
    "start_time": "2024-09-19T07:33:56.192Z"
   },
   {
    "duration": 3,
    "start_time": "2024-09-19T07:33:56.235Z"
   },
   {
    "duration": 47,
    "start_time": "2024-09-19T07:33:56.240Z"
   },
   {
    "duration": 21,
    "start_time": "2024-09-19T07:33:56.289Z"
   },
   {
    "duration": 20,
    "start_time": "2024-09-19T07:33:58.402Z"
   },
   {
    "duration": 289,
    "start_time": "2024-09-19T07:34:02.562Z"
   },
   {
    "duration": 4,
    "start_time": "2024-09-19T07:34:07.078Z"
   },
   {
    "duration": 234,
    "start_time": "2024-09-19T07:34:07.084Z"
   },
   {
    "duration": 4,
    "start_time": "2024-09-19T07:34:07.320Z"
   },
   {
    "duration": 102,
    "start_time": "2024-09-19T07:34:07.326Z"
   },
   {
    "duration": 174,
    "start_time": "2024-09-19T07:34:07.429Z"
   },
   {
    "duration": 28,
    "start_time": "2024-09-19T07:34:07.605Z"
   },
   {
    "duration": 59,
    "start_time": "2024-09-19T07:34:07.635Z"
   },
   {
    "duration": 23,
    "start_time": "2024-09-19T07:34:07.698Z"
   },
   {
    "duration": 54,
    "start_time": "2024-09-19T07:34:07.722Z"
   },
   {
    "duration": 46,
    "start_time": "2024-09-19T07:34:07.784Z"
   },
   {
    "duration": 3,
    "start_time": "2024-09-19T07:34:07.832Z"
   },
   {
    "duration": 21,
    "start_time": "2024-09-19T07:34:07.837Z"
   },
   {
    "duration": 36,
    "start_time": "2024-09-19T07:34:07.860Z"
   },
   {
    "duration": 37,
    "start_time": "2024-09-19T07:34:07.898Z"
   },
   {
    "duration": 7,
    "start_time": "2024-09-19T07:34:07.967Z"
   },
   {
    "duration": 13,
    "start_time": "2024-09-19T07:34:07.976Z"
   },
   {
    "duration": 33,
    "start_time": "2024-09-19T07:34:07.991Z"
   },
   {
    "duration": 254,
    "start_time": "2024-09-19T07:34:10.194Z"
   },
   {
    "duration": 282,
    "start_time": "2024-09-19T07:34:20.841Z"
   },
   {
    "duration": 310,
    "start_time": "2024-09-19T07:34:32.496Z"
   },
   {
    "duration": 376,
    "start_time": "2024-09-19T07:35:45.081Z"
   },
   {
    "duration": 89,
    "start_time": "2024-09-19T07:35:50.337Z"
   },
   {
    "duration": 277,
    "start_time": "2024-09-19T07:35:58.826Z"
   },
   {
    "duration": 281,
    "start_time": "2024-09-19T07:36:06.594Z"
   },
   {
    "duration": 284,
    "start_time": "2024-09-19T07:36:11.697Z"
   },
   {
    "duration": 281,
    "start_time": "2024-09-19T07:36:40.330Z"
   },
   {
    "duration": 284,
    "start_time": "2024-09-19T07:36:48.210Z"
   },
   {
    "duration": 290,
    "start_time": "2024-09-19T07:36:53.330Z"
   },
   {
    "duration": 279,
    "start_time": "2024-09-19T07:37:04.202Z"
   },
   {
    "duration": 282,
    "start_time": "2024-09-19T07:37:23.026Z"
   },
   {
    "duration": 32,
    "start_time": "2024-09-19T07:37:52.548Z"
   },
   {
    "duration": 319,
    "start_time": "2024-09-19T07:37:53.100Z"
   },
   {
    "duration": 3,
    "start_time": "2024-09-19T07:37:57.000Z"
   },
   {
    "duration": 207,
    "start_time": "2024-09-19T07:37:57.005Z"
   },
   {
    "duration": 4,
    "start_time": "2024-09-19T07:37:57.214Z"
   },
   {
    "duration": 89,
    "start_time": "2024-09-19T07:37:57.221Z"
   },
   {
    "duration": 167,
    "start_time": "2024-09-19T07:37:57.312Z"
   },
   {
    "duration": 27,
    "start_time": "2024-09-19T07:37:57.481Z"
   },
   {
    "duration": 28,
    "start_time": "2024-09-19T07:37:57.510Z"
   },
   {
    "duration": 9,
    "start_time": "2024-09-19T07:37:57.540Z"
   },
   {
    "duration": 57,
    "start_time": "2024-09-19T07:37:57.551Z"
   },
   {
    "duration": 68,
    "start_time": "2024-09-19T07:37:57.611Z"
   },
   {
    "duration": 4,
    "start_time": "2024-09-19T07:37:57.681Z"
   },
   {
    "duration": 55,
    "start_time": "2024-09-19T07:37:57.686Z"
   },
   {
    "duration": 17,
    "start_time": "2024-09-19T07:37:57.743Z"
   },
   {
    "duration": 23,
    "start_time": "2024-09-19T07:37:57.761Z"
   },
   {
    "duration": 8,
    "start_time": "2024-09-19T07:37:57.785Z"
   },
   {
    "duration": 20,
    "start_time": "2024-09-19T07:37:57.794Z"
   },
   {
    "duration": 38,
    "start_time": "2024-09-19T07:37:57.815Z"
   },
   {
    "duration": 452,
    "start_time": "2024-09-19T07:37:57.855Z"
   },
   {
    "duration": 32,
    "start_time": "2024-09-19T07:37:58.308Z"
   },
   {
    "duration": 66,
    "start_time": "2024-09-19T07:37:58.342Z"
   },
   {
    "duration": 14,
    "start_time": "2024-09-19T07:37:58.410Z"
   },
   {
    "duration": 7,
    "start_time": "2024-09-19T07:37:58.425Z"
   },
   {
    "duration": 58,
    "start_time": "2024-09-19T07:37:58.433Z"
   },
   {
    "duration": 67,
    "start_time": "2024-09-19T07:37:58.493Z"
   },
   {
    "duration": 23,
    "start_time": "2024-09-19T07:37:58.562Z"
   },
   {
    "duration": 5,
    "start_time": "2024-09-19T07:37:58.586Z"
   },
   {
    "duration": 13,
    "start_time": "2024-09-19T07:37:58.593Z"
   },
   {
    "duration": 4,
    "start_time": "2024-09-19T07:37:58.610Z"
   },
   {
    "duration": 69,
    "start_time": "2024-09-19T07:37:58.615Z"
   },
   {
    "duration": 74,
    "start_time": "2024-09-19T07:37:58.686Z"
   },
   {
    "duration": 7,
    "start_time": "2024-09-19T07:37:58.771Z"
   },
   {
    "duration": 7,
    "start_time": "2024-09-19T07:37:58.779Z"
   },
   {
    "duration": 5,
    "start_time": "2024-09-19T07:37:58.788Z"
   },
   {
    "duration": 5,
    "start_time": "2024-09-19T07:37:58.794Z"
   },
   {
    "duration": 14,
    "start_time": "2024-09-19T07:37:58.800Z"
   },
   {
    "duration": 12,
    "start_time": "2024-09-19T07:37:58.815Z"
   },
   {
    "duration": 40,
    "start_time": "2024-09-19T07:37:58.828Z"
   },
   {
    "duration": 10,
    "start_time": "2024-09-19T07:37:58.880Z"
   },
   {
    "duration": 8,
    "start_time": "2024-09-19T07:37:58.892Z"
   },
   {
    "duration": 10,
    "start_time": "2024-09-19T07:37:58.902Z"
   },
   {
    "duration": 12,
    "start_time": "2024-09-19T07:37:58.913Z"
   },
   {
    "duration": 10,
    "start_time": "2024-09-19T07:37:58.926Z"
   },
   {
    "duration": 39,
    "start_time": "2024-09-19T07:37:58.937Z"
   },
   {
    "duration": 11,
    "start_time": "2024-09-19T07:37:58.978Z"
   },
   {
    "duration": 39,
    "start_time": "2024-09-19T07:39:56.765Z"
   },
   {
    "duration": 28,
    "start_time": "2024-09-19T07:40:51.500Z"
   },
   {
    "duration": 27,
    "start_time": "2024-09-19T07:41:01.459Z"
   },
   {
    "duration": 3,
    "start_time": "2024-09-19T07:41:16.041Z"
   },
   {
    "duration": 193,
    "start_time": "2024-09-19T07:41:16.045Z"
   },
   {
    "duration": 4,
    "start_time": "2024-09-19T07:41:16.240Z"
   },
   {
    "duration": 137,
    "start_time": "2024-09-19T07:41:16.245Z"
   },
   {
    "duration": 130,
    "start_time": "2024-09-19T07:41:16.384Z"
   },
   {
    "duration": 26,
    "start_time": "2024-09-19T07:41:16.516Z"
   },
   {
    "duration": 42,
    "start_time": "2024-09-19T07:41:16.544Z"
   },
   {
    "duration": 12,
    "start_time": "2024-09-19T07:41:16.588Z"
   },
   {
    "duration": 45,
    "start_time": "2024-09-19T07:41:16.601Z"
   },
   {
    "duration": 77,
    "start_time": "2024-09-19T07:41:16.648Z"
   },
   {
    "duration": 4,
    "start_time": "2024-09-19T07:41:16.729Z"
   },
   {
    "duration": 38,
    "start_time": "2024-09-19T07:41:16.735Z"
   },
   {
    "duration": 22,
    "start_time": "2024-09-19T07:41:16.775Z"
   },
   {
    "duration": 30,
    "start_time": "2024-09-19T07:41:16.799Z"
   },
   {
    "duration": 4,
    "start_time": "2024-09-19T07:41:16.831Z"
   },
   {
    "duration": 28,
    "start_time": "2024-09-19T07:41:16.837Z"
   },
   {
    "duration": 38,
    "start_time": "2024-09-19T07:41:16.867Z"
   },
   {
    "duration": 360,
    "start_time": "2024-09-19T07:41:16.907Z"
   },
   {
    "duration": 40,
    "start_time": "2024-09-19T07:41:17.269Z"
   },
   {
    "duration": 57,
    "start_time": "2024-09-19T07:41:20.747Z"
   },
   {
    "duration": 54,
    "start_time": "2024-09-19T07:41:21.629Z"
   },
   {
    "duration": 27,
    "start_time": "2024-09-19T07:41:42.956Z"
   },
   {
    "duration": 14,
    "start_time": "2024-09-19T07:42:09.572Z"
   },
   {
    "duration": 6,
    "start_time": "2024-09-19T07:42:14.124Z"
   },
   {
    "duration": 8,
    "start_time": "2024-09-19T07:42:48.845Z"
   },
   {
    "duration": 28,
    "start_time": "2024-09-19T09:05:33.394Z"
   },
   {
    "duration": 51,
    "start_time": "2024-09-19T09:07:23.228Z"
   },
   {
    "duration": 39,
    "start_time": "2024-09-19T09:07:41.795Z"
   },
   {
    "duration": 34,
    "start_time": "2024-09-19T09:10:13.564Z"
   },
   {
    "duration": 3,
    "start_time": "2024-09-19T09:10:17.306Z"
   },
   {
    "duration": 204,
    "start_time": "2024-09-19T09:10:17.311Z"
   },
   {
    "duration": 3,
    "start_time": "2024-09-19T09:10:17.517Z"
   },
   {
    "duration": 101,
    "start_time": "2024-09-19T09:10:17.522Z"
   },
   {
    "duration": 157,
    "start_time": "2024-09-19T09:10:17.624Z"
   },
   {
    "duration": 43,
    "start_time": "2024-09-19T09:10:17.783Z"
   },
   {
    "duration": 27,
    "start_time": "2024-09-19T09:10:17.828Z"
   },
   {
    "duration": 13,
    "start_time": "2024-09-19T09:10:17.857Z"
   },
   {
    "duration": 36,
    "start_time": "2024-09-19T09:10:17.874Z"
   },
   {
    "duration": 70,
    "start_time": "2024-09-19T09:10:17.912Z"
   },
   {
    "duration": 3,
    "start_time": "2024-09-19T09:10:17.984Z"
   },
   {
    "duration": 17,
    "start_time": "2024-09-19T09:10:17.989Z"
   },
   {
    "duration": 21,
    "start_time": "2024-09-19T09:10:18.007Z"
   },
   {
    "duration": 55,
    "start_time": "2024-09-19T09:10:18.030Z"
   },
   {
    "duration": 3,
    "start_time": "2024-09-19T09:10:18.088Z"
   },
   {
    "duration": 12,
    "start_time": "2024-09-19T09:10:18.093Z"
   },
   {
    "duration": 33,
    "start_time": "2024-09-19T09:10:18.107Z"
   },
   {
    "duration": 392,
    "start_time": "2024-09-19T09:10:18.142Z"
   },
   {
    "duration": 49,
    "start_time": "2024-09-19T09:10:18.536Z"
   },
   {
    "duration": 105,
    "start_time": "2024-09-19T09:10:18.589Z"
   },
   {
    "duration": 13,
    "start_time": "2024-09-19T09:10:18.696Z"
   },
   {
    "duration": 22,
    "start_time": "2024-09-19T09:10:18.711Z"
   },
   {
    "duration": 66,
    "start_time": "2024-09-19T09:10:18.734Z"
   },
   {
    "duration": 28,
    "start_time": "2024-09-19T09:10:18.804Z"
   },
   {
    "duration": 64,
    "start_time": "2024-09-19T09:10:38.893Z"
   },
   {
    "duration": 11,
    "start_time": "2024-09-19T09:11:12.406Z"
   },
   {
    "duration": 4,
    "start_time": "2024-09-19T09:17:35.216Z"
   },
   {
    "duration": 14,
    "start_time": "2024-09-19T09:17:37.832Z"
   },
   {
    "duration": 13,
    "start_time": "2024-09-19T09:17:55.520Z"
   },
   {
    "duration": 18,
    "start_time": "2024-09-19T09:18:56.938Z"
   },
   {
    "duration": 4,
    "start_time": "2024-09-19T09:19:54.617Z"
   },
   {
    "duration": 5,
    "start_time": "2024-09-19T09:20:59.017Z"
   },
   {
    "duration": 69,
    "start_time": "2024-09-19T09:21:06.130Z"
   },
   {
    "duration": 85,
    "start_time": "2024-09-19T09:21:15.306Z"
   },
   {
    "duration": 48,
    "start_time": "2024-09-19T09:36:36.564Z"
   },
   {
    "duration": 42,
    "start_time": "2024-09-19T09:36:56.258Z"
   },
   {
    "duration": 85,
    "start_time": "2024-09-19T09:37:08.329Z"
   },
   {
    "duration": 6,
    "start_time": "2024-09-19T09:37:11.481Z"
   },
   {
    "duration": 7,
    "start_time": "2024-09-19T09:38:11.987Z"
   },
   {
    "duration": 7,
    "start_time": "2024-09-19T09:39:54.348Z"
   },
   {
    "duration": 12,
    "start_time": "2024-09-19T09:40:17.131Z"
   },
   {
    "duration": 1914,
    "start_time": "2024-09-19T09:41:20.115Z"
   },
   {
    "duration": 1209,
    "start_time": "2024-09-19T09:41:34.475Z"
   },
   {
    "duration": 223,
    "start_time": "2024-09-19T09:41:35.686Z"
   },
   {
    "duration": 4,
    "start_time": "2024-09-19T09:41:35.911Z"
   },
   {
    "duration": 106,
    "start_time": "2024-09-19T09:41:35.916Z"
   },
   {
    "duration": 189,
    "start_time": "2024-09-19T09:41:36.024Z"
   },
   {
    "duration": 26,
    "start_time": "2024-09-19T09:41:36.215Z"
   },
   {
    "duration": 113,
    "start_time": "2024-09-19T09:41:36.243Z"
   },
   {
    "duration": 38,
    "start_time": "2024-09-19T09:41:36.358Z"
   },
   {
    "duration": 55,
    "start_time": "2024-09-19T09:41:36.397Z"
   },
   {
    "duration": 64,
    "start_time": "2024-09-19T09:41:36.454Z"
   },
   {
    "duration": 3,
    "start_time": "2024-09-19T09:41:36.520Z"
   },
   {
    "duration": 58,
    "start_time": "2024-09-19T09:41:36.524Z"
   },
   {
    "duration": 16,
    "start_time": "2024-09-19T09:41:36.585Z"
   },
   {
    "duration": 17,
    "start_time": "2024-09-19T09:41:36.605Z"
   },
   {
    "duration": 4,
    "start_time": "2024-09-19T09:41:36.624Z"
   },
   {
    "duration": 40,
    "start_time": "2024-09-19T09:41:36.630Z"
   },
   {
    "duration": 113,
    "start_time": "2024-09-19T09:41:36.671Z"
   },
   {
    "duration": 498,
    "start_time": "2024-09-19T09:41:36.787Z"
   },
   {
    "duration": 43,
    "start_time": "2024-09-19T09:41:37.287Z"
   },
   {
    "duration": 81,
    "start_time": "2024-09-19T09:41:37.332Z"
   },
   {
    "duration": 15,
    "start_time": "2024-09-19T09:41:37.415Z"
   },
   {
    "duration": 46,
    "start_time": "2024-09-19T09:41:37.432Z"
   },
   {
    "duration": 49,
    "start_time": "2024-09-19T09:41:37.480Z"
   },
   {
    "duration": 37,
    "start_time": "2024-09-19T09:41:37.531Z"
   },
   {
    "duration": 72,
    "start_time": "2024-09-19T09:41:37.572Z"
   },
   {
    "duration": 23,
    "start_time": "2024-09-19T09:41:37.648Z"
   },
   {
    "duration": 6,
    "start_time": "2024-09-19T09:41:37.673Z"
   },
   {
    "duration": 32,
    "start_time": "2024-09-19T09:41:37.681Z"
   },
   {
    "duration": 4,
    "start_time": "2024-09-19T09:41:37.714Z"
   },
   {
    "duration": 63,
    "start_time": "2024-09-19T09:41:37.720Z"
   },
   {
    "duration": 101,
    "start_time": "2024-09-19T09:41:37.785Z"
   },
   {
    "duration": 7,
    "start_time": "2024-09-19T09:41:37.887Z"
   },
   {
    "duration": 5,
    "start_time": "2024-09-19T09:41:37.896Z"
   },
   {
    "duration": 5,
    "start_time": "2024-09-19T09:41:37.902Z"
   },
   {
    "duration": 7,
    "start_time": "2024-09-19T09:41:37.909Z"
   },
   {
    "duration": 12,
    "start_time": "2024-09-19T09:41:37.917Z"
   },
   {
    "duration": 10,
    "start_time": "2024-09-19T09:41:37.931Z"
   },
   {
    "duration": 20,
    "start_time": "2024-09-19T09:41:37.966Z"
   },
   {
    "duration": 11,
    "start_time": "2024-09-19T09:41:37.988Z"
   },
   {
    "duration": 18,
    "start_time": "2024-09-19T09:41:38.000Z"
   },
   {
    "duration": 10,
    "start_time": "2024-09-19T09:41:38.021Z"
   },
   {
    "duration": 9,
    "start_time": "2024-09-19T09:41:38.033Z"
   },
   {
    "duration": 14,
    "start_time": "2024-09-19T09:41:38.067Z"
   },
   {
    "duration": 45,
    "start_time": "2024-09-19T09:41:38.083Z"
   },
   {
    "duration": 10,
    "start_time": "2024-09-19T09:41:38.130Z"
   },
   {
    "duration": 62,
    "start_time": "2024-09-19T09:59:20.556Z"
   },
   {
    "duration": 10,
    "start_time": "2024-09-19T10:22:29.792Z"
   },
   {
    "duration": 9,
    "start_time": "2024-09-19T10:22:35.167Z"
   },
   {
    "duration": 13,
    "start_time": "2024-09-19T10:24:37.457Z"
   },
   {
    "duration": 9,
    "start_time": "2024-09-19T10:25:07.408Z"
   },
   {
    "duration": 4,
    "start_time": "2024-09-19T10:27:05.128Z"
   },
   {
    "duration": 205,
    "start_time": "2024-09-19T10:27:05.133Z"
   },
   {
    "duration": 4,
    "start_time": "2024-09-19T10:27:05.340Z"
   },
   {
    "duration": 107,
    "start_time": "2024-09-19T10:27:05.346Z"
   },
   {
    "duration": 140,
    "start_time": "2024-09-19T10:27:05.455Z"
   },
   {
    "duration": 29,
    "start_time": "2024-09-19T10:27:05.596Z"
   },
   {
    "duration": 44,
    "start_time": "2024-09-19T10:27:05.626Z"
   },
   {
    "duration": 9,
    "start_time": "2024-09-19T10:27:05.672Z"
   },
   {
    "duration": 35,
    "start_time": "2024-09-19T10:27:05.684Z"
   },
   {
    "duration": 74,
    "start_time": "2024-09-19T10:27:05.721Z"
   },
   {
    "duration": 3,
    "start_time": "2024-09-19T10:27:05.797Z"
   },
   {
    "duration": 37,
    "start_time": "2024-09-19T10:27:05.802Z"
   },
   {
    "duration": 40,
    "start_time": "2024-09-19T10:27:05.841Z"
   },
   {
    "duration": 29,
    "start_time": "2024-09-19T10:27:05.883Z"
   },
   {
    "duration": 3,
    "start_time": "2024-09-19T10:27:05.914Z"
   },
   {
    "duration": 23,
    "start_time": "2024-09-19T10:27:05.919Z"
   },
   {
    "duration": 49,
    "start_time": "2024-09-19T10:27:05.943Z"
   },
   {
    "duration": 355,
    "start_time": "2024-09-19T10:27:05.993Z"
   },
   {
    "duration": 48,
    "start_time": "2024-09-19T10:27:06.350Z"
   },
   {
    "duration": 75,
    "start_time": "2024-09-19T10:27:06.400Z"
   },
   {
    "duration": 15,
    "start_time": "2024-09-19T10:27:06.477Z"
   },
   {
    "duration": 28,
    "start_time": "2024-09-19T10:27:06.494Z"
   },
   {
    "duration": 59,
    "start_time": "2024-09-19T10:27:06.524Z"
   },
   {
    "duration": 36,
    "start_time": "2024-09-19T10:27:06.588Z"
   },
   {
    "duration": 90,
    "start_time": "2024-09-19T10:27:06.626Z"
   },
   {
    "duration": 11,
    "start_time": "2024-09-19T10:27:06.717Z"
   },
   {
    "duration": 3,
    "start_time": "2024-09-19T10:27:06.729Z"
   },
   {
    "duration": 33,
    "start_time": "2024-09-19T10:27:06.733Z"
   },
   {
    "duration": 4,
    "start_time": "2024-09-19T10:27:06.768Z"
   },
   {
    "duration": 49,
    "start_time": "2024-09-19T10:27:06.774Z"
   },
   {
    "duration": 147,
    "start_time": "2024-09-19T10:27:06.825Z"
   },
   {
    "duration": 6,
    "start_time": "2024-09-19T10:27:06.974Z"
   },
   {
    "duration": 10,
    "start_time": "2024-09-19T10:27:06.981Z"
   },
   {
    "duration": 28,
    "start_time": "2024-09-19T10:27:06.992Z"
   },
   {
    "duration": 7,
    "start_time": "2024-09-19T10:27:07.021Z"
   },
   {
    "duration": 16,
    "start_time": "2024-09-19T10:27:07.029Z"
   },
   {
    "duration": 33,
    "start_time": "2024-09-19T10:27:07.047Z"
   },
   {
    "duration": 10,
    "start_time": "2024-09-19T10:27:07.082Z"
   },
   {
    "duration": 11,
    "start_time": "2024-09-19T10:27:07.095Z"
   },
   {
    "duration": 13,
    "start_time": "2024-09-19T10:27:07.108Z"
   },
   {
    "duration": 12,
    "start_time": "2024-09-19T10:27:07.124Z"
   },
   {
    "duration": 33,
    "start_time": "2024-09-19T10:27:07.138Z"
   },
   {
    "duration": 30,
    "start_time": "2024-09-19T10:27:07.173Z"
   },
   {
    "duration": 16,
    "start_time": "2024-09-19T10:27:07.204Z"
   },
   {
    "duration": 10,
    "start_time": "2024-09-19T10:27:07.221Z"
   },
   {
    "duration": 12,
    "start_time": "2024-09-19T10:27:29.915Z"
   },
   {
    "duration": 10,
    "start_time": "2024-09-19T10:28:33.437Z"
   },
   {
    "duration": 8,
    "start_time": "2024-09-19T10:28:37.474Z"
   },
   {
    "duration": 9,
    "start_time": "2024-09-19T10:28:41.298Z"
   },
   {
    "duration": 1278,
    "start_time": "2024-09-19T10:31:52.130Z"
   },
   {
    "duration": 188,
    "start_time": "2024-09-19T10:31:53.410Z"
   },
   {
    "duration": 3,
    "start_time": "2024-09-19T10:31:53.600Z"
   },
   {
    "duration": 104,
    "start_time": "2024-09-19T10:31:53.605Z"
   },
   {
    "duration": 194,
    "start_time": "2024-09-19T10:31:53.711Z"
   },
   {
    "duration": 27,
    "start_time": "2024-09-19T10:31:53.906Z"
   },
   {
    "duration": 40,
    "start_time": "2024-09-19T10:31:53.935Z"
   },
   {
    "duration": 10,
    "start_time": "2024-09-19T10:31:53.976Z"
   },
   {
    "duration": 34,
    "start_time": "2024-09-19T10:31:53.987Z"
   },
   {
    "duration": 76,
    "start_time": "2024-09-19T10:31:54.024Z"
   },
   {
    "duration": 3,
    "start_time": "2024-09-19T10:31:54.101Z"
   },
   {
    "duration": 31,
    "start_time": "2024-09-19T10:31:54.105Z"
   },
   {
    "duration": 15,
    "start_time": "2024-09-19T10:31:54.137Z"
   },
   {
    "duration": 21,
    "start_time": "2024-09-19T10:31:54.154Z"
   },
   {
    "duration": 3,
    "start_time": "2024-09-19T10:31:54.176Z"
   },
   {
    "duration": 23,
    "start_time": "2024-09-19T10:31:54.181Z"
   },
   {
    "duration": 34,
    "start_time": "2024-09-19T10:31:54.205Z"
   },
   {
    "duration": 419,
    "start_time": "2024-09-19T10:31:54.241Z"
   },
   {
    "duration": 33,
    "start_time": "2024-09-19T10:31:54.662Z"
   },
   {
    "duration": 68,
    "start_time": "2024-09-19T10:31:54.697Z"
   },
   {
    "duration": 12,
    "start_time": "2024-09-19T10:31:54.767Z"
   },
   {
    "duration": 24,
    "start_time": "2024-09-19T10:31:54.781Z"
   },
   {
    "duration": 69,
    "start_time": "2024-09-19T10:31:54.807Z"
   },
   {
    "duration": 52,
    "start_time": "2024-09-19T10:31:54.878Z"
   },
   {
    "duration": 71,
    "start_time": "2024-09-19T10:31:54.932Z"
   },
   {
    "duration": 11,
    "start_time": "2024-09-19T10:31:55.005Z"
   },
   {
    "duration": 15,
    "start_time": "2024-09-19T10:31:55.018Z"
   },
   {
    "duration": 16,
    "start_time": "2024-09-19T10:31:55.037Z"
   },
   {
    "duration": 4,
    "start_time": "2024-09-19T10:31:55.064Z"
   },
   {
    "duration": 50,
    "start_time": "2024-09-19T10:31:55.070Z"
   },
   {
    "duration": 105,
    "start_time": "2024-09-19T10:31:55.122Z"
   },
   {
    "duration": 6,
    "start_time": "2024-09-19T10:31:55.228Z"
   },
   {
    "duration": 9,
    "start_time": "2024-09-19T10:31:55.235Z"
   },
   {
    "duration": 6,
    "start_time": "2024-09-19T10:31:55.246Z"
   },
   {
    "duration": 5,
    "start_time": "2024-09-19T10:31:55.264Z"
   },
   {
    "duration": 13,
    "start_time": "2024-09-19T10:31:55.271Z"
   },
   {
    "duration": 9,
    "start_time": "2024-09-19T10:31:55.286Z"
   },
   {
    "duration": 9,
    "start_time": "2024-09-19T10:31:55.297Z"
   },
   {
    "duration": 14,
    "start_time": "2024-09-19T10:31:55.307Z"
   },
   {
    "duration": 11,
    "start_time": "2024-09-19T10:31:55.323Z"
   },
   {
    "duration": 10,
    "start_time": "2024-09-19T10:31:55.365Z"
   },
   {
    "duration": 11,
    "start_time": "2024-09-19T10:31:55.376Z"
   },
   {
    "duration": 12,
    "start_time": "2024-09-19T10:31:55.388Z"
   },
   {
    "duration": 9,
    "start_time": "2024-09-19T10:31:55.402Z"
   },
   {
    "duration": 28,
    "start_time": "2024-09-19T10:31:55.413Z"
   },
   {
    "duration": 1233,
    "start_time": "2024-09-19T10:43:23.964Z"
   },
   {
    "duration": 199,
    "start_time": "2024-09-19T10:43:25.199Z"
   },
   {
    "duration": 4,
    "start_time": "2024-09-19T10:43:25.399Z"
   },
   {
    "duration": 99,
    "start_time": "2024-09-19T10:43:25.406Z"
   },
   {
    "duration": 178,
    "start_time": "2024-09-19T10:43:25.507Z"
   },
   {
    "duration": 28,
    "start_time": "2024-09-19T10:43:25.687Z"
   },
   {
    "duration": 27,
    "start_time": "2024-09-19T10:43:25.717Z"
   },
   {
    "duration": 20,
    "start_time": "2024-09-19T10:43:25.746Z"
   },
   {
    "duration": 41,
    "start_time": "2024-09-19T10:43:25.767Z"
   },
   {
    "duration": 88,
    "start_time": "2024-09-19T10:43:25.811Z"
   },
   {
    "duration": 4,
    "start_time": "2024-09-19T10:43:25.901Z"
   },
   {
    "duration": 35,
    "start_time": "2024-09-19T10:43:25.907Z"
   },
   {
    "duration": 22,
    "start_time": "2024-09-19T10:43:25.944Z"
   },
   {
    "duration": 16,
    "start_time": "2024-09-19T10:43:25.967Z"
   },
   {
    "duration": 4,
    "start_time": "2024-09-19T10:43:25.985Z"
   },
   {
    "duration": 11,
    "start_time": "2024-09-19T10:43:25.990Z"
   },
   {
    "duration": 62,
    "start_time": "2024-09-19T10:43:26.003Z"
   },
   {
    "duration": 432,
    "start_time": "2024-09-19T10:43:26.066Z"
   },
   {
    "duration": 32,
    "start_time": "2024-09-19T10:43:26.500Z"
   },
   {
    "duration": 73,
    "start_time": "2024-09-19T10:43:26.534Z"
   },
   {
    "duration": 13,
    "start_time": "2024-09-19T10:43:26.608Z"
   },
   {
    "duration": 34,
    "start_time": "2024-09-19T10:43:26.622Z"
   },
   {
    "duration": 51,
    "start_time": "2024-09-19T10:43:26.657Z"
   },
   {
    "duration": 26,
    "start_time": "2024-09-19T10:43:26.710Z"
   },
   {
    "duration": 88,
    "start_time": "2024-09-19T10:43:26.737Z"
   },
   {
    "duration": 10,
    "start_time": "2024-09-19T10:43:26.827Z"
   },
   {
    "duration": 14,
    "start_time": "2024-09-19T10:43:26.838Z"
   },
   {
    "duration": 19,
    "start_time": "2024-09-19T10:43:26.856Z"
   },
   {
    "duration": 6,
    "start_time": "2024-09-19T10:43:26.876Z"
   },
   {
    "duration": 66,
    "start_time": "2024-09-19T10:43:26.883Z"
   },
   {
    "duration": 85,
    "start_time": "2024-09-19T10:43:26.951Z"
   },
   {
    "duration": 6,
    "start_time": "2024-09-19T10:43:27.037Z"
   },
   {
    "duration": 28,
    "start_time": "2024-09-19T10:43:27.044Z"
   },
   {
    "duration": 35,
    "start_time": "2024-09-19T10:43:27.073Z"
   },
   {
    "duration": 5,
    "start_time": "2024-09-19T10:43:27.110Z"
   },
   {
    "duration": 38,
    "start_time": "2024-09-19T10:43:27.116Z"
   },
   {
    "duration": 11,
    "start_time": "2024-09-19T10:43:27.156Z"
   },
   {
    "duration": 25,
    "start_time": "2024-09-19T10:43:27.169Z"
   },
   {
    "duration": 13,
    "start_time": "2024-09-19T10:43:27.195Z"
   },
   {
    "duration": 13,
    "start_time": "2024-09-19T10:43:27.210Z"
   },
   {
    "duration": 16,
    "start_time": "2024-09-19T10:43:27.224Z"
   },
   {
    "duration": 16,
    "start_time": "2024-09-19T10:43:27.241Z"
   },
   {
    "duration": 28,
    "start_time": "2024-09-19T10:43:27.258Z"
   },
   {
    "duration": 17,
    "start_time": "2024-09-19T10:43:27.288Z"
   },
   {
    "duration": 20,
    "start_time": "2024-09-19T10:43:27.307Z"
   },
   {
    "duration": 1075,
    "start_time": "2024-09-19T11:20:27.811Z"
   },
   {
    "duration": 197,
    "start_time": "2024-09-19T11:20:28.888Z"
   },
   {
    "duration": 3,
    "start_time": "2024-09-19T11:20:29.087Z"
   },
   {
    "duration": 113,
    "start_time": "2024-09-19T11:20:29.092Z"
   },
   {
    "duration": 166,
    "start_time": "2024-09-19T11:20:29.207Z"
   },
   {
    "duration": 35,
    "start_time": "2024-09-19T11:20:29.375Z"
   },
   {
    "duration": 53,
    "start_time": "2024-09-19T11:20:29.412Z"
   },
   {
    "duration": 9,
    "start_time": "2024-09-19T11:20:29.467Z"
   },
   {
    "duration": 41,
    "start_time": "2024-09-19T11:20:29.478Z"
   },
   {
    "duration": 74,
    "start_time": "2024-09-19T11:20:29.521Z"
   },
   {
    "duration": 3,
    "start_time": "2024-09-19T11:20:29.596Z"
   },
   {
    "duration": 22,
    "start_time": "2024-09-19T11:20:29.601Z"
   },
   {
    "duration": 15,
    "start_time": "2024-09-19T11:20:29.624Z"
   },
   {
    "duration": 55,
    "start_time": "2024-09-19T11:20:29.641Z"
   },
   {
    "duration": 22,
    "start_time": "2024-09-19T11:20:29.697Z"
   },
   {
    "duration": 11,
    "start_time": "2024-09-19T11:20:29.721Z"
   },
   {
    "duration": 57,
    "start_time": "2024-09-19T11:20:29.733Z"
   },
   {
    "duration": 398,
    "start_time": "2024-09-19T11:20:29.791Z"
   },
   {
    "duration": 32,
    "start_time": "2024-09-19T11:20:30.191Z"
   },
   {
    "duration": 72,
    "start_time": "2024-09-19T11:20:30.224Z"
   },
   {
    "duration": 28,
    "start_time": "2024-09-19T11:20:30.298Z"
   },
   {
    "duration": 90,
    "start_time": "2024-09-19T11:20:30.328Z"
   },
   {
    "duration": 45,
    "start_time": "2024-09-19T11:20:30.421Z"
   },
   {
    "duration": 26,
    "start_time": "2024-09-19T11:20:30.468Z"
   },
   {
    "duration": 146,
    "start_time": "2024-09-19T11:20:30.496Z"
   },
   {
    "duration": 46,
    "start_time": "2024-09-19T11:20:30.644Z"
   },
   {
    "duration": 4,
    "start_time": "2024-09-19T11:20:30.692Z"
   },
   {
    "duration": 20,
    "start_time": "2024-09-19T11:20:30.701Z"
   },
   {
    "duration": 29,
    "start_time": "2024-09-19T11:20:30.723Z"
   },
   {
    "duration": 65,
    "start_time": "2024-09-19T11:20:30.754Z"
   },
   {
    "duration": 89,
    "start_time": "2024-09-19T11:20:30.821Z"
   },
   {
    "duration": 6,
    "start_time": "2024-09-19T11:20:30.911Z"
   },
   {
    "duration": 22,
    "start_time": "2024-09-19T11:20:30.918Z"
   },
   {
    "duration": 46,
    "start_time": "2024-09-19T11:20:30.942Z"
   },
   {
    "duration": 123,
    "start_time": "2024-09-19T11:20:30.990Z"
   },
   {
    "duration": 22,
    "start_time": "2024-09-19T11:20:31.115Z"
   },
   {
    "duration": 33,
    "start_time": "2024-09-19T11:20:31.139Z"
   },
   {
    "duration": 36,
    "start_time": "2024-09-19T11:20:31.173Z"
   },
   {
    "duration": 37,
    "start_time": "2024-09-19T11:20:31.210Z"
   },
   {
    "duration": 66,
    "start_time": "2024-09-19T11:20:31.249Z"
   },
   {
    "duration": 25,
    "start_time": "2024-09-19T11:20:31.316Z"
   },
   {
    "duration": 39,
    "start_time": "2024-09-19T11:20:31.342Z"
   },
   {
    "duration": 18,
    "start_time": "2024-09-19T11:20:31.383Z"
   },
   {
    "duration": 26,
    "start_time": "2024-09-19T11:20:31.403Z"
   },
   {
    "duration": 16,
    "start_time": "2024-09-19T11:20:31.431Z"
   },
   {
    "duration": 4102,
    "start_time": "2024-09-19T19:38:24.124Z"
   },
   {
    "duration": 2000,
    "start_time": "2024-09-19T19:38:28.228Z"
   },
   {
    "duration": 4,
    "start_time": "2024-09-19T19:38:30.231Z"
   },
   {
    "duration": 501,
    "start_time": "2024-09-19T19:38:30.237Z"
   },
   {
    "duration": 786,
    "start_time": "2024-09-19T19:38:30.740Z"
   },
   {
    "duration": 105,
    "start_time": "2024-09-19T19:38:31.528Z"
   },
   {
    "duration": 294,
    "start_time": "2024-09-19T19:38:31.635Z"
   },
   {
    "duration": 8,
    "start_time": "2024-09-19T19:38:31.932Z"
   },
   {
    "duration": 303,
    "start_time": "2024-09-19T19:38:32.026Z"
   },
   {
    "duration": 309,
    "start_time": "2024-09-19T19:38:32.331Z"
   },
   {
    "duration": 4,
    "start_time": "2024-09-19T19:38:32.726Z"
   },
   {
    "duration": 95,
    "start_time": "2024-09-19T19:38:32.732Z"
   },
   {
    "duration": 17,
    "start_time": "2024-09-19T19:38:32.828Z"
   },
   {
    "duration": 100,
    "start_time": "2024-09-19T19:38:32.928Z"
   },
   {
    "duration": 3,
    "start_time": "2024-09-19T19:38:33.029Z"
   },
   {
    "duration": 92,
    "start_time": "2024-09-19T19:38:33.034Z"
   },
   {
    "duration": 198,
    "start_time": "2024-09-19T19:38:33.128Z"
   },
   {
    "duration": 2604,
    "start_time": "2024-09-19T19:38:33.328Z"
   },
   {
    "duration": 304,
    "start_time": "2024-09-19T19:38:35.934Z"
   },
   {
    "duration": 412,
    "start_time": "2024-09-19T19:38:36.325Z"
   },
   {
    "duration": 189,
    "start_time": "2024-09-19T19:38:36.739Z"
   },
   {
    "duration": 196,
    "start_time": "2024-09-19T19:38:36.930Z"
   },
   {
    "duration": 199,
    "start_time": "2024-09-19T19:38:37.128Z"
   },
   {
    "duration": 106,
    "start_time": "2024-09-19T19:38:37.329Z"
   },
   {
    "duration": 601,
    "start_time": "2024-09-19T19:38:37.436Z"
   },
   {
    "duration": 99,
    "start_time": "2024-09-19T19:38:38.040Z"
   },
   {
    "duration": 90,
    "start_time": "2024-09-19T19:38:38.143Z"
   },
   {
    "duration": 92,
    "start_time": "2024-09-19T19:38:38.235Z"
   },
   {
    "duration": 6,
    "start_time": "2024-09-19T19:38:38.329Z"
   },
   {
    "duration": 309,
    "start_time": "2024-09-19T19:38:38.336Z"
   },
   {
    "duration": 590,
    "start_time": "2024-09-19T19:38:38.650Z"
   },
   {
    "duration": 7,
    "start_time": "2024-09-19T19:38:39.325Z"
   },
   {
    "duration": 92,
    "start_time": "2024-09-19T19:38:39.334Z"
   },
   {
    "duration": 5,
    "start_time": "2024-09-19T19:38:39.428Z"
   },
   {
    "duration": 5,
    "start_time": "2024-09-19T19:38:39.435Z"
   },
   {
    "duration": 13,
    "start_time": "2024-09-19T19:38:39.526Z"
   },
   {
    "duration": 92,
    "start_time": "2024-09-19T19:38:39.541Z"
   },
   {
    "duration": 93,
    "start_time": "2024-09-19T19:38:39.635Z"
   },
   {
    "duration": 96,
    "start_time": "2024-09-19T19:38:39.730Z"
   },
   {
    "duration": 99,
    "start_time": "2024-09-19T19:38:39.828Z"
   },
   {
    "duration": 97,
    "start_time": "2024-09-19T19:38:39.931Z"
   },
   {
    "duration": 96,
    "start_time": "2024-09-19T19:38:40.030Z"
   },
   {
    "duration": 109,
    "start_time": "2024-09-19T19:38:40.127Z"
   },
   {
    "duration": 94,
    "start_time": "2024-09-19T19:38:40.238Z"
   },
   {
    "duration": 101,
    "start_time": "2024-09-19T19:38:40.333Z"
   },
   {
    "duration": 1131,
    "start_time": "2024-09-20T07:05:43.543Z"
   },
   {
    "duration": 731,
    "start_time": "2024-09-20T07:05:44.676Z"
   },
   {
    "duration": 3,
    "start_time": "2024-09-20T07:05:45.408Z"
   },
   {
    "duration": 85,
    "start_time": "2024-09-20T07:05:45.413Z"
   },
   {
    "duration": 141,
    "start_time": "2024-09-20T07:05:45.499Z"
   },
   {
    "duration": 17,
    "start_time": "2024-09-20T07:05:45.641Z"
   },
   {
    "duration": 31,
    "start_time": "2024-09-20T07:05:45.660Z"
   },
   {
    "duration": 23,
    "start_time": "2024-09-20T07:05:45.693Z"
   },
   {
    "duration": 48,
    "start_time": "2024-09-20T07:05:45.718Z"
   },
   {
    "duration": 47,
    "start_time": "2024-09-20T07:05:45.769Z"
   },
   {
    "duration": 3,
    "start_time": "2024-09-20T07:05:45.817Z"
   },
   {
    "duration": 33,
    "start_time": "2024-09-20T07:05:45.821Z"
   },
   {
    "duration": 34,
    "start_time": "2024-09-20T07:05:45.855Z"
   },
   {
    "duration": 13,
    "start_time": "2024-09-20T07:05:45.890Z"
   },
   {
    "duration": 11,
    "start_time": "2024-09-20T07:05:45.907Z"
   },
   {
    "duration": 27,
    "start_time": "2024-09-20T07:05:45.920Z"
   },
   {
    "duration": 31,
    "start_time": "2024-09-20T07:05:45.949Z"
   },
   {
    "duration": 318,
    "start_time": "2024-09-20T07:05:45.981Z"
   },
   {
    "duration": 26,
    "start_time": "2024-09-20T07:05:46.300Z"
   },
   {
    "duration": 97,
    "start_time": "2024-09-20T07:05:46.327Z"
   },
   {
    "duration": 10,
    "start_time": "2024-09-20T07:05:46.426Z"
   },
   {
    "duration": 15,
    "start_time": "2024-09-20T07:05:46.437Z"
   },
   {
    "duration": 58,
    "start_time": "2024-09-20T07:05:46.453Z"
   },
   {
    "duration": 17,
    "start_time": "2024-09-20T07:05:46.513Z"
   },
   {
    "duration": 71,
    "start_time": "2024-09-20T07:05:46.531Z"
   },
   {
    "duration": 8,
    "start_time": "2024-09-20T07:05:46.604Z"
   },
   {
    "duration": 23,
    "start_time": "2024-09-20T07:05:46.613Z"
   },
   {
    "duration": 26,
    "start_time": "2024-09-20T07:05:46.638Z"
   },
   {
    "duration": 75,
    "start_time": "2024-09-20T07:05:46.665Z"
   },
   {
    "duration": 49,
    "start_time": "2024-09-20T07:05:46.741Z"
   },
   {
    "duration": 71,
    "start_time": "2024-09-20T07:05:46.792Z"
   },
   {
    "duration": 10,
    "start_time": "2024-09-20T07:05:46.864Z"
   },
   {
    "duration": 8,
    "start_time": "2024-09-20T07:05:46.875Z"
   },
   {
    "duration": 8,
    "start_time": "2024-09-20T07:05:46.884Z"
   },
   {
    "duration": 7,
    "start_time": "2024-09-20T07:05:46.893Z"
   },
   {
    "duration": 13,
    "start_time": "2024-09-20T07:05:46.901Z"
   },
   {
    "duration": 11,
    "start_time": "2024-09-20T07:05:46.915Z"
   },
   {
    "duration": 16,
    "start_time": "2024-09-20T07:05:46.928Z"
   },
   {
    "duration": 23,
    "start_time": "2024-09-20T07:05:46.945Z"
   },
   {
    "duration": 30,
    "start_time": "2024-09-20T07:05:46.969Z"
   },
   {
    "duration": 12,
    "start_time": "2024-09-20T07:05:47.001Z"
   },
   {
    "duration": 22,
    "start_time": "2024-09-20T07:05:47.015Z"
   },
   {
    "duration": 16,
    "start_time": "2024-09-20T07:05:47.039Z"
   },
   {
    "duration": 10,
    "start_time": "2024-09-20T07:05:47.056Z"
   },
   {
    "duration": 27,
    "start_time": "2024-09-20T07:05:47.067Z"
   },
   {
    "duration": 27,
    "start_time": "2024-09-20T07:06:09.320Z"
   },
   {
    "duration": 21,
    "start_time": "2024-09-20T07:14:00.252Z"
   },
   {
    "duration": 78,
    "start_time": "2024-09-20T07:14:17.316Z"
   },
   {
    "duration": 24,
    "start_time": "2024-09-20T07:14:23.644Z"
   },
   {
    "duration": 21,
    "start_time": "2024-09-20T07:14:31.084Z"
   },
   {
    "duration": 74,
    "start_time": "2024-09-20T07:14:41.163Z"
   },
   {
    "duration": 21,
    "start_time": "2024-09-20T07:14:44.171Z"
   },
   {
    "duration": 14,
    "start_time": "2024-09-20T07:15:54.941Z"
   },
   {
    "duration": 1033,
    "start_time": "2024-09-20T07:16:41.739Z"
   },
   {
    "duration": 149,
    "start_time": "2024-09-20T07:16:42.774Z"
   },
   {
    "duration": 3,
    "start_time": "2024-09-20T07:16:42.926Z"
   },
   {
    "duration": 119,
    "start_time": "2024-09-20T07:16:42.930Z"
   },
   {
    "duration": 143,
    "start_time": "2024-09-20T07:16:43.051Z"
   },
   {
    "duration": 23,
    "start_time": "2024-09-20T07:16:43.195Z"
   },
   {
    "duration": 23,
    "start_time": "2024-09-20T07:16:43.220Z"
   },
   {
    "duration": 7,
    "start_time": "2024-09-20T07:16:43.245Z"
   },
   {
    "duration": 24,
    "start_time": "2024-09-20T07:16:43.254Z"
   },
   {
    "duration": 74,
    "start_time": "2024-09-20T07:16:43.279Z"
   },
   {
    "duration": 2,
    "start_time": "2024-09-20T07:16:43.355Z"
   },
   {
    "duration": 32,
    "start_time": "2024-09-20T07:16:43.359Z"
   },
   {
    "duration": 20,
    "start_time": "2024-09-20T07:16:43.392Z"
   },
   {
    "duration": 21,
    "start_time": "2024-09-20T07:16:43.413Z"
   },
   {
    "duration": 10,
    "start_time": "2024-09-20T07:16:43.435Z"
   },
   {
    "duration": 37,
    "start_time": "2024-09-20T07:16:43.446Z"
   },
   {
    "duration": 66,
    "start_time": "2024-09-20T07:16:43.485Z"
   },
   {
    "duration": 311,
    "start_time": "2024-09-20T07:16:43.553Z"
   },
   {
    "duration": 23,
    "start_time": "2024-09-20T07:16:43.865Z"
   },
   {
    "duration": 55,
    "start_time": "2024-09-20T07:16:43.890Z"
   },
   {
    "duration": 16,
    "start_time": "2024-09-20T07:16:43.946Z"
   },
   {
    "duration": 16,
    "start_time": "2024-09-20T07:16:43.964Z"
   },
   {
    "duration": 117,
    "start_time": "2024-09-20T07:16:43.981Z"
   },
   {
    "duration": 66,
    "start_time": "2024-09-20T07:16:44.099Z"
   },
   {
    "duration": 75,
    "start_time": "2024-09-20T07:16:44.166Z"
   },
   {
    "duration": 9,
    "start_time": "2024-09-20T07:16:44.242Z"
   },
   {
    "duration": 86,
    "start_time": "2024-09-20T07:16:44.254Z"
   },
   {
    "duration": 53,
    "start_time": "2024-09-20T07:16:44.342Z"
   },
   {
    "duration": 11,
    "start_time": "2024-09-20T07:16:44.397Z"
   },
   {
    "duration": 75,
    "start_time": "2024-09-20T07:16:44.409Z"
   },
   {
    "duration": 69,
    "start_time": "2024-09-20T07:16:44.485Z"
   },
   {
    "duration": 5,
    "start_time": "2024-09-20T07:16:44.555Z"
   },
   {
    "duration": 15,
    "start_time": "2024-09-20T07:16:44.562Z"
   },
   {
    "duration": 13,
    "start_time": "2024-09-20T07:16:44.578Z"
   },
   {
    "duration": 5,
    "start_time": "2024-09-20T07:16:44.593Z"
   },
   {
    "duration": 15,
    "start_time": "2024-09-20T07:16:44.600Z"
   },
   {
    "duration": 8,
    "start_time": "2024-09-20T07:16:44.617Z"
   },
   {
    "duration": 10,
    "start_time": "2024-09-20T07:16:44.626Z"
   },
   {
    "duration": 19,
    "start_time": "2024-09-20T07:16:44.637Z"
   },
   {
    "duration": 19,
    "start_time": "2024-09-20T07:16:44.657Z"
   },
   {
    "duration": 13,
    "start_time": "2024-09-20T07:16:44.677Z"
   },
   {
    "duration": 18,
    "start_time": "2024-09-20T07:16:44.692Z"
   },
   {
    "duration": 23,
    "start_time": "2024-09-20T07:16:44.711Z"
   },
   {
    "duration": 97,
    "start_time": "2024-09-20T07:16:44.735Z"
   },
   {
    "duration": 9,
    "start_time": "2024-09-20T07:16:44.834Z"
   }
  ],
  "kernelspec": {
   "display_name": "Python 3 (ipykernel)",
   "language": "python",
   "name": "python3"
  },
  "language_info": {
   "codemirror_mode": {
    "name": "ipython",
    "version": 3
   },
   "file_extension": ".py",
   "mimetype": "text/x-python",
   "name": "python",
   "nbconvert_exporter": "python",
   "pygments_lexer": "ipython3",
   "version": "3.9.5"
  },
  "toc": {
   "base_numbering": 1,
   "nav_menu": {},
   "number_sections": true,
   "sideBar": true,
   "skip_h1_title": true,
   "title_cell": "Table of Contents",
   "title_sidebar": "Contents",
   "toc_cell": false,
   "toc_position": {
    "height": "calc(100% - 180px)",
    "left": "10px",
    "top": "150px",
    "width": "165px"
   },
   "toc_section_display": true,
   "toc_window_display": true
  }
 },
 "nbformat": 4,
 "nbformat_minor": 2
}
